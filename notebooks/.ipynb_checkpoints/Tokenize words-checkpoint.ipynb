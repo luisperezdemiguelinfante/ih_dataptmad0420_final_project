{
 "cells": [
  {
   "cell_type": "code",
   "execution_count": 419,
   "metadata": {},
   "outputs": [],
   "source": [
    "import pandas as pd\n",
    "import xlrd\n",
    "import os\n",
    "from openpyxl import Workbook\n",
    "from openpyxl import Workbook, drawing\n",
    "import openpyxl\n",
    "\n",
    "import warnings\n",
    "\n",
    "import matplotlib.pyplot as plt\n",
    "import numpy as np\n",
    "import pandas as pd\n",
    "import spacy\n",
    "import pandas as pd\n",
    "import numpy as np\n",
    "import string\n",
    "\n",
    "\n",
    "#from hdbscan import HDBSCAN\n",
    "from spacy.lang.en.stop_words import STOP_WORDS\n",
    "from spacy.lang.en import English\n",
    "from sklearn.feature_extraction.text import TfidfVectorizer\n",
    "from sklearn.metrics.pairwise import cosine_similarity\n",
    "#from umap import UMAP"
   ]
  },
  {
   "cell_type": "code",
   "execution_count": 420,
   "metadata": {
    "scrolled": true
   },
   "outputs": [],
   "source": [
    "import es_core_news_sm\n",
    "nlp = es_core_news_sm.load()\n",
    "import pandas as pd\n",
    "import nltk"
   ]
  },
  {
   "cell_type": "code",
   "execution_count": 421,
   "metadata": {},
   "outputs": [
    {
     "name": "stdout",
     "output_type": "stream",
     "text": [
      "['dedicaciones']\n"
     ]
    }
   ],
   "source": [
    "file = (\"//Users/luisdemiguel/Desktop/Ironhack/ih_dataptmad0420_final_project/ih_dataptmad0420_final_project/template/data/raw/garnica.xlsx\")\n",
    "data = pd.ExcelFile(file)\n",
    "print(data.sheet_names) #this returns the all the sheets in the excel file"
   ]
  },
  {
   "cell_type": "code",
   "execution_count": 422,
   "metadata": {},
   "outputs": [
    {
     "data": {
      "text/html": [
       "<div>\n",
       "<style scoped>\n",
       "    .dataframe tbody tr th:only-of-type {\n",
       "        vertical-align: middle;\n",
       "    }\n",
       "\n",
       "    .dataframe tbody tr th {\n",
       "        vertical-align: top;\n",
       "    }\n",
       "\n",
       "    .dataframe thead th {\n",
       "        text-align: right;\n",
       "    }\n",
       "</style>\n",
       "<table border=\"1\" class=\"dataframe\">\n",
       "  <thead>\n",
       "    <tr style=\"text-align: right;\">\n",
       "      <th></th>\n",
       "      <th>Clave</th>\n",
       "      <th>site</th>\n",
       "      <th>fte</th>\n",
       "      <th>employee</th>\n",
       "      <th>position</th>\n",
       "      <th>task description</th>\n",
       "      <th>reported fte</th>\n",
       "      <th>total</th>\n",
       "      <th>field</th>\n",
       "      <th>level1</th>\n",
       "      <th>level2</th>\n",
       "      <th>level3</th>\n",
       "      <th>operative model</th>\n",
       "    </tr>\n",
       "  </thead>\n",
       "  <tbody>\n",
       "    <tr>\n",
       "      <th>0</th>\n",
       "      <td>hqADLiderar, coordinar y apoyar al equipo de P...</td>\n",
       "      <td>hq</td>\n",
       "      <td>AD</td>\n",
       "      <td>Adolfo Pina</td>\n",
       "      <td>Planifficación</td>\n",
       "      <td>Liderar, coordinar y apoyar al equipo de Plani...</td>\n",
       "      <td>0.251142</td>\n",
       "      <td>440.0</td>\n",
       "      <td>supply chain</td>\n",
       "      <td>planificacion</td>\n",
       "      <td>Gestión del Proceso</td>\n",
       "      <td>Planificación del Personal</td>\n",
       "      <td>HQ</td>\n",
       "    </tr>\n",
       "    <tr>\n",
       "      <th>1</th>\n",
       "      <td>hqAMAlimentar registros info en SAP</td>\n",
       "      <td>hq</td>\n",
       "      <td>AM</td>\n",
       "      <td>Ana Muñoz</td>\n",
       "      <td>Admin - Compras</td>\n",
       "      <td>Alimentar registros info en SAP</td>\n",
       "      <td>0.027397</td>\n",
       "      <td>48.0</td>\n",
       "      <td>supply chain</td>\n",
       "      <td>procurement</td>\n",
       "      <td>Gestión de Maestros</td>\n",
       "      <td>Actualizar registros info Artículos</td>\n",
       "      <td>HQ</td>\n",
       "    </tr>\n",
       "    <tr>\n",
       "      <th>2</th>\n",
       "      <td>hqADGestión de la capacidad. Actualizar el pla...</td>\n",
       "      <td>hq</td>\n",
       "      <td>AD</td>\n",
       "      <td>Adolfo Pina</td>\n",
       "      <td>Planifficación</td>\n",
       "      <td>Gestión de la capacidad. Actualizar el plan pr...</td>\n",
       "      <td>0.100457</td>\n",
       "      <td>176.0</td>\n",
       "      <td>supply chain</td>\n",
       "      <td>planificacion</td>\n",
       "      <td>Gestión del Proceso</td>\n",
       "      <td>Planificación de la Producción</td>\n",
       "      <td>HQ</td>\n",
       "    </tr>\n",
       "    <tr>\n",
       "      <th>3</th>\n",
       "      <td>hqADReportar situación de capacidad a CS y com...</td>\n",
       "      <td>hq</td>\n",
       "      <td>AD</td>\n",
       "      <td>Adolfo Pina</td>\n",
       "      <td>Planifficación</td>\n",
       "      <td>Reportar situación de capacidad a CS y comerci...</td>\n",
       "      <td>0.012557</td>\n",
       "      <td>22.0</td>\n",
       "      <td>supply chain</td>\n",
       "      <td>planificacion</td>\n",
       "      <td>Gestión del Proceso</td>\n",
       "      <td>Elaboración KPI e Informes</td>\n",
       "      <td>HQ</td>\n",
       "    </tr>\n",
       "    <tr>\n",
       "      <th>4</th>\n",
       "      <td>hqADResources Planning de madera y traslado de...</td>\n",
       "      <td>hq</td>\n",
       "      <td>AD</td>\n",
       "      <td>Adolfo Pina</td>\n",
       "      <td>Planifficación</td>\n",
       "      <td>Resources Planning de madera y traslado de nec...</td>\n",
       "      <td>0.037671</td>\n",
       "      <td>66.0</td>\n",
       "      <td>supply chain</td>\n",
       "      <td>planificacion</td>\n",
       "      <td>Gestión de Almacenes</td>\n",
       "      <td>Planificación de necesidades</td>\n",
       "      <td>HQ</td>\n",
       "    </tr>\n",
       "    <tr>\n",
       "      <th>5</th>\n",
       "      <td>hqADSuministro de fondos para chapa. Coordinac...</td>\n",
       "      <td>hq</td>\n",
       "      <td>AD</td>\n",
       "      <td>Adolfo Pina</td>\n",
       "      <td>Planifficación</td>\n",
       "      <td>Suministro de fondos para chapa. Coordinación ...</td>\n",
       "      <td>0.012557</td>\n",
       "      <td>22.0</td>\n",
       "      <td>supply chain</td>\n",
       "      <td>planificacion</td>\n",
       "      <td>Gestión del Proceso</td>\n",
       "      <td>Planificación de la Producción</td>\n",
       "      <td>HQ</td>\n",
       "    </tr>\n",
       "    <tr>\n",
       "      <th>6</th>\n",
       "      <td>hqADSeguimiento y actualización de limitacione...</td>\n",
       "      <td>hq</td>\n",
       "      <td>AD</td>\n",
       "      <td>Adolfo Pina</td>\n",
       "      <td>Planifficación</td>\n",
       "      <td>Seguimiento y actualización de limitaciones pr...</td>\n",
       "      <td>0.025114</td>\n",
       "      <td>44.0</td>\n",
       "      <td>supply chain</td>\n",
       "      <td>planificacion</td>\n",
       "      <td>Gestión de Órdenes y Pedidos</td>\n",
       "      <td>Gestión de cargas: Planificación</td>\n",
       "      <td>HQ</td>\n",
       "    </tr>\n",
       "    <tr>\n",
       "      <th>7</th>\n",
       "      <td>hqADSeguimiento y ajuste de los desequilibrios...</td>\n",
       "      <td>hq</td>\n",
       "      <td>AD</td>\n",
       "      <td>Adolfo Pina</td>\n",
       "      <td>Planifficación</td>\n",
       "      <td>Seguimiento y ajuste de los desequilibrios del...</td>\n",
       "      <td>0.075342</td>\n",
       "      <td>132.0</td>\n",
       "      <td>supply chain</td>\n",
       "      <td>planificacion</td>\n",
       "      <td>Gestión del Proceso</td>\n",
       "      <td>Planificación de necesidades</td>\n",
       "      <td>HQ</td>\n",
       "    </tr>\n",
       "    <tr>\n",
       "      <th>8</th>\n",
       "      <td>hqADLiderar modificaciones de programación ya ...</td>\n",
       "      <td>hq</td>\n",
       "      <td>AD</td>\n",
       "      <td>Adolfo Pina</td>\n",
       "      <td>Planifficación</td>\n",
       "      <td>Liderar modificaciones de programación ya lanz...</td>\n",
       "      <td>0.012557</td>\n",
       "      <td>22.0</td>\n",
       "      <td>supply chain</td>\n",
       "      <td>planificacion</td>\n",
       "      <td>Gestión de Órdenes y Pedidos</td>\n",
       "      <td>Planificación de la Producción</td>\n",
       "      <td>HQ</td>\n",
       "    </tr>\n",
       "    <tr>\n",
       "      <th>9</th>\n",
       "      <td>hqADPlanificación de la 1ª transformación. Tur...</td>\n",
       "      <td>hq</td>\n",
       "      <td>AD</td>\n",
       "      <td>Adolfo Pina</td>\n",
       "      <td>Planifficación</td>\n",
       "      <td>Planificación de la 1ª transformación. Turnos,...</td>\n",
       "      <td>0.100457</td>\n",
       "      <td>176.0</td>\n",
       "      <td>supply chain</td>\n",
       "      <td>planificacion</td>\n",
       "      <td>Gestión del Proceso</td>\n",
       "      <td>Planificación de la Producción</td>\n",
       "      <td>HQ</td>\n",
       "    </tr>\n",
       "  </tbody>\n",
       "</table>\n",
       "</div>"
      ],
      "text/plain": [
       "                                               Clave site fte     employee  \\\n",
       "0  hqADLiderar, coordinar y apoyar al equipo de P...   hq  AD  Adolfo Pina   \n",
       "1                hqAMAlimentar registros info en SAP   hq  AM    Ana Muñoz   \n",
       "2  hqADGestión de la capacidad. Actualizar el pla...   hq  AD  Adolfo Pina   \n",
       "3  hqADReportar situación de capacidad a CS y com...   hq  AD  Adolfo Pina   \n",
       "4  hqADResources Planning de madera y traslado de...   hq  AD  Adolfo Pina   \n",
       "5  hqADSuministro de fondos para chapa. Coordinac...   hq  AD  Adolfo Pina   \n",
       "6  hqADSeguimiento y actualización de limitacione...   hq  AD  Adolfo Pina   \n",
       "7  hqADSeguimiento y ajuste de los desequilibrios...   hq  AD  Adolfo Pina   \n",
       "8  hqADLiderar modificaciones de programación ya ...   hq  AD  Adolfo Pina   \n",
       "9  hqADPlanificación de la 1ª transformación. Tur...   hq  AD  Adolfo Pina   \n",
       "\n",
       "          position                                   task description  \\\n",
       "0   Planifficación  Liderar, coordinar y apoyar al equipo de Plani...   \n",
       "1  Admin - Compras                    Alimentar registros info en SAP   \n",
       "2   Planifficación  Gestión de la capacidad. Actualizar el plan pr...   \n",
       "3   Planifficación  Reportar situación de capacidad a CS y comerci...   \n",
       "4   Planifficación  Resources Planning de madera y traslado de nec...   \n",
       "5   Planifficación  Suministro de fondos para chapa. Coordinación ...   \n",
       "6   Planifficación  Seguimiento y actualización de limitaciones pr...   \n",
       "7   Planifficación  Seguimiento y ajuste de los desequilibrios del...   \n",
       "8   Planifficación  Liderar modificaciones de programación ya lanz...   \n",
       "9   Planifficación  Planificación de la 1ª transformación. Turnos,...   \n",
       "\n",
       "   reported fte  total         field         level1  \\\n",
       "0      0.251142  440.0  supply chain  planificacion   \n",
       "1      0.027397   48.0  supply chain    procurement   \n",
       "2      0.100457  176.0  supply chain  planificacion   \n",
       "3      0.012557   22.0  supply chain  planificacion   \n",
       "4      0.037671   66.0  supply chain  planificacion   \n",
       "5      0.012557   22.0  supply chain  planificacion   \n",
       "6      0.025114   44.0  supply chain  planificacion   \n",
       "7      0.075342  132.0  supply chain  planificacion   \n",
       "8      0.012557   22.0  supply chain  planificacion   \n",
       "9      0.100457  176.0  supply chain  planificacion   \n",
       "\n",
       "                         level2                               level3  \\\n",
       "0           Gestión del Proceso           Planificación del Personal   \n",
       "1           Gestión de Maestros  Actualizar registros info Artículos   \n",
       "2           Gestión del Proceso       Planificación de la Producción   \n",
       "3           Gestión del Proceso           Elaboración KPI e Informes   \n",
       "4          Gestión de Almacenes         Planificación de necesidades   \n",
       "5           Gestión del Proceso       Planificación de la Producción   \n",
       "6  Gestión de Órdenes y Pedidos     Gestión de cargas: Planificación   \n",
       "7           Gestión del Proceso         Planificación de necesidades   \n",
       "8  Gestión de Órdenes y Pedidos       Planificación de la Producción   \n",
       "9           Gestión del Proceso       Planificación de la Producción   \n",
       "\n",
       "  operative model  \n",
       "0              HQ  \n",
       "1              HQ  \n",
       "2              HQ  \n",
       "3              HQ  \n",
       "4              HQ  \n",
       "5              HQ  \n",
       "6              HQ  \n",
       "7              HQ  \n",
       "8              HQ  \n",
       "9              HQ  "
      ]
     },
     "execution_count": 422,
     "metadata": {},
     "output_type": "execute_result"
    }
   ],
   "source": [
    "df = data.parse('dedicaciones')\n",
    "df.info\n",
    "df.head(10)"
   ]
  },
  {
   "cell_type": "code",
   "execution_count": 423,
   "metadata": {},
   "outputs": [
    {
     "name": "stderr",
     "output_type": "stream",
     "text": [
      "/Users/luisdemiguel/miniconda3/envs/ihm1_env/lib/python3.7/site-packages/openpyxl/worksheet/_reader.py:300: UserWarning: Data Validation extension is not supported and will be removed\n",
      "  warn(msg)\n"
     ]
    },
    {
     "data": {
      "text/plain": [
       "1255"
      ]
     },
     "execution_count": 423,
     "metadata": {},
     "output_type": "execute_result"
    }
   ],
   "source": [
    "ps = openpyxl.load_workbook(\"//Users/luisdemiguel/Desktop/Ironhack/ih_dataptmad0420_final_project/ih_dataptmad0420_final_project/template/data/raw/garnica.xlsx\")\n",
    "sheet = ps['dedicaciones']\n",
    "sheet.max_row "
   ]
  },
  {
   "cell_type": "code",
   "execution_count": 424,
   "metadata": {},
   "outputs": [],
   "source": [
    "# how to consider only the until the column is done?\n"
   ]
  },
  {
   "cell_type": "code",
   "execution_count": 425,
   "metadata": {},
   "outputs": [],
   "source": [
    "df['task description']= df['task description'].astype(str)"
   ]
  },
  {
   "cell_type": "code",
   "execution_count": 426,
   "metadata": {},
   "outputs": [],
   "source": [
    "df['test_task']=df['task description']"
   ]
  },
  {
   "cell_type": "code",
   "execution_count": 427,
   "metadata": {},
   "outputs": [],
   "source": [
    "def remove_stopwords(text):\n",
    "    words=[w for w in text if w not in stopwords.words('spanish')]\n",
    "    return words"
   ]
  },
  {
   "cell_type": "code",
   "execution_count": 428,
   "metadata": {
    "scrolled": true
   },
   "outputs": [],
   "source": [
    "df['key_words']=df['task description'].apply(lambda x : remove_stopwords(x))\n"
   ]
  },
  {
   "cell_type": "code",
   "execution_count": 430,
   "metadata": {},
   "outputs": [],
   "source": [
    "def remove_punctuation(text):\n",
    "    no_punct = \"\".join([c for c in text if c not in string.punctuation])\n",
    "    return no_punct\n",
    "    "
   ]
  },
  {
   "cell_type": "code",
   "execution_count": 431,
   "metadata": {},
   "outputs": [],
   "source": [
    "from nltk.tokenize import RegexpTokenizer"
   ]
  },
  {
   "cell_type": "code",
   "execution_count": 432,
   "metadata": {},
   "outputs": [],
   "source": [
    "tokenizer = RegexpTokenizer(r'\\w+')"
   ]
  },
  {
   "cell_type": "code",
   "execution_count": 433,
   "metadata": {},
   "outputs": [],
   "source": [
    "df['no_punt']=df['task description'].apply(lambda x : remove_punctuation(x))"
   ]
  },
  {
   "cell_type": "code",
   "execution_count": 434,
   "metadata": {},
   "outputs": [
    {
     "data": {
      "text/plain": [
       "0    Liderar coordinar y apoyar al equipo de Planif...\n",
       "1                      Alimentar registros info en SAP\n",
       "2    Gestión de la capacidad Actualizar el plan pro...\n",
       "3    Reportar situación de capacidad a CS y comerci...\n",
       "4    Resources Planning de madera y traslado de nec...\n",
       "Name: no_punt, dtype: object"
      ]
     },
     "execution_count": 434,
     "metadata": {},
     "output_type": "execute_result"
    }
   ],
   "source": [
    "df['no_punt'].head()"
   ]
  },
  {
   "cell_type": "code",
   "execution_count": 435,
   "metadata": {},
   "outputs": [],
   "source": [
    "df['token']=df['no_punt'].apply(lambda x : tokenizer.tokenize(x.lower()))"
   ]
  },
  {
   "cell_type": "code",
   "execution_count": 436,
   "metadata": {},
   "outputs": [
    {
     "data": {
      "text/plain": [
       "0    [liderar, coordinar, y, apoyar, al, equipo, de...\n",
       "1                [alimentar, registros, info, en, sap]\n",
       "2    [gestión, de, la, capacidad, actualizar, el, p...\n",
       "3    [reportar, situación, de, capacidad, a, cs, y,...\n",
       "4    [resources, planning, de, madera, y, traslado,...\n",
       "Name: token, dtype: object"
      ]
     },
     "execution_count": 436,
     "metadata": {},
     "output_type": "execute_result"
    }
   ],
   "source": [
    "df['token'].head()"
   ]
  },
  {
   "cell_type": "code",
   "execution_count": 437,
   "metadata": {},
   "outputs": [],
   "source": [
    "df['key_words']=df['token'].apply(lambda x : remove_stopwords(x))"
   ]
  },
  {
   "cell_type": "code",
   "execution_count": 438,
   "metadata": {
    "scrolled": true
   },
   "outputs": [
    {
     "data": {
      "text/plain": [
       "0    [liderar, coordinar, apoyar, equipo, planifica...\n",
       "1                    [alimentar, registros, info, sap]\n",
       "2    [gestión, capacidad, actualizar, plan, product...\n",
       "3    [reportar, situación, capacidad, cs, comercial...\n",
       "4    [resources, planning, madera, traslado, necesi...\n",
       "Name: key_words, dtype: object"
      ]
     },
     "execution_count": 438,
     "metadata": {},
     "output_type": "execute_result"
    }
   ],
   "source": [
    "df['key_words'].head()"
   ]
  },
  {
   "cell_type": "code",
   "execution_count": 439,
   "metadata": {},
   "outputs": [
    {
     "data": {
      "text/html": [
       "<div>\n",
       "<style scoped>\n",
       "    .dataframe tbody tr th:only-of-type {\n",
       "        vertical-align: middle;\n",
       "    }\n",
       "\n",
       "    .dataframe tbody tr th {\n",
       "        vertical-align: top;\n",
       "    }\n",
       "\n",
       "    .dataframe thead th {\n",
       "        text-align: right;\n",
       "    }\n",
       "</style>\n",
       "<table border=\"1\" class=\"dataframe\">\n",
       "  <thead>\n",
       "    <tr style=\"text-align: right;\">\n",
       "      <th></th>\n",
       "      <th>Clave</th>\n",
       "      <th>site</th>\n",
       "      <th>fte</th>\n",
       "      <th>employee</th>\n",
       "      <th>position</th>\n",
       "      <th>task description</th>\n",
       "      <th>reported fte</th>\n",
       "      <th>total</th>\n",
       "      <th>field</th>\n",
       "      <th>level1</th>\n",
       "      <th>level2</th>\n",
       "      <th>level3</th>\n",
       "      <th>operative model</th>\n",
       "      <th>test_task</th>\n",
       "      <th>key_words</th>\n",
       "      <th>no_punt</th>\n",
       "      <th>token</th>\n",
       "    </tr>\n",
       "  </thead>\n",
       "  <tbody>\n",
       "    <tr>\n",
       "      <th>0</th>\n",
       "      <td>hqADLiderar, coordinar y apoyar al equipo de P...</td>\n",
       "      <td>hq</td>\n",
       "      <td>AD</td>\n",
       "      <td>Adolfo Pina</td>\n",
       "      <td>Planifficación</td>\n",
       "      <td>Liderar, coordinar y apoyar al equipo de Plani...</td>\n",
       "      <td>0.251142</td>\n",
       "      <td>440.00</td>\n",
       "      <td>supply chain</td>\n",
       "      <td>planificacion</td>\n",
       "      <td>Gestión del Proceso</td>\n",
       "      <td>Planificación del Personal</td>\n",
       "      <td>HQ</td>\n",
       "      <td>Liderar, coordinar y apoyar al equipo de Plani...</td>\n",
       "      <td>[liderar, coordinar, apoyar, equipo, planifica...</td>\n",
       "      <td>Liderar coordinar y apoyar al equipo de Planif...</td>\n",
       "      <td>[liderar, coordinar, y, apoyar, al, equipo, de...</td>\n",
       "    </tr>\n",
       "    <tr>\n",
       "      <th>1</th>\n",
       "      <td>hqAMAlimentar registros info en SAP</td>\n",
       "      <td>hq</td>\n",
       "      <td>AM</td>\n",
       "      <td>Ana Muñoz</td>\n",
       "      <td>Admin - Compras</td>\n",
       "      <td>Alimentar registros info en SAP</td>\n",
       "      <td>0.027397</td>\n",
       "      <td>48.00</td>\n",
       "      <td>supply chain</td>\n",
       "      <td>procurement</td>\n",
       "      <td>Gestión de Maestros</td>\n",
       "      <td>Actualizar registros info Artículos</td>\n",
       "      <td>HQ</td>\n",
       "      <td>Alimentar registros info en SAP</td>\n",
       "      <td>[alimentar, registros, info, sap]</td>\n",
       "      <td>Alimentar registros info en SAP</td>\n",
       "      <td>[alimentar, registros, info, en, sap]</td>\n",
       "    </tr>\n",
       "    <tr>\n",
       "      <th>2</th>\n",
       "      <td>hqADGestión de la capacidad. Actualizar el pla...</td>\n",
       "      <td>hq</td>\n",
       "      <td>AD</td>\n",
       "      <td>Adolfo Pina</td>\n",
       "      <td>Planifficación</td>\n",
       "      <td>Gestión de la capacidad. Actualizar el plan pr...</td>\n",
       "      <td>0.100457</td>\n",
       "      <td>176.00</td>\n",
       "      <td>supply chain</td>\n",
       "      <td>planificacion</td>\n",
       "      <td>Gestión del Proceso</td>\n",
       "      <td>Planificación de la Producción</td>\n",
       "      <td>HQ</td>\n",
       "      <td>Gestión de la capacidad. Actualizar el plan pr...</td>\n",
       "      <td>[gestión, capacidad, actualizar, plan, product...</td>\n",
       "      <td>Gestión de la capacidad Actualizar el plan pro...</td>\n",
       "      <td>[gestión, de, la, capacidad, actualizar, el, p...</td>\n",
       "    </tr>\n",
       "    <tr>\n",
       "      <th>3</th>\n",
       "      <td>hqADReportar situación de capacidad a CS y com...</td>\n",
       "      <td>hq</td>\n",
       "      <td>AD</td>\n",
       "      <td>Adolfo Pina</td>\n",
       "      <td>Planifficación</td>\n",
       "      <td>Reportar situación de capacidad a CS y comerci...</td>\n",
       "      <td>0.012557</td>\n",
       "      <td>22.00</td>\n",
       "      <td>supply chain</td>\n",
       "      <td>planificacion</td>\n",
       "      <td>Gestión del Proceso</td>\n",
       "      <td>Elaboración KPI e Informes</td>\n",
       "      <td>HQ</td>\n",
       "      <td>Reportar situación de capacidad a CS y comerci...</td>\n",
       "      <td>[reportar, situación, capacidad, cs, comercial...</td>\n",
       "      <td>Reportar situación de capacidad a CS y comerci...</td>\n",
       "      <td>[reportar, situación, de, capacidad, a, cs, y,...</td>\n",
       "    </tr>\n",
       "    <tr>\n",
       "      <th>4</th>\n",
       "      <td>hqADResources Planning de madera y traslado de...</td>\n",
       "      <td>hq</td>\n",
       "      <td>AD</td>\n",
       "      <td>Adolfo Pina</td>\n",
       "      <td>Planifficación</td>\n",
       "      <td>Resources Planning de madera y traslado de nec...</td>\n",
       "      <td>0.037671</td>\n",
       "      <td>66.00</td>\n",
       "      <td>supply chain</td>\n",
       "      <td>planificacion</td>\n",
       "      <td>Gestión de Almacenes</td>\n",
       "      <td>Planificación de necesidades</td>\n",
       "      <td>HQ</td>\n",
       "      <td>Resources Planning de madera y traslado de nec...</td>\n",
       "      <td>[resources, planning, madera, traslado, necesi...</td>\n",
       "      <td>Resources Planning de madera y traslado de nec...</td>\n",
       "      <td>[resources, planning, de, madera, y, traslado,...</td>\n",
       "    </tr>\n",
       "    <tr>\n",
       "      <th>...</th>\n",
       "      <td>...</td>\n",
       "      <td>...</td>\n",
       "      <td>...</td>\n",
       "      <td>...</td>\n",
       "      <td>...</td>\n",
       "      <td>...</td>\n",
       "      <td>...</td>\n",
       "      <td>...</td>\n",
       "      <td>...</td>\n",
       "      <td>...</td>\n",
       "      <td>...</td>\n",
       "      <td>...</td>\n",
       "      <td>...</td>\n",
       "      <td>...</td>\n",
       "      <td>...</td>\n",
       "      <td>...</td>\n",
       "      <td>...</td>\n",
       "    </tr>\n",
       "    <tr>\n",
       "      <th>1249</th>\n",
       "      <td>hqYReuniones equipo (Semanales, KPI, calidad, ...</td>\n",
       "      <td>hq</td>\n",
       "      <td>Y</td>\n",
       "      <td>Yavor Panchev</td>\n",
       "      <td>Customer Service USA</td>\n",
       "      <td>Reuniones equipo (Semanales, KPI, calidad, Ser...</td>\n",
       "      <td>0.070000</td>\n",
       "      <td>122.64</td>\n",
       "      <td>supply chain</td>\n",
       "      <td>customer service</td>\n",
       "      <td>Gestión del Proceso Estrategica</td>\n",
       "      <td>Meetings y reuniones</td>\n",
       "      <td>HQ</td>\n",
       "      <td>Reuniones equipo (Semanales, KPI, calidad, Ser...</td>\n",
       "      <td>[reuniones, equipo, semanales, kpi, calidad, s...</td>\n",
       "      <td>Reuniones equipo Semanales KPI calidad Serving...</td>\n",
       "      <td>[reuniones, equipo, semanales, kpi, calidad, s...</td>\n",
       "    </tr>\n",
       "    <tr>\n",
       "      <th>1250</th>\n",
       "      <td>hqYConsultas/Gestiones varias con clientes (ma...</td>\n",
       "      <td>hq</td>\n",
       "      <td>Y</td>\n",
       "      <td>Yavor Panchev</td>\n",
       "      <td>Customer Service USA</td>\n",
       "      <td>Consultas/Gestiones varias con clientes (mail,...</td>\n",
       "      <td>0.050000</td>\n",
       "      <td>87.60</td>\n",
       "      <td>supply chain</td>\n",
       "      <td>customer service</td>\n",
       "      <td>Servicio al Cliente/ Post-Venta</td>\n",
       "      <td>Consultas Clientes</td>\n",
       "      <td>CSC</td>\n",
       "      <td>Consultas/Gestiones varias con clientes (mail,...</td>\n",
       "      <td>[consultasgestiones, varias, clientes, mail, t...</td>\n",
       "      <td>ConsultasGestiones varias con clientes mail te...</td>\n",
       "      <td>[consultasgestiones, varias, con, clientes, ma...</td>\n",
       "    </tr>\n",
       "    <tr>\n",
       "      <th>1251</th>\n",
       "      <td>hqYConsultas/Gestiones varias con equipo comer...</td>\n",
       "      <td>hq</td>\n",
       "      <td>Y</td>\n",
       "      <td>Yavor Panchev</td>\n",
       "      <td>Customer Service USA</td>\n",
       "      <td>Consultas/Gestiones varias con equipo comercia...</td>\n",
       "      <td>0.150000</td>\n",
       "      <td>262.80</td>\n",
       "      <td>supply chain</td>\n",
       "      <td>customer service</td>\n",
       "      <td>Gestión del Proceso</td>\n",
       "      <td>Consulta equipo comercial</td>\n",
       "      <td>CSC</td>\n",
       "      <td>Consultas/Gestiones varias con equipo comercia...</td>\n",
       "      <td>[consultasgestiones, varias, equipo, comercial...</td>\n",
       "      <td>ConsultasGestiones varias con equipo comercial...</td>\n",
       "      <td>[consultasgestiones, varias, con, equipo, come...</td>\n",
       "    </tr>\n",
       "    <tr>\n",
       "      <th>1252</th>\n",
       "      <td>hqYGestiones varias con fabricas y resto equip...</td>\n",
       "      <td>hq</td>\n",
       "      <td>Y</td>\n",
       "      <td>Yavor Panchev</td>\n",
       "      <td>Customer Service USA</td>\n",
       "      <td>Gestiones varias con fabricas y resto equipo (...</td>\n",
       "      <td>0.010000</td>\n",
       "      <td>17.52</td>\n",
       "      <td>supply chain</td>\n",
       "      <td>customer service</td>\n",
       "      <td>Gestión del Proceso</td>\n",
       "      <td>Consulta equipo fábricas</td>\n",
       "      <td>CSC</td>\n",
       "      <td>Gestiones varias con fabricas y resto equipo (...</td>\n",
       "      <td>[gestiones, varias, fabricas, resto, equipo, r...</td>\n",
       "      <td>Gestiones varias con fabricas y resto equipo  ...</td>\n",
       "      <td>[gestiones, varias, con, fabricas, y, resto, e...</td>\n",
       "    </tr>\n",
       "    <tr>\n",
       "      <th>1253</th>\n",
       "      <td>hqYGestiones con impagos de clientes</td>\n",
       "      <td>hq</td>\n",
       "      <td>Y</td>\n",
       "      <td>Yavor Panchev</td>\n",
       "      <td>Customer Service USA</td>\n",
       "      <td>Gestiones con impagos de clientes</td>\n",
       "      <td>0.050000</td>\n",
       "      <td>87.60</td>\n",
       "      <td>finanzas</td>\n",
       "      <td>cuentas a cobrar</td>\n",
       "      <td>Gestión de cobros</td>\n",
       "      <td>Gestión de impagados</td>\n",
       "      <td>CSC</td>\n",
       "      <td>Gestiones con impagos de clientes</td>\n",
       "      <td>[gestiones, impagos, clientes]</td>\n",
       "      <td>Gestiones con impagos de clientes</td>\n",
       "      <td>[gestiones, con, impagos, de, clientes]</td>\n",
       "    </tr>\n",
       "  </tbody>\n",
       "</table>\n",
       "<p>1254 rows × 17 columns</p>\n",
       "</div>"
      ],
      "text/plain": [
       "                                                  Clave site fte  \\\n",
       "0     hqADLiderar, coordinar y apoyar al equipo de P...   hq  AD   \n",
       "1                   hqAMAlimentar registros info en SAP   hq  AM   \n",
       "2     hqADGestión de la capacidad. Actualizar el pla...   hq  AD   \n",
       "3     hqADReportar situación de capacidad a CS y com...   hq  AD   \n",
       "4     hqADResources Planning de madera y traslado de...   hq  AD   \n",
       "...                                                 ...  ...  ..   \n",
       "1249  hqYReuniones equipo (Semanales, KPI, calidad, ...   hq   Y   \n",
       "1250  hqYConsultas/Gestiones varias con clientes (ma...   hq   Y   \n",
       "1251  hqYConsultas/Gestiones varias con equipo comer...   hq   Y   \n",
       "1252  hqYGestiones varias con fabricas y resto equip...   hq   Y   \n",
       "1253               hqYGestiones con impagos de clientes   hq   Y   \n",
       "\n",
       "           employee              position  \\\n",
       "0       Adolfo Pina        Planifficación   \n",
       "1         Ana Muñoz       Admin - Compras   \n",
       "2       Adolfo Pina        Planifficación   \n",
       "3       Adolfo Pina        Planifficación   \n",
       "4       Adolfo Pina        Planifficación   \n",
       "...             ...                   ...   \n",
       "1249  Yavor Panchev  Customer Service USA   \n",
       "1250  Yavor Panchev  Customer Service USA   \n",
       "1251  Yavor Panchev  Customer Service USA   \n",
       "1252  Yavor Panchev  Customer Service USA   \n",
       "1253  Yavor Panchev  Customer Service USA   \n",
       "\n",
       "                                       task description  reported fte   total  \\\n",
       "0     Liderar, coordinar y apoyar al equipo de Plani...      0.251142  440.00   \n",
       "1                       Alimentar registros info en SAP      0.027397   48.00   \n",
       "2     Gestión de la capacidad. Actualizar el plan pr...      0.100457  176.00   \n",
       "3     Reportar situación de capacidad a CS y comerci...      0.012557   22.00   \n",
       "4     Resources Planning de madera y traslado de nec...      0.037671   66.00   \n",
       "...                                                 ...           ...     ...   \n",
       "1249  Reuniones equipo (Semanales, KPI, calidad, Ser...      0.070000  122.64   \n",
       "1250  Consultas/Gestiones varias con clientes (mail,...      0.050000   87.60   \n",
       "1251  Consultas/Gestiones varias con equipo comercia...      0.150000  262.80   \n",
       "1252  Gestiones varias con fabricas y resto equipo (...      0.010000   17.52   \n",
       "1253                  Gestiones con impagos de clientes      0.050000   87.60   \n",
       "\n",
       "             field            level1                           level2  \\\n",
       "0     supply chain     planificacion              Gestión del Proceso   \n",
       "1     supply chain       procurement              Gestión de Maestros   \n",
       "2     supply chain     planificacion              Gestión del Proceso   \n",
       "3     supply chain     planificacion              Gestión del Proceso   \n",
       "4     supply chain     planificacion             Gestión de Almacenes   \n",
       "...            ...               ...                              ...   \n",
       "1249  supply chain  customer service  Gestión del Proceso Estrategica   \n",
       "1250  supply chain  customer service  Servicio al Cliente/ Post-Venta   \n",
       "1251  supply chain  customer service              Gestión del Proceso   \n",
       "1252  supply chain  customer service              Gestión del Proceso   \n",
       "1253      finanzas  cuentas a cobrar                Gestión de cobros   \n",
       "\n",
       "                                   level3 operative model  \\\n",
       "0              Planificación del Personal              HQ   \n",
       "1     Actualizar registros info Artículos              HQ   \n",
       "2          Planificación de la Producción              HQ   \n",
       "3              Elaboración KPI e Informes              HQ   \n",
       "4            Planificación de necesidades              HQ   \n",
       "...                                   ...             ...   \n",
       "1249                 Meetings y reuniones              HQ   \n",
       "1250                   Consultas Clientes             CSC   \n",
       "1251            Consulta equipo comercial             CSC   \n",
       "1252             Consulta equipo fábricas             CSC   \n",
       "1253                 Gestión de impagados             CSC   \n",
       "\n",
       "                                              test_task  \\\n",
       "0     Liderar, coordinar y apoyar al equipo de Plani...   \n",
       "1                       Alimentar registros info en SAP   \n",
       "2     Gestión de la capacidad. Actualizar el plan pr...   \n",
       "3     Reportar situación de capacidad a CS y comerci...   \n",
       "4     Resources Planning de madera y traslado de nec...   \n",
       "...                                                 ...   \n",
       "1249  Reuniones equipo (Semanales, KPI, calidad, Ser...   \n",
       "1250  Consultas/Gestiones varias con clientes (mail,...   \n",
       "1251  Consultas/Gestiones varias con equipo comercia...   \n",
       "1252  Gestiones varias con fabricas y resto equipo (...   \n",
       "1253                  Gestiones con impagos de clientes   \n",
       "\n",
       "                                              key_words  \\\n",
       "0     [liderar, coordinar, apoyar, equipo, planifica...   \n",
       "1                     [alimentar, registros, info, sap]   \n",
       "2     [gestión, capacidad, actualizar, plan, product...   \n",
       "3     [reportar, situación, capacidad, cs, comercial...   \n",
       "4     [resources, planning, madera, traslado, necesi...   \n",
       "...                                                 ...   \n",
       "1249  [reuniones, equipo, semanales, kpi, calidad, s...   \n",
       "1250  [consultasgestiones, varias, clientes, mail, t...   \n",
       "1251  [consultasgestiones, varias, equipo, comercial...   \n",
       "1252  [gestiones, varias, fabricas, resto, equipo, r...   \n",
       "1253                     [gestiones, impagos, clientes]   \n",
       "\n",
       "                                                no_punt  \\\n",
       "0     Liderar coordinar y apoyar al equipo de Planif...   \n",
       "1                       Alimentar registros info en SAP   \n",
       "2     Gestión de la capacidad Actualizar el plan pro...   \n",
       "3     Reportar situación de capacidad a CS y comerci...   \n",
       "4     Resources Planning de madera y traslado de nec...   \n",
       "...                                                 ...   \n",
       "1249  Reuniones equipo Semanales KPI calidad Serving...   \n",
       "1250  ConsultasGestiones varias con clientes mail te...   \n",
       "1251  ConsultasGestiones varias con equipo comercial...   \n",
       "1252  Gestiones varias con fabricas y resto equipo  ...   \n",
       "1253                  Gestiones con impagos de clientes   \n",
       "\n",
       "                                                  token  \n",
       "0     [liderar, coordinar, y, apoyar, al, equipo, de...  \n",
       "1                 [alimentar, registros, info, en, sap]  \n",
       "2     [gestión, de, la, capacidad, actualizar, el, p...  \n",
       "3     [reportar, situación, de, capacidad, a, cs, y,...  \n",
       "4     [resources, planning, de, madera, y, traslado,...  \n",
       "...                                                 ...  \n",
       "1249  [reuniones, equipo, semanales, kpi, calidad, s...  \n",
       "1250  [consultasgestiones, varias, con, clientes, ma...  \n",
       "1251  [consultasgestiones, varias, con, equipo, come...  \n",
       "1252  [gestiones, varias, con, fabricas, y, resto, e...  \n",
       "1253            [gestiones, con, impagos, de, clientes]  \n",
       "\n",
       "[1254 rows x 17 columns]"
      ]
     },
     "execution_count": 439,
     "metadata": {},
     "output_type": "execute_result"
    }
   ],
   "source": [
    "df"
   ]
  },
  {
   "cell_type": "code",
   "execution_count": null,
   "metadata": {},
   "outputs": [],
   "source": []
  },
  {
   "cell_type": "code",
   "execution_count": null,
   "metadata": {},
   "outputs": [],
   "source": []
  },
  {
   "cell_type": "code",
   "execution_count": 398,
   "metadata": {
    "scrolled": true
   },
   "outputs": [
    {
     "data": {
      "text/plain": [
       "0    [L, i, d, r, r, ,,  , c, r, d, i, n, r,  ,  , ...\n",
       "1    [A, l, i, m, n, t, r,  , r, g, i, s, t, r, s, ...\n",
       "2    [G, s, t, i, ó, n,  , d,  , l,  , c, p, c, i, ...\n",
       "3    [R, p, r, t, r,  , s, i, t, u, c, i, ó, n,  , ...\n",
       "4    [R, s, u, r, c, s,  , P, l, n, n, i, n, g,  , ...\n",
       "Name: key_words, dtype: object"
      ]
     },
     "execution_count": 398,
     "metadata": {},
     "output_type": "execute_result"
    }
   ],
   "source": [
    "df['key_words'].head()"
   ]
  },
  {
   "cell_type": "code",
   "execution_count": 209,
   "metadata": {},
   "outputs": [],
   "source": [
    "task_description = []\n",
    "\n",
    "for i in df['task description']:\n",
    "    task_description.append(i)\n",
    "    "
   ]
  },
  {
   "cell_type": "code",
   "execution_count": 169,
   "metadata": {
    "scrolled": false
   },
   "outputs": [],
   "source": [
    "#for index, row in df.iterrows():\n",
    "    #print(row['task description'])"
   ]
  },
  {
   "cell_type": "code",
   "execution_count": 270,
   "metadata": {},
   "outputs": [],
   "source": [
    "if task in df['task description']:\n",
    "    actividad=nlp(task)\n",
    "    "
   ]
  },
  {
   "cell_type": "code",
   "execution_count": 271,
   "metadata": {},
   "outputs": [
    {
     "data": {
      "text/plain": [
       "'Gestiones con impagos de clientes'"
      ]
     },
     "execution_count": 271,
     "metadata": {},
     "output_type": "execute_result"
    }
   ],
   "source": [
    "task"
   ]
  },
  {
   "cell_type": "code",
   "execution_count": 269,
   "metadata": {},
   "outputs": [
    {
     "data": {
      "text/plain": [
       "'Liderar, coordinar y apoyar al equipo de Planificación - Ingeniería de producto'"
      ]
     },
     "execution_count": 269,
     "metadata": {},
     "output_type": "execute_result"
    }
   ],
   "source": [
    "df['task description']"
   ]
  },
  {
   "cell_type": "code",
   "execution_count": 399,
   "metadata": {
    "scrolled": true
   },
   "outputs": [],
   "source": [
    "tokens2=[]\n",
    "tokens3=[]\n",
    "\n",
    "for i in range(len(df)) : \n",
    "    actividad_test=nlp(df.loc[i, \"task description\"])\n",
    "    df['test4']= pd.DataFrame(loc[i, \"task description\"])\n",
    "    #for palabra in actividad_test:\n",
    "        #tokens3.append(palabra) if palabra.is_stop==False\n",
    "        #lista_de_palabras3=palabra.text.replace('\\n','')\n",
    "        #tokens3.append(actividad_test)\n",
    "        #if palabra.is_stop==False:\n",
    "            #tokens2.append(palabra)\n",
    "        \n",
    "        #lista_palabras_2=[palabra.text.replace('\\n','') for palabra in actividad_test[:40]]\n",
    "        #lista_non_stop=[palabra for palabra in actividad_test if palabra.is_stop==False]\n",
    "        #lista_de_palabras=palabra.text.replace('\\n','')\n",
    "        #print(palabra)\n",
    "\n",
    "#lista_non_stop=[palabra for palabra in actividad_test if palabra.is_stop==False]\n",
    "#for palabra in lista_non_stop:\n",
    "    #print(lista_non_stop[:100])"
   ]
  },
  {
   "cell_type": "code",
   "execution_count": 361,
   "metadata": {},
   "outputs": [
    {
     "data": {
      "text/plain": [
       "Gestiones con impagos de clientes"
      ]
     },
     "execution_count": 361,
     "metadata": {},
     "output_type": "execute_result"
    }
   ],
   "source": [
    "actividad_test"
   ]
  },
  {
   "cell_type": "code",
   "execution_count": 365,
   "metadata": {},
   "outputs": [],
   "source": [
    "test3= df['test4'].dropna"
   ]
  },
  {
   "cell_type": "code",
   "execution_count": 366,
   "metadata": {},
   "outputs": [
    {
     "data": {
      "text/plain": [
       "<bound method Series.dropna of 0       Gestiones\n",
       "1             con\n",
       "2         impagos\n",
       "3              de\n",
       "4        clientes\n",
       "          ...    \n",
       "1249          NaN\n",
       "1250          NaN\n",
       "1251          NaN\n",
       "1252          NaN\n",
       "1253          NaN\n",
       "Name: test4, Length: 1254, dtype: object>"
      ]
     },
     "execution_count": 366,
     "metadata": {},
     "output_type": "execute_result"
    }
   ],
   "source": [
    "test3"
   ]
  },
  {
   "cell_type": "code",
   "execution_count": 352,
   "metadata": {},
   "outputs": [
    {
     "name": "stdout",
     "output_type": "stream",
     "text": [
      "Gestiones\n",
      "impagos\n",
      "clientes\n"
     ]
    }
   ],
   "source": [
    "for palabra in actividad_test:\n",
    "    if palabra.is_stop==False:\n",
    "\n",
    "        df['test2']=df['task description'].apply(lambda x: [item for item in x if item not in stop])"
   ]
  },
  {
   "cell_type": "code",
   "execution_count": 328,
   "metadata": {},
   "outputs": [],
   "source": [
    "import re\n",
    "from nltk.corpus import stopwords"
   ]
  },
  {
   "cell_type": "code",
   "execution_count": 336,
   "metadata": {},
   "outputs": [
    {
     "name": "stderr",
     "output_type": "stream",
     "text": [
      "[nltk_data] Downloading package stopwords to\n",
      "[nltk_data]     /Users/luisdemiguel/nltk_data...\n",
      "[nltk_data]   Unzipping corpora/stopwords.zip.\n"
     ]
    },
    {
     "data": {
      "text/plain": [
       "True"
      ]
     },
     "execution_count": 336,
     "metadata": {},
     "output_type": "execute_result"
    }
   ],
   "source": [
    "import nltk\n",
    "nltk.download('stopwords')"
   ]
  },
  {
   "cell_type": "code",
   "execution_count": 356,
   "metadata": {},
   "outputs": [
    {
     "ename": "TypeError",
     "evalue": "expected string or bytes-like object",
     "output_type": "error",
     "traceback": [
      "\u001b[0;31m---------------------------------------------------------------------------\u001b[0m",
      "\u001b[0;31mTypeError\u001b[0m                                 Traceback (most recent call last)",
      "\u001b[0;32m<ipython-input-356-98f7cea890e3>\u001b[0m in \u001b[0;36m<module>\u001b[0;34m\u001b[0m\n\u001b[1;32m      3\u001b[0m \u001b[0;34m\u001b[0m\u001b[0m\n\u001b[1;32m      4\u001b[0m \u001b[0;31m#remove punctuation and split into seperate words\u001b[0m\u001b[0;34m\u001b[0m\u001b[0;34m\u001b[0m\u001b[0;34m\u001b[0m\u001b[0m\n\u001b[0;32m----> 5\u001b[0;31m \u001b[0mwords\u001b[0m \u001b[0;34m=\u001b[0m \u001b[0mre\u001b[0m\u001b[0;34m.\u001b[0m\u001b[0mfindall\u001b[0m\u001b[0;34m(\u001b[0m\u001b[0;34mr'\\w+'\u001b[0m\u001b[0;34m,\u001b[0m \u001b[0mactividad_test\u001b[0m\u001b[0;34m)\u001b[0m\u001b[0;34m\u001b[0m\u001b[0;34m\u001b[0m\u001b[0m\n\u001b[0m\u001b[1;32m      6\u001b[0m \u001b[0;34m\u001b[0m\u001b[0m\n\u001b[1;32m      7\u001b[0m \u001b[0;31m#This is the simple way to remove stop words\u001b[0m\u001b[0;34m\u001b[0m\u001b[0;34m\u001b[0m\u001b[0;34m\u001b[0m\u001b[0m\n",
      "\u001b[0;32m~/miniconda3/envs/ihm1_env/lib/python3.7/re.py\u001b[0m in \u001b[0;36mfindall\u001b[0;34m(pattern, string, flags)\u001b[0m\n\u001b[1;32m    221\u001b[0m \u001b[0;34m\u001b[0m\u001b[0m\n\u001b[1;32m    222\u001b[0m     Empty matches are included in the result.\"\"\"\n\u001b[0;32m--> 223\u001b[0;31m     \u001b[0;32mreturn\u001b[0m \u001b[0m_compile\u001b[0m\u001b[0;34m(\u001b[0m\u001b[0mpattern\u001b[0m\u001b[0;34m,\u001b[0m \u001b[0mflags\u001b[0m\u001b[0;34m)\u001b[0m\u001b[0;34m.\u001b[0m\u001b[0mfindall\u001b[0m\u001b[0;34m(\u001b[0m\u001b[0mstring\u001b[0m\u001b[0;34m)\u001b[0m\u001b[0;34m\u001b[0m\u001b[0;34m\u001b[0m\u001b[0m\n\u001b[0m\u001b[1;32m    224\u001b[0m \u001b[0;34m\u001b[0m\u001b[0m\n\u001b[1;32m    225\u001b[0m \u001b[0;32mdef\u001b[0m \u001b[0mfinditer\u001b[0m\u001b[0;34m(\u001b[0m\u001b[0mpattern\u001b[0m\u001b[0;34m,\u001b[0m \u001b[0mstring\u001b[0m\u001b[0;34m,\u001b[0m \u001b[0mflags\u001b[0m\u001b[0;34m=\u001b[0m\u001b[0;36m0\u001b[0m\u001b[0;34m)\u001b[0m\u001b[0;34m:\u001b[0m\u001b[0;34m\u001b[0m\u001b[0;34m\u001b[0m\u001b[0m\n",
      "\u001b[0;31mTypeError\u001b[0m: expected string or bytes-like object"
     ]
    }
   ],
   "source": [
    "\n",
    "\n",
    "#We only want to work with lowercase for the comparisons\n",
    "#scentence = scentence.lower() \n",
    "\n",
    "#remove punctuation and split into seperate words\n",
    "#words = re.findall(r'\\w+', actividad_test) \n",
    "\n",
    "#This is the simple way to remove stop words\n",
    "important_words=[]\n",
    "for word in words:\n",
    "    if word not in stopwords.words('spanish'):\n",
    "        important_words.append(word)\n",
    "\n",
    "print (important_words)\n",
    "\n",
    "#This is the more pythonic way\n",
    "#important_words = filter(lambda x: x not in stopwords.words('spanish'), words)\n",
    "\n",
    "#print(important_words)"
   ]
  },
  {
   "cell_type": "code",
   "execution_count": null,
   "metadata": {},
   "outputs": [],
   "source": []
  },
  {
   "cell_type": "code",
   "execution_count": 334,
   "metadata": {},
   "outputs": [
    {
     "name": "stdout",
     "output_type": "stream",
     "text": [
      "<filter object at 0x1a2e773f98>\n"
     ]
    }
   ],
   "source": [
    "important_words = filter(lambda x: x not in stopwords.words('spanish'), words)\n",
    "\n",
    "print(important_words)"
   ]
  },
  {
   "cell_type": "code",
   "execution_count": 341,
   "metadata": {
    "scrolled": true
   },
   "outputs": [],
   "source": [
    "from nltk.corpus import stopwords\n",
    "stop = stopwords.words('spanish')"
   ]
  },
  {
   "cell_type": "code",
   "execution_count": 371,
   "metadata": {},
   "outputs": [],
   "source": [
    "df['test']=df['task description'].apply(lambda x: [item for item in x if item not in stop])"
   ]
  },
  {
   "cell_type": "code",
   "execution_count": 373,
   "metadata": {
    "scrolled": false
   },
   "outputs": [
    {
     "data": {
      "text/plain": [
       "0       [L, i, d, r, r, ,,  , c, r, d, i, n, r,  ,  , ...\n",
       "1       [A, l, i, m, n, t, r,  , r, g, i, s, t, r, s, ...\n",
       "2       [G, s, t, i, ó, n,  , d,  , l,  , c, p, c, i, ...\n",
       "3       [R, p, r, t, r,  , s, i, t, u, c, i, ó, n,  , ...\n",
       "4       [R, s, u, r, c, s,  , P, l, n, n, i, n, g,  , ...\n",
       "                              ...                        \n",
       "1249    [R, u, n, i, n, s,  , q, u, i, p,  , (, S, m, ...\n",
       "1250    [C, n, s, u, l, t, s, /, G, s, t, i, n, s,  , ...\n",
       "1251    [C, n, s, u, l, t, s, /, G, s, t, i, n, s,  , ...\n",
       "1252    [G, s, t, i, n, s,  , v, r, i, s,  , c, n,  , ...\n",
       "1253    [G, s, t, i, n, s,  , c, n,  , i, m, p, g, s, ...\n",
       "Name: test, Length: 1254, dtype: object"
      ]
     },
     "execution_count": 373,
     "metadata": {},
     "output_type": "execute_result"
    }
   ],
   "source": [
    "df['test']"
   ]
  },
  {
   "cell_type": "code",
   "execution_count": 375,
   "metadata": {
    "scrolled": true
   },
   "outputs": [
    {
     "ename": "TypeError",
     "evalue": "'spacy.tokens.doc.Doc' object does not support item assignment",
     "output_type": "error",
     "traceback": [
      "\u001b[0;31m---------------------------------------------------------------------------\u001b[0m",
      "\u001b[0;31mTypeError\u001b[0m                                 Traceback (most recent call last)",
      "\u001b[0;32m<ipython-input-375-4629ffc87ab6>\u001b[0m in \u001b[0;36m<module>\u001b[0;34m\u001b[0m\n\u001b[1;32m      7\u001b[0m \u001b[0;31m#test = pd.DataFrame(pos_tweets)\u001b[0m\u001b[0;34m\u001b[0m\u001b[0;34m\u001b[0m\u001b[0;34m\u001b[0m\u001b[0m\n\u001b[1;32m      8\u001b[0m \u001b[0;31m#test.columns = [\"tweet\",\"class\"]\u001b[0m\u001b[0;34m\u001b[0m\u001b[0;34m\u001b[0m\u001b[0;34m\u001b[0m\u001b[0m\n\u001b[0;32m----> 9\u001b[0;31m \u001b[0mtest\u001b[0m\u001b[0;34m[\u001b[0m\u001b[0;34m\"tweet\"\u001b[0m\u001b[0;34m]\u001b[0m \u001b[0;34m=\u001b[0m \u001b[0mdf\u001b[0m\u001b[0;34m[\u001b[0m\u001b[0;34m'task description'\u001b[0m\u001b[0;34m]\u001b[0m\u001b[0;34m.\u001b[0m\u001b[0mstr\u001b[0m\u001b[0;34m.\u001b[0m\u001b[0mlower\u001b[0m\u001b[0;34m(\u001b[0m\u001b[0;34m)\u001b[0m\u001b[0;34m.\u001b[0m\u001b[0mstr\u001b[0m\u001b[0;34m.\u001b[0m\u001b[0msplit\u001b[0m\u001b[0;34m(\u001b[0m\u001b[0;34m)\u001b[0m\u001b[0;34m\u001b[0m\u001b[0;34m\u001b[0m\u001b[0m\n\u001b[0m\u001b[1;32m     10\u001b[0m \u001b[0;34m\u001b[0m\u001b[0m\n\u001b[1;32m     11\u001b[0m \u001b[0;32mfrom\u001b[0m \u001b[0mnltk\u001b[0m\u001b[0;34m.\u001b[0m\u001b[0mcorpus\u001b[0m \u001b[0;32mimport\u001b[0m \u001b[0mstopwords\u001b[0m\u001b[0;34m\u001b[0m\u001b[0;34m\u001b[0m\u001b[0m\n",
      "\u001b[0;31mTypeError\u001b[0m: 'spacy.tokens.doc.Doc' object does not support item assignment"
     ]
    }
   ],
   "source": [
    "#pos_tweets = [('I love this car', 'positive'),\n",
    "    #('This view is amazing', 'positive'),\n",
    "    #('I feel great this morning', 'positive'),\n",
    "    #('I am so excited about the concert', 'positive'),\n",
    "    #('He is my best friend', 'positive')]\n",
    "\n",
    "#test = pd.DataFrame(pos_tweets)\n",
    "#test.columns = [\"tweet\",\"class\"]\n",
    "test[\"tweet\"] = df['task description'].str.lower().str.split()\n",
    "\n",
    "from nltk.corpus import stopwords\n",
    "#stop = stopwords.words('english')"
   ]
  },
  {
   "cell_type": "code",
   "execution_count": 382,
   "metadata": {},
   "outputs": [
    {
     "data": {
      "text/plain": [
       "0       [liderar,, coordinar, y, apoyar, al, equipo, d...\n",
       "1                   [alimentar, registros, info, en, sap]\n",
       "2       [gestión, de, la, capacidad., actualizar, el, ...\n",
       "3       [reportar, situación, de, capacidad, a, cs, y,...\n",
       "4       [resources, planning, de, madera, y, traslado,...\n",
       "                              ...                        \n",
       "1249    [reuniones, equipo, (semanales,, kpi,, calidad...\n",
       "1250    [consultas/gestiones, varias, con, clientes, (...\n",
       "1251    [consultas/gestiones, varias, con, equipo, com...\n",
       "1252    [gestiones, varias, con, fabricas, y, resto, e...\n",
       "1253              [gestiones, con, impagos, de, clientes]\n",
       "Name: task description, Length: 1254, dtype: object"
      ]
     },
     "execution_count": 382,
     "metadata": {},
     "output_type": "execute_result"
    }
   ],
   "source": [
    "df['task description'].str.lower().str.split()\n",
    "    "
   ]
  },
  {
   "cell_type": "code",
   "execution_count": 379,
   "metadata": {},
   "outputs": [],
   "source": [
    "pos_tweets = [('I love this car', 'positive'),\n",
    "    ('This view is amazing', 'positive'),\n",
    "    ('I feel great this morning', 'positive'),\n",
    "    ('I am so excited about the concert', 'positive'),\n",
    "    ('He is my best friend', 'positive')]\n",
    "\n",
    "test = pd.DataFrame(pos_tweets)\n",
    "test.columns = [\"tweet\",\"class\"]\n",
    "test[\"tweet\"] = test[\"tweet\"].str.lower().str.split()\n",
    "\n",
    "from nltk.corpus import stopwords\n",
    "stop = stopwords.words('spanish')"
   ]
  },
  {
   "cell_type": "code",
   "execution_count": 380,
   "metadata": {
    "scrolled": true
   },
   "outputs": [
    {
     "data": {
      "text/plain": [
       "0                         [i, love, this, car]\n",
       "1                    [this, view, is, amazing]\n",
       "2              [i, feel, great, this, morning]\n",
       "3    [i, am, so, excited, about, the, concert]\n",
       "4                       [is, my, best, friend]\n",
       "Name: tweet, dtype: object"
      ]
     },
     "execution_count": 380,
     "metadata": {},
     "output_type": "execute_result"
    }
   ],
   "source": [
    "test['tweet'].apply(lambda x: [item for item in x if item not in stop])"
   ]
  },
  {
   "cell_type": "code",
   "execution_count": 383,
   "metadata": {
    "scrolled": true
   },
   "outputs": [
    {
     "data": {
      "text/plain": [
       "0       [L, i, d, r, r, ,,  , c, r, d, i, n, r,  ,  , ...\n",
       "1       [A, l, i, m, n, t, r,  , r, g, i, s, t, r, s, ...\n",
       "2       [G, s, t, i, ó, n,  , d,  , l,  , c, p, c, i, ...\n",
       "3       [R, p, r, t, r,  , s, i, t, u, c, i, ó, n,  , ...\n",
       "4       [R, s, u, r, c, s,  , P, l, n, n, i, n, g,  , ...\n",
       "                              ...                        \n",
       "1249    [R, u, n, i, n, s,  , q, u, i, p,  , (, S, m, ...\n",
       "1250    [C, n, s, u, l, t, s, /, G, s, t, i, n, s,  , ...\n",
       "1251    [C, n, s, u, l, t, s, /, G, s, t, i, n, s,  , ...\n",
       "1252    [G, s, t, i, n, s,  , v, r, i, s,  , c, n,  , ...\n",
       "1253    [G, s, t, i, n, s,  , c, n,  , i, m, p, g, s, ...\n",
       "Name: task description, Length: 1254, dtype: object"
      ]
     },
     "execution_count": 383,
     "metadata": {},
     "output_type": "execute_result"
    }
   ],
   "source": [
    "df['task description'].apply(lambda x: [item for item in x if item not in stop])"
   ]
  },
  {
   "cell_type": "code",
   "execution_count": 384,
   "metadata": {},
   "outputs": [
    {
     "data": {
      "text/plain": [
       "0       Liderar, coordinar y apoyar al equipo de Plani...\n",
       "1                         Alimentar registros info en SAP\n",
       "2       Gestión de la capacidad. Actualizar el plan pr...\n",
       "3       Reportar situación de capacidad a CS y comerci...\n",
       "4       Resources Planning de madera y traslado de nec...\n",
       "                              ...                        \n",
       "1249    Reuniones equipo (Semanales, KPI, calidad, Ser...\n",
       "1250    Consultas/Gestiones varias con clientes (mail,...\n",
       "1251    Consultas/Gestiones varias con equipo comercia...\n",
       "1252    Gestiones varias con fabricas y resto equipo (...\n",
       "1253                    Gestiones con impagos de clientes\n",
       "Name: task description, Length: 1254, dtype: object"
      ]
     },
     "execution_count": 384,
     "metadata": {},
     "output_type": "execute_result"
    }
   ],
   "source": [
    "df['task description']"
   ]
  },
  {
   "cell_type": "code",
   "execution_count": 390,
   "metadata": {},
   "outputs": [],
   "source": [
    "important_words2=[]\n",
    "\n",
    "for word2 in df['task description']:\n",
    "    if word2 not in stopwords.words('spanish'):\n",
    "        important_words2.append(word)"
   ]
  },
  {
   "cell_type": "code",
   "execution_count": 391,
   "metadata": {},
   "outputs": [
    {
     "data": {
      "text/plain": [
       "'Gestiones con impagos de clientes'"
      ]
     },
     "execution_count": 391,
     "metadata": {},
     "output_type": "execute_result"
    }
   ],
   "source": [
    "word2"
   ]
  },
  {
   "cell_type": "code",
   "execution_count": 395,
   "metadata": {},
   "outputs": [
    {
     "ename": "NameError",
     "evalue": "name 'iloc' is not defined",
     "output_type": "error",
     "traceback": [
      "\u001b[0;31m---------------------------------------------------------------------------\u001b[0m",
      "\u001b[0;31mNameError\u001b[0m                                 Traceback (most recent call last)",
      "\u001b[0;32m<ipython-input-395-502938f198bf>\u001b[0m in \u001b[0;36m<module>\u001b[0;34m\u001b[0m\n\u001b[1;32m      1\u001b[0m \u001b[0;32mfor\u001b[0m \u001b[0msentence\u001b[0m \u001b[0;32min\u001b[0m \u001b[0mimportant_words2\u001b[0m\u001b[0;34m:\u001b[0m\u001b[0;34m\u001b[0m\u001b[0;34m\u001b[0m\u001b[0m\n\u001b[0;32m----> 2\u001b[0;31m     \u001b[0msentence\u001b[0m\u001b[0;34m=\u001b[0m\u001b[0miloc\u001b[0m\u001b[0;34m[\u001b[0m\u001b[0mi\u001b[0m\u001b[0;34m,\u001b[0m \u001b[0mimportant_words2\u001b[0m\u001b[0;34m]\u001b[0m\u001b[0;34m\u001b[0m\u001b[0;34m\u001b[0m\u001b[0m\n\u001b[0m",
      "\u001b[0;31mNameError\u001b[0m: name 'iloc' is not defined"
     ]
    }
   ],
   "source": [
    "for sentence in important_words2:\n",
    "    sentence=iloc[i, important_words2]"
   ]
  },
  {
   "cell_type": "code",
   "execution_count": 369,
   "metadata": {},
   "outputs": [
    {
     "ename": "TypeError",
     "evalue": "'spacy.tokens.doc.Doc' object does not support item assignment",
     "output_type": "error",
     "traceback": [
      "\u001b[0;31m---------------------------------------------------------------------------\u001b[0m",
      "\u001b[0;31mTypeError\u001b[0m                                 Traceback (most recent call last)",
      "\u001b[0;32m<ipython-input-369-ac9f63576599>\u001b[0m in \u001b[0;36m<module>\u001b[0;34m\u001b[0m\n\u001b[1;32m      1\u001b[0m \u001b[0;31m# Exclude stopwords with Python's list comprehension and pandas.DataFrame.apply.\u001b[0m\u001b[0;34m\u001b[0m\u001b[0;34m\u001b[0m\u001b[0;34m\u001b[0m\u001b[0m\n\u001b[0;32m----> 2\u001b[0;31m \u001b[0mtest\u001b[0m\u001b[0;34m[\u001b[0m\u001b[0;34m'tweet_without_stopwords'\u001b[0m\u001b[0;34m]\u001b[0m \u001b[0;34m=\u001b[0m \u001b[0mdf\u001b[0m\u001b[0;34m[\u001b[0m\u001b[0;34m'task description'\u001b[0m\u001b[0;34m]\u001b[0m\u001b[0;34m.\u001b[0m\u001b[0mapply\u001b[0m\u001b[0;34m(\u001b[0m\u001b[0;32mlambda\u001b[0m \u001b[0mx\u001b[0m\u001b[0;34m:\u001b[0m \u001b[0;34m' '\u001b[0m\u001b[0;34m.\u001b[0m\u001b[0mjoin\u001b[0m\u001b[0;34m(\u001b[0m\u001b[0;34m[\u001b[0m\u001b[0mword\u001b[0m \u001b[0;32mfor\u001b[0m \u001b[0mword\u001b[0m \u001b[0;32min\u001b[0m \u001b[0mx\u001b[0m\u001b[0;34m.\u001b[0m\u001b[0msplit\u001b[0m\u001b[0;34m(\u001b[0m\u001b[0;34m)\u001b[0m \u001b[0;32mif\u001b[0m \u001b[0mword\u001b[0m \u001b[0;32mnot\u001b[0m \u001b[0;32min\u001b[0m \u001b[0;34m(\u001b[0m\u001b[0mstop\u001b[0m\u001b[0;34m)\u001b[0m\u001b[0;34m]\u001b[0m\u001b[0;34m)\u001b[0m\u001b[0;34m)\u001b[0m\u001b[0;34m\u001b[0m\u001b[0;34m\u001b[0m\u001b[0m\n\u001b[0m\u001b[1;32m      3\u001b[0m \u001b[0mprint\u001b[0m\u001b[0;34m(\u001b[0m\u001b[0mtest\u001b[0m\u001b[0;34m)\u001b[0m\u001b[0;34m\u001b[0m\u001b[0;34m\u001b[0m\u001b[0m\n",
      "\u001b[0;31mTypeError\u001b[0m: 'spacy.tokens.doc.Doc' object does not support item assignment"
     ]
    }
   ],
   "source": [
    "# Exclude stopwords with Python's list comprehension and pandas.DataFrame.apply.\n",
    "test['tweet_without_stopwords'] = df['task description'].apply(lambda x: ' '.join([word for word in x.split() if word not in (stop)]))\n",
    "print(test)"
   ]
  },
  {
   "cell_type": "code",
   "execution_count": null,
   "metadata": {},
   "outputs": [],
   "source": []
  },
  {
   "cell_type": "code",
   "execution_count": null,
   "metadata": {},
   "outputs": [],
   "source": []
  },
  {
   "cell_type": "code",
   "execution_count": null,
   "metadata": {},
   "outputs": [],
   "source": []
  },
  {
   "cell_type": "code",
   "execution_count": 325,
   "metadata": {},
   "outputs": [
    {
     "data": {
      "text/plain": [
       "Gestiones"
      ]
     },
     "execution_count": 325,
     "metadata": {},
     "output_type": "execute_result"
    }
   ],
   "source": [
    "actividad_test[0]"
   ]
  },
  {
   "cell_type": "code",
   "execution_count": 308,
   "metadata": {},
   "outputs": [
    {
     "data": {
      "text/plain": [
       "clientes"
      ]
     },
     "execution_count": 308,
     "metadata": {},
     "output_type": "execute_result"
    }
   ],
   "source": [
    "palabra"
   ]
  },
  {
   "cell_type": "code",
   "execution_count": null,
   "metadata": {},
   "outputs": [],
   "source": []
  },
  {
   "cell_type": "code",
   "execution_count": 293,
   "metadata": {},
   "outputs": [],
   "source": [
    "lista_palabras_2=[palabra.text.replace('\\n','') for palabra in actividad_test[:40]]"
   ]
  },
  {
   "cell_type": "code",
   "execution_count": 323,
   "metadata": {},
   "outputs": [
    {
     "data": {
      "text/plain": [
       "'i'"
      ]
     },
     "execution_count": 323,
     "metadata": {},
     "output_type": "execute_result"
    }
   ],
   "source": [
    "lista_de_palabras3[2]"
   ]
  },
  {
   "cell_type": "code",
   "execution_count": 321,
   "metadata": {},
   "outputs": [
    {
     "name": "stdout",
     "output_type": "stream",
     "text": [
      "[Gestiones, impagos, clientes]\n",
      "[Gestiones, impagos, clientes]\n",
      "[Gestiones, impagos, clientes]\n"
     ]
    }
   ],
   "source": [
    "lista_non_stop=[palabra for palabra in actividad_test if palabra.is_stop==False]\n",
    "for palabra in lista_non_stop:\n",
    "    print(lista_non_stop[:100])"
   ]
  },
  {
   "cell_type": "code",
   "execution_count": 258,
   "metadata": {},
   "outputs": [
    {
     "data": {
      "text/plain": [
       "0       testLiderar, coordinar y apoyar al equipo de P...\n",
       "1                     testAlimentar registros info en SAP\n",
       "2       testGestión de la capacidad. Actualizar el pla...\n",
       "3       testReportar situación de capacidad a CS y com...\n",
       "4       testResources Planning de madera y traslado de...\n",
       "                              ...                        \n",
       "1249    testReuniones equipo (Semanales, KPI, calidad,...\n",
       "1250    testConsultas/Gestiones varias con clientes (m...\n",
       "1251    testConsultas/Gestiones varias con equipo come...\n",
       "1252    testGestiones varias con fabricas y resto equi...\n",
       "1253                testGestiones con impagos de clientes\n",
       "Name: tokens, Length: 1254, dtype: object"
      ]
     },
     "execution_count": 258,
     "metadata": {},
     "output_type": "execute_result"
    }
   ],
   "source": [
    "df['tokens']"
   ]
  },
  {
   "cell_type": "code",
   "execution_count": null,
   "metadata": {},
   "outputs": [],
   "source": []
  },
  {
   "cell_type": "code",
   "execution_count": null,
   "metadata": {},
   "outputs": [],
   "source": []
  },
  {
   "cell_type": "code",
   "execution_count": null,
   "metadata": {},
   "outputs": [],
   "source": []
  },
  {
   "cell_type": "code",
   "execution_count": 201,
   "metadata": {},
   "outputs": [
    {
     "name": "stdout",
     "output_type": "stream",
     "text": [
      "Liderar, coordinar y apoyar al equipo de Planificación - Ingeniería de producto\n",
      "Alimentar registros info en SAP\n",
      "Gestión de la capacidad. Actualizar el plan productivo. Ajuste del plan productivo en función de demanda, calendario, niveles de stocks\n",
      "Reportar situación de capacidad a CS y comercial. Weekly report (WAS)\n",
      "Resources Planning de madera y traslado de necesidades a forestal. Previsiones, Programaciones semanales, urgencias, cambios de mix\n",
      "Suministro de fondos para chapa. Coordinación y actualización de sistemática inter-fábricas. Realimentación por programación interna + solicitud de compra\n",
      "Seguimiento y actualización de limitaciones productivas\n",
      "Seguimiento y ajuste de los desequilibrios del stock de chapa\n",
      "Liderar modificaciones de programación ya lanzada (Urgencias, desequilibrios, cortes de suministro abruptos)\n",
      "Planificación de la 1ª transformación. Turnos, corto/largo, medidas especiales, secuenciación, orientación de la clasificación. Tornos 0001, 0002\n",
      "Liderar y reportar el Ciclo de Gestión de Stock de Tablero\n",
      "Liderar y reportar el Ciclo de Gestión de Stock de Chapa de fabricación propia\n",
      "Reportar situación de Sales Stock and Production semanalmente\n",
      "Liderar y priorizar mejoras e incidencias con IT como Key User de Planificación e Ingeniería de Producto\n",
      "Liderar acciones que aseguren la sostenibilidad del mix desde Ingeniería de Producto (Cambio de estructuras por defecto, cambio de asignación de centro por defecto, reglas creación artículos, orientaciones a comercial) \n",
      "Altas de clientes y modificaciones (solicitudes de crédito incluido)\n",
      "Altas de artículos, actualización VD52 y modificaciones\n",
      "Alta de tarifas y modificaciones\n",
      "Recepción de pedidos, programación de pedidos y envio de confirmaciones (pedidos de fabricación y de stock-incluye comprobar stock) y Gestión de proformas\n",
      "Gestión de pedidos de muestras y Red-Orders\n",
      "Gestión de desbloqueo de pedidos (financieros, semanas, adelantos…)\n",
      "Coordinación y confirmación de fechas de entrega definitivas con logística y con cliente\n",
      "Gestión de anulación y modificaciones de pedidos\n",
      "Comprobar y asegurar reserva de cupos de clientes\n",
      "Envío de reports de pedidos y ventas a clientes/ comerciales\n",
      "Recepción, tramitación, resolución de las reclamaciones de los clientes. Gestión de abonos incluido\n",
      "Reuniones equipo (Semanales, KPI, calidad, Servings, mejoras, formaciones,)\n",
      "Consultas/Gestiones varias con clientes (mail, telefono,…)\n",
      "Consultas/Gestiones varias con equipo comercial (mail, telefono, …)\n",
      "Gestiones varias con fabricas y resto equipo ( retraso pedidos, dudas técnicas/de mercado,…)\n",
      "Gestiones con impagos de clientes\n",
      "Elaboración de facturas y envío a clientes\n",
      "Reuniones ( Eq. Logistica fábrica, eq logistica Grupo, coordinación fábrica, KPI's, servings…)\n",
      "Reuniones/ Visitas a agencias de transporte\n",
      "Gestiones diarias con otras áreas de la empresa para resolución de trabajo  (producción, CS, logistica HQ, calidad, planificación…)\n",
      "Resolución de consultas varias sobre aspectos logísticos a otras áreas  ( paletizaciones, consultas de stock, cargas,….)\n",
      "Realizar planificación semanal de cargas\n",
      "Hacer bookings de entrega con cliente\n",
      "Tarifas transporte (solicitar, actualizar, tablas)\n",
      "Solicitar camiones con transporeon\n",
      "Generar las ordenes de carga para darselas al personal de almacén\n",
      "Coordinar la carga con el carretillero\n",
      "Generar la documentación de transporte para facilitarsela al transportista (PL, CRM,…)\n",
      "Archivar pedidos / documentaciones\n",
      "Organizar recogidas de mercancias defectosas en cliente\n",
      "Visar facturas de transporte\n",
      "Facturaciones de tableros entre fábricas\n",
      "Gestión de almacenamiento/cargas y descargas en almacenes externos ( Silla, Logroño,…)\n",
      "Coordinación con Subcontratas (Hazera, El Nogal, …cualquiera que haya) para coordinación de entregas y expediciones\n",
      "Evaluación de proveedores de transporte\n",
      "Pasar ordenes de reposición de stock a planificación\n",
      "Captura y agregación de datos específicos relativos a su área de actuación\n",
      "Creación y mantenimiento de los datos maestros de producción: HR, LM, VF\n",
      "MRP y cálculo de necesidades de chapa de chopo\n",
      "Planificación y coordinación inter fábricas de la chapa impregnada\n",
      "Asignación de carga a centros\n",
      "Asignación de versiones de fabricación\n",
      "Asignación de composiciones por defecto y bloqueo de composiciones descontinuadas\n",
      "Creación y modificación unitaria y masiva de composiciones\n",
      "Planificación de Tornos 0001, 0005\n",
      "Planificación de Camiones de chapa origen 0003, 0005\n",
      "Planificación de trasvases de chapa\n",
      "Generación de informes de semana\n",
      "Creación y modificación de artículos y datos maestros de producción para el correcto funcionamiento del MRP\n",
      "Planificación de volumen de cargas de chapa para logística\n",
      "Apoyo administración auditoría y otras tareas\n",
      "Tratamiento del correo postal + mail factures\n",
      "Contabilización facturas\n",
      "Seguimiento cartera clientes/proveedores + reclamación de facturas\n",
      "Contabilización gastos personal\n",
      "Alimentar registros info en SAP\n",
      "Entradas camiones madera\n",
      "Cierre mensual Samazan compensar con plantas + Salitran + Liquidación intereses Grupo\n",
      "Cierre mensual Samazan amortizaciones, traspaso IVA diferido…\n",
      "Cierre mensual Samazan contabilización previsiones + cierre\n",
      "Meter en SAP inventario productos varios + verificar\n",
      "Production\n",
      "Atención teléfono \n",
      "Intrastat\n",
      "Seguimiento y poner al día contratos + digitalización documentos\n",
      "Reservas hoteles, coches…\n",
      "Ayuda archivo pagos madera semanal\n",
      "Seguimiento gastos personal\n",
      "Contabilizar bancos\n",
      "Archivo ppto de tesorería mensual\n",
      "Tesorería semanal + envío archivo a forestal\n",
      "Caja\n",
      "Capex\n",
      "Inventario madera parque\n",
      "Archivos de pagos mantenimiento\n",
      "Rellenar archivo biomasa para subvención + otros\n",
      "Altas de clientes y modificaciones (solicitudes de crédito incluido)\n",
      "Altas de artículos, actualización VD52 y modificaciones\n",
      "Alta de tarifas y modificaciones\n",
      "Recepción de pedidos, programación de pedidos y envio de confirmaciones (pedidos de fabricación y de stock-incluye comprobar stock) y Gestión de proformas\n",
      "Gestión de pedidos de muestras y Red-Orders\n",
      "Gestión de desbloqueo de pedidos (financieros, semanas, adelantos…)\n",
      "Coordinación y confirmación de fechas de entrega definitivas con logística y con cliente\n",
      "Gestión de anulación y modificaciones de pedidos\n",
      "Envío de reports de pedidos y ventas a clientes/ comerciales\n",
      "Recepción, tramitación, resolución de las reclamaciones de los clientes. Gestión de abonos incluido\n",
      "Reuniones equipo (Semanales, KPI, calidad, Servings, mejoras, formaciones,)\n",
      "Consultas/Gestiones varias con clientes (mail, telefono,…)\n",
      "Consultas/Gestiones varias con equipo comercial (mail, telefono, …)\n",
      "Gestiones varias con fabricas y resto equipo ( retraso pedidos, dudas técnicas/de mercado,…)\n",
      "Gestiones con impagos de clientes\n",
      "Alimentar regulación por cuotas y libros de pedido SAP\n",
      "Aprovisionamiento chapa no chopo\n",
      "Aprovisionamiento de chapa no chopo a las fábricas\n",
      "Asegurar cumplimiento legalidad madera\n",
      "Asesorar en la clasificacion de chapa\n",
      "Asesorar en la creación de articulos de chapa y componenetes\n",
      "Atención comerciales materias primas, nuevos proveedores\n",
      "Auditar chapa no chopo\n",
      "Avisar a comercial de cambios de calidad de chapa no chopo\n",
      "Avisar a comercial de retrasos en los pedidos\n",
      "Avisar a produccion de cambios de calidad de chapa no chopo\n",
      "Búsqueda datos compras. Cálculos de costes, seguimiento referencias, evolución stocks\n",
      "Busqueda proveedores\n",
      "Campaña obsequios navidad\n",
      "Ciclo de gestion con calidad\n",
      "Ciclo de gestion con dirección\n",
      "Ciclo de gestion con fábricas\n",
      "Ciclo de gestion con supply chain\n",
      "Auditorías\n",
      "Facturación Interco\n",
      "Revisión Facturación ventas Baños II\n",
      "Gestión movimientos almacén entre centros SAP\n",
      "Compra chapa no chopo\n",
      "Confirmación - Cierre Entregas Francia\n",
      "Control de los albaranes a la llegada de la mercancía, seguimiento y evolución de los precios\n",
      "Control de los albaranes a la llegada de la mercancía, seguimiento y evolución de los precios\n",
      "Controlar stock de seguridad de VVAA\n",
      "Visado facturas de venta\n",
      "Creación artículos No chapa\n",
      "Creación de artículos de compra (91) SAP\n",
      "Creación de artículos de compra (91) SAP\n",
      "Revisión Intercos durante el mes\n",
      "Reporte errores interco o procesos SAP\n",
      "Ajustes inventarios SAP-IMPLANTA\n",
      "Cálculo consumos exótica (Baños+Fuenmayor)\n",
      "Cálculo consumo resinas (Baños +Fuenmayor)\n",
      "Cálculo consumo barnizado y pintado Fuenmayor\n",
      "Cálculo Obsolescencia anual (Baños + Fuenmayor)\n",
      "Evolución Obsolescencia (Baños + Fuenmayor)\n",
      "Cálculo ventas semanal Baños\n",
      "Cálculo ventas mensuales a cliente y país Baños\n",
      "Atención telefónica\n",
      "Atención ventanilla\n",
      "Gestión correo\n",
      "Revisión inventario (ubicaciones \"raras\")\n",
      "Archivo\n",
      "Partes producción\n",
      "Preparación intercos cierre\n",
      "Realizar formación a terceros\n",
      "Carga y comprobación inventarios varios\n",
      "Gestión devoluciones SAP\n",
      "Formaciones\n",
      "Hacer tracking pedidos y actualizar datos en sistema\n",
      "Envío muestras tablero completo\n",
      "Envío muestras    \n",
      "Gestion dudas clientes relacionadas con la logística \n",
      "Tarifas marítimo (solicitar, actualizar, tablas)\n",
      "Gestionar incidencias marítimo (multas, paralizaciones en puerto, problemas en tránsito)\n",
      "Alta autorización despacho en AEAT\n",
      "Respuesta requerimientos de AEAT\n",
      "certificaciones aduaneras (REX, Export autorizado, RPA, etc)\n",
      "Documentación requerida por navieras, transitarias, agentes de aduanas, etc\n",
      "Tender anual - Negociación tarifas con agencias (terrestre y marítimo)\n",
      "Negociación tarifas puntuales o nuevos destinos / variaciones durante el año\n",
      "Negociación empresas mensajería\n",
      "Visitas de proveedores\n",
      "Visitas a navieras / transitarias / agentes de aduanas / puerto\n",
      "Incidencias que no requieran un transporte de retorno (éstos se hacen en las plantas)\n",
      "SAP - actualización y alta de nuevas tarifas transporte en alta cliente \n",
      "SAP - alta y actualización partidas arancelarias \n",
      "SAP - alta y mantenimiento proveedores transporte\n",
      "SAP - Revisar fechas expedición\n",
      "SAP - Key User\n",
      "Transporeon - Gestión y control (visar facturas, nuevas implementaciones, etc)\n",
      "Transporeon - Mantenimiento y alta de nuevos proveedores transporte\n",
      "Evaluación de proveedores de transporte\n",
      "Asistencia a otros departamentos (CS, Comercial, caidad..)\n",
      "Control de costes transporte\n",
      "Control expediciones\n",
      "Control volumen cargado por agencia.\n",
      "Control de incidencias con agencias de transporte\n",
      "Control agencias\n",
      "Cálculo previsión expedición\n",
      "Crear / actualizar tablas de paletizaciones/combinaciones.\n",
      "Encuestas coyuntura\n",
      "Revisión procesos logísticos / mejora contínua\n",
      "Cálculo variable gasoil\n",
      "Régimen Perfeccionamiento activo, control\n",
      "Negociacion nacional ampliación límite peso transporte forestal\n",
      "tráfico aéreo\n",
      "Coordinación equipo\n",
      "Elección partidas arancelarias\n",
      "USA - reporte semanal\n",
      "Presupuesto transporte\n",
      "Verificar calidad dato fechas para KPIS\n",
      "Almacenes - control servicio con empresas logísticas\n",
      "Almacenes externos - contratación\n",
      "Reunión Serving USA\n",
      "Otras reuniones\n",
      "Otros informes / análisis puntuales de agencias o clientes en concreto\n",
      "Envíos de mantenimiento / proyectos / cargas especiales\n",
      "Captura y agregación de datos específicos relativos a su área de actuación\n",
      "Pedidos de venta de chapa\n",
      "Stock de tablero activo y obsoleto\n",
      "Poner a sacar de stock la semana\n",
      "Revisión de semana y modificaciones semana\n",
      "Decidir con comercial sustituciones de chapa no chopo para USA\n",
      "Altas de productos sin VVAA tablero. Alta de artículos de chapa\n",
      "OFs de reposición. Planificación de productos B para VVAA, productos A no autónomos, y mecanización de las OFs\n",
      "Gestión RED ORDERS\n",
      "Coordinación con calidad y asignación de marcajes a productos A\n",
      "Introducción y modificación de artículos tipo A\n",
      "Actualización informes de producción bloque 1\n",
      "Generación Ofs y suministro tablero para MUESTRAS Marketing\n",
      "Revisión cierre anual con experto contable\n",
      "Auditoría\n",
      "Apoyo contabilización facturas\n",
      "Reuniones con otros responsables para dar datos, revisión facturas, proyectos de mejora\n",
      "Revisiones periódicas administración (facturas no recibidas, facturas no pagadas, errores…)\n",
      "Cierre del mes Cálculo costes nómina y contabilizarla Troyes + Samazan\n",
      "Cierre mensual Troyes\n",
      "Cierre mensual Samazan adecuar archivos excel para cierre mes\n",
      "Cierre mensual Samazan imprimir y sacar existencia madera en pie + aviso contro tickets\n",
      "Cierre mensual Samazan sacar y comprobar inventarios chapa\n",
      "Cierre mensual Samazan sacar ventas de chapa verde y seca y subproductos\n",
      "Cierre mensual Samazan comprobar previsiones forestal, logísitca, compras + envío pv forestal\n",
      "Briefing semanal\n",
      "5s oficinas\n",
      "Reuniones con equipo Administración\n",
      "Reunión seguimiento con Director fábrica\n",
      "Preparación datos para reunión seguimiento mensual Director fábrica\n",
      "Reaunión semanal Equipo Finanzas\n",
      "Cierre mensual Samazan, seguimiento personal + verificación datos ok\n",
      "Cierre mensual Samazan compensar con plantas + Salitran + Liquidación intereses Grupo\n",
      "Cierre mensual Samazan comprobar que no haya facturas registradas en prelimirar y contabilizarlas así como documentos contabilizados y ayuda en lo que no esté\n",
      "Cierre mensual Samazan análisis consumos\n",
      "Cierre mensual Samazan contabilización previsiones + cierre\n",
      "Cierre mensual Samazan completar archivos controlling madera\n",
      "Cierre mensual Samazan completar archivos controlling datos Industrial Meeting\n",
      "Cierre mensual Samazan completar archivos controlling charte Merci le Peuplier\n",
      "Cierre mensual Samazan completar archivos controlling datos parte social (salarios, primas, avances, anticipos)\n",
      "Cierre mensual Samazan completar archivos controlling corteza, consumibles..\n",
      "Tramitar partes/siniestros seguro\n",
      "Actualizar archivo renting vehículos\n",
      "Contabilizar bancos\n",
      "Pagos varios de reembolso de gastos a personal\n",
      "Desplazamiento a Francia\n",
      "Encuestas anuales\n",
      "Pago y control embargos\n",
      "Archivo de pagos semanal madera + revisión\n",
      "Revisión choperas de Gestfor a SAP\n",
      "Archivo ppto de tesorería mensual\n",
      "Control previsiones forestal + semanal de Arnaud\n",
      "Gestión avales bancarios compra madera\n",
      "Liquidar impuestos\n",
      "Presupuesto anual\n",
      "Formación equipo Administración\n",
      "Adecuar archivos\n",
      "Análisis ventas\n",
      "Análisis consumos y producciones\n",
      "Análisis personal\n",
      "Análisis madera\n",
      "Análisis consumibles\n",
      "Auditorías contables\n",
      "Cierre de mes\n",
      "Briefing semanales\n",
      "Weekly Core Team Meeting\n",
      "Weekly Finance Team Meeting \n",
      "Reuniones de seguimiento con personal Admon\n",
      "Reuniones de control otros departamentos\n",
      "Encuestas anuales INE\n",
      "Revisión tareas Samazan\n",
      "Estudios varios GGP: comprobaciones, análisis\n",
      "Tesorería: revisión semanal\n",
      "Inventarios físicos\n",
      "Revisión inmovilizado + amortización\n",
      "Presupuesto\n",
      "Estudios varios plantas\n",
      "Estudios costes varios\n",
      "Análisis y revisión de stoks\n",
      "CapEx: revisión mensual\n",
      "Envío resultados a plantas\n",
      "Clases de inglés\n",
      "Formación personal\n",
      "Revisión cuentas contables cierre\n",
      "HACER LA FACTURACIÓN DE SUBPRODUCTOS\n",
      "ACOGIDA TELEFÓNICA\n",
      "CORREGIR ALBARANES\n",
      "SALIDA CAMIONES MADERA\n",
      "HACER ALBARANES SALIDAS\n",
      "ENTRADA CAMIONES MADERA\n",
      "RECOGER/ARCHIVAR\n",
      "ATENCIÓN CORREO\n",
      "ACOGIDA FÁBRICA\n",
      "PROGRAMAR CAMIONES SUBPRODUCTOS\n",
      "HACER ALBARANES VENTAS DESDE CHOPERA\n",
      "SALIDA CAMIONES BIOMASA, ASTILLA\n",
      "ENTRADA CAMIONES BIOMASA, ASTILLA\n",
      "PONER AL DÍA FICHEROS\n",
      "Contabilizar facturas recibidas\n",
      "Comprobar m3/€ facturas grupo\n",
      "Preparar facturas remesa al Pago\n",
      "Volcar extractos Bancarios a SAP\n",
      "Compensar cobros/pagos Bancos\n",
      "Libro de caja en SAP (notas de gastos y pagos)\n",
      "Posición financiera quincenal y mensual bancos\n",
      "Crear proveedores/acreedores\n",
      "Liquidación retornos y venta de subp. Rulos\n",
      "Apoyo a Recepcion en vacaciones\n",
      "Contabilizar en SAP venta al por menor\n",
      "Definir nuevas especificaciones de compra de chapa no chopo con calidad\n",
      "Realización pedidos compra\n",
      "Organización Facturas y Valija - Dpt. Comercial (a lo largo del día)\n",
      "Recepción y reenvío de emails de facturas, pedidos comerciales, recursos humanos…                         (a lo largo del día) \n",
      "Elaboracion del Presupuesto\n",
      "Registro Partes de Astilla y Biomasa\n",
      "Recepción de llamadas y atención a Clientes y Proveedores\n",
      "Desarrollar nuevos productos con proveedores\n",
      "Recepción Correo Postal y Mensajería\n",
      "Registro Partes de Emplaste y Control total mensual\n",
      "Registro Documentación de Residuos\n",
      "Registro Control diario Rodillos/Foam/Resina\n",
      "Seguimiento Encuestas Organismos Públicos\n",
      "Registro Documentación trabajadores (Contratos, Nóminas..)\n",
      "Dotación EPI visitas y aviso RR.HH\n",
      "Control Plataforma Documentación - Entrada Trabajadores externos\n",
      "Recepción mercancías SAP (Baños II, Polígono Cantabria)\n",
      "Responder consultas varias (Baños, Francia, Valencia, Fuenmayor) sobre todo del módulo MM SAP\n",
      "Reunión de compras\n",
      "Revisión pedidos y visado facturas subcontrata Ojeda\n",
      "Seguimiento pedidos compra\n",
      "Visado facturas compra (Materias primas y transportre)\n",
      "Modelos 322 y 349/tarea cierre\n",
      "Asientos fin mes, amortizac. y preparar cierre\n",
      "Auditoría contable /y respuestas proveed./clientes\n",
      "Balances saldos y transacciones (salytrans GGP)\n",
      "PV cierre mes\n",
      "Verificar facturas INTERCO GRUPO\n",
      "Hacer facturas financieras GGP\n",
      "Clasificación previa facturas capex y mantenimiento\n",
      "Imprimir Bancos y Facturas INFOBAÑOS\n",
      "Contabilización Facturas recibidas\n",
      "Hacer facturas plantones vendidos\n",
      "Gastos viajes y cuadrar caja\n",
      "Envío facturas SII\n",
      "Control cobros facturas subproductos\n",
      "Gastos soportados e intereses grupo\n",
      "Contabilización nómina\n",
      "Creación Ord.Inv. y AF en curso\n",
      "Verificar saldo CTA GRUPO y traspaso a cta mutua\n",
      "Inventario Repuestos Mantenimiento\n",
      "Modelos 111/115 y resumenes anuales\n",
      "Modelo 347 / verificación con proveedores/clientes\n",
      "Contabilización Bancos\n",
      "Elaboración pagarés, remesas TR, TI y recibos\n",
      "Pago Seguros Sociales\n",
      "Previsiones Tesorería días 10 y 25 \n",
      "Presupuesto tesorería\n",
      "Control partidas proveedores\n",
      "Apoyo Fuenmayor, Baños 2, Bancos (pagarés,avales…)\n",
      "Intrastat\n",
      "Encuestas\n",
      "Otros temas, madera, siniestros, imprevistos\n",
      "Captura y agregación de datos específicos relativos a su área de actuación \n",
      "Gestión de la demanda. Cupos comerciales y Limitaciones productivas. Gestión cuenta solicitudsemana@garnica.one \n",
      "Planificación de los pedidos de VVAA. OFs, poner a sacar de stock productos B en estructura, gestión capacidad líneas PUR y PF \n",
      "Altas de productos sin VVAA tablero y CON VVAA. Alta de artículos de chapa \n",
      "Comité de Minor Modification. Coordinación con marketing, calidad, Customer Service, comercial, producción de preseries \n",
      "Establecer procesos eficientes para la creación de artículos \n",
      "Coordinar los procesos interdepartamentales implicados en la creación de artículos \n",
      "Agilizar los procesos de Alta de artículos \n",
      "Diseñar junto con IT las herramientas necesarias que permitan la gestión proactiva de las bases de datos de artículos y el maestro de materiales \n",
      "Actualización de informes de producción bloque 2 \n",
      "Acta articulador de producción \n",
      "Mantenimiento documentación carpeta compartida\n",
      "Hacer documentación necesaria para las exportaciones marítimas (P&P, ISF, Certificados..)\n",
      "Enviar P&P a Transped\n",
      "Rellenar datos BL \n",
      "Hacer facturas \"falsas\" (facturas manuales para poder despachar)\n",
      "Hacer tracking pedidos y actualizar datos en sistema\n",
      "Financiero: informe mensual pedidos en tránsito\n",
      "Preparar cargas\n",
      "Pedir camiones/contenedores Transporeon\n",
      "Enviar email cargas a plantas/transitario/Olave\n",
      "Enviar shipping schedule a cliente/comercial USA Y NO USA\n",
      "Enviar documentación a cliente (P&P, ISF…)\n",
      "Enviar docs clientes \n",
      "Certificado origen/ATR\n",
      "Organizar pedidos stock\n",
      "Envío muestras tablero completo\n",
      "Envío muestras    \n",
      "Archivar pedidos / documentaciones\n",
      "Gestion dudas clientes relacionadas con la logística \n",
      "Avisar a Silla de notas de pedido\n",
      "Tarifas marítimo (solicitar, actualizar, tablas)\n",
      "Organizar pedidos exworks (e.g. Jurgens)\n",
      "Gestionar reclamaciones marítimo\n",
      "Revisar email cargas almacén Silla\n",
      "Evaluación de proveedores de transporte\n",
      "Asistencia a otros departamentos (CS, Comercial, caidad..)\n",
      "tráfico aéreo\n",
      "Otras reuniones\n",
      "Análisis trabajos puntuales Carlos\n",
      "Elaboración CAPEX mensual\n",
      "Clases de ingles\n",
      "Modelos y transacciones SAP\n",
      "Partidas abiertas: 465,555, 4009 y 4109 (MR11)\n",
      "Registro mercantil/cuentas anuales\n",
      "Reuniones ( Eq. Logistica fábrica, eq logistica Grupo, coordinación fábrica, KPI's, servings…)\n",
      "Informes (preparación de informes varios, elaborar KPIs de fabrica, de departamento,…)\n",
      "Gestiones diarias con otras áreas de la empresa para resolución de trabajo  (producción, CS, logistica HQ, calidad, planificación…)\n",
      "Coordinar trabajo de compañeros ( Personal administrativo haciendo funciones logísticas, carretilleros,…)\n",
      "Resolución de consultas varias sobre aspectos logísticos a otras áreas  ( paletizaciones, consultas de stock, cargas,….)\n",
      "Meter fechas fin de fabricación de pedidos en SAP\n",
      "Realizar planificación semanal de cargas\n",
      "Indicar fecha prevista de carga de mercancia /expedidión en SAP para informar a CS\n",
      "Confirmar y coordinar las entregas con CS\n",
      "Optimizar la carga de los camiones/contenedores\n",
      "Pedir cotización a agencias por transporeon para grupajes\n",
      "Pedir cotización a agencias por transporeon para servicios extra\n",
      "Solicitar camiones con transporeon\n",
      "Generar las ordenes de carga para darselas al personal de almacén\n",
      "Recibir a transportista en fábrica\n",
      "Coordinar la carga con el carretillero\n",
      "Generar la documentación de transporte para facilitarsela al transportista (PL, CRM,…)\n",
      "Confirmar/Cerrar la expedición\n",
      "Archivar pedidos / documentaciones\n",
      "Gestión de incidencias durante el transporte\n",
      "Organizar recogidas de mercancias defectosas en cliente\n",
      "Visar facturas de transporte\n",
      "Revisión diaria que se generana bien las facturas de Cliente para la compensación a final de mes\n",
      "Gestión de almacenamiento/cargas y descargas en almacenes externos ( Silla, Logroño,…)\n",
      "Cierre mensual tablero y auxiliares: ajustes, impresión/excel, comprobaciones SGA/SAP\n",
      "Elaboración KPI ciclo gestión\n",
      "Elaboración KPI cumpliminento prespuesto compras químicos\n",
      "Elaboración presupuesto\n",
      "Elaborar KPI de cumplimiento presupuesto chapa\n",
      "Entrada de mercancías de las compras de materias primas y consumibles\n",
      "Envio docuementación marítimo a agente de aduanas\n",
      "Revisar y ajustar producción Hazera\n",
      "Revisar y corregir producción tablero GPV\n",
      "Informes de produccion (otros dptos): Calidad, Auditorías, Producción\n",
      "Regularizaciones inventario: cambios ref, cantidades, repaletizaciones (carretilleros)\n",
      "Revisar inventarios intermedios, sierras y Hazera ajustes \n",
      "Envio y seguimiento de reclamaciones a proveedores\n",
      "Formación: inglés\n",
      "Reuniones ( Eq. Logistica fábrica, eq logistica Grupo, coordinación fábrica, KPI's, servings…)\n",
      "Informes (preparación de informes varios, elaborar KPIs de fabrica, de departamento,…)\n",
      "Gestiones diarias con otras áreas de la empresa para resolución de trabajo  (producción, CS, logistica HQ, calidad, planificación…)\n",
      "Coordinar trabajo de compañeros ( Personal administrativo haciendo funciones logísticas, carretilleros,…)\n",
      "Resolución de consultas varias sobre aspectos logísticos a otras áreas  ( paletizaciones, consultas de stock, cargas,….)\n",
      "Meter fechas fin de fabricación de pedidos en SAP\n",
      "Realizar planificación semanal de cargas\n",
      "Indicar fecha prevista de carga de mercancia /expedidión en SAP para informar a CS\n",
      "Confirmar y coordinar las entregas con CS\n",
      "Optimizar la carga de los camiones/contenedores\n",
      "Pedir cotización a agencias por transporeon para grupajes\n",
      "Pedir cotización a agencias por transporeon para servicios extra\n",
      "Solicitar camiones con transporeon\n",
      "Generar las ordenes de carga para darselas al personal de almacén\n",
      "Coordinar la carga con el carretillero\n",
      "Generar la documentación de transporte para facilitarsela al transportista (PL, CRM,…)\n",
      "Confirmar/Cerrar la expedición\n",
      "Archivar pedidos / documentaciones\n",
      "Gestión de incidencias durante el transporte\n",
      "Organizar recogidas de mercancias defectosas en cliente\n",
      "Visar facturas de transporte\n",
      "Revisión diaria que se generana bien las facturas de Cliente para la compensación a final de mes\n",
      "Gestión de almacenamiento/cargas y descargas en almacenes externos ( Silla, Logroño,…)\n",
      "Coordinación con Subcontratas (Hazera, El Nogal, …cualquiera que haya) para coordinación de entregas y expediciones\n",
      "Coordinación con Subcontratas para dar indicaciones del trabajo que deben realizar sobre el tablero\n",
      "Revisión niveles de inventario referencias A\n",
      "Coordinación y preparación pedidos de stock (referencias A)\n",
      "Evaluación de proveedores de transporte\n",
      "Almacenes - control servicio con empresas logísticas\n",
      "Pasar ordenes de reposición de stock a planificación\n",
      "Coordinar la venta y expedición de subproductos con clientes y departamento forestal\n",
      "Revisión de los pedidos pasados a planta semana y stock\n",
      "Inventarios fisicos en almacenes - final de año u otros periodos.\n",
      "Coordinación con Subcontratas (Hazera, El Nogal, …cualquiera que haya) para coordinación de entregas y expediciones\n",
      "Partes de producción: revisar-editar \n",
      "otras\n",
      "Tareas de mejora continua\n",
      "Informes: generar-cotejar datos-enviar\n",
      "Auditorías de calidad\n",
      "Ventas: calculo semanal- mensual\n",
      "Primas: cálculo y revisión\n",
      "Resolucion de averias puntuales y actualizacion de equipos y nuevas instalaciones.\n",
      "Certificado PEFC y FSC\n",
      "Gasoil cuadro de gasto por vehiculo\n",
      "Gestión de los inventarios - Inventarios físicos mensuales, en los cuales, con la colaboración del personal de fábrica se lleva a cabo una visita a las distintas partes de la fábrica donde se encuentra el material – existencias depositadas\n",
      "Generación etiquetas SGA\n",
      "Análisis de las desviaciones positivas y negativas respecto al ppto.\n",
      "Generación etiquetas SGA\n",
      "Colaboración con los auditores para la realización de la auditoria de cierre de ejercicio\n",
      "Generación y envío de pedidos de subcontrata\n",
      "Elaboración elaboración de encuestas (Eustat - Bakegur, Sogesa - Etc..)\n",
      "Inventarios y cierres de mes de materias primas y subproductos .\n",
      "Generar contratos compra importación en SAP\n",
      "Audit process,e IFRS, LUX\n",
      "Archivo de documentación escaneda y física. \n",
      "Meetings y reuniones\n",
      "Creacción de proveedores en BP\n",
      "Upload Consolidation\n",
      "Seguimiento CAPEX\n",
      "Trámites, incidencias  y negociaciones con Seguros\n",
      "Soporte , dar respuesta a peticiones  de otros departamentos y de plantas.\n",
      "Legal y Mercantil ( Abogados, Registradores y Notarios )\n",
      "Comunicaciones  con LUX  y requerimientos Maples\n",
      "Intercompany\n",
      "Reporting \n",
      "Contabilización Proveedores, Acreedores y Provisiones \n",
      "Impuesto IS , pagos a cuenta, Transfer Prices\n",
      "Presupuestos \n",
      "Recepción Correo postal , reparto y autorización de facturas\n",
      "Trámites de Subvenciones \n",
      "Análisis Ajuste de existencias\n",
      "Industrial meeting, Minor modification Comitee,NPD…\n",
      "Cuadre valoración de stocks\n",
      "Bridge, Indicadores RRHH, PMO Costes,…\n",
      "Articulos Minor modification Comitee\n",
      "Articulos DNP Pipeline\n",
      "Peticiones comerciales\n",
      "Grabar cálculo de coste\n",
      "Análisis y fiabilización de márgenes\n",
      "Actualización tarifas y liberación Product Costing\n",
      "Actualización Material ledger \"Comprado\"\n",
      "Nuevas secciones, procesos y materiales\n",
      "Incidencias y correción de parámetros existentes\n",
      "Analisis de Ordenes de Fabricación\n",
      "Liquidación y liberación ML \"Fabricado\"\n",
      "Analisis y Reporting\n",
      "CARTAS PROVEEDORES\n",
      "DESCARGAR DIARIOS PARA AUDITORES\n",
      "CARTAS CLIENTES TOP10\n",
      "CARTAS FRAS CLIENTES\n",
      "NOTAS DE GASTOS\n",
      "CREDITOS DOCUMENTARIOS\n",
      "AYUDAR A JORGE  EXCELL/POWER….\n",
      "DESCANSO\n",
      "FACTURAS Y COBROS\n",
      "EXTRACTOS BANCARIOS Y T/C\n",
      "COMPROBAR SALDOS BANCOS\n",
      "POSICION BANCOS\n",
      "ARCHIVAR EXTRACTOS BANCOS Y DOC.\n",
      "IMPUESTOS 322  Y  353\n",
      "RECIBOS CLIENTES (REMESA)\n",
      "VISAS\n",
      "ENVIAR SII AEAT\n",
      "FRAS COMISIONISTAS\n",
      "CONTABILIZAR BANCOS\n",
      "TICKELIA\n",
      "PLANTILALA PREVISION PARA LAS PLANTAS\n",
      "FACTURACION\n",
      "BANCOS\n",
      "Colaboración con los auditores para la realización de la auditoria de cierre de ejercicio\n",
      "Relación con los diferentes departamentos de la fábrica para gestionar más eficientemente los costes. Para ello se tiene una estrecha relación con los mismos para obtener su visto bueno en las facturas que recepcionamos\n",
      "Reuniones semanales comité Llodio\n",
      "Reunión Planificación tareas Equipo\n",
      "Control de costes – valoración de las existencias. Una vez finalizado la contabilización de las diferentes partidas se lleva a cabo una nueva valoración de las existencias a la fecha de cierre en la que nos encontremos, el objetivo no es otro que actualizar nuestras existencias a los costes\n",
      "Respecto a las partidas correspondientes a las materias primas, madera, colas, papel fenólico, y otras que necesitan un mayor control por su peso en la cuenta de explotación. Se lleva un control más estricto tanto en las entradas como en sus consumos\n",
      "Control documental y valoración de los repuestos\n",
      "SGA y demás herramientas informáticas implantadas en Grupo\n",
      "Elaboración y control en la elaboración de encuestas (Eustat - INE - Etc..)\n",
      "Capex – análisis de las acciones mensuales con criterio de inversión en lugar de gasto\n",
      "Soporte para el resto de departamentos\n",
      "Planificación de las cuentas a cobrar y cuantas a pagar\n",
      "Gestión de los inventarios - Inventarios físicos mensuales, en los cuales, con la colaboración del personal de fábrica se lleva a cabo una visita a las distintas partes de la fábrica donde se encuentra el material – existencias depositadas\n",
      "Generar contratos compra importación en SAP\n",
      "Gestión y control de la tesorería, de los cobros y los pagos - Cuatrimestral\n",
      "Gestión del disponible - circulante. Valorando la posibilidad de anticipar recursos\n",
      "Dentro de la función de control de los pagos, está la comunicación a Customer Service de los retrasos en los pagos\n",
      "Finalizada la contabilización de los movimientos mensuales se lleva a cabo un análisis de todas las partidas que forman la cuenta de explotación con su comparativa con el presupuesto\n",
      "Análisis de las desviaciones positivas y negativas respecto al ppto.\n",
      "Traslado al responsable de fábrica de las desviacciones en el P&L\n",
      "Análisis, elaboración y control de la parte correspondiente a la estructura de gastos del presupuesto anual.\n",
      "Control de las operaciones – Interco\n",
      "Reporting mensuales\n",
      "Coste de Personal por Secciones\n",
      "Indicadores de Rendimiento\n",
      "Altas de clientes y modificaciones (solicitudes de crédito incluido)\n",
      "Altas de artículos, actualización VD52 y modificaciones\n",
      "Alta de tarifas y modificaciones\n",
      "Recepción de pedidos, programación de pedidos y envio de confirmaciones (pedidos de fabricación y de stock-incluye comprobar stock) y Gestión de proformas\n",
      "Gestión de pedidos de muestras y Red-Orders\n",
      "Gestión de desbloqueo de pedidos (financieros, semanas, adelantos…)\n",
      "Coordinación y confirmación de fechas de entrega definitivas con logística y con cliente\n",
      "Gestión de anulación y modificaciones de pedidos\n",
      "Comprobar y asegurar reserva de cupos de clientes\n",
      "Envío de reports de pedidos y ventas a clientes/ comerciales\n",
      "Recepción, tramitación, resolución de las reclamaciones de los clientes. Gestión de abonos incluido\n",
      "Reuniones equipo (Semanales, KPI, calidad, Servings, mejoras, formaciones,)\n",
      "Consultas/Gestiones varias con clientes (mail, telefono,…)\n",
      "Consultas/Gestiones varias con equipo comercial (mail, telefono, …)\n",
      "Gestiones varias con fabricas y resto equipo ( retraso pedidos, dudas técnicas/de mercado,…)\n",
      "Gestiones con impagos de clientes\n",
      "Mails: lectura y envíos  ( Buzón de facturas recibidas)\n",
      "Registro de entrada de Facturas y mecanizacion (Excel)\n",
      "Escanear documentacion Facturas\n",
      "Control Facturas Renting Vehiculos\n",
      "Archivar facturas y notas de gastos\n",
      "Expedicciones (Sustitucion compañeras, y Vacaciones)\n",
      "Generar pedido agrupado de compra de chapa en SAP\n",
      "Ensobrar y revisar remesas pagarés\n",
      "Atención al público: mensajeros, personas entrevistas, visitas …\n",
      "Atención telefónica: recepción y emisión de llamadas\n",
      "Solicitar/anular tarjetas Solred\n",
      "Reservar hoteles, coches …\n",
      "Control Gasto Repografía\n",
      "Impresion partes de producción en blanco\n",
      "Correspondencia (emision y recogida)\n",
      "Formación: Inglés \n",
      "Generar pedido agrupado de compra de chapa en SAP\n",
      "Generar pedido por líneas  de compra en SAP\n",
      "Generar pedido por líneas  de compra en SAP\n",
      "Gestión de albaranes de compra\n",
      "Coordinación con Subcontratas para dar indicaciones del trabajo que deben realizar sobre el tablero\n",
      "Coordinación y preparación pedidos de stock (referencias A)\n",
      "Almacenes - control servicio con empresas logísticas\n",
      "Inventarios fisicos en almacenes - final de año u otros periodos.\n",
      "Revisión de los pedidos pasados a planta semana y stock\n",
      "Datos gas - gasoleo\n",
      "Depósitos gas-gasoleo\n",
      "Atención telefónica\n",
      "Atención ventanilla\n",
      "Gestion equipo compras(evaluación, bonus, temas personales)\n",
      "Partes de producción: revisar-editar \n",
      "Gestionar cambio de calidades de chapa no chopo con comercial\n",
      "Informes: generar-cotejar datos-enviar\n",
      "Test Fondo de Comercio\n",
      "Test Marca\n",
      "Test Deterioro participación Francia\n",
      "Coordinación Reporting\n",
      "Análisis reporting (madera, CF, WC,Bridges,  etc)\n",
      "Analisis cierres mensuales\n",
      "Valuation Model\n",
      "Analisis especificos no recurrentes \n",
      "Valoración de existencias\n",
      "Conciliaciones respuestas bancos\n",
      "Analisis Cirbe\n",
      "Confección Presupuesto\n",
      "Cash Flow mensual\n",
      "Proyecciones financieras (modelos, BCG, etc)\n",
      "Transferencias\n",
      "revisión previsión tesorería\n",
      "Pagos días 10 y 25\n",
      "Relaciones con Bancos\n",
      "Gestión de la Caja física\n",
      "Commercial Meeting\n",
      "Forestal Meeting\n",
      "Industrial Meeting\n",
      "SSP\n",
      "Weekly call Finanzas\n",
      "Metrics para ICG\n",
      "Margenes Estandar\n",
      "Pagarés avalados/creditos documentarios\n",
      "Gestión Dolares (Coberturas/Traspasos)\n",
      "Detalle ventas en tránsito para logística\n",
      "Gestión del equipo\n",
      "Presentación modelo 111 y 115\n",
      "Contacto con Proveedores (Commonwealth)\n",
      "Nóminas preparación para contabilización \n",
      "Nóminas Pago\n",
      "Envío cartas circularización Auditoria 2019\n",
      "Archivo de la documentación varia\n",
      "Envío de Facturas SII\n",
      "Entrega y recogida de documentación en sucursales (Llodio)\n",
      "Entrega y recogida de todo tipo de correspondencia - Se dispone de buzón en Correos de la Localidad\n",
      "Acceso mediante internet a las cuentas de bancos, descarga de documentos de movimientos y extractos\n",
      "Comprobación, conciliación, seguimiento y archivo de los cargos con las cuentas de proveedores y de los abonos con las cuentas de clientes.\n",
      "Ingresos de Pagarés a través de la página web \n",
      "Confección y envío de Remesas\n",
      "Posibilidad de realizar transferencias – traspasos previamente planificados ante la ausencia del responsable del departamento\n",
      "Gestión del certificado FNMT - Solicitud y recepción de Certificados de estar al corriente tanto con la Seguridad Social, Diputación Foral de Álava y Agencia Tributaria\n",
      "Gestión Certificado IZENPE -Confección y envío con la Diputación de todos los impuestos; IVA, IRPF, Modelo 349, …\n",
      "Pasarela de pagos con la Administración; pago de Canon del Agua, multas….\n",
      "Programa SAGE (Contabilidad) - Contabilización y seguimiento de la gestión de cobros y pagos\n",
      "Cuentas de bancos, préstamos\n",
      "Programa SGA - Producción - Introducción - seguimiento y control de los partes de producción\n",
      "Preparación para entrega de documentacion a los trabajadores, nóminas, 10T\n",
      "Revisión fichero de nóminas\n",
      "Intercompany: revisión compras-ventas\n",
      "Auditorías de calidad\n",
      "Ventas: calculo semanal- mensual\n",
      "Primas: cálculo y revisión\n",
      "Archivar documentación\n",
      "Incidencias con Sga\n",
      "Pedidos de compra: dar entrada\n",
      "Pedidos de compra: generar pedido\n",
      "Pedidos de compra: seguimiento pedido\n",
      "Reunión compras\n",
      "Visado de facturas\n",
      "Control facturación para cierre\n",
      "Revisión Of de Sierras (para facturación)\n",
      "Revisión errores facturación (pool)\n",
      "Gestionar cambio de calidades de chapa no chopo con planificación\n",
      "Gestionar cambio de calidades de chapa no chopo con producción plantas\n",
      "Gestionar cambio de composiciones de chapa no chopo con planificacion\n",
      "Gestionar la demanda. Asignación de semana a solicitud de CS. Ajuste de capacidad. Urgencias. Reserva para reposición de stock\n",
      "Gestionar obsoletos chapa no chopo\n",
      "Gestionar y negociar reclamaciones\n",
      "Gestionar y negociar subcontratas corte y clasificado de chapa no chopo\n",
      "Monitorizar cumplimiento presupuesto chapa y químicos\n",
      "Visado facturas transporte\n",
      "Incidencias compras chapa y tablero: Llodio, comprobar pedidos SAP pº, art. , cantidad …\n",
      "Incidencias recepciones materias primas\n",
      "Informar costes materiales comprados a petición de otros dptos.\n",
      "Atención telefónica (gestión cargas/ expedición)\n",
      "Monitorizar cumplimiento de volumen acoradado de compra de chaA\n",
      "Monitorizar nivles stock chapa\n",
      "Negociación ropa laboral\n",
      "Negociacion, optencion de informacion proveedores.\n",
      "Negociar condiciones proveedores\n",
      "Pedido Agua Oficina y Reposición\n",
      "Pedido de compras fábrica\n",
      "Pedido de compras fábrica, material de oficina\n",
      "pedido material de oficina\n",
      "Pedidos compra de materias primas y consumibles para producción\n",
      "Pedidos compra materias primas: elaboración y envío a proveedor\n",
      "Pedidos de compra con origen Llodio\n",
      "Pedidos de compra con origen Llodio\n",
      "Documentación camiones expedición\n",
      "Revisión intercos (cambios almacén expedición)\n",
      "Reprocesados (control envíos)\n",
      "Pedidos de subcontrata\n",
      "Pedidos material limpieza\n",
      "Pedir a proveedores cotizaciones puntuales de chapa no chopo\n",
      "Pedir camiones en trasnporeon para envios chapa no chopo\n",
      "Auditorías de calidad\n",
      "Archivo documentaciones\n",
      "Atención ventanilla (recepcion)\n",
      "Recibir visitas de proveedores\n",
      "Petición camiones Transporeon\n",
      "Reparto cuotas proveedores\n",
      "Reporting semanal\n",
      "Altas de clientes y modificaciones (solicitudes de crédito incluido)\n",
      "Altas de artículos, actualización VD52 y modificaciones\n",
      "Alta de tarifas y modificaciones\n",
      "Recepción de pedidos, programación de pedidos y envio de confirmaciones (pedidos de fabricación y de stock-incluye comprobar stock) y Gestión de proformas\n",
      "Gestión de pedidos de muestras y Red-Orders\n",
      "Gestión de desbloqueo de pedidos (financieros, semanas, adelantos…)\n",
      "Coordinación y confirmación de fechas de entrega definitivas con logística y con cliente\n",
      "Gestión de anulación y modificaciones de pedidos\n",
      "Comprobar y asegurar reserva de cupos de clientes\n",
      "Envío de reports de pedidos y ventas a clientes/ comerciales\n",
      "Recepción, tramitación, resolución de las reclamaciones de los clientes. Gestión de abonos incluido\n",
      "Reuniones equipo (Semanales, KPI, calidad, Servings, mejoras, formaciones,)\n",
      "Consultas/Gestiones varias con clientes (mail, telefono,…)\n",
      "Consultas/Gestiones varias con equipo comercial (mail, telefono, …)\n",
      "Gestiones varias con fabricas y resto equipo ( retraso pedidos, dudas técnicas/de mercado,…)\n",
      "Gestiones con impagos de clientes\n",
      "Elaborar las facturas intercompany (intercos)\n",
      "Resolver dudas SAP modulo MM\n",
      "Respecto a las partidas correspondientes a las materias primas, madera, colas, papel fenólico, y otras que necesitan un mayor control por su peso en la cuenta de explotación. Se lleva un control más estricto tanto en las entradas como en sus consumos.\n",
      "Responder a petición de precios de compra provinientes de varios departamentos\n",
      "Revisión cargas diarias Herramienta \n",
      "Ordenar los CMRs y revisar que los traspasos se suban bien\n",
      "Elaboración de inventario de materias primas\n",
      "Imprimir partes informáticos y cotejar las producciones con los partes manuales\n",
      "Introducir horas de parada, avería y cantidad de defectivo en el sistema\n",
      "Cotejar consumos vs producciones y tratar de solucionar las faltas de consumo\n",
      "Comprobar todas las etiquetas consumidas por los operarios y consumir las que den error\n",
      "Elaborar los 4 informes de primas y comprobar que no tengan fallos\n",
      "Atención a las visitas/camioneros/Sarracín\n",
      "Clases de inglés\n",
      "Altas de clientes y modificaciones (solicitudes de crédito incluido)\n",
      "Altas de artículos, actualización VD52 y modificaciones\n",
      "Alta de tarifas y modificaciones\n",
      "Recepción de pedidos, programación de pedidos y envio de confirmaciones (pedidos de fabricación y de stock-incluye comprobar stock) y Gestión de proformas\n",
      "Gestión de pedidos de muestras y Red-Orders\n",
      "Gestión de desbloqueo de pedidos (financieros, semanas, adelantos…)\n",
      "Coordinación y confirmación de fechas de entrega definitivas con logística y con cliente\n",
      "Gestión de anulación y modificaciones de pedidos\n",
      "Comprobar y asegurar reserva de cupos de clientes\n",
      "Envío de reports de pedidos y ventas a clientes/ comerciales\n",
      "Recepción, tramitación, resolución de las reclamaciones de los clientes. Gestión de abonos incluido\n",
      "Reuniones equipo (Semanales, KPI, calidad, Servings, mejoras, formaciones,)\n",
      "Consultas/Gestiones varias con clientes (mail, telefono,…)\n",
      "Consultas/Gestiones varias con equipo comercial (mail, telefono, …)\n",
      "Gestiones varias con fabricas y resto equipo ( retraso pedidos, dudas técnicas/de mercado,…)\n",
      "Altas de clientes y modificaciones (solicitudes de crédito incluido)\n",
      "Altas de artículos, actualización VD52 y modificaciones\n",
      "Alta de tarifas y modificaciones\n",
      "Recepción de pedidos, programación de pedidos y envio de confirmaciones (pedidos de fabricación y de stock-incluye comprobar stock) y Gestión de proformas\n",
      "Gestión de pedidos de muestras y Red-Orders\n",
      "Gestión de desbloqueo de pedidos (financieros, semanas, adelantos…)\n",
      "Coordinación y confirmación de fechas de entrega definitivas con logística y con cliente\n",
      "Gestión de anulación y modificaciones de pedidos\n",
      "Comprobar y asegurar reserva de cupos de clientes\n",
      "Envío de reports de pedidos y ventas a clientes/ comerciales\n",
      "Recepción, tramitación, resolución de las reclamaciones de los clientes. Gestión de abonos incluido\n",
      "Reuniones equipo (Semanales, KPI, calidad, Servings, mejoras, formaciones,)\n",
      "Consultas/Gestiones varias con clientes (mail, telefono,…)\n",
      "Consultas/Gestiones varias con equipo comercial (mail, telefono, …)\n",
      "Gestiones varias con fabricas y resto equipo ( retraso pedidos, dudas técnicas/de mercado,…)\n",
      "Gestiones con impagos de clientes\n",
      "Analitica de Costes - Costes de ventas y Gast Explot.\n",
      "Contabilidad Financiera - Resto mes - No Cierre\n",
      "Revision de Facturacion Mensual intercompany\n",
      "Revision de Facturacion Mensual Externos\n",
      "Reunion de Responsables - Briefing Semanal\n",
      "Reuniones con el Equipo\n",
      "Conciliacion Bancaria - Mayor- Clientes- Proveedores\n",
      "Extraccion de inventarios fdm cuadre y tratamiento coste\n",
      "Prevision de Tesoreria Cuatrimestral\n",
      "Impuestos - IVA- IRPF - 349\n",
      "Pago a Proveedores \n",
      "Remesas al Cobro de Clientes\n",
      "Control de Cartera Pendiente al cobro\n",
      "Seguimiento Semanal de Ventas  e Informe\n",
      "Reuniones otros Departamentos \n",
      "Reuniones con Direccion Planta\n",
      "Retraso pagos diciembre\n",
      "Renovacion de Polizas de Credito\n",
      "Contestacion a requerimiento de embargos AEAT\n",
      "Crear Ordenes de Inversion y Subcuentas\n",
      "Relaciones con los Bancos\n",
      "Auditoria Externa\n",
      "I.N.E - listados para  Intrastat y Realizar Encuestas Anuales\n",
      "Auditorias de Seguridad\n",
      "Elaboracion de Reporting y Explicacion\n",
      "Cuadre Intercompany para Consolidacion\n",
      "Informe de Capex Mensual\n",
      "Apuntes Contables Cierre Elaboracion - Periodificacion\n",
      "Revision desviaciones presupuestarias\n",
      "Seguimiento Gestión y Reporting de Subproductos\n",
      "Seguimiento trimestral de Capex\n",
      "Nominas, Seguridad Social, Ajuste y Contabilizacion\n",
      "Incidencias Herramienta carretillero (solucionar)\n",
      "Reuniones ( Eq. Logistica fábrica, eq logistica Grupo, coordinación fábrica, KPI's, servings…)\n",
      "Informes (preparación de informes varios, elaborar KPIs de fabrica, de departamento,…)\n",
      "Gestiones diarias con otras áreas de la empresa para resolución de trabajo  (producción, CS, logistica HQ, calidad, planificación…)\n",
      "Coordinar trabajo de compañeros ( Personal administrativo haciendo funciones logísticas, carretilleros,…)\n",
      "Resolución de consultas varias sobre aspectos logísticos a otras áreas  ( paletizaciones, consultas de stock, cargas,….)\n",
      "Realizar planificación semanal de cargas\n",
      "Indicar fecha prevista de carga de mercancia /expedidión en SAP para informar a CS\n",
      "Confirmar y coordinar las entregas con CS\n",
      "Optimizar la carga de los camiones/contenedores\n",
      "Pedir cotización a agencias por transporeon para grupajes\n",
      "Pedir cotización a agencias por transporeon para servicios extra\n",
      "Solicitar camiones con transporeon\n",
      "Generar las ordenes de carga para darselas al personal de almacén\n",
      "Recibir a transportista en fábrica\n",
      "Coordinar la carga con el carretillero\n",
      "Generar la documentación de transporte para facilitarsela al transportista (PL, CRM,…)\n",
      "Confirmar/Cerrar la expedición\n",
      "Gestión de incidencias durante el transporte\n",
      "Organizar recogidas de mercancias defectosas en cliente\n",
      "Gestión de almacenamiento/cargas y descargas en almacenes externos ( Silla, Logroño,…)\n",
      "Coordinación con Subcontratas (Hazera, El Nogal, …cualquiera que haya) para coordinación de entregas y expediciones\n",
      "Coordinación con Subcontratas para dar indicaciones del trabajo que deben realizar sobre el tablero\n",
      "Coordinación y preparación pedidos de stock (referencias A)\n",
      "Evaluación de proveedores de transporte\n",
      "Almacenes - control servicio con empresas logísticas\n",
      "Inventarios fisicos en almacenes - final de año u otros periodos.\n",
      "Auditoria contable\n",
      "Emisión y Archivo facturas\n",
      "SII: revisar y subir facturas\n",
      "Extractos y bancarios y prep.contable\n",
      "Intrastat \n",
      "Encuestas\n",
      "Organización documentación\n",
      "Atención Telefónica\n",
      "Atencion entrada\n",
      "Archivo CMR Compras-Ventas\n",
      "Verificación partidas abiertas\n",
      "Prevision transporte fabrica para cierre\n",
      "Revisión de los pedidos pasados a planta semana y stock\n",
      "Telefono\n",
      "Meter albaranes de madera\n",
      "Hacer albaranes de SALIDAS chapa,astilla, retorno, tb…\n",
      "Derivar entradas de externos y meter datos\n",
      "Sacar listados Eva (sierras y prensa)\n",
      "Meter densidades de madera al sistema\n",
      "Editar y revisar partes plaste y juntadoras\n",
      "Numerar y archivar correspondencia bancos\n",
      "Material de Oficina \n",
      "Revisar/meter precios de transporte en cada albaran\n",
      "Cierre Madera en Gesfor\n",
      "Reunión de mejoras/compras\n",
      "Reuniones semanales comité\n",
      "Revisar entradas de chapa y tablero SAP\n",
      "Facturar intercos, subproductos\n",
      "Liquidar facturar Abastecedores - TTE- madera/ subproductos\n",
      "Solicitud de Tapas (Diva, Torresar)\n",
      "Soporte a CS USA calidad chapa no chopo vs tablero\n",
      "Subir a SAP compras desde SGA Test\n",
      "Verificación precios para cotizaciones\n",
      "Verificar calidades de chapa no chopo acorde a lo comprado\n",
      "Expedir Documentaciones\n",
      "Gestionar Tte de Subproducto de Fábrica (Astilla B1+B2, Rulos, Corteza, Machina…) \n",
      "Licitaciones de Aprovechamientos Forestales (Pliegos, DEUC, Avales, Solvencias, IAE…)\n",
      "Verificar composiciones de chapa no chopo \n",
      "Dar de alta proveedores forestales (Comprobar Aeat + Sap)\n",
      "Dar de Alta/ Contratos /Pagos Choperas \n",
      "Procesar la entradas de madera a fabrica\n",
      "Proceso de venta desde chopera\n",
      "Reclamación de viajes de venta de chopera\n",
      "Enviar relación de corta/tte a los proveedores\n",
      "Comprobar tickets de entrada \n",
      "Comprobación de existencia de madera en SAP\n",
      "Regularizar inventario madera - subproductos\n",
      "Indicadores forestal: semanal, mensual\n",
      "Provisiones pago madera\n",
      "Recepción \n",
      "Procesar densidades y cambiar ticket de días anteriores\n",
      "Descargar Tacografo\n",
      "Procesos de Auditorias FSC, PEFC… \n",
      "Tareas Varias (Mails, Informes, Rolece, Registro en el perfil del contrante, Compras..)\n",
      "Introducir albaranes de Biomasa\n",
      "Provisiones subproductos de fabrica\n",
      "Formación Inglés\n",
      "Facturas Abonos/Compras\n",
      "Hacer pedidos compras\n",
      "Recepcionar mercancía\n",
      "CIERRE MENSUAL FORESTAL \n",
      "AUDITORIA DELOITTE\n",
      "CHOPERAS:alta, contratos, facturas y alta proveedores-vinculacion con SAP\n",
      "REVISION DE CONTRATOS (Pagos)\n",
      "AVALES\n",
      "CONTROL COSTES EXPLOTACION FORESTAL\n",
      "RELACION CON LA ADMON PUBLICA\n",
      "PEDIDOS Y AVERÍAS ASTILLADORAS DE TRITURADO\n",
      "ARCHIVO DE DOCUMENTACION\n",
      "SUBASTAS (MED 4 SUB/MES+CHD+SOMACYL+FAFCYLE)\n",
      "SEGUROS Y SINIESTROS\n",
      "AUDITORIAS CALIDAD\n",
      "AUDITORIAS PREVENCION\n",
      "TRAMITES ELECTRONICOS\n",
      "EMAILS Y CORRESPONDENCIA\n",
      "APOYO PERSONAL FORESTAL ( PROBLEMAS)\n",
      "PRIMAS CHOFERES\n",
      "REVISION LIQUIDACIONES VTAS DE SUBPRODUCTO\n",
      "Altas de clientes y modificaciones (solicitudes de crédito incluido)\n",
      "Altas de artículos, actualización VD52 y modificaciones\n",
      "Alta de tarifas y modificaciones\n",
      "Recepción de pedidos, programación de pedidos y envio de confirmaciones (pedidos de fabricación y de stock-incluye comprobar stock) y Gestión de proformas\n",
      "Gestión de pedidos de muestras y Red-Orders\n",
      "Gestión de desbloqueo de pedidos (financieros, semanas, adelantos…)\n",
      "Coordinación y confirmación de fechas de entrega definitivas con logística y con cliente\n",
      "Gestión de anulación y modificaciones de pedidos\n",
      "Envío de reports de pedidos y ventas a clientes/ comerciales\n",
      "Recepción, tramitación, resolución de las reclamaciones de los clientes. Gestión de abonos incluido\n",
      "Reuniones equipo (Semanales, KPI, calidad, Servings, mejoras, formaciones,)\n",
      "Consultas/Gestiones varias con clientes (mail, telefono,…)\n",
      "Consultas/Gestiones varias con equipo comercial (mail, telefono, …)\n",
      "Gestiones varias con fabricas y resto equipo ( retraso pedidos, dudas técnicas/de mercado,…)\n",
      "Gestiones con impagos de clientes\n",
      "Contabilizar en SAP factura compra madera\n",
      "Atención telefónica propietarios madera\n",
      "Atención telefónica de forestales de Garnica\n",
      "Atención telefónica de llamadas centralita\n",
      "Escaneo de contratos y documentación y archivo\n",
      "Creción proveedores SAP\n",
      "Preparación documentos para dar de alta contratos\n",
      "Crear choperas en Gestfor + imprimir cubicaciones\n",
      "Aperturas de chopera + rellenar datos de equipos de corta y saca\n",
      "Declarar choperas en ayuntamientos\n",
      "Rellenar fichas de choperas\n",
      "Verificación adhesión de los propietarios a PEFC e imprimirla\n",
      "Seguimiento de replantaciones de Charte Merci le Peuplier\n",
      "Atestaciones de IVA anuales de compra a propietarios\n",
      "Crear archivo de pagos de madera propietarios\n",
      "Hacer cheques de pago de charte\n",
      "Subcontratas forstal\n",
      "Ayuda departamento administración entrada camiones y bonos de papeterie\n",
      "Asientos patrón fin de mes\n",
      "Auditoría\n",
      "Facturas a clientes \n",
      "Facturas financieras a resto de plantas y revisión intercos\n",
      "Archivo documentación y preparación de facturas para revisión\n",
      "Organizar albaranes para contabilizar facturas\n",
      "Contabilizar Excel compra y venta de astilla y electricidad\n",
      "Contabilización de facturas \n",
      "Contabilización y comprobación de importaciones (DUA)\n",
      "Gastos de viajes de empleados\n",
      "Imprevistos (doc. subvenciones, doc. control de gastos…)\n",
      "Contabilización nómina\n",
      "Creación Ord. Inv. Y AF en curso\n",
      "Verificación Excel Liquidación Intereses GGP\n",
      "Modelos 322 y 349\n",
      "Modelos 111 y 115 (180,190 anuales)\n",
      "Control contable (partidas abiertas: proveedores, 555, 465…)\n",
      "Pago Seguros Sociales\n",
      "Tesorería\n",
      "Previsión de pagos 10 y 25\n",
      "Pagos a proveedores (transf. nacionales e internac., pagarés)\n",
      "Impresión y contabilización de bancos\n",
      "SII\n",
      "347 de proveedores\n",
      "Control de caja\n",
      "Intrastat\n",
      "Atención telefónica\n",
      "Acudir a Correos y bancos\n",
      "Encuestas\n",
      "Contabilizar las Provisiones de fin de mes y anularlas después\n",
      "CAPEX mensual\n",
      "Factura Cierre Datos mails\n",
      "Registro mercantil / cuentas anuales\n",
      "Saldos y Transacciones con otras plantas\n",
      "Abrir y cerrar periodos\n",
      "Auditoria: preparar documentación solicitada\n",
      "Enviar información solicitada para auditoria de nuestros clientes y proveedores\n",
      "Crear proveedores (solo los que van con pedido)\n",
      "Contabilizar facturas de compensación plantas y liquidarlas a ultimo dia de mes (previa comprobación con plantas que cuadra el dato)\n",
      "Contabilizar facturas Zeus y apuntes final de año\n",
      "Contablizar bancos GGP Y Zeus\n",
      "Creación cuentas contables y actualización en BPC (solo si son totalmente nuevas)\n",
      "Facturas de prestación de servicios y liquidarlas a ultimo dia de mes\n",
      "Actualizar tabla T/C USD & GBP\n",
      "Revisar y subir al SII las facturas registradas GGP y Zeus\n",
      "Archivar documentación enviada por los bancos\n",
      "Revisar y contabilizar notas de gasto y movimientos de caja\n",
      "Preparar excell intereses plantas y enviarselo para su conformidad\n",
      "Preparar recibos de clientes \n",
      "Preparar posición financiera (si hay mucha desviación respecto a la previsión analizarlo)\n",
      "Preparar y presentar Modelo 322 GGP & Zeus y Modelo 353 Zeus\n",
      "Abrir LC proveedores\n",
      "Contabilizar facturas comisionistas externos \n",
      "Preparar excell PP condicionados para Elena P. y compensarlos una vez emitidas las facturas correspondientes\n",
      "Cuadrar balances con plantas\n",
      "Preparar previsión tesorería logroño y consolidar con el resto de plantas (previa revisión de éstas)\n",
      "Preparar DFN y Covenants para reporting\n",
      "Preparar excel provisión intereses nueva refinanciación y provisionar intereses intercompany Zeus\n",
      "Preparar y enviar información sindicado, ICG, Luxemburgo\n",
      "Report merchandise credit Wurth y A&M\n",
      "Confirmación Rappels 2019 \n",
      "Desbloqueo pedidos\n",
      "Control riesgos y gestión con Solunion\n",
      "Declarar impagados\n",
      "Control facturas vencidas y revisión de los cobros\n",
      "Reclamación facturas impagadas\n",
      "Ingresar pagarés y llevarlos al banco\n",
      "Ficha cliente - generación mandatos sepa\n",
      "Transferencias grupo (BPI & Francia)\n",
      "Pago proveedores (remesas y de forma anticipada)\n",
      "Rentings, Tarjetas solred y VIA-T y Multas\n",
      "Comprobar Modelo 347 de proveedores\n",
      "Pago nóminas y SS extranjeros\n",
      "La gestión del día a día con el propio equipo.\n",
      "Resolución de incidencias\n",
      "Preparación de KPIS e informes.\n",
      "Reuniones de coordinación de equipo e interdepartamentales\n",
      "Trabajo en la mejora \n",
      "Elaboración de planes de formación. \n",
      "Seguimiento de cupos comerciales (esta si podría ser más técnica)\n",
      "Notas de gastos y control de caja\n",
      "Registro y control de gastos tarjetas visas\n",
      "Recepcion (at. telefónica)\n",
      "Salida de Subproducto y chapa.\n",
      "Albaranes de entrada de madera\n",
      "Albaranes de Venta de Choperas\n",
      "Liquidaciones de Astilla de fabrica\n",
      "Editar y revisar partes de Inyeccion y Embalaje.\n",
      "Editar y revisar partes de Prensas\n",
      "Mecanizar partes de defectivo\n",
      "Atencion al cliente / Ventanilla\n",
      "Actualizar descargas de Astilla y Biomasa\n",
      "Venta de tablero defectivo.\n",
      "Liquidacion de viajes de retorno GGP\n",
      "Hacer tracking pedidos y actualizar datos en sistema\n",
      "Envío muestras tablero completo\n",
      "Envío muestras    \n",
      "Tarifas marítimo (solicitar, actualizar, tablas)\n",
      "Enviar documentación a transitaria (factura, packing, autorizaciones..)\n",
      "Calcular flete e impuestos y rellenar partes SGA\n",
      "Visar facturas exportación marítima, hacer facturas preliminares y enviar nº factura preliminar a planta correspondiente\n",
      "Visar facturas importación marítima, hacer facturas preliminares y enviar nº de facura preliminar a planta corresondiente\n",
      "Evaluación de proveedores de transporte\n",
      "Asistencia a otros departamentos (CS, Comercial, caidad..)\n",
      "Revisión procesos logísticos / mejora contínua\n",
      "Régimen Perfeccionamiento activo, declaración factura\n",
      "Régimen Perfeccionamiento activo, control\n",
      "Régimen Perfeccionamiento activo, solicitud baja\n",
      "Otras reuniones\n",
      "Reuniones ( Eq. Logistica fábrica, eq logistica Grupo, coordinación fábrica, KPI's, servings…)\n",
      "Reuniones/ Visitas a agencias de transporte\n",
      "Informes (preparación de informes varios, elaborar KPIs de fabrica, de departamento,…)\n",
      "Gestiones diarias con otras áreas de la empresa para resolución de trabajo  (producción, CS, logistica HQ, calidad, planificación…)\n",
      "Coordinar trabajo de compañeros ( Personal administrativo haciendo funciones logísticas, carretilleros,…)\n",
      "Resolución de consultas varias sobre aspectos logísticos a otras áreas  ( paletizaciones, consultas de stock, cargas,….)\n",
      "Meter fechas fin de fabricación de pedidos en SAP\n",
      "Asegurar el correcto etiquetado del tablero en el almacén\n",
      "Realizar planificación semanal de cargas\n",
      "Indicar fecha prevista de carga de mercancia /expedidión en SAP para informar a CS\n",
      "Confirmar y coordinar las entregas con CS\n",
      "Optimizar la carga de los camiones/contenedores\n",
      "Tarifas transporte (solicitar, actualizar, tablas)\n",
      "Pedir cotización a agencias por transporeon para grupajes\n",
      "Pedir cotización a agencias por transporeon para servicios extra\n",
      "Solicitar camiones con transporeon\n",
      "Generar las ordenes de carga para darselas al personal de almacén\n",
      "Coordinar la carga con el carretillero\n",
      "Generar la documentación de transporte para facilitarsela al transportista (PL, CRM,…)\n",
      "Confirmar/Cerrar la expedición\n",
      "Gestión de incidencias durante el transporte\n",
      "Organizar recogidas de mercancias defectosas en cliente\n",
      "Visar facturas de transporte\n",
      "Gestión de almacenamiento/cargas y descargas en almacenes externos ( Silla, Logroño,…)\n",
      "Coordinación con Subcontratas (Hazera, El Nogal, …cualquiera que haya) para coordinación de entregas y expediciones\n",
      "Coordinación con Subcontratas para dar indicaciones del trabajo que deben realizar sobre el tablero\n",
      "Revisión niveles de inventario referencias A\n",
      "Coordinación y preparación pedidos de stock (referencias A)\n",
      "Evaluación de proveedores de transporte\n",
      "Almacenes - control servicio con empresas logísticas\n",
      "Pasar ordenes de reposición de stock a planificación\n",
      "Coordinar la venta y expedición de subproductos de fábrica y astilla de monte con clientes y departamento forestal\n",
      "Inventarios fisicos en almacenes - final de año u otros periodos.\n",
      "Revisión de los pedidos pasados a planta semana y stock\n",
      "Altas de clientes y modificaciones (solicitudes de crédito incluido)\n",
      "Altas de artículos, actualización VD52 y modificaciones\n",
      "Alta de tarifas y modificaciones\n",
      "Recepción de pedidos, programación de pedidos y envio de confirmaciones (pedidos de fabricación y de stock-incluye comprobar stock) y Gestión de proformas\n",
      "Gestión de desbloqueo de pedidos (financieros, semanas, adelantos…)\n",
      "Coordinación y confirmación de fechas de entrega definitivas con logística y con cliente\n",
      "Gestión de anulación y modificaciones de pedidos\n",
      "Recepción, tramitación, resolución de las reclamaciones de los clientes. Gestión de abonos incluido\n",
      "Reuniones equipo (Semanales, KPI, calidad, Servings, mejoras, formaciones,)\n",
      "Consultas/Gestiones varias con equipo comercial (mail, telefono, …)\n",
      "Gestiones varias con fabricas y resto equipo ( retraso pedidos, dudas técnicas/de mercado,…)\n",
      "Gestiones con impagos de clientes\n",
      "Contabilización directa de proveedores y acreedores y sus compromisos de pago\n",
      "Contabilizacion Resto Gastos e Ingresos\n",
      "Escaneo Periodico de Facturas de Gastos\n",
      "Reuniones Departamentales Semanales\n",
      "Cierres Mensuales\n",
      "Documentacion Auxiliar para Reporting Mensual\n",
      "Elaboración de los balances y cuentas para su posterior envío al registro mercantil\n",
      "Elaboración de encuestas sobre información contable para el INE y el EUSTAT entre otros\n",
      "En el futuro acceso a los distintos programas informáticos (SGA) del grupo para llevar un mejor control de los procesos\n",
      "Realizacion cuadros control Energia mensual\n",
      "Realizacion Auditorias Internas de Seguridad\n",
      "Intrastat\n",
      "Otros esporadicos (Peticion Documentacion)\n",
      "Revisión periódica de la contabilidad general de la empresa.\n",
      "Control Operaciones Vinculadas Entre empresas del grupo\n",
      "VAT\n",
      "Control de la documentación y posterior envío a la Diputación Foral de Alava del Suministro Inmediato de Información del Iva (SII)\n",
      "Elaboración de controles de producción\n",
      "Recogida de datos de consumos y adaptación de los mismos a los datos contables\n",
      "Elaboración y control tanto de los inventarios permanentes como los físicos mensuales y anual\n",
      "Elaboracion Detallada de todo el Inventario Mensual por productos\n",
      "Documentacion para Valoracion de Existencias Mensual\n",
      "Colaboración en la entrega de documentación e información para la realización de la auditoria\n",
      "Control interno Capex Inversion\n",
      "Apoyo dirección forestal: búsqueda de datos, análisis y realización de informes sobre diversos problemas que puedan surgir a petición de los directores forestal e industrial \n",
      "Coordinación entre plantas, gestión de intercos, test forestales, documentos forestales, reuniones forestales y financieras de grupo \n",
      "Apoyo proyectos externos. Consultorías, proyecto Xylolink, Chainwood\n",
      "Departamento calidad: coordinación con el departamento de calidad para la mejora de la actividad en el departamento forestal (créditos PEFC, contratos equipos y abastecedores…)\n",
      "Key user sistemas. Recepción y proposición de potenciales mejoras, implantación y seguimiento con el departamento de sistemas\n",
      "Sistemática forestal: apoyo en la resolción de problemas en las plantas y definición y mejora de los procedimientos\n",
      "Apoyo Garnica Samazan. Seguimiento de costes extraordinarios de actividad forestal, elaboración de provisiones financieras mensuales, apoyo en el análisis de datos\n",
      "Elaboración del presupuesto anual y mensual de coste de madera forestal y subproducto y seguimiento indicadores mensuales (nivel forestal, consejo dirección y comité dirección)y análisis contínuo de su cumplimiento en plantas. Detección de desviaciones y propuestas de mejora\n",
      "Liquidación de facturas de trasporte chapa\n",
      "Planificación camiones chapa\n",
      "Ajustar inventario SAP + comprobar\n",
      "Formación + Proyecto mejora logística Samazan\n",
      "Solicitar camiones con transporeon (añado en este punto la gestion de los horarios de carga)\n",
      "Recibir a transportista en fábrica\n",
      "Confirmar/Cerrar la expedición\n",
      "Archivar pedidos / documentaciones\n",
      "Visar facturas de transporte\n",
      "Gestion diaria de los partes de Producción\n",
      "Calculo del OEE\n",
      "Reclamaciones compras\n",
      "Reunión compras Jueves\n",
      "Facturas móviles\n",
      "Visado de facturas\n",
      "Recepción facturas, fecharlas, clasificación y entrega\n",
      "Facturas/abonos compras\n",
      "Visado y registro preliminar facturas compra materias primas, chapa y tablero. Reclamaciones\n",
      "Imprimir partes sga\n",
      "Revisar partes producción\n",
      "Introducir partes producción en sga\n",
      "Comprobar albaranes compra/venta plantas\n",
      "Soporte Producción problemas paquetes, etc\n",
      "Datos Diego Sierras B1, B2 y chapa B1\n",
      "Escanear partes impresos y físicos\n",
      "Primas\n",
      "Visitas a proveedores en sus instalaciones\n",
      "Envío cartas postales, cartas certificadas\n",
      "Auditorías de claidad\n",
      "Intercos plantas\n",
      "Leer etiquetas paquetes sga\n",
      "Facturas subproducto (emisión,envío,archivo)\n",
      "Facturas venta por menor de defectivos\n",
      "Control subproductos para facturacion\n",
      "Facturas interco de chapa\n",
      "Control y supervision diario partes producción\n",
      "Control referencias almacén chapa\n",
      "Informes producciones\n",
      "Indicadores producción\n",
      "Control producción chapa eucalipto\n",
      "Revisión recuento almacén chapa y ajustes\n",
      "Contol chapa exótica y componentes\n",
      "Valoraciones almacén de PST\n",
      "Verificar la trazabilidad de chapa chopo\n",
      "Escaneo y archivo partes de produccion\n",
      "Encuestas mensuales I.N.E\n",
      "Declaracion Intrastat \n",
      "Control gestión multas \n",
      "Gestión gasoleo profesional\n",
      "Auditorias de seguridad\n",
      "BP clientes subproducto: alta,mantenimiento\n",
      "Altas de clientes y modificaciones (solicitudes de crédito incluido)\n",
      "Altas de artículos, actualización VD52 y modificaciones\n",
      "Alta de tarifas y modificaciones\n",
      "Recepción de pedidos, programación de pedidos y envio de confirmaciones (pedidos de fabricación y de stock-incluye comprobar stock) y Gestión de proformas\n",
      "Gestión de pedidos de muestras y Red-Orders\n",
      "Gestión de desbloqueo de pedidos (financieros, semanas, adelantos…)\n",
      "Coordinación y confirmación de fechas de entrega definitivas con logística y con cliente\n",
      "Gestión de anulación y modificaciones de pedidos\n",
      "Comprobar y asegurar reserva de cupos de clientes\n",
      "Envío de reports de pedidos y ventas a clientes/ comerciales\n",
      "Recepción, tramitación, resolución de las reclamaciones de los clientes. Gestión de abonos incluido\n",
      "Reuniones equipo (Semanales, KPI, calidad, Servings, mejoras, formaciones,)\n",
      "Consultas/Gestiones varias con clientes (mail, telefono,…)\n",
      "Consultas/Gestiones varias con equipo comercial (mail, telefono, …)\n",
      "Gestiones varias con fabricas y resto equipo ( retraso pedidos, dudas técnicas/de mercado,…)\n",
      "Gestiones con impagos de clientes\n",
      "LIQUIDACIONES DE FACTURAS DE TRANSPORTE\n",
      "REALIZAR FACTURAS INTERCO DE TABLERO\n",
      "TELEFONO\n",
      "DOCUMENTACIÓN EXPEDICCIONES TABLERO\n",
      "PLANIFICAR SEMANA CARGAS VDJ\n",
      "EMAIL\n",
      "REVISAR SEMANA/CREAR ORDENES DE CARGA\n",
      "PLANIFICAR SEMANA CARGAS HAZERA\n",
      "SOLICITAR TRANSPORTE A LAS AGENCIAS\n",
      "REVISAR STOCK HAZERA\n",
      "PLANIFICAR ENVIOS Y TABLERO MARÍTIMO\n",
      "INGLES\n",
      "Altas de clientes y modificaciones (solicitudes de crédito incluido)\n",
      "Altas de artículos, actualización VD52 y modificaciones\n",
      "Alta de tarifas y modificaciones\n",
      "Recepción de pedidos, programación de pedidos y envio de confirmaciones (pedidos de fabricación y de stock-incluye comprobar stock) y Gestión de proformas\n",
      "Gestión de pedidos de muestras y Red-Orders\n",
      "Gestión de desbloqueo de pedidos (financieros, semanas, adelantos…)\n",
      "Coordinación y confirmación de fechas de entrega definitivas con logística y con cliente\n",
      "Gestión de anulación y modificaciones de pedidos\n",
      "Comprobar y asegurar reserva de cupos de clientes\n",
      "Envío de reports de pedidos y ventas a clientes/ comerciales\n",
      "Recepción, tramitación, resolución de las reclamaciones de los clientes. Gestión de abonos incluido\n",
      "Reuniones equipo (Semanales, KPI, calidad, Servings, mejoras, formaciones,)\n",
      "Consultas/Gestiones varias con clientes (mail, telefono,…)\n",
      "Consultas/Gestiones varias con equipo comercial (mail, telefono, …)\n",
      "Gestiones varias con fabricas y resto equipo ( retraso pedidos, dudas técnicas/de mercado,…)\n",
      "Gestiones con impagos de clientes\n",
      "nan\n",
      "nan\n",
      "nan\n",
      "nan\n",
      "nan\n",
      "nan\n",
      "nan\n",
      "nan\n"
     ]
    }
   ],
   "source": [
    "for task in task_description:\n",
    "    print(task)\n",
    "    #lista=[palabra for palabra in doc if palabra.is_stop==False]\n",
    "    #print(lista[:100])"
   ]
  },
  {
   "cell_type": "code",
   "execution_count": 176,
   "metadata": {
    "scrolled": true
   },
   "outputs": [
    {
     "ename": "AttributeError",
     "evalue": "'str' object has no attribute 'text'",
     "output_type": "error",
     "traceback": [
      "\u001b[0;31m---------------------------------------------------------------------------\u001b[0m",
      "\u001b[0;31mAttributeError\u001b[0m                            Traceback (most recent call last)",
      "\u001b[0;32m<ipython-input-176-aedeb1665883>\u001b[0m in \u001b[0;36m<module>\u001b[0;34m\u001b[0m\n\u001b[1;32m      1\u001b[0m \u001b[0;32mfor\u001b[0m \u001b[0mi\u001b[0m \u001b[0;32min\u001b[0m \u001b[0mtask_description\u001b[0m\u001b[0;34m:\u001b[0m\u001b[0;34m\u001b[0m\u001b[0;34m\u001b[0m\u001b[0m\n\u001b[0;32m----> 2\u001b[0;31m     \u001b[0mlista_palabras\u001b[0m\u001b[0;34m=\u001b[0m\u001b[0;34m[\u001b[0m\u001b[0mpalabra\u001b[0m\u001b[0;34m.\u001b[0m\u001b[0mtext\u001b[0m\u001b[0;34m.\u001b[0m\u001b[0mreplace\u001b[0m\u001b[0;34m(\u001b[0m\u001b[0;34m'\\n'\u001b[0m\u001b[0;34m,\u001b[0m\u001b[0;34m''\u001b[0m\u001b[0;34m)\u001b[0m \u001b[0;32mfor\u001b[0m \u001b[0mpalabra\u001b[0m \u001b[0;32min\u001b[0m \u001b[0mi\u001b[0m\u001b[0;34m[\u001b[0m\u001b[0;34m:\u001b[0m\u001b[0;36m40\u001b[0m\u001b[0;34m]\u001b[0m\u001b[0;34m]\u001b[0m\u001b[0;34m\u001b[0m\u001b[0;34m\u001b[0m\u001b[0m\n\u001b[0m\u001b[1;32m      3\u001b[0m \u001b[0;34m\u001b[0m\u001b[0m\n\u001b[1;32m      4\u001b[0m \u001b[0;34m\u001b[0m\u001b[0m\n",
      "\u001b[0;32m<ipython-input-176-aedeb1665883>\u001b[0m in \u001b[0;36m<listcomp>\u001b[0;34m(.0)\u001b[0m\n\u001b[1;32m      1\u001b[0m \u001b[0;32mfor\u001b[0m \u001b[0mi\u001b[0m \u001b[0;32min\u001b[0m \u001b[0mtask_description\u001b[0m\u001b[0;34m:\u001b[0m\u001b[0;34m\u001b[0m\u001b[0;34m\u001b[0m\u001b[0m\n\u001b[0;32m----> 2\u001b[0;31m     \u001b[0mlista_palabras\u001b[0m\u001b[0;34m=\u001b[0m\u001b[0;34m[\u001b[0m\u001b[0mpalabra\u001b[0m\u001b[0;34m.\u001b[0m\u001b[0mtext\u001b[0m\u001b[0;34m.\u001b[0m\u001b[0mreplace\u001b[0m\u001b[0;34m(\u001b[0m\u001b[0;34m'\\n'\u001b[0m\u001b[0;34m,\u001b[0m\u001b[0;34m''\u001b[0m\u001b[0;34m)\u001b[0m \u001b[0;32mfor\u001b[0m \u001b[0mpalabra\u001b[0m \u001b[0;32min\u001b[0m \u001b[0mi\u001b[0m\u001b[0;34m[\u001b[0m\u001b[0;34m:\u001b[0m\u001b[0;36m40\u001b[0m\u001b[0;34m]\u001b[0m\u001b[0;34m]\u001b[0m\u001b[0;34m\u001b[0m\u001b[0;34m\u001b[0m\u001b[0m\n\u001b[0m\u001b[1;32m      3\u001b[0m \u001b[0;34m\u001b[0m\u001b[0m\n\u001b[1;32m      4\u001b[0m \u001b[0;34m\u001b[0m\u001b[0m\n",
      "\u001b[0;31mAttributeError\u001b[0m: 'str' object has no attribute 'text'"
     ]
    }
   ],
   "source": [
    "for i in task_description:\n",
    "    lista_palabras=[palabra.text.replace('\\n','') for palabra in i[:40]]\n",
    "    \n",
    "      "
   ]
  },
  {
   "cell_type": "code",
   "execution_count": null,
   "metadata": {},
   "outputs": [],
   "source": [
    "  if palabra.is_stop==False:\n",
    "            tokens.append(palabra)"
   ]
  },
  {
   "cell_type": "code",
   "execution_count": 211,
   "metadata": {
    "scrolled": false
   },
   "outputs": [
    {
     "data": {
      "text/plain": [
       "'nan'"
      ]
     },
     "execution_count": 211,
     "metadata": {},
     "output_type": "execute_result"
    }
   ],
   "source": [
    "task"
   ]
  },
  {
   "cell_type": "code",
   "execution_count": 217,
   "metadata": {
    "scrolled": false
   },
   "outputs": [
    {
     "ename": "AttributeError",
     "evalue": "'str' object has no attribute 'is_stop'",
     "output_type": "error",
     "traceback": [
      "\u001b[0;31m---------------------------------------------------------------------------\u001b[0m",
      "\u001b[0;31mAttributeError\u001b[0m                            Traceback (most recent call last)",
      "\u001b[0;32m<ipython-input-217-6f555846f371>\u001b[0m in \u001b[0;36m<module>\u001b[0;34m\u001b[0m\n\u001b[1;32m      2\u001b[0m \u001b[0;34m\u001b[0m\u001b[0m\n\u001b[1;32m      3\u001b[0m \u001b[0;32mfor\u001b[0m \u001b[0mtask\u001b[0m \u001b[0;32min\u001b[0m \u001b[0mtask_description\u001b[0m\u001b[0;34m:\u001b[0m\u001b[0;34m\u001b[0m\u001b[0;34m\u001b[0m\u001b[0m\n\u001b[0;32m----> 4\u001b[0;31m     \u001b[0;32mif\u001b[0m \u001b[0mtask\u001b[0m\u001b[0;34m.\u001b[0m\u001b[0mis_stop\u001b[0m\u001b[0;34m==\u001b[0m\u001b[0;32mFalse\u001b[0m\u001b[0;34m:\u001b[0m\u001b[0;34m\u001b[0m\u001b[0;34m\u001b[0m\u001b[0m\n\u001b[0m\u001b[1;32m      5\u001b[0m         \u001b[0mtokens\u001b[0m\u001b[0;34m.\u001b[0m\u001b[0mappend\u001b[0m\u001b[0;34m(\u001b[0m\u001b[0mpalabra\u001b[0m\u001b[0;34m)\u001b[0m\u001b[0;34m\u001b[0m\u001b[0;34m\u001b[0m\u001b[0m\n\u001b[1;32m      6\u001b[0m \u001b[0;34m\u001b[0m\u001b[0m\n",
      "\u001b[0;31mAttributeError\u001b[0m: 'str' object has no attribute 'is_stop'"
     ]
    }
   ],
   "source": [
    "tokens = []\n",
    "\n",
    "for task in task_description:\n",
    "    if task.is_stop==False:\n",
    "        tokens.append(palabra)\n",
    "        \n"
   ]
  },
  {
   "cell_type": "code",
   "execution_count": null,
   "metadata": {},
   "outputs": [],
   "source": [
    "lista=[palabra for palabra in doc if palabra.is_stop==False]\n",
    "print(lista[:100])"
   ]
  },
  {
   "cell_type": "code",
   "execution_count": 126,
   "metadata": {
    "scrolled": false
   },
   "outputs": [],
   "source": [
    "import es_core_news_sm\n",
    "from spacy_spanish_lemmatizer import SpacyCustomLemmatizer\n",
    "from spacy import displacy\n",
    "from spacy.lang.es.stop_words import STOP_WORDS"
   ]
  },
  {
   "cell_type": "code",
   "execution_count": 100,
   "metadata": {},
   "outputs": [],
   "source": [
    "\n",
    "nlp = es_core_news_sm.load()"
   ]
  },
  {
   "cell_type": "code",
   "execution_count": 228,
   "metadata": {},
   "outputs": [
    {
     "data": {
      "text/plain": [
       "['Gestiones', 'con', 'impagos', 'de', 'clientes']"
      ]
     },
     "execution_count": 228,
     "metadata": {},
     "output_type": "execute_result"
    }
   ],
   "source": [
    "for task in task_description:\n",
    "    actividad=nlp(task)\n",
    "    \n",
    "    lista_palabras=[palabra.text.replace('\\n','') for palabra in actividad[:40]]\n",
    "    #Para tokenizar palabras\n",
    "    #for palabra in doc[:10]:\n",
    "        #print(palabra.text)\n",
    "        \n",
    "lista_palabras"
   ]
  },
  {
   "cell_type": "code",
   "execution_count": 226,
   "metadata": {},
   "outputs": [
    {
     "ename": "SyntaxError",
     "evalue": "unexpected EOF while parsing (<ipython-input-226-1a6f61b99972>, line 6)",
     "output_type": "error",
     "traceback": [
      "\u001b[0;36m  File \u001b[0;32m\"<ipython-input-226-1a6f61b99972>\"\u001b[0;36m, line \u001b[0;32m6\u001b[0m\n\u001b[0;31m    \u001b[0m\n\u001b[0m    ^\u001b[0m\n\u001b[0;31mSyntaxError\u001b[0m\u001b[0;31m:\u001b[0m unexpected EOF while parsing\n"
     ]
    }
   ],
   "source": [
    "\n",
    "\n",
    "for task in task_description:\n",
    "    actividad=nlp(task)\n",
    "    for palabra in actividad[:40]:\n",
    "        lista_palabras=[palabra.text.replace('\\n','')\n",
    "        \n",
    " "
   ]
  },
  {
   "cell_type": "code",
   "execution_count": 213,
   "metadata": {
    "scrolled": false
   },
   "outputs": [
    {
     "name": "stdout",
     "output_type": "stream",
     "text": [
      "<class 'str'>\n"
     ]
    }
   ],
   "source": [
    "print(type(task))"
   ]
  },
  {
   "cell_type": "code",
   "execution_count": 219,
   "metadata": {
    "scrolled": true
   },
   "outputs": [
    {
     "name": "stdout",
     "output_type": "stream",
     "text": [
      "['Gestiones', 'con', 'impagos', 'de', 'clientes']\n"
     ]
    }
   ],
   "source": [
    "# Para hacer una lista de tokens\n",
    "lista_palabras=[palabra.text.replace('\\n','') for palabra in actividad[:40]]\n",
    "print(lista_palabras)"
   ]
  },
  {
   "cell_type": "code",
   "execution_count": 229,
   "metadata": {},
   "outputs": [
    {
     "name": "stdout",
     "output_type": "stream",
     "text": [
      "[Gestiones, impagos, clientes]\n"
     ]
    }
   ],
   "source": [
    "lista=[palabra for palabra in doc if palabra.is_stop==False]\n",
    "print(lista[:100])"
   ]
  },
  {
   "cell_type": "code",
   "execution_count": null,
   "metadata": {},
   "outputs": [],
   "source": [
    "df['']"
   ]
  },
  {
   "cell_type": "code",
   "execution_count": 240,
   "metadata": {},
   "outputs": [
    {
     "data": {
      "text/plain": [
       "Gestiones"
      ]
     },
     "execution_count": 240,
     "metadata": {},
     "output_type": "execute_result"
    }
   ],
   "source": [
    "lista[0]"
   ]
  },
  {
   "cell_type": "code",
   "execution_count": 241,
   "metadata": {},
   "outputs": [
    {
     "data": {
      "text/plain": [
       "'NOUN'"
      ]
     },
     "execution_count": 241,
     "metadata": {},
     "output_type": "execute_result"
    }
   ],
   "source": [
    "lista[0].pos_"
   ]
  },
  {
   "cell_type": "code",
   "execution_count": 246,
   "metadata": {},
   "outputs": [],
   "source": [
    "nouns=[]\n",
    "verb=[]\n",
    "\n",
    "for w in lista:\n",
    "    if w.pos_== 'NOUN':\n",
    "        nouns.append(w)\n",
    "    if w.pos_== 'VERB':\n",
    "        verb.append(w)\n",
    "    "
   ]
  },
  {
   "cell_type": "code",
   "execution_count": 249,
   "metadata": {},
   "outputs": [],
   "source": [
    "df_clean = df[['task description', 'field', 'level1', 'level2', 'level3']]"
   ]
  },
  {
   "cell_type": "code",
   "execution_count": 252,
   "metadata": {},
   "outputs": [
    {
     "data": {
      "text/plain": [
       "3"
      ]
     },
     "execution_count": 252,
     "metadata": {},
     "output_type": "execute_result"
    }
   ],
   "source": [
    "len(nouns)"
   ]
  },
  {
   "cell_type": "code",
   "execution_count": 250,
   "metadata": {},
   "outputs": [
    {
     "ename": "ValueError",
     "evalue": "Length of values does not match length of index",
     "output_type": "error",
     "traceback": [
      "\u001b[0;31m---------------------------------------------------------------------------\u001b[0m",
      "\u001b[0;31mValueError\u001b[0m                                Traceback (most recent call last)",
      "\u001b[0;32m<ipython-input-250-019203bbad9e>\u001b[0m in \u001b[0;36m<module>\u001b[0;34m\u001b[0m\n\u001b[0;32m----> 1\u001b[0;31m \u001b[0mdf_clean\u001b[0m\u001b[0;34m[\u001b[0m\u001b[0;34m'nouns'\u001b[0m\u001b[0;34m]\u001b[0m \u001b[0;34m=\u001b[0m \u001b[0mnouns\u001b[0m\u001b[0;34m\u001b[0m\u001b[0;34m\u001b[0m\u001b[0m\n\u001b[0m",
      "\u001b[0;32m~/miniconda3/envs/ihm1_env/lib/python3.7/site-packages/pandas/core/frame.py\u001b[0m in \u001b[0;36m__setitem__\u001b[0;34m(self, key, value)\u001b[0m\n\u001b[1;32m   2936\u001b[0m         \u001b[0;32melse\u001b[0m\u001b[0;34m:\u001b[0m\u001b[0;34m\u001b[0m\u001b[0;34m\u001b[0m\u001b[0m\n\u001b[1;32m   2937\u001b[0m             \u001b[0;31m# set column\u001b[0m\u001b[0;34m\u001b[0m\u001b[0;34m\u001b[0m\u001b[0;34m\u001b[0m\u001b[0m\n\u001b[0;32m-> 2938\u001b[0;31m             \u001b[0mself\u001b[0m\u001b[0;34m.\u001b[0m\u001b[0m_set_item\u001b[0m\u001b[0;34m(\u001b[0m\u001b[0mkey\u001b[0m\u001b[0;34m,\u001b[0m \u001b[0mvalue\u001b[0m\u001b[0;34m)\u001b[0m\u001b[0;34m\u001b[0m\u001b[0;34m\u001b[0m\u001b[0m\n\u001b[0m\u001b[1;32m   2939\u001b[0m \u001b[0;34m\u001b[0m\u001b[0m\n\u001b[1;32m   2940\u001b[0m     \u001b[0;32mdef\u001b[0m \u001b[0m_setitem_slice\u001b[0m\u001b[0;34m(\u001b[0m\u001b[0mself\u001b[0m\u001b[0;34m,\u001b[0m \u001b[0mkey\u001b[0m\u001b[0;34m,\u001b[0m \u001b[0mvalue\u001b[0m\u001b[0;34m)\u001b[0m\u001b[0;34m:\u001b[0m\u001b[0;34m\u001b[0m\u001b[0;34m\u001b[0m\u001b[0m\n",
      "\u001b[0;32m~/miniconda3/envs/ihm1_env/lib/python3.7/site-packages/pandas/core/frame.py\u001b[0m in \u001b[0;36m_set_item\u001b[0;34m(self, key, value)\u001b[0m\n\u001b[1;32m   2998\u001b[0m \u001b[0;34m\u001b[0m\u001b[0m\n\u001b[1;32m   2999\u001b[0m         \u001b[0mself\u001b[0m\u001b[0;34m.\u001b[0m\u001b[0m_ensure_valid_index\u001b[0m\u001b[0;34m(\u001b[0m\u001b[0mvalue\u001b[0m\u001b[0;34m)\u001b[0m\u001b[0;34m\u001b[0m\u001b[0;34m\u001b[0m\u001b[0m\n\u001b[0;32m-> 3000\u001b[0;31m         \u001b[0mvalue\u001b[0m \u001b[0;34m=\u001b[0m \u001b[0mself\u001b[0m\u001b[0;34m.\u001b[0m\u001b[0m_sanitize_column\u001b[0m\u001b[0;34m(\u001b[0m\u001b[0mkey\u001b[0m\u001b[0;34m,\u001b[0m \u001b[0mvalue\u001b[0m\u001b[0;34m)\u001b[0m\u001b[0;34m\u001b[0m\u001b[0;34m\u001b[0m\u001b[0m\n\u001b[0m\u001b[1;32m   3001\u001b[0m         \u001b[0mNDFrame\u001b[0m\u001b[0;34m.\u001b[0m\u001b[0m_set_item\u001b[0m\u001b[0;34m(\u001b[0m\u001b[0mself\u001b[0m\u001b[0;34m,\u001b[0m \u001b[0mkey\u001b[0m\u001b[0;34m,\u001b[0m \u001b[0mvalue\u001b[0m\u001b[0;34m)\u001b[0m\u001b[0;34m\u001b[0m\u001b[0;34m\u001b[0m\u001b[0m\n\u001b[1;32m   3002\u001b[0m \u001b[0;34m\u001b[0m\u001b[0m\n",
      "\u001b[0;32m~/miniconda3/envs/ihm1_env/lib/python3.7/site-packages/pandas/core/frame.py\u001b[0m in \u001b[0;36m_sanitize_column\u001b[0;34m(self, key, value, broadcast)\u001b[0m\n\u001b[1;32m   3634\u001b[0m \u001b[0;34m\u001b[0m\u001b[0m\n\u001b[1;32m   3635\u001b[0m             \u001b[0;31m# turn me into an ndarray\u001b[0m\u001b[0;34m\u001b[0m\u001b[0;34m\u001b[0m\u001b[0;34m\u001b[0m\u001b[0m\n\u001b[0;32m-> 3636\u001b[0;31m             \u001b[0mvalue\u001b[0m \u001b[0;34m=\u001b[0m \u001b[0msanitize_index\u001b[0m\u001b[0;34m(\u001b[0m\u001b[0mvalue\u001b[0m\u001b[0;34m,\u001b[0m \u001b[0mself\u001b[0m\u001b[0;34m.\u001b[0m\u001b[0mindex\u001b[0m\u001b[0;34m,\u001b[0m \u001b[0mcopy\u001b[0m\u001b[0;34m=\u001b[0m\u001b[0;32mFalse\u001b[0m\u001b[0;34m)\u001b[0m\u001b[0;34m\u001b[0m\u001b[0;34m\u001b[0m\u001b[0m\n\u001b[0m\u001b[1;32m   3637\u001b[0m             \u001b[0;32mif\u001b[0m \u001b[0;32mnot\u001b[0m \u001b[0misinstance\u001b[0m\u001b[0;34m(\u001b[0m\u001b[0mvalue\u001b[0m\u001b[0;34m,\u001b[0m \u001b[0;34m(\u001b[0m\u001b[0mnp\u001b[0m\u001b[0;34m.\u001b[0m\u001b[0mndarray\u001b[0m\u001b[0;34m,\u001b[0m \u001b[0mIndex\u001b[0m\u001b[0;34m)\u001b[0m\u001b[0;34m)\u001b[0m\u001b[0;34m:\u001b[0m\u001b[0;34m\u001b[0m\u001b[0;34m\u001b[0m\u001b[0m\n\u001b[1;32m   3638\u001b[0m                 \u001b[0;32mif\u001b[0m \u001b[0misinstance\u001b[0m\u001b[0;34m(\u001b[0m\u001b[0mvalue\u001b[0m\u001b[0;34m,\u001b[0m \u001b[0mlist\u001b[0m\u001b[0;34m)\u001b[0m \u001b[0;32mand\u001b[0m \u001b[0mlen\u001b[0m\u001b[0;34m(\u001b[0m\u001b[0mvalue\u001b[0m\u001b[0;34m)\u001b[0m \u001b[0;34m>\u001b[0m \u001b[0;36m0\u001b[0m\u001b[0;34m:\u001b[0m\u001b[0;34m\u001b[0m\u001b[0;34m\u001b[0m\u001b[0m\n",
      "\u001b[0;32m~/miniconda3/envs/ihm1_env/lib/python3.7/site-packages/pandas/core/internals/construction.py\u001b[0m in \u001b[0;36msanitize_index\u001b[0;34m(data, index, copy)\u001b[0m\n\u001b[1;32m    609\u001b[0m \u001b[0;34m\u001b[0m\u001b[0m\n\u001b[1;32m    610\u001b[0m     \u001b[0;32mif\u001b[0m \u001b[0mlen\u001b[0m\u001b[0;34m(\u001b[0m\u001b[0mdata\u001b[0m\u001b[0;34m)\u001b[0m \u001b[0;34m!=\u001b[0m \u001b[0mlen\u001b[0m\u001b[0;34m(\u001b[0m\u001b[0mindex\u001b[0m\u001b[0;34m)\u001b[0m\u001b[0;34m:\u001b[0m\u001b[0;34m\u001b[0m\u001b[0;34m\u001b[0m\u001b[0m\n\u001b[0;32m--> 611\u001b[0;31m         \u001b[0;32mraise\u001b[0m \u001b[0mValueError\u001b[0m\u001b[0;34m(\u001b[0m\u001b[0;34m\"Length of values does not match length of index\"\u001b[0m\u001b[0;34m)\u001b[0m\u001b[0;34m\u001b[0m\u001b[0;34m\u001b[0m\u001b[0m\n\u001b[0m\u001b[1;32m    612\u001b[0m \u001b[0;34m\u001b[0m\u001b[0m\n\u001b[1;32m    613\u001b[0m     \u001b[0;32mif\u001b[0m \u001b[0misinstance\u001b[0m\u001b[0;34m(\u001b[0m\u001b[0mdata\u001b[0m\u001b[0;34m,\u001b[0m \u001b[0mABCIndexClass\u001b[0m\u001b[0;34m)\u001b[0m \u001b[0;32mand\u001b[0m \u001b[0;32mnot\u001b[0m \u001b[0mcopy\u001b[0m\u001b[0;34m:\u001b[0m\u001b[0;34m\u001b[0m\u001b[0;34m\u001b[0m\u001b[0m\n",
      "\u001b[0;31mValueError\u001b[0m: Length of values does not match length of index"
     ]
    }
   ],
   "source": [
    "#incluir una columna con los nombres, a la que se le dara mas valor que aquella de los verbos, por ejemplo\n",
    "\n",
    "\n",
    "df_clean['nouns'] = nouns"
   ]
  },
  {
   "cell_type": "code",
   "execution_count": 245,
   "metadata": {},
   "outputs": [
    {
     "data": {
      "text/plain": [
       "[Gestiones, impagos, clientes]"
      ]
     },
     "execution_count": 245,
     "metadata": {},
     "output_type": "execute_result"
    }
   ],
   "source": [
    "nouns"
   ]
  },
  {
   "cell_type": "code",
   "execution_count": 231,
   "metadata": {},
   "outputs": [
    {
     "data": {
      "text/plain": [
       "'Gestiones con impagos de clientes'"
      ]
     },
     "execution_count": 231,
     "metadata": {},
     "output_type": "execute_result"
    }
   ],
   "source": [
    "task"
   ]
  },
  {
   "cell_type": "code",
   "execution_count": 232,
   "metadata": {},
   "outputs": [
    {
     "name": "stdout",
     "output_type": "stream",
     "text": [
      "Gestiones Gestiones NOUN\n",
      "con con ADP\n",
      "impagos impago NOUN\n",
      "de de ADP\n",
      "clientes cliente NOUN\n"
     ]
    }
   ],
   "source": [
    "docex=nlp(task)\n",
    "for w in docex:\n",
    "    print(w.text,w.lemma_,w.pos_)"
   ]
  },
  {
   "cell_type": "code",
   "execution_count": null,
   "metadata": {},
   "outputs": [],
   "source": []
  },
  {
   "cell_type": "code",
   "execution_count": null,
   "metadata": {},
   "outputs": [],
   "source": []
  },
  {
   "cell_type": "code",
   "execution_count": 104,
   "metadata": {},
   "outputs": [
    {
     "name": "stdout",
     "output_type": "stream",
     "text": [
      "Gestiones Xxxxx True\n",
      "con xxx True\n",
      "impagos xxxx True\n",
      "de xx True\n",
      "clientes xxxx True\n"
     ]
    }
   ],
   "source": [
    "#La forma de las palabras y saber si la palabra contiene caracteres #alfanumericos,si si devuelve True.\n",
    "for palabra in doc[:20]:\n",
    "    print(palabra.text,palabra.shape_,palabra.is_alpha)"
   ]
  },
  {
   "cell_type": "code",
   "execution_count": 105,
   "metadata": {},
   "outputs": [
    {
     "name": "stdout",
     "output_type": "stream",
     "text": [
      "('Gestiones', 'NOUN', 'NOUN__Gender=Fem|Number=Plur', 'ROOT')\n",
      "('con', 'ADP', 'ADP__AdpType=Prep', 'case')\n",
      "('impagos', 'NOUN', 'NOUN__Gender=Masc|Number=Plur', 'nmod')\n",
      "('de', 'ADP', 'ADP__AdpType=Prep', 'case')\n",
      "('clientes', 'NOUN', 'NOUN__Number=Plur', 'nmod')\n"
     ]
    }
   ],
   "source": [
    "for palabra in doc[:10]:\n",
    "    print((palabra.text,palabra.pos_,palabra.tag_,palabra.dep_))"
   ]
  },
  {
   "cell_type": "code",
   "execution_count": 106,
   "metadata": {},
   "outputs": [
    {
     "data": {
      "text/plain": [
       "'adjectival modifier'"
      ]
     },
     "execution_count": 106,
     "metadata": {},
     "output_type": "execute_result"
    }
   ],
   "source": [
    "spacy.explain('amod')"
   ]
  },
  {
   "cell_type": "code",
   "execution_count": 115,
   "metadata": {},
   "outputs": [
    {
     "data": {
      "text/html": [
       "<span class=\"tex2jax_ignore\"><svg xmlns=\"http://www.w3.org/2000/svg\" xmlns:xlink=\"http://www.w3.org/1999/xlink\" xml:lang=\"es\" id=\"73d33378cd554ebf99ab3cfe6cbb9e42-0\" class=\"displacy\" width=\"575\" height=\"312.0\" direction=\"ltr\" style=\"max-width: none; height: 312.0px; color: #000000; background: #ffffff; font-family: Arial; direction: ltr\">\n",
       "<text class=\"displacy-token\" fill=\"currentColor\" text-anchor=\"middle\" y=\"222.0\">\n",
       "    <tspan class=\"displacy-word\" fill=\"currentColor\" x=\"50\">que</tspan>\n",
       "    <tspan class=\"displacy-tag\" dy=\"2em\" fill=\"currentColor\" x=\"50\">SCONJ</tspan>\n",
       "</text>\n",
       "\n",
       "<text class=\"displacy-token\" fill=\"currentColor\" text-anchor=\"middle\" y=\"222.0\">\n",
       "    <tspan class=\"displacy-word\" fill=\"currentColor\" x=\"225\">calor</tspan>\n",
       "    <tspan class=\"displacy-tag\" dy=\"2em\" fill=\"currentColor\" x=\"225\">NOUN</tspan>\n",
       "</text>\n",
       "\n",
       "<text class=\"displacy-token\" fill=\"currentColor\" text-anchor=\"middle\" y=\"222.0\">\n",
       "    <tspan class=\"displacy-word\" fill=\"currentColor\" x=\"400\">hace</tspan>\n",
       "    <tspan class=\"displacy-tag\" dy=\"2em\" fill=\"currentColor\" x=\"400\">VERB</tspan>\n",
       "</text>\n",
       "\n",
       "<g class=\"displacy-arrow\">\n",
       "    <path class=\"displacy-arc\" id=\"arrow-73d33378cd554ebf99ab3cfe6cbb9e42-0-0\" stroke-width=\"2px\" d=\"M70,177.0 C70,2.0 400.0,2.0 400.0,177.0\" fill=\"none\" stroke=\"currentColor\"/>\n",
       "    <text dy=\"1.25em\" style=\"font-size: 0.8em; letter-spacing: 1px\">\n",
       "        <textPath xlink:href=\"#arrow-73d33378cd554ebf99ab3cfe6cbb9e42-0-0\" class=\"displacy-label\" startOffset=\"50%\" side=\"left\" fill=\"currentColor\" text-anchor=\"middle\">mark</textPath>\n",
       "    </text>\n",
       "    <path class=\"displacy-arrowhead\" d=\"M70,179.0 L62,167.0 78,167.0\" fill=\"currentColor\"/>\n",
       "</g>\n",
       "\n",
       "<g class=\"displacy-arrow\">\n",
       "    <path class=\"displacy-arc\" id=\"arrow-73d33378cd554ebf99ab3cfe6cbb9e42-0-1\" stroke-width=\"2px\" d=\"M245,177.0 C245,89.5 395.0,89.5 395.0,177.0\" fill=\"none\" stroke=\"currentColor\"/>\n",
       "    <text dy=\"1.25em\" style=\"font-size: 0.8em; letter-spacing: 1px\">\n",
       "        <textPath xlink:href=\"#arrow-73d33378cd554ebf99ab3cfe6cbb9e42-0-1\" class=\"displacy-label\" startOffset=\"50%\" side=\"left\" fill=\"currentColor\" text-anchor=\"middle\">nsubj</textPath>\n",
       "    </text>\n",
       "    <path class=\"displacy-arrowhead\" d=\"M245,179.0 L237,167.0 253,167.0\" fill=\"currentColor\"/>\n",
       "</g>\n",
       "</svg></span>"
      ],
      "text/plain": [
       "<IPython.core.display.HTML object>"
      ]
     },
     "metadata": {},
     "output_type": "display_data"
    },
    {
     "data": {
      "text/html": [
       "<span class=\"tex2jax_ignore\"><svg xmlns=\"http://www.w3.org/2000/svg\" xmlns:xlink=\"http://www.w3.org/1999/xlink\" xml:lang=\"es\" id=\"d9aa2ebebe144e968ea9fb2b5b8526aa-0\" class=\"displacy\" width=\"575\" height=\"312.0\" direction=\"ltr\" style=\"max-width: none; height: 312.0px; color: #000000; background: #ffffff; font-family: Arial; direction: ltr\">\n",
       "<text class=\"displacy-token\" fill=\"currentColor\" text-anchor=\"middle\" y=\"222.0\">\n",
       "    <tspan class=\"displacy-word\" fill=\"currentColor\" x=\"50\">que</tspan>\n",
       "    <tspan class=\"displacy-tag\" dy=\"2em\" fill=\"currentColor\" x=\"50\">SCONJ</tspan>\n",
       "</text>\n",
       "\n",
       "<text class=\"displacy-token\" fill=\"currentColor\" text-anchor=\"middle\" y=\"222.0\">\n",
       "    <tspan class=\"displacy-word\" fill=\"currentColor\" x=\"225\">calor</tspan>\n",
       "    <tspan class=\"displacy-tag\" dy=\"2em\" fill=\"currentColor\" x=\"225\">NOUN</tspan>\n",
       "</text>\n",
       "\n",
       "<text class=\"displacy-token\" fill=\"currentColor\" text-anchor=\"middle\" y=\"222.0\">\n",
       "    <tspan class=\"displacy-word\" fill=\"currentColor\" x=\"400\">hace</tspan>\n",
       "    <tspan class=\"displacy-tag\" dy=\"2em\" fill=\"currentColor\" x=\"400\">VERB</tspan>\n",
       "</text>\n",
       "\n",
       "<g class=\"displacy-arrow\">\n",
       "    <path class=\"displacy-arc\" id=\"arrow-d9aa2ebebe144e968ea9fb2b5b8526aa-0-0\" stroke-width=\"2px\" d=\"M70,177.0 C70,2.0 400.0,2.0 400.0,177.0\" fill=\"none\" stroke=\"currentColor\"/>\n",
       "    <text dy=\"1.25em\" style=\"font-size: 0.8em; letter-spacing: 1px\">\n",
       "        <textPath xlink:href=\"#arrow-d9aa2ebebe144e968ea9fb2b5b8526aa-0-0\" class=\"displacy-label\" startOffset=\"50%\" side=\"left\" fill=\"currentColor\" text-anchor=\"middle\">mark</textPath>\n",
       "    </text>\n",
       "    <path class=\"displacy-arrowhead\" d=\"M70,179.0 L62,167.0 78,167.0\" fill=\"currentColor\"/>\n",
       "</g>\n",
       "\n",
       "<g class=\"displacy-arrow\">\n",
       "    <path class=\"displacy-arc\" id=\"arrow-d9aa2ebebe144e968ea9fb2b5b8526aa-0-1\" stroke-width=\"2px\" d=\"M245,177.0 C245,89.5 395.0,89.5 395.0,177.0\" fill=\"none\" stroke=\"currentColor\"/>\n",
       "    <text dy=\"1.25em\" style=\"font-size: 0.8em; letter-spacing: 1px\">\n",
       "        <textPath xlink:href=\"#arrow-d9aa2ebebe144e968ea9fb2b5b8526aa-0-1\" class=\"displacy-label\" startOffset=\"50%\" side=\"left\" fill=\"currentColor\" text-anchor=\"middle\">nsubj</textPath>\n",
       "    </text>\n",
       "    <path class=\"displacy-arrowhead\" d=\"M245,179.0 L237,167.0 253,167.0\" fill=\"currentColor\"/>\n",
       "</g>\n",
       "</svg></span>"
      ],
      "text/plain": [
       "<IPython.core.display.HTML object>"
      ]
     },
     "metadata": {},
     "output_type": "display_data"
    },
    {
     "data": {
      "text/html": [
       "<span class=\"tex2jax_ignore\"><svg xmlns=\"http://www.w3.org/2000/svg\" xmlns:xlink=\"http://www.w3.org/1999/xlink\" xml:lang=\"es\" id=\"f4cf783568984bdfa50720826eb77855-0\" class=\"displacy\" width=\"575\" height=\"312.0\" direction=\"ltr\" style=\"max-width: none; height: 312.0px; color: #000000; background: #ffffff; font-family: Arial; direction: ltr\">\n",
       "<text class=\"displacy-token\" fill=\"currentColor\" text-anchor=\"middle\" y=\"222.0\">\n",
       "    <tspan class=\"displacy-word\" fill=\"currentColor\" x=\"50\">que</tspan>\n",
       "    <tspan class=\"displacy-tag\" dy=\"2em\" fill=\"currentColor\" x=\"50\">SCONJ</tspan>\n",
       "</text>\n",
       "\n",
       "<text class=\"displacy-token\" fill=\"currentColor\" text-anchor=\"middle\" y=\"222.0\">\n",
       "    <tspan class=\"displacy-word\" fill=\"currentColor\" x=\"225\">calor</tspan>\n",
       "    <tspan class=\"displacy-tag\" dy=\"2em\" fill=\"currentColor\" x=\"225\">NOUN</tspan>\n",
       "</text>\n",
       "\n",
       "<text class=\"displacy-token\" fill=\"currentColor\" text-anchor=\"middle\" y=\"222.0\">\n",
       "    <tspan class=\"displacy-word\" fill=\"currentColor\" x=\"400\">hace</tspan>\n",
       "    <tspan class=\"displacy-tag\" dy=\"2em\" fill=\"currentColor\" x=\"400\">VERB</tspan>\n",
       "</text>\n",
       "\n",
       "<g class=\"displacy-arrow\">\n",
       "    <path class=\"displacy-arc\" id=\"arrow-f4cf783568984bdfa50720826eb77855-0-0\" stroke-width=\"2px\" d=\"M70,177.0 C70,2.0 400.0,2.0 400.0,177.0\" fill=\"none\" stroke=\"currentColor\"/>\n",
       "    <text dy=\"1.25em\" style=\"font-size: 0.8em; letter-spacing: 1px\">\n",
       "        <textPath xlink:href=\"#arrow-f4cf783568984bdfa50720826eb77855-0-0\" class=\"displacy-label\" startOffset=\"50%\" side=\"left\" fill=\"currentColor\" text-anchor=\"middle\">mark</textPath>\n",
       "    </text>\n",
       "    <path class=\"displacy-arrowhead\" d=\"M70,179.0 L62,167.0 78,167.0\" fill=\"currentColor\"/>\n",
       "</g>\n",
       "\n",
       "<g class=\"displacy-arrow\">\n",
       "    <path class=\"displacy-arc\" id=\"arrow-f4cf783568984bdfa50720826eb77855-0-1\" stroke-width=\"2px\" d=\"M245,177.0 C245,89.5 395.0,89.5 395.0,177.0\" fill=\"none\" stroke=\"currentColor\"/>\n",
       "    <text dy=\"1.25em\" style=\"font-size: 0.8em; letter-spacing: 1px\">\n",
       "        <textPath xlink:href=\"#arrow-f4cf783568984bdfa50720826eb77855-0-1\" class=\"displacy-label\" startOffset=\"50%\" side=\"left\" fill=\"currentColor\" text-anchor=\"middle\">nsubj</textPath>\n",
       "    </text>\n",
       "    <path class=\"displacy-arrowhead\" d=\"M245,179.0 L237,167.0 253,167.0\" fill=\"currentColor\"/>\n",
       "</g>\n",
       "</svg></span>"
      ],
      "text/plain": [
       "<IPython.core.display.HTML object>"
      ]
     },
     "metadata": {},
     "output_type": "display_data"
    },
    {
     "data": {
      "text/html": [
       "<span class=\"tex2jax_ignore\"><svg xmlns=\"http://www.w3.org/2000/svg\" xmlns:xlink=\"http://www.w3.org/1999/xlink\" xml:lang=\"es\" id=\"0e34291ea77348b09d03032f06f18a23-0\" class=\"displacy\" width=\"575\" height=\"312.0\" direction=\"ltr\" style=\"max-width: none; height: 312.0px; color: #000000; background: #ffffff; font-family: Arial; direction: ltr\">\n",
       "<text class=\"displacy-token\" fill=\"currentColor\" text-anchor=\"middle\" y=\"222.0\">\n",
       "    <tspan class=\"displacy-word\" fill=\"currentColor\" x=\"50\">que</tspan>\n",
       "    <tspan class=\"displacy-tag\" dy=\"2em\" fill=\"currentColor\" x=\"50\">SCONJ</tspan>\n",
       "</text>\n",
       "\n",
       "<text class=\"displacy-token\" fill=\"currentColor\" text-anchor=\"middle\" y=\"222.0\">\n",
       "    <tspan class=\"displacy-word\" fill=\"currentColor\" x=\"225\">calor</tspan>\n",
       "    <tspan class=\"displacy-tag\" dy=\"2em\" fill=\"currentColor\" x=\"225\">NOUN</tspan>\n",
       "</text>\n",
       "\n",
       "<text class=\"displacy-token\" fill=\"currentColor\" text-anchor=\"middle\" y=\"222.0\">\n",
       "    <tspan class=\"displacy-word\" fill=\"currentColor\" x=\"400\">hace</tspan>\n",
       "    <tspan class=\"displacy-tag\" dy=\"2em\" fill=\"currentColor\" x=\"400\">VERB</tspan>\n",
       "</text>\n",
       "\n",
       "<g class=\"displacy-arrow\">\n",
       "    <path class=\"displacy-arc\" id=\"arrow-0e34291ea77348b09d03032f06f18a23-0-0\" stroke-width=\"2px\" d=\"M70,177.0 C70,2.0 400.0,2.0 400.0,177.0\" fill=\"none\" stroke=\"currentColor\"/>\n",
       "    <text dy=\"1.25em\" style=\"font-size: 0.8em; letter-spacing: 1px\">\n",
       "        <textPath xlink:href=\"#arrow-0e34291ea77348b09d03032f06f18a23-0-0\" class=\"displacy-label\" startOffset=\"50%\" side=\"left\" fill=\"currentColor\" text-anchor=\"middle\">mark</textPath>\n",
       "    </text>\n",
       "    <path class=\"displacy-arrowhead\" d=\"M70,179.0 L62,167.0 78,167.0\" fill=\"currentColor\"/>\n",
       "</g>\n",
       "\n",
       "<g class=\"displacy-arrow\">\n",
       "    <path class=\"displacy-arc\" id=\"arrow-0e34291ea77348b09d03032f06f18a23-0-1\" stroke-width=\"2px\" d=\"M245,177.0 C245,89.5 395.0,89.5 395.0,177.0\" fill=\"none\" stroke=\"currentColor\"/>\n",
       "    <text dy=\"1.25em\" style=\"font-size: 0.8em; letter-spacing: 1px\">\n",
       "        <textPath xlink:href=\"#arrow-0e34291ea77348b09d03032f06f18a23-0-1\" class=\"displacy-label\" startOffset=\"50%\" side=\"left\" fill=\"currentColor\" text-anchor=\"middle\">nsubj</textPath>\n",
       "    </text>\n",
       "    <path class=\"displacy-arrowhead\" d=\"M245,179.0 L237,167.0 253,167.0\" fill=\"currentColor\"/>\n",
       "</g>\n",
       "</svg></span>"
      ],
      "text/plain": [
       "<IPython.core.display.HTML object>"
      ]
     },
     "metadata": {},
     "output_type": "display_data"
    },
    {
     "data": {
      "text/html": [
       "<span class=\"tex2jax_ignore\"><svg xmlns=\"http://www.w3.org/2000/svg\" xmlns:xlink=\"http://www.w3.org/1999/xlink\" xml:lang=\"es\" id=\"8f1c4fbe327e48aa8e0e86633fcbe4f0-0\" class=\"displacy\" width=\"575\" height=\"312.0\" direction=\"ltr\" style=\"max-width: none; height: 312.0px; color: #000000; background: #ffffff; font-family: Arial; direction: ltr\">\n",
       "<text class=\"displacy-token\" fill=\"currentColor\" text-anchor=\"middle\" y=\"222.0\">\n",
       "    <tspan class=\"displacy-word\" fill=\"currentColor\" x=\"50\">que</tspan>\n",
       "    <tspan class=\"displacy-tag\" dy=\"2em\" fill=\"currentColor\" x=\"50\">SCONJ</tspan>\n",
       "</text>\n",
       "\n",
       "<text class=\"displacy-token\" fill=\"currentColor\" text-anchor=\"middle\" y=\"222.0\">\n",
       "    <tspan class=\"displacy-word\" fill=\"currentColor\" x=\"225\">calor</tspan>\n",
       "    <tspan class=\"displacy-tag\" dy=\"2em\" fill=\"currentColor\" x=\"225\">NOUN</tspan>\n",
       "</text>\n",
       "\n",
       "<text class=\"displacy-token\" fill=\"currentColor\" text-anchor=\"middle\" y=\"222.0\">\n",
       "    <tspan class=\"displacy-word\" fill=\"currentColor\" x=\"400\">hace</tspan>\n",
       "    <tspan class=\"displacy-tag\" dy=\"2em\" fill=\"currentColor\" x=\"400\">VERB</tspan>\n",
       "</text>\n",
       "\n",
       "<g class=\"displacy-arrow\">\n",
       "    <path class=\"displacy-arc\" id=\"arrow-8f1c4fbe327e48aa8e0e86633fcbe4f0-0-0\" stroke-width=\"2px\" d=\"M70,177.0 C70,2.0 400.0,2.0 400.0,177.0\" fill=\"none\" stroke=\"currentColor\"/>\n",
       "    <text dy=\"1.25em\" style=\"font-size: 0.8em; letter-spacing: 1px\">\n",
       "        <textPath xlink:href=\"#arrow-8f1c4fbe327e48aa8e0e86633fcbe4f0-0-0\" class=\"displacy-label\" startOffset=\"50%\" side=\"left\" fill=\"currentColor\" text-anchor=\"middle\">mark</textPath>\n",
       "    </text>\n",
       "    <path class=\"displacy-arrowhead\" d=\"M70,179.0 L62,167.0 78,167.0\" fill=\"currentColor\"/>\n",
       "</g>\n",
       "\n",
       "<g class=\"displacy-arrow\">\n",
       "    <path class=\"displacy-arc\" id=\"arrow-8f1c4fbe327e48aa8e0e86633fcbe4f0-0-1\" stroke-width=\"2px\" d=\"M245,177.0 C245,89.5 395.0,89.5 395.0,177.0\" fill=\"none\" stroke=\"currentColor\"/>\n",
       "    <text dy=\"1.25em\" style=\"font-size: 0.8em; letter-spacing: 1px\">\n",
       "        <textPath xlink:href=\"#arrow-8f1c4fbe327e48aa8e0e86633fcbe4f0-0-1\" class=\"displacy-label\" startOffset=\"50%\" side=\"left\" fill=\"currentColor\" text-anchor=\"middle\">nsubj</textPath>\n",
       "    </text>\n",
       "    <path class=\"displacy-arrowhead\" d=\"M245,179.0 L237,167.0 253,167.0\" fill=\"currentColor\"/>\n",
       "</g>\n",
       "</svg></span>"
      ],
      "text/plain": [
       "<IPython.core.display.HTML object>"
      ]
     },
     "metadata": {},
     "output_type": "display_data"
    }
   ],
   "source": [
    "for palabra in doc[:10]:\n",
    "    ex=nlp('que calor hace')\n",
    "    displacy.render(ex,style='dep',jupyter=True)"
   ]
  },
  {
   "cell_type": "code",
   "execution_count": 121,
   "metadata": {},
   "outputs": [
    {
     "data": {
      "text/html": [
       "<span class=\"tex2jax_ignore\"><div class=\"entities\" style=\"line-height: 2.5; direction: ltr\">\n",
       "<mark class=\"entity\" style=\"background: #ff9561; padding: 0.45em 0.6em; margin: 0 0.25em; line-height: 1; border-radius: 0.35em;\">\n",
       "    Gestiones\n",
       "    <span style=\"font-size: 0.8em; font-weight: bold; line-height: 1; border-radius: 0.35em; text-transform: uppercase; vertical-align: middle; margin-left: 0.5rem\">LOC</span>\n",
       "</mark>\n",
       " con impagos de clientes</div></span>"
      ],
      "text/plain": [
       "<IPython.core.display.HTML object>"
      ]
     },
     "metadata": {},
     "output_type": "display_data"
    }
   ],
   "source": [
    "displacy.render(doc,style='ent',jupyter=True)"
   ]
  },
  {
   "cell_type": "code",
   "execution_count": 122,
   "metadata": {},
   "outputs": [
    {
     "name": "stdout",
     "output_type": "stream",
     "text": [
      "estudiar estudiar VERB\n",
      "estudioso estudioso ADJ\n",
      "estudia estudiar VERB\n",
      "estudio estudiar NOUN\n",
      "estudiando estudiar VERB\n",
      "estudiante estudiante NOUN\n",
      "estudiaba estudiar AUX\n",
      "estudió estudiar VERB\n"
     ]
    }
   ],
   "source": [
    "docex=nlp('estudiar estudioso estudia estudio estudiando estudiante estudiaba estudió')\n",
    "for w in docex:\n",
    "    print(w.text,w.lemma_,w.pos_)"
   ]
  },
  {
   "cell_type": "code",
   "execution_count": 123,
   "metadata": {},
   "outputs": [
    {
     "name": "stdout",
     "output_type": "stream",
     "text": [
      "Gestiones LOC\n"
     ]
    }
   ],
   "source": [
    "for palabra in doc.ents[:15]:\n",
    "    print(palabra.text,palabra.label_)"
   ]
  },
  {
   "cell_type": "code",
   "execution_count": 124,
   "metadata": {},
   "outputs": [
    {
     "name": "stderr",
     "output_type": "stream",
     "text": [
      "/Users/luisdemiguel/miniconda3/envs/ihm1_env/lib/python3.7/site-packages/ipykernel_launcher.py:4: UserWarning: [W007] The model you're using has no word vectors loaded, so the result of the Doc.similarity method will be based on the tagger, parser and NER, which may not give useful similarity judgements. This may happen if you're using one of the small models, e.g. `en_core_web_sm`, which don't ship with word vectors and only use context-sensitive tensors. You can always add your own word vectors, or use one of the larger models instead if available.\n",
      "  after removing the cwd from sys.path.\n"
     ]
    },
    {
     "data": {
      "text/plain": [
       "0.3031889868525456"
      ]
     },
     "execution_count": 124,
     "metadata": {},
     "output_type": "execute_result"
    }
   ],
   "source": [
    "ex1=nlp('listo')\n",
    "ex2=nlp('inteligente')\n",
    "ex3=nlp('gato')\n",
    "ex1.similarity(ex2)"
   ]
  },
  {
   "cell_type": "code",
   "execution_count": 125,
   "metadata": {},
   "outputs": [
    {
     "name": "stdout",
     "output_type": "stream",
     "text": [
      "('gato', 'gato')  tienen una similaridad de:  1.0\n",
      "('gato', 'perro')  tienen una similaridad de:  0.53187203\n",
      "('gato', 'leon')  tienen una similaridad de:  0.5577475\n",
      "('gato', 'pez')  tienen una similaridad de:  0.4693795\n",
      "('gato', 'lobo')  tienen una similaridad de:  0.45393702\n",
      "('gato', 'delfin')  tienen una similaridad de:  0.46179682\n",
      "('gato', 'aguila')  tienen una similaridad de:  0.17261533\n",
      "('perro', 'gato')  tienen una similaridad de:  0.53187203\n",
      "('perro', 'perro')  tienen una similaridad de:  1.0\n",
      "('perro', 'leon')  tienen una similaridad de:  0.65943897\n",
      "('perro', 'pez')  tienen una similaridad de:  0.641515\n",
      "('perro', 'lobo')  tienen una similaridad de:  0.62681395\n",
      "('perro', 'delfin')  tienen una similaridad de:  0.5414231\n",
      "('perro', 'aguila')  tienen una similaridad de:  0.5141818\n",
      "('leon', 'gato')  tienen una similaridad de:  0.5577475\n",
      "('leon', 'perro')  tienen una similaridad de:  0.65943897\n",
      "('leon', 'leon')  tienen una similaridad de:  1.0\n",
      "('leon', 'pez')  tienen una similaridad de:  0.5023716\n",
      "('leon', 'lobo')  tienen una similaridad de:  0.64883775\n",
      "('leon', 'delfin')  tienen una similaridad de:  0.47509614\n",
      "('leon', 'aguila')  tienen una similaridad de:  0.5631875\n",
      "('pez', 'gato')  tienen una similaridad de:  0.4693795\n",
      "('pez', 'perro')  tienen una similaridad de:  0.641515\n",
      "('pez', 'leon')  tienen una similaridad de:  0.5023716\n",
      "('pez', 'pez')  tienen una similaridad de:  1.0\n",
      "('pez', 'lobo')  tienen una similaridad de:  0.49002558\n",
      "('pez', 'delfin')  tienen una similaridad de:  0.49954596\n",
      "('pez', 'aguila')  tienen una similaridad de:  0.4170523\n",
      "('lobo', 'gato')  tienen una similaridad de:  0.45393702\n",
      "('lobo', 'perro')  tienen una similaridad de:  0.62681395\n",
      "('lobo', 'leon')  tienen una similaridad de:  0.64883775\n",
      "('lobo', 'pez')  tienen una similaridad de:  0.49002558\n",
      "('lobo', 'lobo')  tienen una similaridad de:  1.0\n",
      "('lobo', 'delfin')  tienen una similaridad de:  0.34069517\n",
      "('lobo', 'aguila')  tienen una similaridad de:  0.38931495\n",
      "('delfin', 'gato')  tienen una similaridad de:  0.46179682\n",
      "('delfin', 'perro')  tienen una similaridad de:  0.5414231\n",
      "('delfin', 'leon')  tienen una similaridad de:  0.47509614\n",
      "('delfin', 'pez')  tienen una similaridad de:  0.49954596\n",
      "('delfin', 'lobo')  tienen una similaridad de:  0.34069517\n",
      "('delfin', 'delfin')  tienen una similaridad de:  1.0\n",
      "('delfin', 'aguila')  tienen una similaridad de:  0.28619283\n",
      "('aguila', 'gato')  tienen una similaridad de:  0.17261533\n",
      "('aguila', 'perro')  tienen una similaridad de:  0.5141818\n",
      "('aguila', 'leon')  tienen una similaridad de:  0.5631875\n",
      "('aguila', 'pez')  tienen una similaridad de:  0.4170523\n",
      "('aguila', 'lobo')  tienen una similaridad de:  0.38931495\n",
      "('aguila', 'delfin')  tienen una similaridad de:  0.28619283\n",
      "('aguila', 'aguila')  tienen una similaridad de:  1.0\n"
     ]
    },
    {
     "name": "stderr",
     "output_type": "stream",
     "text": [
      "/Users/luisdemiguel/miniconda3/envs/ihm1_env/lib/python3.7/site-packages/ipykernel_launcher.py:4: UserWarning: [W007] The model you're using has no word vectors loaded, so the result of the Token.similarity method will be based on the tagger, parser and NER, which may not give useful similarity judgements. This may happen if you're using one of the small models, e.g. `en_core_web_sm`, which don't ship with word vectors and only use context-sensitive tensors. You can always add your own word vectors, or use one of the larger models instead if available.\n",
      "  after removing the cwd from sys.path.\n"
     ]
    }
   ],
   "source": [
    "lista=nlp('gato perro leon pez lobo delfin aguila')\n",
    "for w1 in lista:\n",
    "    for w2 in lista:\n",
    "        print((w1.text,w2.text),' tienen una similaridad de: ',w1.similarity(w2))"
   ]
  },
  {
   "cell_type": "code",
   "execution_count": 127,
   "metadata": {},
   "outputs": [
    {
     "name": "stdout",
     "output_type": "stream",
     "text": [
      "['quizás', 'éstos', 'hoy', 'eramos', 'esta', 'ellos', 'delante', 'dijeron', 'habla', 'primero', 'tenido', 'ese', 'ha', 'saber', 'demás', 'tener', 'hecho', 'agregó', 'sabeis', 'no', 'final', 'tuyas', 'sigue', 'cuanto', 'trata', 'varios', 'dicho', 'estará', 'realizado', 'empleo']\n"
     ]
    }
   ],
   "source": [
    "print(list(STOP_WORDS)[:30])"
   ]
  },
  {
   "cell_type": "code",
   "execution_count": 143,
   "metadata": {},
   "outputs": [
    {
     "data": {
      "text/plain": [
       "Gestiones con impagos de clientes"
      ]
     },
     "execution_count": 143,
     "metadata": {},
     "output_type": "execute_result"
    }
   ],
   "source": [
    "doc"
   ]
  },
  {
   "cell_type": "code",
   "execution_count": 128,
   "metadata": {},
   "outputs": [
    {
     "name": "stdout",
     "output_type": "stream",
     "text": [
      "[Gestiones, impagos, clientes]\n"
     ]
    }
   ],
   "source": [
    "#Para filtrar stopwords\n",
    "lista=[palabra for palabra in doc if palabra.is_stop==False]\n",
    "print(lista[:100])"
   ]
  },
  {
   "cell_type": "code",
   "execution_count": 129,
   "metadata": {},
   "outputs": [
    {
     "data": {
      "text/plain": [
       "'Gestiones impagos clientes'"
      ]
     },
     "execution_count": 129,
     "metadata": {},
     "output_type": "execute_result"
    }
   ],
   "source": [
    "#De manera similar\n",
    "' '.join([palabra.text for palabra in doc[:120] if palabra.is_stop==False]).replace('\\n','')"
   ]
  },
  {
   "cell_type": "code",
   "execution_count": 130,
   "metadata": {},
   "outputs": [
    {
     "name": "stdout",
     "output_type": "stream",
     "text": [
      "Gestiones su conector es:  Gestiones\n",
      "impagos su conector es:  Gestiones\n",
      "clientes su conector es:  impagos\n"
     ]
    }
   ],
   "source": [
    "for palabra in doc.noun_chunks:\n",
    "    print(palabra.root.text,'su conector es: ', palabra.root.head.text)"
   ]
  },
  {
   "cell_type": "code",
   "execution_count": null,
   "metadata": {},
   "outputs": [],
   "source": []
  },
  {
   "cell_type": "code",
   "execution_count": 40,
   "metadata": {},
   "outputs": [],
   "source": [
    "\n",
    "import re\n",
    "\n",
    "def spacy_tokenizer(sentence):\n",
    "\n",
    "    tokens = parser(sentence)\n",
    "    \n",
    "    filtered_tokens = []\n",
    "    for word in tokens:\n",
    "        lemma = word.lemma_.lower().strip()\n",
    "        \n",
    "        if lemma not in STOP_WORDS and re.search('^[a-zA-Z]+$', lemma):\n",
    "            filtered_tokens.append(lemma)\n",
    "\n",
    "    return filtered_tokens"
   ]
  },
  {
   "cell_type": "code",
   "execution_count": null,
   "metadata": {},
   "outputs": [],
   "source": []
  }
 ],
 "metadata": {
  "kernelspec": {
   "display_name": "Python [conda env:ihm1_env]",
   "language": "python",
   "name": "conda-env-ihm1_env-py"
  },
  "language_info": {
   "codemirror_mode": {
    "name": "ipython",
    "version": 3
   },
   "file_extension": ".py",
   "mimetype": "text/x-python",
   "name": "python",
   "nbconvert_exporter": "python",
   "pygments_lexer": "ipython3",
   "version": "3.7.3"
  }
 },
 "nbformat": 4,
 "nbformat_minor": 4
}
