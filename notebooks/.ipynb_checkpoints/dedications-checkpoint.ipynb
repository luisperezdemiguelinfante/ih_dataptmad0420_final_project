{
 "cells": [
  {
   "cell_type": "code",
   "execution_count": 441,
   "metadata": {},
   "outputs": [],
   "source": [
    "import pandas as pd\n",
    "import matplotlib.pyplot as plt"
   ]
  },
  {
   "cell_type": "code",
   "execution_count": 50,
   "metadata": {},
   "outputs": [
    {
     "name": "stdout",
     "output_type": "stream",
     "text": [
      "empresa/pestañagarnica dedicaciones\n"
     ]
    }
   ],
   "source": [
    "opening = input('empresa/pestaña')\n",
    "opening_words = opening.split()"
   ]
  },
  {
   "cell_type": "code",
   "execution_count": 51,
   "metadata": {},
   "outputs": [],
   "source": [
    "empresa = opening.split()[0]\n",
    "pestaña = opening.split()[1]"
   ]
  },
  {
   "cell_type": "code",
   "execution_count": 52,
   "metadata": {},
   "outputs": [
    {
     "data": {
      "text/plain": [
       "'dedicaciones'"
      ]
     },
     "execution_count": 52,
     "metadata": {},
     "output_type": "execute_result"
    }
   ],
   "source": [
    "pestaña"
   ]
  },
  {
   "cell_type": "code",
   "execution_count": 53,
   "metadata": {},
   "outputs": [],
   "source": [
    "dedicacion = pd.read_excel('/Users/luisdemiguel/Desktop/Ironhack/ih_dataptmad0420_final_project/ih_dataptmad0420_final_project/template/data/raw/'+ empresa + '.xlsx', sheet_name=pestaña)\n",
    "#job_filetered = empresa[['Skills', role]].fillna(0)\n",
    "#job_filetered['weight']=(job_filetered[role]/job_filetered[role].sum()) * 100"
   ]
  },
  {
   "cell_type": "markdown",
   "metadata": {},
   "source": [
    "# 1. Clean sheet"
   ]
  },
  {
   "cell_type": "code",
   "execution_count": 91,
   "metadata": {},
   "outputs": [],
   "source": [
    "dedicacion_clean = dedicacion[['site','employee','position','task description','reported fte','total','field','level1','level2','level3','operative model']].dropna()"
   ]
  },
  {
   "cell_type": "code",
   "execution_count": 92,
   "metadata": {
    "scrolled": true
   },
   "outputs": [
    {
     "data": {
      "text/html": [
       "<div>\n",
       "<style scoped>\n",
       "    .dataframe tbody tr th:only-of-type {\n",
       "        vertical-align: middle;\n",
       "    }\n",
       "\n",
       "    .dataframe tbody tr th {\n",
       "        vertical-align: top;\n",
       "    }\n",
       "\n",
       "    .dataframe thead th {\n",
       "        text-align: right;\n",
       "    }\n",
       "</style>\n",
       "<table border=\"1\" class=\"dataframe\">\n",
       "  <thead>\n",
       "    <tr style=\"text-align: right;\">\n",
       "      <th></th>\n",
       "      <th>site</th>\n",
       "      <th>employee</th>\n",
       "      <th>position</th>\n",
       "      <th>task description</th>\n",
       "      <th>reported fte</th>\n",
       "      <th>total</th>\n",
       "      <th>field</th>\n",
       "      <th>level1</th>\n",
       "      <th>level2</th>\n",
       "      <th>level3</th>\n",
       "      <th>operative model</th>\n",
       "    </tr>\n",
       "  </thead>\n",
       "  <tbody>\n",
       "    <tr>\n",
       "      <th>0</th>\n",
       "      <td>hq</td>\n",
       "      <td>Adolfo Pina</td>\n",
       "      <td>Planifficación</td>\n",
       "      <td>Liderar, coordinar y apoyar al equipo de Plani...</td>\n",
       "      <td>0.251142</td>\n",
       "      <td>440.00</td>\n",
       "      <td>supply chain</td>\n",
       "      <td>planificacion</td>\n",
       "      <td>Gestión del Proceso</td>\n",
       "      <td>Planificación del Personal</td>\n",
       "      <td>HQ</td>\n",
       "    </tr>\n",
       "    <tr>\n",
       "      <th>1</th>\n",
       "      <td>hq</td>\n",
       "      <td>Ana Muñoz</td>\n",
       "      <td>Admin - Compras</td>\n",
       "      <td>Alimentar registros info en SAP</td>\n",
       "      <td>0.027397</td>\n",
       "      <td>48.00</td>\n",
       "      <td>supply chain</td>\n",
       "      <td>procurement</td>\n",
       "      <td>Gestión de Maestros</td>\n",
       "      <td>Actualizar registros info Artículos</td>\n",
       "      <td>HQ</td>\n",
       "    </tr>\n",
       "    <tr>\n",
       "      <th>2</th>\n",
       "      <td>hq</td>\n",
       "      <td>Adolfo Pina</td>\n",
       "      <td>Planifficación</td>\n",
       "      <td>Gestión de la capacidad. Actualizar el plan pr...</td>\n",
       "      <td>0.100457</td>\n",
       "      <td>176.00</td>\n",
       "      <td>supply chain</td>\n",
       "      <td>planificacion</td>\n",
       "      <td>Gestión del Proceso</td>\n",
       "      <td>Planificación de la Producción</td>\n",
       "      <td>HQ</td>\n",
       "    </tr>\n",
       "    <tr>\n",
       "      <th>3</th>\n",
       "      <td>hq</td>\n",
       "      <td>Adolfo Pina</td>\n",
       "      <td>Planifficación</td>\n",
       "      <td>Reportar situación de capacidad a CS y comerci...</td>\n",
       "      <td>0.012557</td>\n",
       "      <td>22.00</td>\n",
       "      <td>supply chain</td>\n",
       "      <td>planificacion</td>\n",
       "      <td>Gestión del Proceso</td>\n",
       "      <td>Elaboración KPI e Informes</td>\n",
       "      <td>HQ</td>\n",
       "    </tr>\n",
       "    <tr>\n",
       "      <th>4</th>\n",
       "      <td>hq</td>\n",
       "      <td>Adolfo Pina</td>\n",
       "      <td>Planifficación</td>\n",
       "      <td>Resources Planning de madera y traslado de nec...</td>\n",
       "      <td>0.037671</td>\n",
       "      <td>66.00</td>\n",
       "      <td>supply chain</td>\n",
       "      <td>planificacion</td>\n",
       "      <td>Gestión de Almacenes</td>\n",
       "      <td>Planificación de necesidades</td>\n",
       "      <td>HQ</td>\n",
       "    </tr>\n",
       "    <tr>\n",
       "      <th>...</th>\n",
       "      <td>...</td>\n",
       "      <td>...</td>\n",
       "      <td>...</td>\n",
       "      <td>...</td>\n",
       "      <td>...</td>\n",
       "      <td>...</td>\n",
       "      <td>...</td>\n",
       "      <td>...</td>\n",
       "      <td>...</td>\n",
       "      <td>...</td>\n",
       "      <td>...</td>\n",
       "    </tr>\n",
       "    <tr>\n",
       "      <th>1249</th>\n",
       "      <td>hq</td>\n",
       "      <td>Yavor Panchev</td>\n",
       "      <td>Customer Service USA</td>\n",
       "      <td>Reuniones equipo (Semanales, KPI, calidad, Ser...</td>\n",
       "      <td>0.070000</td>\n",
       "      <td>122.64</td>\n",
       "      <td>supply chain</td>\n",
       "      <td>customer service</td>\n",
       "      <td>Gestión del Proceso Estrategica</td>\n",
       "      <td>Meetings y reuniones</td>\n",
       "      <td>HQ</td>\n",
       "    </tr>\n",
       "    <tr>\n",
       "      <th>1250</th>\n",
       "      <td>hq</td>\n",
       "      <td>Yavor Panchev</td>\n",
       "      <td>Customer Service USA</td>\n",
       "      <td>Consultas/Gestiones varias con clientes (mail,...</td>\n",
       "      <td>0.050000</td>\n",
       "      <td>87.60</td>\n",
       "      <td>supply chain</td>\n",
       "      <td>customer service</td>\n",
       "      <td>Servicio al Cliente/ Post-Venta</td>\n",
       "      <td>Consultas Clientes</td>\n",
       "      <td>CSC</td>\n",
       "    </tr>\n",
       "    <tr>\n",
       "      <th>1251</th>\n",
       "      <td>hq</td>\n",
       "      <td>Yavor Panchev</td>\n",
       "      <td>Customer Service USA</td>\n",
       "      <td>Consultas/Gestiones varias con equipo comercia...</td>\n",
       "      <td>0.150000</td>\n",
       "      <td>262.80</td>\n",
       "      <td>supply chain</td>\n",
       "      <td>customer service</td>\n",
       "      <td>Gestión del Proceso</td>\n",
       "      <td>Consulta equipo comercial</td>\n",
       "      <td>CSC</td>\n",
       "    </tr>\n",
       "    <tr>\n",
       "      <th>1252</th>\n",
       "      <td>hq</td>\n",
       "      <td>Yavor Panchev</td>\n",
       "      <td>Customer Service USA</td>\n",
       "      <td>Gestiones varias con fabricas y resto equipo (...</td>\n",
       "      <td>0.010000</td>\n",
       "      <td>17.52</td>\n",
       "      <td>supply chain</td>\n",
       "      <td>customer service</td>\n",
       "      <td>Gestión del Proceso</td>\n",
       "      <td>Consulta equipo fábricas</td>\n",
       "      <td>CSC</td>\n",
       "    </tr>\n",
       "    <tr>\n",
       "      <th>1253</th>\n",
       "      <td>hq</td>\n",
       "      <td>Yavor Panchev</td>\n",
       "      <td>Customer Service USA</td>\n",
       "      <td>Gestiones con impagos de clientes</td>\n",
       "      <td>0.050000</td>\n",
       "      <td>87.60</td>\n",
       "      <td>finanzas</td>\n",
       "      <td>cuentas a cobrar</td>\n",
       "      <td>Gestión de cobros</td>\n",
       "      <td>Gestión de impagados</td>\n",
       "      <td>CSC</td>\n",
       "    </tr>\n",
       "  </tbody>\n",
       "</table>\n",
       "<p>1254 rows × 11 columns</p>\n",
       "</div>"
      ],
      "text/plain": [
       "     site       employee              position  \\\n",
       "0      hq    Adolfo Pina        Planifficación   \n",
       "1      hq      Ana Muñoz       Admin - Compras   \n",
       "2      hq    Adolfo Pina        Planifficación   \n",
       "3      hq    Adolfo Pina        Planifficación   \n",
       "4      hq    Adolfo Pina        Planifficación   \n",
       "...   ...            ...                   ...   \n",
       "1249   hq  Yavor Panchev  Customer Service USA   \n",
       "1250   hq  Yavor Panchev  Customer Service USA   \n",
       "1251   hq  Yavor Panchev  Customer Service USA   \n",
       "1252   hq  Yavor Panchev  Customer Service USA   \n",
       "1253   hq  Yavor Panchev  Customer Service USA   \n",
       "\n",
       "                                       task description  reported fte   total  \\\n",
       "0     Liderar, coordinar y apoyar al equipo de Plani...      0.251142  440.00   \n",
       "1                       Alimentar registros info en SAP      0.027397   48.00   \n",
       "2     Gestión de la capacidad. Actualizar el plan pr...      0.100457  176.00   \n",
       "3     Reportar situación de capacidad a CS y comerci...      0.012557   22.00   \n",
       "4     Resources Planning de madera y traslado de nec...      0.037671   66.00   \n",
       "...                                                 ...           ...     ...   \n",
       "1249  Reuniones equipo (Semanales, KPI, calidad, Ser...      0.070000  122.64   \n",
       "1250  Consultas/Gestiones varias con clientes (mail,...      0.050000   87.60   \n",
       "1251  Consultas/Gestiones varias con equipo comercia...      0.150000  262.80   \n",
       "1252  Gestiones varias con fabricas y resto equipo (...      0.010000   17.52   \n",
       "1253                  Gestiones con impagos de clientes      0.050000   87.60   \n",
       "\n",
       "             field            level1                           level2  \\\n",
       "0     supply chain     planificacion              Gestión del Proceso   \n",
       "1     supply chain       procurement              Gestión de Maestros   \n",
       "2     supply chain     planificacion              Gestión del Proceso   \n",
       "3     supply chain     planificacion              Gestión del Proceso   \n",
       "4     supply chain     planificacion             Gestión de Almacenes   \n",
       "...            ...               ...                              ...   \n",
       "1249  supply chain  customer service  Gestión del Proceso Estrategica   \n",
       "1250  supply chain  customer service  Servicio al Cliente/ Post-Venta   \n",
       "1251  supply chain  customer service              Gestión del Proceso   \n",
       "1252  supply chain  customer service              Gestión del Proceso   \n",
       "1253      finanzas  cuentas a cobrar                Gestión de cobros   \n",
       "\n",
       "                                   level3 operative model  \n",
       "0              Planificación del Personal              HQ  \n",
       "1     Actualizar registros info Artículos              HQ  \n",
       "2          Planificación de la Producción              HQ  \n",
       "3              Elaboración KPI e Informes              HQ  \n",
       "4            Planificación de necesidades              HQ  \n",
       "...                                   ...             ...  \n",
       "1249                 Meetings y reuniones              HQ  \n",
       "1250                   Consultas Clientes             CSC  \n",
       "1251            Consulta equipo comercial             CSC  \n",
       "1252             Consulta equipo fábricas             CSC  \n",
       "1253                 Gestión de impagados             CSC  \n",
       "\n",
       "[1254 rows x 11 columns]"
      ]
     },
     "execution_count": 92,
     "metadata": {},
     "output_type": "execute_result"
    }
   ],
   "source": [
    "dedicacion_clean"
   ]
  },
  {
   "cell_type": "code",
   "execution_count": null,
   "metadata": {},
   "outputs": [],
   "source": []
  },
  {
   "cell_type": "code",
   "execution_count": 59,
   "metadata": {},
   "outputs": [],
   "source": [
    "dedicacion_clean['reported fte'] = pd.to_numeric(dedicacion_clean['reported fte'])"
   ]
  },
  {
   "cell_type": "code",
   "execution_count": 60,
   "metadata": {
    "scrolled": true
   },
   "outputs": [
    {
     "data": {
      "text/plain": [
       "59.23102054794521"
      ]
     },
     "execution_count": 60,
     "metadata": {},
     "output_type": "execute_result"
    }
   ],
   "source": [
    "dedicacion_clean['reported fte'].sum()"
   ]
  },
  {
   "cell_type": "markdown",
   "metadata": {},
   "source": [
    "# 2. AS_IS STUDY"
   ]
  },
  {
   "cell_type": "code",
   "execution_count": 516,
   "metadata": {},
   "outputs": [],
   "source": [
    "# order 1. as_is \n",
    "        #2. hq vs plantas\n",
    "        #3. planta especifica o hq\n",
    "        #4. proceso\n",
    "\n",
    "#ejemplo: as_is_valencia_cuentas_cobrar"
   ]
  },
  {
   "cell_type": "code",
   "execution_count": 61,
   "metadata": {},
   "outputs": [],
   "source": [
    "dedicacion_clean_hq = dedicacion_clean[dedicacion_clean['site']=='hq']"
   ]
  },
  {
   "cell_type": "code",
   "execution_count": 62,
   "metadata": {},
   "outputs": [],
   "source": [
    "#i have to find a way to get the plantas one by one in the list included\n",
    "\n",
    "dedicacion_clean_plantas = dedicacion_clean[dedicacion_clean['site']!='hq']"
   ]
  },
  {
   "cell_type": "code",
   "execution_count": 63,
   "metadata": {
    "scrolled": true
   },
   "outputs": [
    {
     "data": {
      "text/plain": [
       "33.4649703196347"
      ]
     },
     "execution_count": 63,
     "metadata": {},
     "output_type": "execute_result"
    }
   ],
   "source": [
    "dedicacion_clean_plantas['reported fte'].sum()"
   ]
  },
  {
   "cell_type": "code",
   "execution_count": 64,
   "metadata": {
    "scrolled": true
   },
   "outputs": [
    {
     "data": {
      "text/plain": [
       "25.7660502283105"
      ]
     },
     "execution_count": 64,
     "metadata": {},
     "output_type": "execute_result"
    }
   ],
   "source": [
    "dedicacion_clean_hq['reported fte'].sum()"
   ]
  },
  {
   "cell_type": "markdown",
   "metadata": {},
   "source": [
    "# 2.1 Alcance del análisis - percetage operative(on site), strategic, CSC\n",
    "## 2.2 Procesos analizados - FTE per field"
   ]
  },
  {
   "cell_type": "code",
   "execution_count": 523,
   "metadata": {},
   "outputs": [],
   "source": [
    "#split task all\n",
    "# How can i change the Nan to TOTAL??\n",
    "\n",
    "split_task_all = dedicacion_clean.groupby('operative model')['reported fte'].sum().to_frame().reset_index()\n",
    "split_task_all['% dedication'] = ((split_task_all['reported fte']/split_task_all['reported fte'].sum()) *100).round(2)\n",
    "split_task_all=split_task_all.append(split_task_all.sum(numeric_only=True), ignore_index=True)\n",
    "\n"
   ]
  },
  {
   "cell_type": "code",
   "execution_count": 524,
   "metadata": {},
   "outputs": [
    {
     "data": {
      "text/html": [
       "<div>\n",
       "<style scoped>\n",
       "    .dataframe tbody tr th:only-of-type {\n",
       "        vertical-align: middle;\n",
       "    }\n",
       "\n",
       "    .dataframe tbody tr th {\n",
       "        vertical-align: top;\n",
       "    }\n",
       "\n",
       "    .dataframe thead th {\n",
       "        text-align: right;\n",
       "    }\n",
       "</style>\n",
       "<table border=\"1\" class=\"dataframe\">\n",
       "  <thead>\n",
       "    <tr style=\"text-align: right;\">\n",
       "      <th></th>\n",
       "      <th>operative model</th>\n",
       "      <th>reported fte</th>\n",
       "      <th>% dedication</th>\n",
       "    </tr>\n",
       "  </thead>\n",
       "  <tbody>\n",
       "    <tr>\n",
       "      <th>0</th>\n",
       "      <td>CSC</td>\n",
       "      <td>39.372126</td>\n",
       "      <td>66.47</td>\n",
       "    </tr>\n",
       "    <tr>\n",
       "      <th>1</th>\n",
       "      <td>HQ</td>\n",
       "      <td>11.948823</td>\n",
       "      <td>20.17</td>\n",
       "    </tr>\n",
       "    <tr>\n",
       "      <th>2</th>\n",
       "      <td>Plantas</td>\n",
       "      <td>7.910071</td>\n",
       "      <td>13.35</td>\n",
       "    </tr>\n",
       "    <tr>\n",
       "      <th>3</th>\n",
       "      <td>NaN</td>\n",
       "      <td>59.231021</td>\n",
       "      <td>99.99</td>\n",
       "    </tr>\n",
       "  </tbody>\n",
       "</table>\n",
       "</div>"
      ],
      "text/plain": [
       "  operative model  reported fte  % dedication\n",
       "0             CSC     39.372126         66.47\n",
       "1              HQ     11.948823         20.17\n",
       "2         Plantas      7.910071         13.35\n",
       "3             NaN     59.231021         99.99"
      ]
     },
     "execution_count": 524,
     "metadata": {},
     "output_type": "execute_result"
    }
   ],
   "source": [
    "#Put the Total\n",
    "# Change the name of CSC, HQ and plantas\n",
    "\n",
    "split_task_all"
   ]
  },
  {
   "cell_type": "code",
   "execution_count": 526,
   "metadata": {},
   "outputs": [],
   "source": [
    "#split task site\n",
    "split_task_site = as_is_plantas.groupby('operative model')['reported fte'].sum().to_frame().reset_index()\n",
    "split_task_site['% dedication'] = ((split_task_site['reported fte']/split_task_site['reported fte'].sum()) *100).round(2)\n",
    "split_task_site=split_task_site.append(split_task_site.sum(numeric_only=True), ignore_index=True)"
   ]
  },
  {
   "cell_type": "code",
   "execution_count": 527,
   "metadata": {},
   "outputs": [
    {
     "data": {
      "text/html": [
       "<div>\n",
       "<style scoped>\n",
       "    .dataframe tbody tr th:only-of-type {\n",
       "        vertical-align: middle;\n",
       "    }\n",
       "\n",
       "    .dataframe tbody tr th {\n",
       "        vertical-align: top;\n",
       "    }\n",
       "\n",
       "    .dataframe thead th {\n",
       "        text-align: right;\n",
       "    }\n",
       "</style>\n",
       "<table border=\"1\" class=\"dataframe\">\n",
       "  <thead>\n",
       "    <tr style=\"text-align: right;\">\n",
       "      <th></th>\n",
       "      <th>operative model</th>\n",
       "      <th>reported fte</th>\n",
       "      <th>% dedication</th>\n",
       "    </tr>\n",
       "  </thead>\n",
       "  <tbody>\n",
       "    <tr>\n",
       "      <th>0</th>\n",
       "      <td>CSC</td>\n",
       "      <td>24.057121</td>\n",
       "      <td>71.89</td>\n",
       "    </tr>\n",
       "    <tr>\n",
       "      <th>1</th>\n",
       "      <td>HQ</td>\n",
       "      <td>1.497778</td>\n",
       "      <td>4.48</td>\n",
       "    </tr>\n",
       "    <tr>\n",
       "      <th>2</th>\n",
       "      <td>Plantas</td>\n",
       "      <td>7.910071</td>\n",
       "      <td>23.64</td>\n",
       "    </tr>\n",
       "    <tr>\n",
       "      <th>3</th>\n",
       "      <td>NaN</td>\n",
       "      <td>33.464970</td>\n",
       "      <td>100.01</td>\n",
       "    </tr>\n",
       "  </tbody>\n",
       "</table>\n",
       "</div>"
      ],
      "text/plain": [
       "  operative model  reported fte  % dedication\n",
       "0             CSC     24.057121         71.89\n",
       "1              HQ      1.497778          4.48\n",
       "2         Plantas      7.910071         23.64\n",
       "3             NaN     33.464970        100.01"
      ]
     },
     "execution_count": 527,
     "metadata": {},
     "output_type": "execute_result"
    }
   ],
   "source": [
    "split_task_site"
   ]
  },
  {
   "cell_type": "code",
   "execution_count": 991,
   "metadata": {},
   "outputs": [],
   "source": [
    "#split task HQ\n",
    "split_task_hq = as_is_hq.groupby('operative model')['reported fte'].sum().to_frame().reset_index()\n",
    "split_task_hq['% dedication'] = ((split_task_hq['reported fte']/split_task_hq['reported fte'].sum()) *100).round(2)\n",
    "split_task_hq=split_task_hq.append(split_task_hq.sum(numeric_only=True), ignore_index=True)"
   ]
  },
  {
   "cell_type": "code",
   "execution_count": 993,
   "metadata": {
    "scrolled": true
   },
   "outputs": [],
   "source": [
    "split_task_hq['operative model'].fillna('total', inplace=True)"
   ]
  },
  {
   "cell_type": "code",
   "execution_count": 994,
   "metadata": {},
   "outputs": [
    {
     "data": {
      "text/html": [
       "<div>\n",
       "<style scoped>\n",
       "    .dataframe tbody tr th:only-of-type {\n",
       "        vertical-align: middle;\n",
       "    }\n",
       "\n",
       "    .dataframe tbody tr th {\n",
       "        vertical-align: top;\n",
       "    }\n",
       "\n",
       "    .dataframe thead th {\n",
       "        text-align: right;\n",
       "    }\n",
       "</style>\n",
       "<table border=\"1\" class=\"dataframe\">\n",
       "  <thead>\n",
       "    <tr style=\"text-align: right;\">\n",
       "      <th></th>\n",
       "      <th>operative model</th>\n",
       "      <th>reported fte</th>\n",
       "      <th>% dedication</th>\n",
       "    </tr>\n",
       "  </thead>\n",
       "  <tbody>\n",
       "    <tr>\n",
       "      <th>0</th>\n",
       "      <td>CSC</td>\n",
       "      <td>15.315005</td>\n",
       "      <td>59.44</td>\n",
       "    </tr>\n",
       "    <tr>\n",
       "      <th>1</th>\n",
       "      <td>HQ</td>\n",
       "      <td>10.451045</td>\n",
       "      <td>40.56</td>\n",
       "    </tr>\n",
       "    <tr>\n",
       "      <th>2</th>\n",
       "      <td>total</td>\n",
       "      <td>25.766050</td>\n",
       "      <td>100.00</td>\n",
       "    </tr>\n",
       "  </tbody>\n",
       "</table>\n",
       "</div>"
      ],
      "text/plain": [
       "  operative model  reported fte  % dedication\n",
       "0             CSC     15.315005         59.44\n",
       "1              HQ     10.451045         40.56\n",
       "2           total     25.766050        100.00"
      ]
     },
     "execution_count": 994,
     "metadata": {},
     "output_type": "execute_result"
    }
   ],
   "source": [
    "split_task_hq"
   ]
  },
  {
   "cell_type": "code",
   "execution_count": 530,
   "metadata": {},
   "outputs": [],
   "source": [
    "#i have to remove from the plot the total, and give labels to the graphic\n",
    "split_task_hq_fig = split_task_hq.dropna()\n"
   ]
  },
  {
   "cell_type": "code",
   "execution_count": 531,
   "metadata": {
    "scrolled": false
   },
   "outputs": [
    {
     "data": {
      "text/plain": [
       "<matplotlib.axes._subplots.AxesSubplot at 0x11d1922b0>"
      ]
     },
     "execution_count": 531,
     "metadata": {},
     "output_type": "execute_result"
    },
    {
     "data": {
      "image/png": "[encoded data removed]",
      "text/plain": [
       "<Figure size 360x360 with 1 Axes>"
      ]
     },
     "metadata": {},
     "output_type": "display_data"
    }
   ],
   "source": [
    "split_task_hq_fig.plot.pie(y='% dedication', figsize=(5, 5), autopct='%1.1f%%')"
   ]
  },
  {
   "cell_type": "code",
   "execution_count": 979,
   "metadata": {},
   "outputs": [],
   "source": [
    "split_field = dedicacion_clean.groupby('field')['reported fte'].sum().to_frame().round(2).sort_values(by='reported fte', ascending=False).reset_index()"
   ]
  },
  {
   "cell_type": "code",
   "execution_count": 980,
   "metadata": {},
   "outputs": [
    {
     "data": {
      "text/html": [
       "<div>\n",
       "<style scoped>\n",
       "    .dataframe tbody tr th:only-of-type {\n",
       "        vertical-align: middle;\n",
       "    }\n",
       "\n",
       "    .dataframe tbody tr th {\n",
       "        vertical-align: top;\n",
       "    }\n",
       "\n",
       "    .dataframe thead th {\n",
       "        text-align: right;\n",
       "    }\n",
       "</style>\n",
       "<table border=\"1\" class=\"dataframe\">\n",
       "  <thead>\n",
       "    <tr style=\"text-align: right;\">\n",
       "      <th></th>\n",
       "      <th>field</th>\n",
       "      <th>reported fte</th>\n",
       "    </tr>\n",
       "  </thead>\n",
       "  <tbody>\n",
       "    <tr>\n",
       "      <th>0</th>\n",
       "      <td>supply chain</td>\n",
       "      <td>29.24</td>\n",
       "    </tr>\n",
       "    <tr>\n",
       "      <th>1</th>\n",
       "      <td>finanzas</td>\n",
       "      <td>18.08</td>\n",
       "    </tr>\n",
       "    <tr>\n",
       "      <th>2</th>\n",
       "      <td>industrial</td>\n",
       "      <td>11.72</td>\n",
       "    </tr>\n",
       "    <tr>\n",
       "      <th>3</th>\n",
       "      <td>RRHH</td>\n",
       "      <td>0.19</td>\n",
       "    </tr>\n",
       "  </tbody>\n",
       "</table>\n",
       "</div>"
      ],
      "text/plain": [
       "          field  reported fte\n",
       "0  supply chain         29.24\n",
       "1      finanzas         18.08\n",
       "2    industrial         11.72\n",
       "3          RRHH          0.19"
      ]
     },
     "execution_count": 980,
     "metadata": {},
     "output_type": "execute_result"
    }
   ],
   "source": [
    "split_field"
   ]
  },
  {
   "cell_type": "markdown",
   "metadata": {},
   "source": [
    "## EXTRA- site estrategic, csc and operative (extra)"
   ]
  },
  {
   "cell_type": "code",
   "execution_count": 533,
   "metadata": {},
   "outputs": [],
   "source": [
    "all_sites_split_df = dedicacion_clean.groupby(['site','operative model'])['reported fte'].sum().to_frame().reset_index()"
   ]
  },
  {
   "cell_type": "code",
   "execution_count": 534,
   "metadata": {},
   "outputs": [
    {
     "data": {
      "text/html": [
       "<div>\n",
       "<style scoped>\n",
       "    .dataframe tbody tr th:only-of-type {\n",
       "        vertical-align: middle;\n",
       "    }\n",
       "\n",
       "    .dataframe tbody tr th {\n",
       "        vertical-align: top;\n",
       "    }\n",
       "\n",
       "    .dataframe thead th {\n",
       "        text-align: right;\n",
       "    }\n",
       "</style>\n",
       "<table border=\"1\" class=\"dataframe\">\n",
       "  <thead>\n",
       "    <tr style=\"text-align: right;\">\n",
       "      <th></th>\n",
       "      <th>site</th>\n",
       "      <th>operative model</th>\n",
       "      <th>reported fte</th>\n",
       "    </tr>\n",
       "  </thead>\n",
       "  <tbody>\n",
       "    <tr>\n",
       "      <th>0</th>\n",
       "      <td>baños</td>\n",
       "      <td>CSC</td>\n",
       "      <td>5.602912</td>\n",
       "    </tr>\n",
       "    <tr>\n",
       "      <th>1</th>\n",
       "      <td>baños</td>\n",
       "      <td>HQ</td>\n",
       "      <td>0.333425</td>\n",
       "    </tr>\n",
       "    <tr>\n",
       "      <th>2</th>\n",
       "      <td>baños</td>\n",
       "      <td>Plantas</td>\n",
       "      <td>1.424906</td>\n",
       "    </tr>\n",
       "    <tr>\n",
       "      <th>3</th>\n",
       "      <td>fuenmayor</td>\n",
       "      <td>CSC</td>\n",
       "      <td>3.903926</td>\n",
       "    </tr>\n",
       "    <tr>\n",
       "      <th>4</th>\n",
       "      <td>fuenmayor</td>\n",
       "      <td>HQ</td>\n",
       "      <td>0.099262</td>\n",
       "    </tr>\n",
       "    <tr>\n",
       "      <th>5</th>\n",
       "      <td>fuenmayor</td>\n",
       "      <td>Plantas</td>\n",
       "      <td>0.440006</td>\n",
       "    </tr>\n",
       "    <tr>\n",
       "      <th>6</th>\n",
       "      <td>hq</td>\n",
       "      <td>CSC</td>\n",
       "      <td>15.315005</td>\n",
       "    </tr>\n",
       "    <tr>\n",
       "      <th>7</th>\n",
       "      <td>hq</td>\n",
       "      <td>HQ</td>\n",
       "      <td>10.451045</td>\n",
       "    </tr>\n",
       "    <tr>\n",
       "      <th>8</th>\n",
       "      <td>llodio</td>\n",
       "      <td>CSC</td>\n",
       "      <td>3.691872</td>\n",
       "    </tr>\n",
       "    <tr>\n",
       "      <th>9</th>\n",
       "      <td>llodio</td>\n",
       "      <td>HQ</td>\n",
       "      <td>0.655765</td>\n",
       "    </tr>\n",
       "    <tr>\n",
       "      <th>10</th>\n",
       "      <td>llodio</td>\n",
       "      <td>Plantas</td>\n",
       "      <td>1.026293</td>\n",
       "    </tr>\n",
       "    <tr>\n",
       "      <th>11</th>\n",
       "      <td>samazan</td>\n",
       "      <td>CSC</td>\n",
       "      <td>4.196014</td>\n",
       "    </tr>\n",
       "    <tr>\n",
       "      <th>12</th>\n",
       "      <td>samazan</td>\n",
       "      <td>HQ</td>\n",
       "      <td>0.005708</td>\n",
       "    </tr>\n",
       "    <tr>\n",
       "      <th>13</th>\n",
       "      <td>samazan</td>\n",
       "      <td>Plantas</td>\n",
       "      <td>2.629985</td>\n",
       "    </tr>\n",
       "    <tr>\n",
       "      <th>14</th>\n",
       "      <td>valencia</td>\n",
       "      <td>CSC</td>\n",
       "      <td>6.662397</td>\n",
       "    </tr>\n",
       "    <tr>\n",
       "      <th>15</th>\n",
       "      <td>valencia</td>\n",
       "      <td>HQ</td>\n",
       "      <td>0.403619</td>\n",
       "    </tr>\n",
       "    <tr>\n",
       "      <th>16</th>\n",
       "      <td>valencia</td>\n",
       "      <td>Plantas</td>\n",
       "      <td>2.388881</td>\n",
       "    </tr>\n",
       "  </tbody>\n",
       "</table>\n",
       "</div>"
      ],
      "text/plain": [
       "         site operative model  reported fte\n",
       "0       baños             CSC      5.602912\n",
       "1       baños              HQ      0.333425\n",
       "2       baños         Plantas      1.424906\n",
       "3   fuenmayor             CSC      3.903926\n",
       "4   fuenmayor              HQ      0.099262\n",
       "5   fuenmayor         Plantas      0.440006\n",
       "6          hq             CSC     15.315005\n",
       "7          hq              HQ     10.451045\n",
       "8      llodio             CSC      3.691872\n",
       "9      llodio              HQ      0.655765\n",
       "10     llodio         Plantas      1.026293\n",
       "11    samazan             CSC      4.196014\n",
       "12    samazan              HQ      0.005708\n",
       "13    samazan         Plantas      2.629985\n",
       "14   valencia             CSC      6.662397\n",
       "15   valencia              HQ      0.403619\n",
       "16   valencia         Plantas      2.388881"
      ]
     },
     "execution_count": 534,
     "metadata": {},
     "output_type": "execute_result"
    }
   ],
   "source": [
    "all_sites_split_df"
   ]
  },
  {
   "cell_type": "code",
   "execution_count": 536,
   "metadata": {},
   "outputs": [],
   "source": [
    "def split_site (site):\n",
    "    site_split_df = all_sites_split_df.groupby('site')\n",
    "    site_split_df.get_group(site)\n",
    "    \n",
    "    return site_split_df"
   ]
  },
  {
   "cell_type": "code",
   "execution_count": 537,
   "metadata": {
    "scrolled": true
   },
   "outputs": [
    {
     "data": {
      "text/plain": [
       "<pandas.core.groupby.generic.DataFrameGroupBy object at 0x11d6ceb00>"
      ]
     },
     "execution_count": 537,
     "metadata": {},
     "output_type": "execute_result"
    }
   ],
   "source": [
    "split_site('samazan')"
   ]
  },
  {
   "cell_type": "code",
   "execution_count": 538,
   "metadata": {},
   "outputs": [],
   "source": [
    "site_split_df = all_sites_split_df.groupby('site')"
   ]
  },
  {
   "cell_type": "code",
   "execution_count": 1006,
   "metadata": {
    "scrolled": true
   },
   "outputs": [
    {
     "ename": "KeyError",
     "evalue": "'as_is_plantas'",
     "output_type": "error",
     "traceback": [
      "\u001b[0;31m---------------------------------------------------------------------------\u001b[0m",
      "\u001b[0;31mKeyError\u001b[0m                                  Traceback (most recent call last)",
      "\u001b[0;32m<ipython-input-1006-a242c51f1367>\u001b[0m in \u001b[0;36m<module>\u001b[0;34m\u001b[0m\n\u001b[1;32m      1\u001b[0m \u001b[0;31m#Here i can pass all the\u001b[0m\u001b[0;34m\u001b[0m\u001b[0;34m\u001b[0m\u001b[0;34m\u001b[0m\u001b[0m\n\u001b[1;32m      2\u001b[0m \u001b[0;34m\u001b[0m\u001b[0m\n\u001b[0;32m----> 3\u001b[0;31m \u001b[0msite_split_df\u001b[0m\u001b[0;34m.\u001b[0m\u001b[0mget_group\u001b[0m\u001b[0;34m(\u001b[0m\u001b[0;34m'as_is_plantas'\u001b[0m\u001b[0;34m)\u001b[0m\u001b[0;34m\u001b[0m\u001b[0;34m\u001b[0m\u001b[0m\n\u001b[0m",
      "\u001b[0;32m~/miniconda3/envs/ihm1_env/lib/python3.7/site-packages/pandas/core/groupby/groupby.py\u001b[0m in \u001b[0;36mget_group\u001b[0;34m(self, name, obj)\u001b[0m\n\u001b[1;32m    684\u001b[0m         \u001b[0minds\u001b[0m \u001b[0;34m=\u001b[0m \u001b[0mself\u001b[0m\u001b[0;34m.\u001b[0m\u001b[0m_get_index\u001b[0m\u001b[0;34m(\u001b[0m\u001b[0mname\u001b[0m\u001b[0;34m)\u001b[0m\u001b[0;34m\u001b[0m\u001b[0;34m\u001b[0m\u001b[0m\n\u001b[1;32m    685\u001b[0m         \u001b[0;32mif\u001b[0m \u001b[0;32mnot\u001b[0m \u001b[0mlen\u001b[0m\u001b[0;34m(\u001b[0m\u001b[0minds\u001b[0m\u001b[0;34m)\u001b[0m\u001b[0;34m:\u001b[0m\u001b[0;34m\u001b[0m\u001b[0;34m\u001b[0m\u001b[0m\n\u001b[0;32m--> 686\u001b[0;31m             \u001b[0;32mraise\u001b[0m \u001b[0mKeyError\u001b[0m\u001b[0;34m(\u001b[0m\u001b[0mname\u001b[0m\u001b[0;34m)\u001b[0m\u001b[0;34m\u001b[0m\u001b[0;34m\u001b[0m\u001b[0m\n\u001b[0m\u001b[1;32m    687\u001b[0m \u001b[0;34m\u001b[0m\u001b[0m\n\u001b[1;32m    688\u001b[0m         \u001b[0;32mreturn\u001b[0m \u001b[0mobj\u001b[0m\u001b[0;34m.\u001b[0m\u001b[0m_take_with_is_copy\u001b[0m\u001b[0;34m(\u001b[0m\u001b[0minds\u001b[0m\u001b[0;34m,\u001b[0m \u001b[0maxis\u001b[0m\u001b[0;34m=\u001b[0m\u001b[0mself\u001b[0m\u001b[0;34m.\u001b[0m\u001b[0maxis\u001b[0m\u001b[0;34m)\u001b[0m\u001b[0;34m\u001b[0m\u001b[0;34m\u001b[0m\u001b[0m\n",
      "\u001b[0;31mKeyError\u001b[0m: 'as_is_plantas'"
     ]
    }
   ],
   "source": [
    "\n",
    "\n",
    "#Here i can pass all the \n",
    "\n",
    "site_split_df.get_group('as_is_plantas')"
   ]
  },
  {
   "cell_type": "markdown",
   "metadata": {},
   "source": [
    "# 2.2 Procesos - process and site"
   ]
  },
  {
   "cell_type": "code",
   "execution_count": 982,
   "metadata": {},
   "outputs": [],
   "source": [
    "process_site= dedicacion_clean.groupby(['level1', 'site'])['reported fte'].sum().to_frame().reset_index()"
   ]
  },
  {
   "cell_type": "code",
   "execution_count": 983,
   "metadata": {},
   "outputs": [
    {
     "data": {
      "text/html": [
       "<div>\n",
       "<style scoped>\n",
       "    .dataframe tbody tr th:only-of-type {\n",
       "        vertical-align: middle;\n",
       "    }\n",
       "\n",
       "    .dataframe tbody tr th {\n",
       "        vertical-align: top;\n",
       "    }\n",
       "\n",
       "    .dataframe thead th {\n",
       "        text-align: right;\n",
       "    }\n",
       "</style>\n",
       "<table border=\"1\" class=\"dataframe\">\n",
       "  <thead>\n",
       "    <tr style=\"text-align: right;\">\n",
       "      <th></th>\n",
       "      <th>level1</th>\n",
       "      <th>site</th>\n",
       "      <th>reported fte</th>\n",
       "    </tr>\n",
       "  </thead>\n",
       "  <tbody>\n",
       "    <tr>\n",
       "      <th>0</th>\n",
       "      <td>contabilidad general</td>\n",
       "      <td>baños</td>\n",
       "      <td>0.754281</td>\n",
       "    </tr>\n",
       "    <tr>\n",
       "      <th>1</th>\n",
       "      <td>contabilidad general</td>\n",
       "      <td>fuenmayor</td>\n",
       "      <td>1.046518</td>\n",
       "    </tr>\n",
       "    <tr>\n",
       "      <th>2</th>\n",
       "      <td>contabilidad general</td>\n",
       "      <td>hq</td>\n",
       "      <td>1.591661</td>\n",
       "    </tr>\n",
       "    <tr>\n",
       "      <th>3</th>\n",
       "      <td>contabilidad general</td>\n",
       "      <td>llodio</td>\n",
       "      <td>0.448796</td>\n",
       "    </tr>\n",
       "    <tr>\n",
       "      <th>4</th>\n",
       "      <td>contabilidad general</td>\n",
       "      <td>samazan</td>\n",
       "      <td>0.992580</td>\n",
       "    </tr>\n",
       "    <tr>\n",
       "      <th>...</th>\n",
       "      <td>...</td>\n",
       "      <td>...</td>\n",
       "      <td>...</td>\n",
       "    </tr>\n",
       "    <tr>\n",
       "      <th>69</th>\n",
       "      <td>tesoreria</td>\n",
       "      <td>fuenmayor</td>\n",
       "      <td>0.214041</td>\n",
       "    </tr>\n",
       "    <tr>\n",
       "      <th>70</th>\n",
       "      <td>tesoreria</td>\n",
       "      <td>hq</td>\n",
       "      <td>1.269692</td>\n",
       "    </tr>\n",
       "    <tr>\n",
       "      <th>71</th>\n",
       "      <td>tesoreria</td>\n",
       "      <td>llodio</td>\n",
       "      <td>0.425128</td>\n",
       "    </tr>\n",
       "    <tr>\n",
       "      <th>72</th>\n",
       "      <td>tesoreria</td>\n",
       "      <td>samazan</td>\n",
       "      <td>0.222032</td>\n",
       "    </tr>\n",
       "    <tr>\n",
       "      <th>73</th>\n",
       "      <td>tesoreria</td>\n",
       "      <td>valencia</td>\n",
       "      <td>0.589954</td>\n",
       "    </tr>\n",
       "  </tbody>\n",
       "</table>\n",
       "<p>74 rows × 3 columns</p>\n",
       "</div>"
      ],
      "text/plain": [
       "                  level1       site  reported fte\n",
       "0   contabilidad general      baños      0.754281\n",
       "1   contabilidad general  fuenmayor      1.046518\n",
       "2   contabilidad general         hq      1.591661\n",
       "3   contabilidad general     llodio      0.448796\n",
       "4   contabilidad general    samazan      0.992580\n",
       "..                   ...        ...           ...\n",
       "69             tesoreria  fuenmayor      0.214041\n",
       "70             tesoreria         hq      1.269692\n",
       "71             tesoreria     llodio      0.425128\n",
       "72             tesoreria    samazan      0.222032\n",
       "73             tesoreria   valencia      0.589954\n",
       "\n",
       "[74 rows x 3 columns]"
      ]
     },
     "execution_count": 983,
     "metadata": {},
     "output_type": "execute_result"
    }
   ],
   "source": [
    "process_site"
   ]
  },
  {
   "cell_type": "code",
   "execution_count": 1118,
   "metadata": {
    "scrolled": true
   },
   "outputs": [],
   "source": [
    "#extra!!\n",
    "process_site_split = process_site.groupby('site')"
   ]
  },
  {
   "cell_type": "code",
   "execution_count": 1123,
   "metadata": {},
   "outputs": [
    {
     "data": {
      "text/plain": [
       "<pandas.core.groupby.generic.DataFrameGroupBy object at 0x11dfc75f8>"
      ]
     },
     "execution_count": 1123,
     "metadata": {},
     "output_type": "execute_result"
    }
   ],
   "source": [
    "process_site_split"
   ]
  },
  {
   "cell_type": "code",
   "execution_count": 1122,
   "metadata": {},
   "outputs": [
    {
     "data": {
      "text/plain": [
       "<pandas.core.groupby.generic.DataFrameGroupBy object at 0x11dfc75f8>"
      ]
     },
     "execution_count": 1122,
     "metadata": {},
     "output_type": "execute_result"
    }
   ],
   "source": []
  },
  {
   "cell_type": "code",
   "execution_count": 987,
   "metadata": {},
   "outputs": [
    {
     "data": {
      "text/html": [
       "<div>\n",
       "<style scoped>\n",
       "    .dataframe tbody tr th:only-of-type {\n",
       "        vertical-align: middle;\n",
       "    }\n",
       "\n",
       "    .dataframe tbody tr th {\n",
       "        vertical-align: top;\n",
       "    }\n",
       "\n",
       "    .dataframe thead th {\n",
       "        text-align: right;\n",
       "    }\n",
       "</style>\n",
       "<table border=\"1\" class=\"dataframe\">\n",
       "  <thead>\n",
       "    <tr style=\"text-align: right;\">\n",
       "      <th></th>\n",
       "      <th>level1</th>\n",
       "      <th>site</th>\n",
       "      <th>reported fte</th>\n",
       "    </tr>\n",
       "  </thead>\n",
       "  <tbody>\n",
       "    <tr>\n",
       "      <th>1</th>\n",
       "      <td>contabilidad general</td>\n",
       "      <td>fuenmayor</td>\n",
       "      <td>1.046518</td>\n",
       "    </tr>\n",
       "    <tr>\n",
       "      <th>7</th>\n",
       "      <td>controlling</td>\n",
       "      <td>fuenmayor</td>\n",
       "      <td>0.464041</td>\n",
       "    </tr>\n",
       "    <tr>\n",
       "      <th>13</th>\n",
       "      <td>cuentas a cobrar</td>\n",
       "      <td>fuenmayor</td>\n",
       "      <td>0.017123</td>\n",
       "    </tr>\n",
       "    <tr>\n",
       "      <th>18</th>\n",
       "      <td>cuentas a pagar</td>\n",
       "      <td>fuenmayor</td>\n",
       "      <td>0.259703</td>\n",
       "    </tr>\n",
       "    <tr>\n",
       "      <th>32</th>\n",
       "      <td>gastos de viaje</td>\n",
       "      <td>fuenmayor</td>\n",
       "      <td>0.038242</td>\n",
       "    </tr>\n",
       "    <tr>\n",
       "      <th>38</th>\n",
       "      <td>impuestos</td>\n",
       "      <td>fuenmayor</td>\n",
       "      <td>0.118151</td>\n",
       "    </tr>\n",
       "    <tr>\n",
       "      <th>44</th>\n",
       "      <td>industrial</td>\n",
       "      <td>fuenmayor</td>\n",
       "      <td>0.837329</td>\n",
       "    </tr>\n",
       "    <tr>\n",
       "      <th>50</th>\n",
       "      <td>logistica</td>\n",
       "      <td>fuenmayor</td>\n",
       "      <td>1.000700</td>\n",
       "    </tr>\n",
       "    <tr>\n",
       "      <th>56</th>\n",
       "      <td>otros</td>\n",
       "      <td>fuenmayor</td>\n",
       "      <td>0.228596</td>\n",
       "    </tr>\n",
       "    <tr>\n",
       "      <th>63</th>\n",
       "      <td>procurement</td>\n",
       "      <td>fuenmayor</td>\n",
       "      <td>0.218750</td>\n",
       "    </tr>\n",
       "    <tr>\n",
       "      <th>69</th>\n",
       "      <td>tesoreria</td>\n",
       "      <td>fuenmayor</td>\n",
       "      <td>0.214041</td>\n",
       "    </tr>\n",
       "  </tbody>\n",
       "</table>\n",
       "</div>"
      ],
      "text/plain": [
       "                  level1       site  reported fte\n",
       "1   contabilidad general  fuenmayor      1.046518\n",
       "7            controlling  fuenmayor      0.464041\n",
       "13      cuentas a cobrar  fuenmayor      0.017123\n",
       "18       cuentas a pagar  fuenmayor      0.259703\n",
       "32       gastos de viaje  fuenmayor      0.038242\n",
       "38             impuestos  fuenmayor      0.118151\n",
       "44            industrial  fuenmayor      0.837329\n",
       "50             logistica  fuenmayor      1.000700\n",
       "56                 otros  fuenmayor      0.228596\n",
       "63           procurement  fuenmayor      0.218750\n",
       "69             tesoreria  fuenmayor      0.214041"
      ]
     },
     "execution_count": 987,
     "metadata": {},
     "output_type": "execute_result"
    }
   ],
   "source": [
    "process_site_split.get_group('fuenmayor')"
   ]
  },
  {
   "cell_type": "markdown",
   "metadata": {},
   "source": [
    "# 2.4 Site and process"
   ]
  },
  {
   "cell_type": "code",
   "execution_count": 616,
   "metadata": {},
   "outputs": [],
   "source": [
    "site_process = dedicacion_clean.groupby(['site','level1'])['reported fte'].sum().to_frame().reset_index()"
   ]
  },
  {
   "cell_type": "code",
   "execution_count": 617,
   "metadata": {},
   "outputs": [
    {
     "data": {
      "text/html": [
       "<div>\n",
       "<style scoped>\n",
       "    .dataframe tbody tr th:only-of-type {\n",
       "        vertical-align: middle;\n",
       "    }\n",
       "\n",
       "    .dataframe tbody tr th {\n",
       "        vertical-align: top;\n",
       "    }\n",
       "\n",
       "    .dataframe thead th {\n",
       "        text-align: right;\n",
       "    }\n",
       "</style>\n",
       "<table border=\"1\" class=\"dataframe\">\n",
       "  <thead>\n",
       "    <tr style=\"text-align: right;\">\n",
       "      <th></th>\n",
       "      <th>site</th>\n",
       "      <th>level1</th>\n",
       "      <th>reported fte</th>\n",
       "    </tr>\n",
       "  </thead>\n",
       "  <tbody>\n",
       "    <tr>\n",
       "      <th>0</th>\n",
       "      <td>baños</td>\n",
       "      <td>contabilidad general</td>\n",
       "      <td>0.754281</td>\n",
       "    </tr>\n",
       "    <tr>\n",
       "      <th>1</th>\n",
       "      <td>baños</td>\n",
       "      <td>controlling</td>\n",
       "      <td>0.098174</td>\n",
       "    </tr>\n",
       "    <tr>\n",
       "      <th>2</th>\n",
       "      <td>baños</td>\n",
       "      <td>cuentas a cobrar</td>\n",
       "      <td>0.025114</td>\n",
       "    </tr>\n",
       "    <tr>\n",
       "      <th>3</th>\n",
       "      <td>baños</td>\n",
       "      <td>cuentas a pagar</td>\n",
       "      <td>0.381650</td>\n",
       "    </tr>\n",
       "    <tr>\n",
       "      <th>4</th>\n",
       "      <td>baños</td>\n",
       "      <td>forestal</td>\n",
       "      <td>0.636241</td>\n",
       "    </tr>\n",
       "    <tr>\n",
       "      <th>...</th>\n",
       "      <td>...</td>\n",
       "      <td>...</td>\n",
       "      <td>...</td>\n",
       "    </tr>\n",
       "    <tr>\n",
       "      <th>69</th>\n",
       "      <td>valencia</td>\n",
       "      <td>industrial</td>\n",
       "      <td>1.964760</td>\n",
       "    </tr>\n",
       "    <tr>\n",
       "      <th>70</th>\n",
       "      <td>valencia</td>\n",
       "      <td>logistica</td>\n",
       "      <td>2.022203</td>\n",
       "    </tr>\n",
       "    <tr>\n",
       "      <th>71</th>\n",
       "      <td>valencia</td>\n",
       "      <td>otros</td>\n",
       "      <td>0.330023</td>\n",
       "    </tr>\n",
       "    <tr>\n",
       "      <th>72</th>\n",
       "      <td>valencia</td>\n",
       "      <td>procurement</td>\n",
       "      <td>0.595959</td>\n",
       "    </tr>\n",
       "    <tr>\n",
       "      <th>73</th>\n",
       "      <td>valencia</td>\n",
       "      <td>tesoreria</td>\n",
       "      <td>0.589954</td>\n",
       "    </tr>\n",
       "  </tbody>\n",
       "</table>\n",
       "<p>74 rows × 3 columns</p>\n",
       "</div>"
      ],
      "text/plain": [
       "        site                level1  reported fte\n",
       "0      baños  contabilidad general      0.754281\n",
       "1      baños           controlling      0.098174\n",
       "2      baños      cuentas a cobrar      0.025114\n",
       "3      baños       cuentas a pagar      0.381650\n",
       "4      baños              forestal      0.636241\n",
       "..       ...                   ...           ...\n",
       "69  valencia            industrial      1.964760\n",
       "70  valencia             logistica      2.022203\n",
       "71  valencia                 otros      0.330023\n",
       "72  valencia           procurement      0.595959\n",
       "73  valencia             tesoreria      0.589954\n",
       "\n",
       "[74 rows x 3 columns]"
      ]
     },
     "execution_count": 617,
     "metadata": {},
     "output_type": "execute_result"
    }
   ],
   "source": [
    "site_process"
   ]
  },
  {
   "cell_type": "code",
   "execution_count": 618,
   "metadata": {},
   "outputs": [],
   "source": [
    "site_process_split = site_process.groupby('level1')"
   ]
  },
  {
   "cell_type": "code",
   "execution_count": 619,
   "metadata": {},
   "outputs": [
    {
     "data": {
      "text/html": [
       "<div>\n",
       "<style scoped>\n",
       "    .dataframe tbody tr th:only-of-type {\n",
       "        vertical-align: middle;\n",
       "    }\n",
       "\n",
       "    .dataframe tbody tr th {\n",
       "        vertical-align: top;\n",
       "    }\n",
       "\n",
       "    .dataframe thead th {\n",
       "        text-align: right;\n",
       "    }\n",
       "</style>\n",
       "<table border=\"1\" class=\"dataframe\">\n",
       "  <thead>\n",
       "    <tr style=\"text-align: right;\">\n",
       "      <th></th>\n",
       "      <th>site</th>\n",
       "      <th>level1</th>\n",
       "      <th>reported fte</th>\n",
       "    </tr>\n",
       "  </thead>\n",
       "  <tbody>\n",
       "    <tr>\n",
       "      <th>0</th>\n",
       "      <td>baños</td>\n",
       "      <td>contabilidad general</td>\n",
       "      <td>0.754281</td>\n",
       "    </tr>\n",
       "    <tr>\n",
       "      <th>12</th>\n",
       "      <td>fuenmayor</td>\n",
       "      <td>contabilidad general</td>\n",
       "      <td>1.046518</td>\n",
       "    </tr>\n",
       "    <tr>\n",
       "      <th>23</th>\n",
       "      <td>hq</td>\n",
       "      <td>contabilidad general</td>\n",
       "      <td>1.591661</td>\n",
       "    </tr>\n",
       "    <tr>\n",
       "      <th>37</th>\n",
       "      <td>llodio</td>\n",
       "      <td>contabilidad general</td>\n",
       "      <td>0.448796</td>\n",
       "    </tr>\n",
       "    <tr>\n",
       "      <th>50</th>\n",
       "      <td>samazan</td>\n",
       "      <td>contabilidad general</td>\n",
       "      <td>0.992580</td>\n",
       "    </tr>\n",
       "    <tr>\n",
       "      <th>61</th>\n",
       "      <td>valencia</td>\n",
       "      <td>contabilidad general</td>\n",
       "      <td>0.838185</td>\n",
       "    </tr>\n",
       "  </tbody>\n",
       "</table>\n",
       "</div>"
      ],
      "text/plain": [
       "         site                level1  reported fte\n",
       "0       baños  contabilidad general      0.754281\n",
       "12  fuenmayor  contabilidad general      1.046518\n",
       "23         hq  contabilidad general      1.591661\n",
       "37     llodio  contabilidad general      0.448796\n",
       "50    samazan  contabilidad general      0.992580\n",
       "61   valencia  contabilidad general      0.838185"
      ]
     },
     "execution_count": 619,
     "metadata": {},
     "output_type": "execute_result"
    }
   ],
   "source": [
    "site_process_split.get_group('contabilidad general')"
   ]
  },
  {
   "cell_type": "markdown",
   "metadata": {},
   "source": [
    "# 2.4 Employee"
   ]
  },
  {
   "cell_type": "code",
   "execution_count": 977,
   "metadata": {
    "scrolled": false
   },
   "outputs": [],
   "source": [
    "employees_site_test = dedicacion_clean.groupby('site')['employee'].nunique().to_frame().sort_values(by='site', ascending=False).reset_index()"
   ]
  },
  {
   "cell_type": "code",
   "execution_count": 978,
   "metadata": {},
   "outputs": [
    {
     "data": {
      "text/html": [
       "<div>\n",
       "<style scoped>\n",
       "    .dataframe tbody tr th:only-of-type {\n",
       "        vertical-align: middle;\n",
       "    }\n",
       "\n",
       "    .dataframe tbody tr th {\n",
       "        vertical-align: top;\n",
       "    }\n",
       "\n",
       "    .dataframe thead th {\n",
       "        text-align: right;\n",
       "    }\n",
       "</style>\n",
       "<table border=\"1\" class=\"dataframe\">\n",
       "  <thead>\n",
       "    <tr style=\"text-align: right;\">\n",
       "      <th></th>\n",
       "      <th>site</th>\n",
       "      <th>employee</th>\n",
       "    </tr>\n",
       "  </thead>\n",
       "  <tbody>\n",
       "    <tr>\n",
       "      <th>0</th>\n",
       "      <td>valencia</td>\n",
       "      <td>10</td>\n",
       "    </tr>\n",
       "    <tr>\n",
       "      <th>1</th>\n",
       "      <td>samazan</td>\n",
       "      <td>7</td>\n",
       "    </tr>\n",
       "    <tr>\n",
       "      <th>2</th>\n",
       "      <td>llodio</td>\n",
       "      <td>6</td>\n",
       "    </tr>\n",
       "    <tr>\n",
       "      <th>3</th>\n",
       "      <td>hq</td>\n",
       "      <td>26</td>\n",
       "    </tr>\n",
       "    <tr>\n",
       "      <th>4</th>\n",
       "      <td>fuenmayor</td>\n",
       "      <td>5</td>\n",
       "    </tr>\n",
       "    <tr>\n",
       "      <th>5</th>\n",
       "      <td>baños</td>\n",
       "      <td>8</td>\n",
       "    </tr>\n",
       "  </tbody>\n",
       "</table>\n",
       "</div>"
      ],
      "text/plain": [
       "        site  employee\n",
       "0   valencia        10\n",
       "1    samazan         7\n",
       "2     llodio         6\n",
       "3         hq        26\n",
       "4  fuenmayor         5\n",
       "5      baños         8"
      ]
     },
     "execution_count": 978,
     "metadata": {},
     "output_type": "execute_result"
    }
   ],
   "source": [
    "employees_site_test"
   ]
  },
  {
   "cell_type": "code",
   "execution_count": 579,
   "metadata": {},
   "outputs": [],
   "source": [
    "employees_field_split = dedicacion_clean.groupby(['field','site'])['employee'].nunique().to_frame().sort_values(by='employee', ascending=False).reset_index()"
   ]
  },
  {
   "cell_type": "code",
   "execution_count": 620,
   "metadata": {
    "scrolled": false
   },
   "outputs": [
    {
     "data": {
      "text/html": [
       "<div>\n",
       "<style scoped>\n",
       "    .dataframe tbody tr th:only-of-type {\n",
       "        vertical-align: middle;\n",
       "    }\n",
       "\n",
       "    .dataframe tbody tr th {\n",
       "        vertical-align: top;\n",
       "    }\n",
       "\n",
       "    .dataframe thead th {\n",
       "        text-align: right;\n",
       "    }\n",
       "</style>\n",
       "<table border=\"1\" class=\"dataframe\">\n",
       "  <thead>\n",
       "    <tr style=\"text-align: right;\">\n",
       "      <th></th>\n",
       "      <th>field</th>\n",
       "      <th>site</th>\n",
       "      <th>employee</th>\n",
       "    </tr>\n",
       "  </thead>\n",
       "  <tbody>\n",
       "    <tr>\n",
       "      <th>0</th>\n",
       "      <td>supply chain</td>\n",
       "      <td>hq</td>\n",
       "      <td>24</td>\n",
       "    </tr>\n",
       "    <tr>\n",
       "      <th>1</th>\n",
       "      <td>finanzas</td>\n",
       "      <td>hq</td>\n",
       "      <td>17</td>\n",
       "    </tr>\n",
       "    <tr>\n",
       "      <th>2</th>\n",
       "      <td>supply chain</td>\n",
       "      <td>valencia</td>\n",
       "      <td>9</td>\n",
       "    </tr>\n",
       "    <tr>\n",
       "      <th>3</th>\n",
       "      <td>finanzas</td>\n",
       "      <td>valencia</td>\n",
       "      <td>9</td>\n",
       "    </tr>\n",
       "    <tr>\n",
       "      <th>4</th>\n",
       "      <td>industrial</td>\n",
       "      <td>baños</td>\n",
       "      <td>8</td>\n",
       "    </tr>\n",
       "    <tr>\n",
       "      <th>5</th>\n",
       "      <td>supply chain</td>\n",
       "      <td>baños</td>\n",
       "      <td>7</td>\n",
       "    </tr>\n",
       "    <tr>\n",
       "      <th>6</th>\n",
       "      <td>industrial</td>\n",
       "      <td>samazan</td>\n",
       "      <td>7</td>\n",
       "    </tr>\n",
       "    <tr>\n",
       "      <th>7</th>\n",
       "      <td>industrial</td>\n",
       "      <td>valencia</td>\n",
       "      <td>7</td>\n",
       "    </tr>\n",
       "    <tr>\n",
       "      <th>8</th>\n",
       "      <td>finanzas</td>\n",
       "      <td>llodio</td>\n",
       "      <td>6</td>\n",
       "    </tr>\n",
       "    <tr>\n",
       "      <th>9</th>\n",
       "      <td>finanzas</td>\n",
       "      <td>baños</td>\n",
       "      <td>6</td>\n",
       "    </tr>\n",
       "    <tr>\n",
       "      <th>10</th>\n",
       "      <td>industrial</td>\n",
       "      <td>llodio</td>\n",
       "      <td>6</td>\n",
       "    </tr>\n",
       "    <tr>\n",
       "      <th>11</th>\n",
       "      <td>supply chain</td>\n",
       "      <td>samazan</td>\n",
       "      <td>4</td>\n",
       "    </tr>\n",
       "    <tr>\n",
       "      <th>12</th>\n",
       "      <td>supply chain</td>\n",
       "      <td>llodio</td>\n",
       "      <td>4</td>\n",
       "    </tr>\n",
       "    <tr>\n",
       "      <th>13</th>\n",
       "      <td>industrial</td>\n",
       "      <td>hq</td>\n",
       "      <td>4</td>\n",
       "    </tr>\n",
       "    <tr>\n",
       "      <th>14</th>\n",
       "      <td>finanzas</td>\n",
       "      <td>samazan</td>\n",
       "      <td>4</td>\n",
       "    </tr>\n",
       "    <tr>\n",
       "      <th>15</th>\n",
       "      <td>finanzas</td>\n",
       "      <td>fuenmayor</td>\n",
       "      <td>4</td>\n",
       "    </tr>\n",
       "    <tr>\n",
       "      <th>16</th>\n",
       "      <td>industrial</td>\n",
       "      <td>fuenmayor</td>\n",
       "      <td>3</td>\n",
       "    </tr>\n",
       "    <tr>\n",
       "      <th>17</th>\n",
       "      <td>RRHH</td>\n",
       "      <td>llodio</td>\n",
       "      <td>3</td>\n",
       "    </tr>\n",
       "    <tr>\n",
       "      <th>18</th>\n",
       "      <td>supply chain</td>\n",
       "      <td>fuenmayor</td>\n",
       "      <td>2</td>\n",
       "    </tr>\n",
       "  </tbody>\n",
       "</table>\n",
       "</div>"
      ],
      "text/plain": [
       "           field       site  employee\n",
       "0   supply chain         hq        24\n",
       "1       finanzas         hq        17\n",
       "2   supply chain   valencia         9\n",
       "3       finanzas   valencia         9\n",
       "4     industrial      baños         8\n",
       "5   supply chain      baños         7\n",
       "6     industrial    samazan         7\n",
       "7     industrial   valencia         7\n",
       "8       finanzas     llodio         6\n",
       "9       finanzas      baños         6\n",
       "10    industrial     llodio         6\n",
       "11  supply chain    samazan         4\n",
       "12  supply chain     llodio         4\n",
       "13    industrial         hq         4\n",
       "14      finanzas    samazan         4\n",
       "15      finanzas  fuenmayor         4\n",
       "16    industrial  fuenmayor         3\n",
       "17          RRHH     llodio         3\n",
       "18  supply chain  fuenmayor         2"
      ]
     },
     "execution_count": 620,
     "metadata": {},
     "output_type": "execute_result"
    }
   ],
   "source": [
    "#the problem is that the dedications are splitted between all.\n",
    "\n",
    "employees_field_split"
   ]
  },
  {
   "cell_type": "markdown",
   "metadata": {},
   "source": [
    "# 3.1 Vision Global - Análisis cuantitativo"
   ]
  },
  {
   "cell_type": "code",
   "execution_count": null,
   "metadata": {},
   "outputs": [],
   "source": [
    "# i am missing how to group for plantas and hq. to do the table"
   ]
  },
  {
   "cell_type": "code",
   "execution_count": 1011,
   "metadata": {
    "scrolled": true
   },
   "outputs": [
    {
     "data": {
      "text/html": [
       "<div>\n",
       "<style scoped>\n",
       "    .dataframe tbody tr th:only-of-type {\n",
       "        vertical-align: middle;\n",
       "    }\n",
       "\n",
       "    .dataframe tbody tr th {\n",
       "        vertical-align: top;\n",
       "    }\n",
       "\n",
       "    .dataframe thead th {\n",
       "        text-align: right;\n",
       "    }\n",
       "</style>\n",
       "<table border=\"1\" class=\"dataframe\">\n",
       "  <thead>\n",
       "    <tr style=\"text-align: right;\">\n",
       "      <th></th>\n",
       "      <th>site</th>\n",
       "      <th>employee</th>\n",
       "    </tr>\n",
       "  </thead>\n",
       "  <tbody>\n",
       "    <tr>\n",
       "      <th>0</th>\n",
       "      <td>valencia</td>\n",
       "      <td>10</td>\n",
       "    </tr>\n",
       "    <tr>\n",
       "      <th>1</th>\n",
       "      <td>samazan</td>\n",
       "      <td>7</td>\n",
       "    </tr>\n",
       "    <tr>\n",
       "      <th>2</th>\n",
       "      <td>llodio</td>\n",
       "      <td>6</td>\n",
       "    </tr>\n",
       "    <tr>\n",
       "      <th>3</th>\n",
       "      <td>hq</td>\n",
       "      <td>26</td>\n",
       "    </tr>\n",
       "    <tr>\n",
       "      <th>4</th>\n",
       "      <td>fuenmayor</td>\n",
       "      <td>5</td>\n",
       "    </tr>\n",
       "    <tr>\n",
       "      <th>5</th>\n",
       "      <td>baños</td>\n",
       "      <td>8</td>\n",
       "    </tr>\n",
       "  </tbody>\n",
       "</table>\n",
       "</div>"
      ],
      "text/plain": [
       "        site  employee\n",
       "0   valencia        10\n",
       "1    samazan         7\n",
       "2     llodio         6\n",
       "3         hq        26\n",
       "4  fuenmayor         5\n",
       "5      baños         8"
      ]
     },
     "execution_count": 1011,
     "metadata": {},
     "output_type": "execute_result"
    }
   ],
   "source": [
    "employees_site_test"
   ]
  },
  {
   "cell_type": "code",
   "execution_count": 1015,
   "metadata": {},
   "outputs": [
    {
     "data": {
      "text/html": [
       "<div>\n",
       "<style scoped>\n",
       "    .dataframe tbody tr th:only-of-type {\n",
       "        vertical-align: middle;\n",
       "    }\n",
       "\n",
       "    .dataframe tbody tr th {\n",
       "        vertical-align: top;\n",
       "    }\n",
       "\n",
       "    .dataframe thead th {\n",
       "        text-align: right;\n",
       "    }\n",
       "</style>\n",
       "<table border=\"1\" class=\"dataframe\">\n",
       "  <thead>\n",
       "    <tr style=\"text-align: right;\">\n",
       "      <th></th>\n",
       "      <th>site</th>\n",
       "      <th>reported fte</th>\n",
       "    </tr>\n",
       "  </thead>\n",
       "  <tbody>\n",
       "    <tr>\n",
       "      <th>0</th>\n",
       "      <td>valencia</td>\n",
       "      <td>9.45</td>\n",
       "    </tr>\n",
       "    <tr>\n",
       "      <th>1</th>\n",
       "      <td>samazan</td>\n",
       "      <td>6.83</td>\n",
       "    </tr>\n",
       "    <tr>\n",
       "      <th>2</th>\n",
       "      <td>llodio</td>\n",
       "      <td>5.37</td>\n",
       "    </tr>\n",
       "    <tr>\n",
       "      <th>3</th>\n",
       "      <td>hq</td>\n",
       "      <td>25.77</td>\n",
       "    </tr>\n",
       "    <tr>\n",
       "      <th>4</th>\n",
       "      <td>fuenmayor</td>\n",
       "      <td>4.44</td>\n",
       "    </tr>\n",
       "    <tr>\n",
       "      <th>5</th>\n",
       "      <td>baños</td>\n",
       "      <td>7.36</td>\n",
       "    </tr>\n",
       "  </tbody>\n",
       "</table>\n",
       "</div>"
      ],
      "text/plain": [
       "        site  reported fte\n",
       "0   valencia          9.45\n",
       "1    samazan          6.83\n",
       "2     llodio          5.37\n",
       "3         hq         25.77\n",
       "4  fuenmayor          4.44\n",
       "5      baños          7.36"
      ]
     },
     "execution_count": 1015,
     "metadata": {},
     "output_type": "execute_result"
    }
   ],
   "source": [
    "employee_dedicacion_test"
   ]
  },
  {
   "cell_type": "code",
   "execution_count": 1018,
   "metadata": {
    "scrolled": true
   },
   "outputs": [],
   "source": [
    "site_employee_dedicacion = pd.merge(employees_site_test, employee_dedicacion_test, how='inner', on='site')"
   ]
  },
  {
   "cell_type": "code",
   "execution_count": 1020,
   "metadata": {
    "scrolled": true
   },
   "outputs": [],
   "source": [
    "site_employee_dedicacion['% dedicacion'] = ((site_employee_dedicacion['reported fte']/site_employee_dedicacion['employee'])*100).round(2)"
   ]
  },
  {
   "cell_type": "code",
   "execution_count": 1021,
   "metadata": {},
   "outputs": [
    {
     "data": {
      "text/html": [
       "<div>\n",
       "<style scoped>\n",
       "    .dataframe tbody tr th:only-of-type {\n",
       "        vertical-align: middle;\n",
       "    }\n",
       "\n",
       "    .dataframe tbody tr th {\n",
       "        vertical-align: top;\n",
       "    }\n",
       "\n",
       "    .dataframe thead th {\n",
       "        text-align: right;\n",
       "    }\n",
       "</style>\n",
       "<table border=\"1\" class=\"dataframe\">\n",
       "  <thead>\n",
       "    <tr style=\"text-align: right;\">\n",
       "      <th></th>\n",
       "      <th>site</th>\n",
       "      <th>employee</th>\n",
       "      <th>reported fte</th>\n",
       "      <th>% dedicacion</th>\n",
       "    </tr>\n",
       "  </thead>\n",
       "  <tbody>\n",
       "    <tr>\n",
       "      <th>0</th>\n",
       "      <td>valencia</td>\n",
       "      <td>10</td>\n",
       "      <td>9.45</td>\n",
       "      <td>94.50</td>\n",
       "    </tr>\n",
       "    <tr>\n",
       "      <th>1</th>\n",
       "      <td>samazan</td>\n",
       "      <td>7</td>\n",
       "      <td>6.83</td>\n",
       "      <td>97.57</td>\n",
       "    </tr>\n",
       "    <tr>\n",
       "      <th>2</th>\n",
       "      <td>llodio</td>\n",
       "      <td>6</td>\n",
       "      <td>5.37</td>\n",
       "      <td>89.50</td>\n",
       "    </tr>\n",
       "    <tr>\n",
       "      <th>3</th>\n",
       "      <td>hq</td>\n",
       "      <td>26</td>\n",
       "      <td>25.77</td>\n",
       "      <td>99.12</td>\n",
       "    </tr>\n",
       "    <tr>\n",
       "      <th>4</th>\n",
       "      <td>fuenmayor</td>\n",
       "      <td>5</td>\n",
       "      <td>4.44</td>\n",
       "      <td>88.80</td>\n",
       "    </tr>\n",
       "    <tr>\n",
       "      <th>5</th>\n",
       "      <td>baños</td>\n",
       "      <td>8</td>\n",
       "      <td>7.36</td>\n",
       "      <td>92.00</td>\n",
       "    </tr>\n",
       "  </tbody>\n",
       "</table>\n",
       "</div>"
      ],
      "text/plain": [
       "        site  employee  reported fte  % dedicacion\n",
       "0   valencia        10          9.45         94.50\n",
       "1    samazan         7          6.83         97.57\n",
       "2     llodio         6          5.37         89.50\n",
       "3         hq        26         25.77         99.12\n",
       "4  fuenmayor         5          4.44         88.80\n",
       "5      baños         8          7.36         92.00"
      ]
     },
     "execution_count": 1021,
     "metadata": {},
     "output_type": "execute_result"
    }
   ],
   "source": [
    "site_employee_dedicacion"
   ]
  },
  {
   "cell_type": "code",
   "execution_count": 1014,
   "metadata": {
    "scrolled": true
   },
   "outputs": [],
   "source": [
    "employee_dedicacion_test = dedicacion_clean.groupby('site')['reported fte'].sum().to_frame().sort_values(by='site', ascending=False).reset_index().round(2)"
   ]
  },
  {
   "cell_type": "code",
   "execution_count": null,
   "metadata": {},
   "outputs": [],
   "source": []
  },
  {
   "cell_type": "code",
   "execution_count": null,
   "metadata": {},
   "outputs": [],
   "source": [
    "#Distribución FTE tareas reportadas"
   ]
  },
  {
   "cell_type": "code",
   "execution_count": 780,
   "metadata": {},
   "outputs": [],
   "source": [
    "distribucion_field_fte = dedicacion_clean.groupby(['field','site'])['reported fte'].sum().to_frame().round(2)"
   ]
  },
  {
   "cell_type": "code",
   "execution_count": 785,
   "metadata": {},
   "outputs": [],
   "source": [
    "distribucion_field_fte['%'] = (distribucion_field_fte['reported fte']/(distribucion_field_fte['reported fte'].sum()))*100"
   ]
  },
  {
   "cell_type": "code",
   "execution_count": 786,
   "metadata": {
    "scrolled": true
   },
   "outputs": [
    {
     "data": {
      "text/html": [
       "<div>\n",
       "<style scoped>\n",
       "    .dataframe tbody tr th:only-of-type {\n",
       "        vertical-align: middle;\n",
       "    }\n",
       "\n",
       "    .dataframe tbody tr th {\n",
       "        vertical-align: top;\n",
       "    }\n",
       "\n",
       "    .dataframe thead th {\n",
       "        text-align: right;\n",
       "    }\n",
       "</style>\n",
       "<table border=\"1\" class=\"dataframe\">\n",
       "  <thead>\n",
       "    <tr style=\"text-align: right;\">\n",
       "      <th></th>\n",
       "      <th></th>\n",
       "      <th>reported fte</th>\n",
       "      <th>%</th>\n",
       "    </tr>\n",
       "    <tr>\n",
       "      <th>field</th>\n",
       "      <th>site</th>\n",
       "      <th></th>\n",
       "      <th></th>\n",
       "    </tr>\n",
       "  </thead>\n",
       "  <tbody>\n",
       "    <tr>\n",
       "      <th>RRHH</th>\n",
       "      <th>llodio</th>\n",
       "      <td>0.19</td>\n",
       "      <td>0.320729</td>\n",
       "    </tr>\n",
       "    <tr>\n",
       "      <th rowspan=\"6\" valign=\"top\">finanzas</th>\n",
       "      <th>baños</th>\n",
       "      <td>1.70</td>\n",
       "      <td>2.869683</td>\n",
       "    </tr>\n",
       "    <tr>\n",
       "      <th>fuenmayor</th>\n",
       "      <td>2.39</td>\n",
       "      <td>4.034436</td>\n",
       "    </tr>\n",
       "    <tr>\n",
       "      <th>hq</th>\n",
       "      <td>5.87</td>\n",
       "      <td>9.908845</td>\n",
       "    </tr>\n",
       "    <tr>\n",
       "      <th>llodio</th>\n",
       "      <td>2.94</td>\n",
       "      <td>4.962863</td>\n",
       "    </tr>\n",
       "    <tr>\n",
       "      <th>samazan</th>\n",
       "      <td>2.36</td>\n",
       "      <td>3.983795</td>\n",
       "    </tr>\n",
       "    <tr>\n",
       "      <th>valencia</th>\n",
       "      <td>2.83</td>\n",
       "      <td>4.777178</td>\n",
       "    </tr>\n",
       "    <tr>\n",
       "      <th rowspan=\"6\" valign=\"top\">industrial</th>\n",
       "      <th>baños</th>\n",
       "      <td>2.29</td>\n",
       "      <td>3.865631</td>\n",
       "    </tr>\n",
       "    <tr>\n",
       "      <th>fuenmayor</th>\n",
       "      <td>0.84</td>\n",
       "      <td>1.417961</td>\n",
       "    </tr>\n",
       "    <tr>\n",
       "      <th>hq</th>\n",
       "      <td>0.60</td>\n",
       "      <td>1.012829</td>\n",
       "    </tr>\n",
       "    <tr>\n",
       "      <th>llodio</th>\n",
       "      <td>0.61</td>\n",
       "      <td>1.029710</td>\n",
       "    </tr>\n",
       "    <tr>\n",
       "      <th>samazan</th>\n",
       "      <td>3.57</td>\n",
       "      <td>6.026334</td>\n",
       "    </tr>\n",
       "    <tr>\n",
       "      <th>valencia</th>\n",
       "      <td>3.81</td>\n",
       "      <td>6.431465</td>\n",
       "    </tr>\n",
       "    <tr>\n",
       "      <th rowspan=\"6\" valign=\"top\">supply chain</th>\n",
       "      <th>baños</th>\n",
       "      <td>3.37</td>\n",
       "      <td>5.688724</td>\n",
       "    </tr>\n",
       "    <tr>\n",
       "      <th>fuenmayor</th>\n",
       "      <td>1.22</td>\n",
       "      <td>2.059419</td>\n",
       "    </tr>\n",
       "    <tr>\n",
       "      <th>hq</th>\n",
       "      <td>19.30</td>\n",
       "      <td>32.579338</td>\n",
       "    </tr>\n",
       "    <tr>\n",
       "      <th>llodio</th>\n",
       "      <td>1.63</td>\n",
       "      <td>2.751519</td>\n",
       "    </tr>\n",
       "    <tr>\n",
       "      <th>samazan</th>\n",
       "      <td>0.90</td>\n",
       "      <td>1.519244</td>\n",
       "    </tr>\n",
       "    <tr>\n",
       "      <th>valencia</th>\n",
       "      <td>2.82</td>\n",
       "      <td>4.760297</td>\n",
       "    </tr>\n",
       "  </tbody>\n",
       "</table>\n",
       "</div>"
      ],
      "text/plain": [
       "                        reported fte          %\n",
       "field        site                              \n",
       "RRHH         llodio             0.19   0.320729\n",
       "finanzas     baños              1.70   2.869683\n",
       "             fuenmayor          2.39   4.034436\n",
       "             hq                 5.87   9.908845\n",
       "             llodio             2.94   4.962863\n",
       "             samazan            2.36   3.983795\n",
       "             valencia           2.83   4.777178\n",
       "industrial   baños              2.29   3.865631\n",
       "             fuenmayor          0.84   1.417961\n",
       "             hq                 0.60   1.012829\n",
       "             llodio             0.61   1.029710\n",
       "             samazan            3.57   6.026334\n",
       "             valencia           3.81   6.431465\n",
       "supply chain baños              3.37   5.688724\n",
       "             fuenmayor          1.22   2.059419\n",
       "             hq                19.30  32.579338\n",
       "             llodio             1.63   2.751519\n",
       "             samazan            0.90   1.519244\n",
       "             valencia           2.82   4.760297"
      ]
     },
     "execution_count": 786,
     "metadata": {},
     "output_type": "execute_result"
    }
   ],
   "source": [
    "distribucion_field_fte"
   ]
  },
  {
   "cell_type": "code",
   "execution_count": 1105,
   "metadata": {
    "scrolled": true
   },
   "outputs": [],
   "source": [
    "distribucion_field_hq_fte=dedicacion_clean_hq.pivot_table(values=['reported fte'], index=['field'], columns=['site'], aggfunc='sum').fillna(0).round(2)"
   ]
  },
  {
   "cell_type": "code",
   "execution_count": 1106,
   "metadata": {},
   "outputs": [
    {
     "data": {
      "text/html": [
       "<div>\n",
       "<style scoped>\n",
       "    .dataframe tbody tr th:only-of-type {\n",
       "        vertical-align: middle;\n",
       "    }\n",
       "\n",
       "    .dataframe tbody tr th {\n",
       "        vertical-align: top;\n",
       "    }\n",
       "\n",
       "    .dataframe thead tr th {\n",
       "        text-align: left;\n",
       "    }\n",
       "\n",
       "    .dataframe thead tr:last-of-type th {\n",
       "        text-align: right;\n",
       "    }\n",
       "</style>\n",
       "<table border=\"1\" class=\"dataframe\">\n",
       "  <thead>\n",
       "    <tr>\n",
       "      <th></th>\n",
       "      <th>reported fte</th>\n",
       "    </tr>\n",
       "    <tr>\n",
       "      <th>site</th>\n",
       "      <th>hq</th>\n",
       "    </tr>\n",
       "    <tr>\n",
       "      <th>field</th>\n",
       "      <th></th>\n",
       "    </tr>\n",
       "  </thead>\n",
       "  <tbody>\n",
       "    <tr>\n",
       "      <th>finanzas</th>\n",
       "      <td>5.87</td>\n",
       "    </tr>\n",
       "    <tr>\n",
       "      <th>industrial</th>\n",
       "      <td>0.60</td>\n",
       "    </tr>\n",
       "    <tr>\n",
       "      <th>supply chain</th>\n",
       "      <td>19.30</td>\n",
       "    </tr>\n",
       "  </tbody>\n",
       "</table>\n",
       "</div>"
      ],
      "text/plain": [
       "             reported fte\n",
       "site                   hq\n",
       "field                    \n",
       "finanzas             5.87\n",
       "industrial           0.60\n",
       "supply chain        19.30"
      ]
     },
     "execution_count": 1106,
     "metadata": {},
     "output_type": "execute_result"
    }
   ],
   "source": [
    "distribucion_field_hq_fte"
   ]
  },
  {
   "cell_type": "code",
   "execution_count": 1107,
   "metadata": {},
   "outputs": [],
   "source": [
    "distribucion_field_all_plantas_fte=dedicacion_clean_plantas.pivot_table(values=['reported fte'], index=['field'], columns=['site'], aggfunc='sum').fillna(0).round(2)"
   ]
  },
  {
   "cell_type": "code",
   "execution_count": 1114,
   "metadata": {},
   "outputs": [
    {
     "data": {
      "text/html": [
       "<div>\n",
       "<style scoped>\n",
       "    .dataframe tbody tr th:only-of-type {\n",
       "        vertical-align: middle;\n",
       "    }\n",
       "\n",
       "    .dataframe tbody tr th {\n",
       "        vertical-align: top;\n",
       "    }\n",
       "\n",
       "    .dataframe thead tr th {\n",
       "        text-align: left;\n",
       "    }\n",
       "\n",
       "    .dataframe thead tr:last-of-type th {\n",
       "        text-align: right;\n",
       "    }\n",
       "</style>\n",
       "<table border=\"1\" class=\"dataframe\">\n",
       "  <thead>\n",
       "    <tr>\n",
       "      <th></th>\n",
       "      <th colspan=\"5\" halign=\"left\">reported fte</th>\n",
       "      <th>plantas</th>\n",
       "    </tr>\n",
       "    <tr>\n",
       "      <th>site</th>\n",
       "      <th>baños</th>\n",
       "      <th>fuenmayor</th>\n",
       "      <th>llodio</th>\n",
       "      <th>samazan</th>\n",
       "      <th>valencia</th>\n",
       "      <th></th>\n",
       "    </tr>\n",
       "    <tr>\n",
       "      <th>field</th>\n",
       "      <th></th>\n",
       "      <th></th>\n",
       "      <th></th>\n",
       "      <th></th>\n",
       "      <th></th>\n",
       "      <th></th>\n",
       "    </tr>\n",
       "  </thead>\n",
       "  <tbody>\n",
       "    <tr>\n",
       "      <th>RRHH</th>\n",
       "      <td>0.00</td>\n",
       "      <td>0.00</td>\n",
       "      <td>0.19</td>\n",
       "      <td>0.00</td>\n",
       "      <td>0.00</td>\n",
       "      <td>0.19</td>\n",
       "    </tr>\n",
       "    <tr>\n",
       "      <th>finanzas</th>\n",
       "      <td>1.70</td>\n",
       "      <td>2.39</td>\n",
       "      <td>2.94</td>\n",
       "      <td>2.36</td>\n",
       "      <td>2.83</td>\n",
       "      <td>12.22</td>\n",
       "    </tr>\n",
       "    <tr>\n",
       "      <th>industrial</th>\n",
       "      <td>2.29</td>\n",
       "      <td>0.84</td>\n",
       "      <td>0.61</td>\n",
       "      <td>3.57</td>\n",
       "      <td>3.81</td>\n",
       "      <td>11.12</td>\n",
       "    </tr>\n",
       "    <tr>\n",
       "      <th>supply chain</th>\n",
       "      <td>3.37</td>\n",
       "      <td>1.22</td>\n",
       "      <td>1.63</td>\n",
       "      <td>0.90</td>\n",
       "      <td>2.82</td>\n",
       "      <td>9.94</td>\n",
       "    </tr>\n",
       "  </tbody>\n",
       "</table>\n",
       "</div>"
      ],
      "text/plain": [
       "             reported fte                                   plantas\n",
       "site                baños fuenmayor llodio samazan valencia        \n",
       "field                                                              \n",
       "RRHH                 0.00      0.00   0.19    0.00     0.00    0.19\n",
       "finanzas             1.70      2.39   2.94    2.36     2.83   12.22\n",
       "industrial           2.29      0.84   0.61    3.57     3.81   11.12\n",
       "supply chain         3.37      1.22   1.63    0.90     2.82    9.94"
      ]
     },
     "execution_count": 1114,
     "metadata": {},
     "output_type": "execute_result"
    }
   ],
   "source": [
    "distribucion_field_all_plantas_fte"
   ]
  },
  {
   "cell_type": "code",
   "execution_count": 1111,
   "metadata": {
    "scrolled": true
   },
   "outputs": [],
   "source": [
    "distribucion_field_all_plantas_fte['plantas']=distribucion_field_all_plantas_fte.sum(axis=1)"
   ]
  },
  {
   "cell_type": "code",
   "execution_count": 1112,
   "metadata": {},
   "outputs": [],
   "source": [
    "distribucion_field_plantas_fte=distribucion_field_all_plantas_fte['plantas'].to_frame()"
   ]
  },
  {
   "cell_type": "code",
   "execution_count": 1113,
   "metadata": {},
   "outputs": [
    {
     "data": {
      "text/html": [
       "<div>\n",
       "<style scoped>\n",
       "    .dataframe tbody tr th:only-of-type {\n",
       "        vertical-align: middle;\n",
       "    }\n",
       "\n",
       "    .dataframe tbody tr th {\n",
       "        vertical-align: top;\n",
       "    }\n",
       "\n",
       "    .dataframe thead th {\n",
       "        text-align: right;\n",
       "    }\n",
       "</style>\n",
       "<table border=\"1\" class=\"dataframe\">\n",
       "  <thead>\n",
       "    <tr style=\"text-align: right;\">\n",
       "      <th></th>\n",
       "      <th>plantas</th>\n",
       "    </tr>\n",
       "    <tr>\n",
       "      <th>field</th>\n",
       "      <th></th>\n",
       "    </tr>\n",
       "  </thead>\n",
       "  <tbody>\n",
       "    <tr>\n",
       "      <th>RRHH</th>\n",
       "      <td>0.19</td>\n",
       "    </tr>\n",
       "    <tr>\n",
       "      <th>finanzas</th>\n",
       "      <td>12.22</td>\n",
       "    </tr>\n",
       "    <tr>\n",
       "      <th>industrial</th>\n",
       "      <td>11.12</td>\n",
       "    </tr>\n",
       "    <tr>\n",
       "      <th>supply chain</th>\n",
       "      <td>9.94</td>\n",
       "    </tr>\n",
       "  </tbody>\n",
       "</table>\n",
       "</div>"
      ],
      "text/plain": [
       "              plantas\n",
       "field                \n",
       "RRHH             0.19\n",
       "finanzas        12.22\n",
       "industrial      11.12\n",
       "supply chain     9.94"
      ]
     },
     "execution_count": 1113,
     "metadata": {},
     "output_type": "execute_result"
    }
   ],
   "source": [
    "distribucion_field_plantas_fte"
   ]
  },
  {
   "cell_type": "code",
   "execution_count": 1057,
   "metadata": {
    "scrolled": true
   },
   "outputs": [
    {
     "data": {
      "text/html": [
       "<div>\n",
       "<style scoped>\n",
       "    .dataframe tbody tr th:only-of-type {\n",
       "        vertical-align: middle;\n",
       "    }\n",
       "\n",
       "    .dataframe tbody tr th {\n",
       "        vertical-align: top;\n",
       "    }\n",
       "\n",
       "    .dataframe thead tr th {\n",
       "        text-align: left;\n",
       "    }\n",
       "\n",
       "    .dataframe thead tr:last-of-type th {\n",
       "        text-align: right;\n",
       "    }\n",
       "</style>\n",
       "<table border=\"1\" class=\"dataframe\">\n",
       "  <thead>\n",
       "    <tr>\n",
       "      <th></th>\n",
       "      <th>reported fte</th>\n",
       "    </tr>\n",
       "    <tr>\n",
       "      <th>site</th>\n",
       "      <th>hq</th>\n",
       "    </tr>\n",
       "    <tr>\n",
       "      <th>field</th>\n",
       "      <th></th>\n",
       "    </tr>\n",
       "  </thead>\n",
       "  <tbody>\n",
       "    <tr>\n",
       "      <th>finanzas</th>\n",
       "      <td>5.87</td>\n",
       "    </tr>\n",
       "    <tr>\n",
       "      <th>industrial</th>\n",
       "      <td>0.60</td>\n",
       "    </tr>\n",
       "    <tr>\n",
       "      <th>supply chain</th>\n",
       "      <td>19.30</td>\n",
       "    </tr>\n",
       "  </tbody>\n",
       "</table>\n",
       "</div>"
      ],
      "text/plain": [
       "             reported fte\n",
       "site                   hq\n",
       "field                    \n",
       "finanzas             5.87\n",
       "industrial           0.60\n",
       "supply chain        19.30"
      ]
     },
     "execution_count": 1057,
     "metadata": {},
     "output_type": "execute_result"
    }
   ],
   "source": [
    "distribucion_field_hq_fte"
   ]
  },
  {
   "cell_type": "code",
   "execution_count": 1115,
   "metadata": {},
   "outputs": [
    {
     "name": "stderr",
     "output_type": "stream",
     "text": [
      "/Users/luisdemiguel/miniconda3/envs/ihm1_env/lib/python3.7/site-packages/pandas/core/reshape/merge.py:618: UserWarning: merging between different levels can give an unintended result (2 levels on the left, 1 on the right)\n",
      "  warnings.warn(msg, UserWarning)\n"
     ]
    }
   ],
   "source": [
    "distribucion_field_fte_split = pd.merge(distribucion_field_hq_fte,distribucion_field_plantas_fte, how='inner', on='field') "
   ]
  },
  {
   "cell_type": "code",
   "execution_count": 1116,
   "metadata": {},
   "outputs": [],
   "source": [
    "distribucion_field_fte_split['total']= distribucion_field_fte_split.sum(axis=1)"
   ]
  },
  {
   "cell_type": "code",
   "execution_count": 1117,
   "metadata": {},
   "outputs": [
    {
     "data": {
      "text/html": [
       "<div>\n",
       "<style scoped>\n",
       "    .dataframe tbody tr th:only-of-type {\n",
       "        vertical-align: middle;\n",
       "    }\n",
       "\n",
       "    .dataframe tbody tr th {\n",
       "        vertical-align: top;\n",
       "    }\n",
       "\n",
       "    .dataframe thead th {\n",
       "        text-align: right;\n",
       "    }\n",
       "</style>\n",
       "<table border=\"1\" class=\"dataframe\">\n",
       "  <thead>\n",
       "    <tr style=\"text-align: right;\">\n",
       "      <th></th>\n",
       "      <th>(reported fte, hq)</th>\n",
       "      <th>plantas</th>\n",
       "      <th>total</th>\n",
       "    </tr>\n",
       "    <tr>\n",
       "      <th>field</th>\n",
       "      <th></th>\n",
       "      <th></th>\n",
       "      <th></th>\n",
       "    </tr>\n",
       "  </thead>\n",
       "  <tbody>\n",
       "    <tr>\n",
       "      <th>finanzas</th>\n",
       "      <td>5.87</td>\n",
       "      <td>12.22</td>\n",
       "      <td>18.09</td>\n",
       "    </tr>\n",
       "    <tr>\n",
       "      <th>industrial</th>\n",
       "      <td>0.60</td>\n",
       "      <td>11.12</td>\n",
       "      <td>11.72</td>\n",
       "    </tr>\n",
       "    <tr>\n",
       "      <th>supply chain</th>\n",
       "      <td>19.30</td>\n",
       "      <td>9.94</td>\n",
       "      <td>29.24</td>\n",
       "    </tr>\n",
       "  </tbody>\n",
       "</table>\n",
       "</div>"
      ],
      "text/plain": [
       "              (reported fte, hq)  plantas  total\n",
       "field                                           \n",
       "finanzas                    5.87    12.22  18.09\n",
       "industrial                  0.60    11.12  11.72\n",
       "supply chain               19.30     9.94  29.24"
      ]
     },
     "execution_count": 1117,
     "metadata": {},
     "output_type": "execute_result"
    }
   ],
   "source": [
    "distribucion_field_fte_split"
   ]
  },
  {
   "cell_type": "code",
   "execution_count": 1169,
   "metadata": {},
   "outputs": [],
   "source": [
    "distribucion_field_fte_split['%']=((distribucion_field_fte_split['total']/distribucion_field_fte_split['total'].sum())*100).round(2)"
   ]
  },
  {
   "cell_type": "code",
   "execution_count": 1170,
   "metadata": {
    "scrolled": false
   },
   "outputs": [
    {
     "data": {
      "text/html": [
       "<div>\n",
       "<style scoped>\n",
       "    .dataframe tbody tr th:only-of-type {\n",
       "        vertical-align: middle;\n",
       "    }\n",
       "\n",
       "    .dataframe tbody tr th {\n",
       "        vertical-align: top;\n",
       "    }\n",
       "\n",
       "    .dataframe thead th {\n",
       "        text-align: right;\n",
       "    }\n",
       "</style>\n",
       "<table border=\"1\" class=\"dataframe\">\n",
       "  <thead>\n",
       "    <tr style=\"text-align: right;\">\n",
       "      <th></th>\n",
       "      <th>(reported fte, hq)</th>\n",
       "      <th>plantas</th>\n",
       "      <th>total</th>\n",
       "      <th>%</th>\n",
       "    </tr>\n",
       "    <tr>\n",
       "      <th>field</th>\n",
       "      <th></th>\n",
       "      <th></th>\n",
       "      <th></th>\n",
       "      <th></th>\n",
       "    </tr>\n",
       "  </thead>\n",
       "  <tbody>\n",
       "    <tr>\n",
       "      <th>finanzas</th>\n",
       "      <td>5.87</td>\n",
       "      <td>12.22</td>\n",
       "      <td>18.09</td>\n",
       "      <td>30.64</td>\n",
       "    </tr>\n",
       "    <tr>\n",
       "      <th>industrial</th>\n",
       "      <td>0.60</td>\n",
       "      <td>11.12</td>\n",
       "      <td>11.72</td>\n",
       "      <td>19.85</td>\n",
       "    </tr>\n",
       "    <tr>\n",
       "      <th>supply chain</th>\n",
       "      <td>19.30</td>\n",
       "      <td>9.94</td>\n",
       "      <td>29.24</td>\n",
       "      <td>49.52</td>\n",
       "    </tr>\n",
       "  </tbody>\n",
       "</table>\n",
       "</div>"
      ],
      "text/plain": [
       "              (reported fte, hq)  plantas  total      %\n",
       "field                                                  \n",
       "finanzas                    5.87    12.22  18.09  30.64\n",
       "industrial                  0.60    11.12  11.72  19.85\n",
       "supply chain               19.30     9.94  29.24  49.52"
      ]
     },
     "execution_count": 1170,
     "metadata": {},
     "output_type": "execute_result"
    }
   ],
   "source": [
    "distribucion_field_fte_split"
   ]
  },
  {
   "cell_type": "code",
   "execution_count": 1405,
   "metadata": {
    "scrolled": true
   },
   "outputs": [
    {
     "data": {
      "image/png": "[encoded data removed]",
      "text/plain": [
       "<Figure size 360x360 with 1 Axes>"
      ]
     },
     "metadata": {},
     "output_type": "display_data"
    }
   ],
   "source": [
    "distribucion_field_fte_split_fig=distribucion_field_fte_split.plot.pie(y='%', figsize=(5, 5), autopct='%1.1f%%').legend(bbox_to_anchor=(1,1.025), loc=\"upper left\")"
   ]
  },
  {
   "cell_type": "code",
   "execution_count": 1419,
   "metadata": {},
   "outputs": [
    {
     "data": {
      "text/plain": [
       "<matplotlib.legend.Legend at 0x126aade48>"
      ]
     },
     "execution_count": 1419,
     "metadata": {},
     "output_type": "execute_result"
    }
   ],
   "source": [
    "distribucion_field_fte_split_fig"
   ]
  },
  {
   "cell_type": "code",
   "execution_count": null,
   "metadata": {},
   "outputs": [],
   "source": []
  },
  {
   "cell_type": "code",
   "execution_count": null,
   "metadata": {},
   "outputs": [],
   "source": [
    "title.set_ha(\"left\")\n",
    "plt.gca().axis(\"equal\")\n",
    "pie = plt.pie(total, startangle=0)\n",
    "labels=[\"Trojans\", \"Viruses\", \"Too many open tabs\", \"The anti-virus software\"]\n",
    "plt.legend(pie[0],labels, bbox_to_anchor=(1,0.5), loc=\"center right\", fontsize=10, \n",
    "           bbox_transform=plt.gcf().transFigure)\n",
    "plt.subplots_adjust(left=0.0, bottom=0.1, right=0.45)"
   ]
  },
  {
   "cell_type": "code",
   "execution_count": null,
   "metadata": {},
   "outputs": [],
   "source": []
  },
  {
   "cell_type": "code",
   "execution_count": null,
   "metadata": {},
   "outputs": [],
   "source": []
  },
  {
   "cell_type": "code",
   "execution_count": null,
   "metadata": {},
   "outputs": [],
   "source": []
  },
  {
   "cell_type": "code",
   "execution_count": 1321,
   "metadata": {},
   "outputs": [
    {
     "ename": "AttributeError",
     "evalue": "'function' object has no attribute 'pie'",
     "output_type": "error",
     "traceback": [
      "\u001b[0;31m---------------------------------------------------------------------------\u001b[0m",
      "\u001b[0;31mAttributeError\u001b[0m                            Traceback (most recent call last)",
      "\u001b[0;32m<ipython-input-1321-79d25c59d6eb>\u001b[0m in \u001b[0;36m<module>\u001b[0;34m\u001b[0m\n\u001b[0;32m----> 1\u001b[0;31m \u001b[0mdistribucion_field_fte_split_fig\u001b[0m\u001b[0;34m.\u001b[0m\u001b[0mplot\u001b[0m\u001b[0;34m.\u001b[0m\u001b[0mpie\u001b[0m\u001b[0;34m(\u001b[0m\u001b[0my\u001b[0m\u001b[0;34m=\u001b[0m\u001b[0;34m'%'\u001b[0m\u001b[0;34m,\u001b[0m \u001b[0mfigsize\u001b[0m\u001b[0;34m=\u001b[0m\u001b[0;34m(\u001b[0m\u001b[0;36m5\u001b[0m\u001b[0;34m,\u001b[0m \u001b[0;36m5\u001b[0m\u001b[0;34m)\u001b[0m\u001b[0;34m,\u001b[0m \u001b[0mautopct\u001b[0m\u001b[0;34m=\u001b[0m\u001b[0;34m'%1.1f%%'\u001b[0m\u001b[0;34m)\u001b[0m\u001b[0;34m\u001b[0m\u001b[0;34m\u001b[0m\u001b[0m\n\u001b[0m",
      "\u001b[0;31mAttributeError\u001b[0m: 'function' object has no attribute 'pie'"
     ]
    }
   ],
   "source": [
    "distribucion_field_fte_split_fig.plot.pie(y='%', figsize=(5, 5), autopct='%1.1f%%')"
   ]
  },
  {
   "cell_type": "code",
   "execution_count": 1420,
   "metadata": {},
   "outputs": [],
   "source": [
    "distribucion_field_fte_split_fig.figure.savefig('file.png')"
   ]
  },
  {
   "cell_type": "code",
   "execution_count": null,
   "metadata": {},
   "outputs": [],
   "source": [
    "pivot_process_finanzas_fig.figure.savefig('file1.png')"
   ]
  },
  {
   "cell_type": "code",
   "execution_count": 1261,
   "metadata": {},
   "outputs": [],
   "source": [
    "from matplotlib import pyplot as plt\n",
    "from pptx import Presentation\n",
    "from pptx.util import Inches\n",
    "import chart_studio.plotly as py\n",
    "import chart_studio.presentation_objs as pres\n",
    "from pptx import Presentation"
   ]
  },
  {
   "cell_type": "code",
   "execution_count": 1312,
   "metadata": {},
   "outputs": [
    {
     "ename": "TypeError",
     "evalue": "'Presentation' object is not subscriptable",
     "output_type": "error",
     "traceback": [
      "\u001b[0;31m---------------------------------------------------------------------------\u001b[0m",
      "\u001b[0;31mTypeError\u001b[0m                                 Traceback (most recent call last)",
      "\u001b[0;32m<ipython-input-1312-ef44801eb38d>\u001b[0m in \u001b[0;36m<module>\u001b[0;34m\u001b[0m\n\u001b[0;32m----> 1\u001b[0;31m \u001b[0mprs\u001b[0m\u001b[0;34m[\u001b[0m\u001b[0;36m0\u001b[0m\u001b[0;34m]\u001b[0m\u001b[0;34m\u001b[0m\u001b[0;34m\u001b[0m\u001b[0m\n\u001b[0m",
      "\u001b[0;31mTypeError\u001b[0m: 'Presentation' object is not subscriptable"
     ]
    }
   ],
   "source": [
    "prs[0]"
   ]
  },
  {
   "cell_type": "code",
   "execution_count": 1302,
   "metadata": {},
   "outputs": [],
   "source": [
    "lyt=prs.slide_layouts[0] # choosing a slide layout\n",
    "slide=prs.slides.add_slide(lyt) # adding a slide\n",
    "title=slide.shapes.title # assigning a title\n",
    "subtitle=slide.placeholders[1] # placeholder for subtitle\n",
    "title.text=\"Hey,This is a Slide! How exciting!\" # title\n",
    "subtitle.text=\"Really?\" # subtitle\n",
    "slide=prs.slides.add_slide(lyt)\n",
    "prs.save(\"test1.pptx\") # saving file"
   ]
  },
  {
   "cell_type": "code",
   "execution_count": 1283,
   "metadata": {},
   "outputs": [],
   "source": [
    "prs.slide_width = Inches(16)\n",
    "prs.slide_height = Inches(9)"
   ]
  },
  {
   "cell_type": "code",
   "execution_count": 1286,
   "metadata": {},
   "outputs": [],
   "source": [
    "image_path = '/Users/luisdemiguel/Desktop/Ironhack/ih_dataptmad0420_final_project/ih_dataptmad0420_final_project/template/notebooks/'"
   ]
  },
  {
   "cell_type": "code",
   "execution_count": 1293,
   "metadata": {},
   "outputs": [],
   "source": [
    "img_path3 = image_path+'file.png'"
   ]
  },
  {
   "cell_type": "code",
   "execution_count": 1300,
   "metadata": {},
   "outputs": [],
   "source": [
    "img_path4 = image_path+'file1.png'"
   ]
  },
  {
   "cell_type": "code",
   "execution_count": 1290,
   "metadata": {},
   "outputs": [],
   "source": [
    "left=Inches(1)\n",
    "top=Inches(0.5)"
   ]
  },
  {
   "cell_type": "code",
   "execution_count": 1291,
   "metadata": {},
   "outputs": [],
   "source": [
    "prs = Presentation()\n",
    "blank_slide_layout = prs.slide_layouts[6]\n",
    "slide = prs.slides.add_slide(blank_slide_layout)"
   ]
  },
  {
   "cell_type": "code",
   "execution_count": 1301,
   "metadata": {},
   "outputs": [],
   "source": [
    "img=slide.shapes.add_picture(img_path3,left,top)\n",
    "img2=slide.shapes.add_picture(img_path4,left,top)"
   ]
  },
  {
   "cell_type": "code",
   "execution_count": null,
   "metadata": {},
   "outputs": [],
   "source": []
  },
  {
   "cell_type": "code",
   "execution_count": 1304,
   "metadata": {},
   "outputs": [],
   "source": [
    "lyt=prs.slide_layouts[0] # choosing a slide layout\n",
    "slide=prs.slides.add_slide(lyt) # adding a slide\n",
    "img=slide.shapes.add_picture(img_path3,left,top)\n",
    "img2=slide.shapes.add_picture(img_path4,left,top)\n",
    "\n",
    "prs.save(\"test4.pptx\")"
   ]
  },
  {
   "cell_type": "code",
   "execution_count": 1308,
   "metadata": {},
   "outputs": [
    {
     "ename": "ValueError",
     "evalue": "<pptx.shapes.picture.Picture object at 0x123d136d8> is not in slide collection",
     "output_type": "error",
     "traceback": [
      "\u001b[0;31m---------------------------------------------------------------------------\u001b[0m",
      "\u001b[0;31mValueError\u001b[0m                                Traceback (most recent call last)",
      "\u001b[0;32m<ipython-input-1308-e9fc04afd226>\u001b[0m in \u001b[0;36m<module>\u001b[0;34m\u001b[0m\n\u001b[0;32m----> 1\u001b[0;31m \u001b[0mslides\u001b[0m\u001b[0;34m.\u001b[0m\u001b[0mindex\u001b[0m\u001b[0;34m(\u001b[0m\u001b[0mimg\u001b[0m\u001b[0;34m)\u001b[0m\u001b[0;34m\u001b[0m\u001b[0;34m\u001b[0m\u001b[0m\n\u001b[0m",
      "\u001b[0;32m~/miniconda3/envs/ihm1_env/lib/python3.7/site-packages/pptx/slide.py\u001b[0m in \u001b[0;36mindex\u001b[0;34m(self, slide)\u001b[0m\n\u001b[1;32m    313\u001b[0m             \u001b[0;32mif\u001b[0m \u001b[0mthis_slide\u001b[0m \u001b[0;34m==\u001b[0m \u001b[0mslide\u001b[0m\u001b[0;34m:\u001b[0m\u001b[0;34m\u001b[0m\u001b[0;34m\u001b[0m\u001b[0m\n\u001b[1;32m    314\u001b[0m                 \u001b[0;32mreturn\u001b[0m \u001b[0midx\u001b[0m\u001b[0;34m\u001b[0m\u001b[0;34m\u001b[0m\u001b[0m\n\u001b[0;32m--> 315\u001b[0;31m         \u001b[0;32mraise\u001b[0m \u001b[0mValueError\u001b[0m\u001b[0;34m(\u001b[0m\u001b[0;34m\"%s is not in slide collection\"\u001b[0m \u001b[0;34m%\u001b[0m \u001b[0mslide\u001b[0m\u001b[0;34m)\u001b[0m\u001b[0;34m\u001b[0m\u001b[0;34m\u001b[0m\u001b[0m\n\u001b[0m\u001b[1;32m    316\u001b[0m \u001b[0;34m\u001b[0m\u001b[0m\n\u001b[1;32m    317\u001b[0m \u001b[0;34m\u001b[0m\u001b[0m\n",
      "\u001b[0;31mValueError\u001b[0m: <pptx.shapes.picture.Picture object at 0x123d136d8> is not in slide collection"
     ]
    }
   ],
   "source": [
    "slides.index(img)"
   ]
  },
  {
   "cell_type": "code",
   "execution_count": 1256,
   "metadata": {},
   "outputs": [],
   "source": [
    "img_path = distribucion_field_fte_split_fig.figure.savefig('file.png')\n",
    "img_path1 = pivot_process_finanzas_fig.figure.savefig('file1.png')"
   ]
  },
  {
   "cell_type": "code",
   "execution_count": 1276,
   "metadata": {},
   "outputs": [],
   "source": [
    "img_path = 'file.png'\n",
    "img_path1 = 'file1.png'\n",
    "\n",
    "prs = Presentation()\n",
    "blank_slide_layout = prs.slide_layouts[6]\n",
    "\n",
    "slide = prs.slides.add_slide(blank_slide_layout)\n",
    "\n",
    "slide_1 = prs.slides[0]\n",
    "\n",
    "left = Inches(5)\n",
    "height = Inches(4)\n",
    "pic = slide.shapes.add_picture(img_path, left, top, height=height)\n",
    "\n"
   ]
  },
  {
   "cell_type": "code",
   "execution_count": 1258,
   "metadata": {},
   "outputs": [
    {
     "data": {
      "text/plain": [
       "<pptx.slide.Slide at 0x123418818>"
      ]
     },
     "execution_count": 1258,
     "metadata": {},
     "output_type": "execute_result"
    }
   ],
   "source": [
    "prs.slides.add_slide(blank_slide_layout)"
   ]
  },
  {
   "cell_type": "code",
   "execution_count": 1259,
   "metadata": {},
   "outputs": [],
   "source": [
    "slide_2 = prs.slides[1]"
   ]
  },
  {
   "cell_type": "code",
   "execution_count": 1260,
   "metadata": {},
   "outputs": [],
   "source": [
    "slides = prs.slides\n",
    "\n",
    "for slide in prs.slides: \n",
    "    if slides[0]:\n",
    "        left = Inches(5)\n",
    "        height = Inches(4)\n",
    "        pic = slide.shapes.add_picture(img_path, left, top, height=height)\n",
    "    if slides[1]:\n",
    "        left = Inches(5)\n",
    "        height = Inches(4)\n",
    "        pic2 = slide.shapes.add_picture(img_path1, left, top, height=height)\n",
    "       "
   ]
  },
  {
   "cell_type": "code",
   "execution_count": null,
   "metadata": {},
   "outputs": [],
   "source": [
    "prs.save('test.pptx')"
   ]
  },
  {
   "cell_type": "code",
   "execution_count": null,
   "metadata": {},
   "outputs": [],
   "source": []
  },
  {
   "cell_type": "code",
   "execution_count": null,
   "metadata": {},
   "outputs": [],
   "source": []
  },
  {
   "cell_type": "code",
   "execution_count": 1268,
   "metadata": {},
   "outputs": [],
   "source": [
    "from pptx import Presentation\n",
    "import os\n",
    "from PIL import Image\n",
    " \n"
   ]
  },
  {
   "cell_type": "code",
   "execution_count": 1280,
   "metadata": {},
   "outputs": [],
   "source": [
    "import pptx\n",
    "import pptx.util\n",
    "import glob\n",
    "import scipy.misc\n",
    "\n",
    "OUTPUT_TAG = \"MY_TAG\"\n",
    "\n",
    "# new\n",
    "prs = pptx.Presentation()\n",
    "# open\n",
    "# prs_exists = pptx.Presentation(\"some_presentation.pptx\")\n",
    "\n",
    "# default slide width\n",
    "#prs.slide_width = 9144000\n",
    "# slide height @ 4:3\n",
    "#prs.slide_height = 6858000\n",
    "# slide height @ 16:9\n",
    "prs.slide_height = 5143500\n",
    "\n",
    "# title slide\n",
    "slide = prs.slides.add_slide(prs.slide_layouts[0])\n",
    "# blank slide\n",
    "#slide = prs.slides.add_slide(prs.slide_layouts[6])\n",
    "\n",
    "# set title\n",
    "title = slide.shapes.title\n",
    "title.text = OUTPUT_TAG\n",
    "\n",
    "pic_left  = int(prs.slide_width * 0.15)\n",
    "pic_top   = int(prs.slide_height * 0.1)\n",
    "pic_width = int(prs.slide_width * 0.7)\n",
    "\n",
    "for g in glob.glob('/Users/luisdemiguel/Desktop/Ironhack/ih_dataptmad0420_final_project/ih_dataptmad0420_final_project/template/notebooks/*\"):\n",
    "    if g.endswith('.png'):\n",
    "        print (g)\n",
    "        slide = prs.slides.add_slide(prs.slide_layouts[6])\n",
    "\n",
    "        tb = slide.shapes.add_textbox(0, 0, prs.slide_width, pic_top / 2)\n",
    "        p = tb.textframe.add_paragraph()\n",
    "        p.text = g\n",
    "        p.font.size = pptx.util.Pt(14)\n",
    "\n",
    "        img = scipy.misc.imread(g)\n",
    "        pic_height = int(pic_width * img.shape[0] / img.shape[1])\n",
    "        #pic   = slide.shapes.add_picture(g, pic_left, pic_top)\n",
    "        pic   = slide.shapes.add_picture(g, pic_left, pic_top, pic_width, pic_height)\n",
    "\n",
    "prs.save(\"%s.pptx\" % OUTPUT_TAG)"
   ]
  },
  {
   "cell_type": "code",
   "execution_count": 1269,
   "metadata": {},
   "outputs": [],
   "source": [
    "def _add_image(slide, placeholder_id, image_url):\n",
    "    placeholder = slide.placeholders[placeholder_id]\n",
    " \n",
    "    # Calculate the image size of the image\n",
    "    im = Image.open(image_url)\n",
    "    width, height = im.size\n",
    " \n",
    "    # Make sure the placeholder doesn't zoom in\n",
    "    placeholder.height = height\n",
    "    placeholder.width = width\n",
    " \n",
    "    # Insert the picture\n",
    "    placeholder = placeholder.insert_picture(image_url)\n",
    " \n",
    "    # Calculate ratios and compare\n",
    "    image_ratio = width / height\n",
    "    placeholder_ratio = placeholder.width / placeholder.height\n",
    "    ratio_difference = placeholder_ratio - image_ratio\n",
    " \n",
    "    # Placeholder width too wide:\n",
    "    if ratio_difference > 0:\n",
    "        difference_on_each_side = ratio_difference / 2\n",
    "        placeholder.crop_left = -difference_on_each_side\n",
    "        placeholder.crop_right = -difference_on_each_side\n",
    "    # Placeholder height too high\n",
    "    else:\n",
    "        difference_on_each_side = -ratio_difference / 2\n",
    "        placeholder.crop_bottom = -difference_on_each_side\n",
    "        placeholder.crop_top = -difference_on_each_side"
   ]
  },
  {
   "cell_type": "code",
   "execution_count": 1274,
   "metadata": {},
   "outputs": [
    {
     "ename": "AttributeError",
     "evalue": "'SlidePlaceholder' object has no attribute 'insert_picture'",
     "output_type": "error",
     "traceback": [
      "\u001b[0;31m---------------------------------------------------------------------------\u001b[0m",
      "\u001b[0;31mAttributeError\u001b[0m                            Traceback (most recent call last)",
      "\u001b[0;32m<ipython-input-1274-66dff0aed809>\u001b[0m in \u001b[0;36m<module>\u001b[0;34m\u001b[0m\n\u001b[1;32m      7\u001b[0m \u001b[0msub\u001b[0m \u001b[0;34m=\u001b[0m \u001b[0mslide\u001b[0m\u001b[0;34m.\u001b[0m\u001b[0mplaceholders\u001b[0m\u001b[0;34m[\u001b[0m\u001b[0;36m2\u001b[0m\u001b[0;34m]\u001b[0m\u001b[0;34m.\u001b[0m\u001b[0mtext\u001b[0m \u001b[0;34m=\u001b[0m \u001b[0;34m\"Python has the power\"\u001b[0m\u001b[0;34m\u001b[0m\u001b[0;34m\u001b[0m\u001b[0m\n\u001b[1;32m      8\u001b[0m \u001b[0m_add_image\u001b[0m\u001b[0;34m(\u001b[0m\u001b[0mslide\u001b[0m\u001b[0;34m,\u001b[0m\u001b[0;36m1\u001b[0m\u001b[0;34m,\u001b[0m\u001b[0;34m\"file1.png\"\u001b[0m\u001b[0;34m)\u001b[0m\u001b[0;34m\u001b[0m\u001b[0;34m\u001b[0m\u001b[0m\n\u001b[0;32m----> 9\u001b[0;31m \u001b[0m_add_image\u001b[0m\u001b[0;34m(\u001b[0m\u001b[0mslide\u001b[0m\u001b[0;34m,\u001b[0m\u001b[0;36m2\u001b[0m\u001b[0;34m,\u001b[0m\u001b[0;34m\"file.png\"\u001b[0m\u001b[0;34m)\u001b[0m\u001b[0;34m\u001b[0m\u001b[0;34m\u001b[0m\u001b[0m\n\u001b[0m\u001b[1;32m     10\u001b[0m \u001b[0;34m\u001b[0m\u001b[0m\n\u001b[1;32m     11\u001b[0m \u001b[0mprs\u001b[0m\u001b[0;34m.\u001b[0m\u001b[0msave\u001b[0m\u001b[0;34m(\u001b[0m\u001b[0;34m\"MyPresentation.pptx\"\u001b[0m\u001b[0;34m)\u001b[0m\u001b[0;34m\u001b[0m\u001b[0;34m\u001b[0m\u001b[0m\n",
      "\u001b[0;32m<ipython-input-1269-cdb2691c9862>\u001b[0m in \u001b[0;36m_add_image\u001b[0;34m(slide, placeholder_id, image_url)\u001b[0m\n\u001b[1;32m     11\u001b[0m \u001b[0;34m\u001b[0m\u001b[0m\n\u001b[1;32m     12\u001b[0m     \u001b[0;31m# Insert the picture\u001b[0m\u001b[0;34m\u001b[0m\u001b[0;34m\u001b[0m\u001b[0;34m\u001b[0m\u001b[0m\n\u001b[0;32m---> 13\u001b[0;31m     \u001b[0mplaceholder\u001b[0m \u001b[0;34m=\u001b[0m \u001b[0mplaceholder\u001b[0m\u001b[0;34m.\u001b[0m\u001b[0minsert_picture\u001b[0m\u001b[0;34m(\u001b[0m\u001b[0mimage_url\u001b[0m\u001b[0;34m)\u001b[0m\u001b[0;34m\u001b[0m\u001b[0;34m\u001b[0m\u001b[0m\n\u001b[0m\u001b[1;32m     14\u001b[0m \u001b[0;34m\u001b[0m\u001b[0m\n\u001b[1;32m     15\u001b[0m     \u001b[0;31m# Calculate ratios and compare\u001b[0m\u001b[0;34m\u001b[0m\u001b[0;34m\u001b[0m\u001b[0;34m\u001b[0m\u001b[0m\n",
      "\u001b[0;31mAttributeError\u001b[0m: 'SlidePlaceholder' object has no attribute 'insert_picture'"
     ]
    }
   ],
   "source": [
    "prs = Presentation()\n",
    " \n",
    "layout8 = prs.slide_layouts[8]\n",
    "slide = prs.slides.add_slide(layout8)\n",
    " \n",
    "title = slide.shapes.title.text = \"This is Powerpoint\"\n",
    "sub = slide.placeholders[2].text = \"Python has the power\"\n",
    "_add_image(slide,1,\"file1.png\")\n",
    "_add_image(slide,2,\"file.png\")\n",
    " \n",
    "prs.save(\"MyPresentation.pptx\")\n"
   ]
  },
  {
   "cell_type": "code",
   "execution_count": 1177,
   "metadata": {},
   "outputs": [],
   "source": []
  },
  {
   "cell_type": "code",
   "execution_count": null,
   "metadata": {},
   "outputs": [],
   "source": []
  },
  {
   "cell_type": "code",
   "execution_count": 1103,
   "metadata": {},
   "outputs": [],
   "source": [
    "test9=distribucion_field_fte_split.append(distribucion_field_fte_split.sum(axis=0), ignore_index=True)"
   ]
  },
  {
   "cell_type": "code",
   "execution_count": 1104,
   "metadata": {
    "scrolled": true
   },
   "outputs": [
    {
     "data": {
      "text/html": [
       "<div>\n",
       "<style scoped>\n",
       "    .dataframe tbody tr th:only-of-type {\n",
       "        vertical-align: middle;\n",
       "    }\n",
       "\n",
       "    .dataframe tbody tr th {\n",
       "        vertical-align: top;\n",
       "    }\n",
       "\n",
       "    .dataframe thead th {\n",
       "        text-align: right;\n",
       "    }\n",
       "</style>\n",
       "<table border=\"1\" class=\"dataframe\">\n",
       "  <thead>\n",
       "    <tr style=\"text-align: right;\">\n",
       "      <th></th>\n",
       "      <th>(reported fte, hq)</th>\n",
       "      <th>plantas</th>\n",
       "      <th>total</th>\n",
       "      <th>%</th>\n",
       "    </tr>\n",
       "  </thead>\n",
       "  <tbody>\n",
       "    <tr>\n",
       "      <th>0</th>\n",
       "      <td>5.87</td>\n",
       "      <td>12.22</td>\n",
       "      <td>18.09</td>\n",
       "      <td>30.64</td>\n",
       "    </tr>\n",
       "    <tr>\n",
       "      <th>1</th>\n",
       "      <td>0.60</td>\n",
       "      <td>11.12</td>\n",
       "      <td>11.72</td>\n",
       "      <td>19.85</td>\n",
       "    </tr>\n",
       "    <tr>\n",
       "      <th>2</th>\n",
       "      <td>19.30</td>\n",
       "      <td>9.94</td>\n",
       "      <td>29.24</td>\n",
       "      <td>49.52</td>\n",
       "    </tr>\n",
       "    <tr>\n",
       "      <th>3</th>\n",
       "      <td>25.77</td>\n",
       "      <td>33.28</td>\n",
       "      <td>59.05</td>\n",
       "      <td>100.01</td>\n",
       "    </tr>\n",
       "  </tbody>\n",
       "</table>\n",
       "</div>"
      ],
      "text/plain": [
       "   (reported fte, hq)  plantas  total       %\n",
       "0                5.87    12.22  18.09   30.64\n",
       "1                0.60    11.12  11.72   19.85\n",
       "2               19.30     9.94  29.24   49.52\n",
       "3               25.77    33.28  59.05  100.01"
      ]
     },
     "execution_count": 1104,
     "metadata": {},
     "output_type": "execute_result"
    }
   ],
   "source": [
    "test9"
   ]
  },
  {
   "cell_type": "code",
   "execution_count": null,
   "metadata": {},
   "outputs": [],
   "source": [
    "split_task_hq=split_task_hq.append(split_task_hq.sum(numeric_only=True), ignore_index=True)"
   ]
  },
  {
   "cell_type": "code",
   "execution_count": 1180,
   "metadata": {},
   "outputs": [
    {
     "data": {
      "text/html": [
       "<div>\n",
       "<style scoped>\n",
       "    .dataframe tbody tr th:only-of-type {\n",
       "        vertical-align: middle;\n",
       "    }\n",
       "\n",
       "    .dataframe tbody tr th {\n",
       "        vertical-align: top;\n",
       "    }\n",
       "\n",
       "    .dataframe thead th {\n",
       "        text-align: right;\n",
       "    }\n",
       "</style>\n",
       "<table border=\"1\" class=\"dataframe\">\n",
       "  <thead>\n",
       "    <tr style=\"text-align: right;\">\n",
       "      <th></th>\n",
       "      <th>(reported fte, hq)</th>\n",
       "      <th>plantas</th>\n",
       "      <th>total</th>\n",
       "      <th>%</th>\n",
       "    </tr>\n",
       "    <tr>\n",
       "      <th>field</th>\n",
       "      <th></th>\n",
       "      <th></th>\n",
       "      <th></th>\n",
       "      <th></th>\n",
       "    </tr>\n",
       "  </thead>\n",
       "  <tbody>\n",
       "    <tr>\n",
       "      <th>finanzas</th>\n",
       "      <td>5.87</td>\n",
       "      <td>12.22</td>\n",
       "      <td>18.09</td>\n",
       "      <td>30.64</td>\n",
       "    </tr>\n",
       "    <tr>\n",
       "      <th>industrial</th>\n",
       "      <td>0.60</td>\n",
       "      <td>11.12</td>\n",
       "      <td>11.72</td>\n",
       "      <td>19.85</td>\n",
       "    </tr>\n",
       "    <tr>\n",
       "      <th>supply chain</th>\n",
       "      <td>19.30</td>\n",
       "      <td>9.94</td>\n",
       "      <td>29.24</td>\n",
       "      <td>49.52</td>\n",
       "    </tr>\n",
       "  </tbody>\n",
       "</table>\n",
       "</div>"
      ],
      "text/plain": [
       "              (reported fte, hq)  plantas  total      %\n",
       "field                                                  \n",
       "finanzas                    5.87    12.22  18.09  30.64\n",
       "industrial                  0.60    11.12  11.72  19.85\n",
       "supply chain               19.30     9.94  29.24  49.52"
      ]
     },
     "execution_count": 1180,
     "metadata": {},
     "output_type": "execute_result"
    }
   ],
   "source": [
    "distribucion_field_fte_split"
   ]
  },
  {
   "cell_type": "code",
   "execution_count": 1179,
   "metadata": {
    "scrolled": true
   },
   "outputs": [
    {
     "data": {
      "text/plain": [
       "<matplotlib.axes._subplots.AxesSubplot at 0x122c90da0>"
      ]
     },
     "execution_count": 1179,
     "metadata": {},
     "output_type": "execute_result"
    },
    {
     "data": {
      "image/png": "[encoded data removed]",
      "text/plain": [
       "<Figure size 360x360 with 1 Axes>"
      ]
     },
     "metadata": {},
     "output_type": "display_data"
    }
   ],
   "source": [
    "distribucion_field_fte_split.plot.pie(y='%', figsize=(5, 5), autopct='%1.1f%%')"
   ]
  },
  {
   "cell_type": "code",
   "execution_count": 1069,
   "metadata": {},
   "outputs": [
    {
     "data": {
      "text/plain": [
       "100.00000000000001"
      ]
     },
     "execution_count": 1069,
     "metadata": {},
     "output_type": "execute_result"
    }
   ],
   "source": [
    "distribucion_field_fte['%'].sum()"
   ]
  },
  {
   "cell_type": "code",
   "execution_count": null,
   "metadata": {},
   "outputs": [],
   "source": [
    "#solo quiero sumar el total al final\n",
    "\n",
    "#distribucion_field_fte=distribucion_field_fte.append(distribucion_field_fte.sum(numeric_only=True),ignore_index=True)\n",
    "#agruparlos por plantas y hq"
   ]
  },
  {
   "cell_type": "code",
   "execution_count": 837,
   "metadata": {},
   "outputs": [],
   "source": [
    "#i want to have several items at the same time, to get all plantas\n",
    "\n",
    "test3=dedicacion_clean[dedicacion_clean['site'] == ('samazan','hq')]['reported fte'].sum()"
   ]
  },
  {
   "cell_type": "code",
   "execution_count": 838,
   "metadata": {
    "scrolled": true
   },
   "outputs": [
    {
     "data": {
      "text/plain": [
       "0.0"
      ]
     },
     "execution_count": 838,
     "metadata": {},
     "output_type": "execute_result"
    }
   ],
   "source": [
    "test3"
   ]
  },
  {
   "cell_type": "code",
   "execution_count": 817,
   "metadata": {},
   "outputs": [],
   "source": [
    "test4 = (dedicacion_clean[dedicacion_clean.site.eq('valencia')]['reported fte'].sum())+(dedicacion_clean[dedicacion_clean.site.eq('hq')]['reported fte'].sum())"
   ]
  },
  {
   "cell_type": "code",
   "execution_count": 818,
   "metadata": {},
   "outputs": [
    {
     "data": {
      "text/plain": [
       "35.22094748858447"
      ]
     },
     "execution_count": 818,
     "metadata": {},
     "output_type": "execute_result"
    }
   ],
   "source": [
    "test4"
   ]
  },
  {
   "cell_type": "code",
   "execution_count": 835,
   "metadata": {},
   "outputs": [],
   "source": [
    "test5 = dedicacion_clean[dedicacion_clean.site.eq('valencia'or'hq')]['reported fte'].sum()"
   ]
  },
  {
   "cell_type": "code",
   "execution_count": 836,
   "metadata": {
    "scrolled": true
   },
   "outputs": [
    {
     "data": {
      "text/plain": [
       "9.454897260273972"
      ]
     },
     "execution_count": 836,
     "metadata": {},
     "output_type": "execute_result"
    }
   ],
   "source": [
    "test5"
   ]
  },
  {
   "cell_type": "code",
   "execution_count": null,
   "metadata": {},
   "outputs": [],
   "source": [
    "#distribucion tareas plantas y sede central"
   ]
  },
  {
   "cell_type": "code",
   "execution_count": 839,
   "metadata": {
    "scrolled": true
   },
   "outputs": [
    {
     "data": {
      "text/html": [
       "<div>\n",
       "<style scoped>\n",
       "    .dataframe tbody tr th:only-of-type {\n",
       "        vertical-align: middle;\n",
       "    }\n",
       "\n",
       "    .dataframe tbody tr th {\n",
       "        vertical-align: top;\n",
       "    }\n",
       "\n",
       "    .dataframe thead th {\n",
       "        text-align: right;\n",
       "    }\n",
       "</style>\n",
       "<table border=\"1\" class=\"dataframe\">\n",
       "  <thead>\n",
       "    <tr style=\"text-align: right;\">\n",
       "      <th></th>\n",
       "      <th>operative model</th>\n",
       "      <th>reported fte</th>\n",
       "      <th>% dedication</th>\n",
       "    </tr>\n",
       "  </thead>\n",
       "  <tbody>\n",
       "    <tr>\n",
       "      <th>0</th>\n",
       "      <td>CSC</td>\n",
       "      <td>39.372126</td>\n",
       "      <td>66.47</td>\n",
       "    </tr>\n",
       "    <tr>\n",
       "      <th>1</th>\n",
       "      <td>HQ</td>\n",
       "      <td>11.948823</td>\n",
       "      <td>20.17</td>\n",
       "    </tr>\n",
       "    <tr>\n",
       "      <th>2</th>\n",
       "      <td>Plantas</td>\n",
       "      <td>7.910071</td>\n",
       "      <td>13.35</td>\n",
       "    </tr>\n",
       "    <tr>\n",
       "      <th>3</th>\n",
       "      <td>NaN</td>\n",
       "      <td>59.231021</td>\n",
       "      <td>99.99</td>\n",
       "    </tr>\n",
       "  </tbody>\n",
       "</table>\n",
       "</div>"
      ],
      "text/plain": [
       "  operative model  reported fte  % dedication\n",
       "0             CSC     39.372126         66.47\n",
       "1              HQ     11.948823         20.17\n",
       "2         Plantas      7.910071         13.35\n",
       "3             NaN     59.231021         99.99"
      ]
     },
     "execution_count": 839,
     "metadata": {},
     "output_type": "execute_result"
    }
   ],
   "source": [
    "split_task_all"
   ]
  },
  {
   "cell_type": "code",
   "execution_count": 844,
   "metadata": {},
   "outputs": [],
   "source": [
    "split_task_all_drop = split_task_all.dropna()"
   ]
  },
  {
   "cell_type": "code",
   "execution_count": 846,
   "metadata": {
    "scrolled": false
   },
   "outputs": [
    {
     "data": {
      "image/png": "[encoded data removed]",
      "text/plain": [
       "<Figure size 360x360 with 1 Axes>"
      ]
     },
     "metadata": {},
     "output_type": "display_data"
    }
   ],
   "source": [
    "split_task_all_fig = split_task_all_drop.plot.pie(y='% dedication', figsize=(5, 5), autopct='%1.1f%%')"
   ]
  },
  {
   "cell_type": "code",
   "execution_count": 867,
   "metadata": {},
   "outputs": [
    {
     "data": {
      "text/html": [
       "<div>\n",
       "<style scoped>\n",
       "    .dataframe tbody tr th:only-of-type {\n",
       "        vertical-align: middle;\n",
       "    }\n",
       "\n",
       "    .dataframe tbody tr th {\n",
       "        vertical-align: top;\n",
       "    }\n",
       "\n",
       "    .dataframe thead th {\n",
       "        text-align: right;\n",
       "    }\n",
       "</style>\n",
       "<table border=\"1\" class=\"dataframe\">\n",
       "  <thead>\n",
       "    <tr style=\"text-align: right;\">\n",
       "      <th></th>\n",
       "      <th>operative model</th>\n",
       "      <th>reported fte</th>\n",
       "      <th>% dedication</th>\n",
       "    </tr>\n",
       "  </thead>\n",
       "  <tbody>\n",
       "    <tr>\n",
       "      <th>0</th>\n",
       "      <td>CSC</td>\n",
       "      <td>15.315005</td>\n",
       "      <td>59.44</td>\n",
       "    </tr>\n",
       "    <tr>\n",
       "      <th>1</th>\n",
       "      <td>HQ</td>\n",
       "      <td>10.451045</td>\n",
       "      <td>40.56</td>\n",
       "    </tr>\n",
       "    <tr>\n",
       "      <th>2</th>\n",
       "      <td>NaN</td>\n",
       "      <td>25.766050</td>\n",
       "      <td>100.00</td>\n",
       "    </tr>\n",
       "  </tbody>\n",
       "</table>\n",
       "</div>"
      ],
      "text/plain": [
       "  operative model  reported fte  % dedication\n",
       "0             CSC     15.315005         59.44\n",
       "1              HQ     10.451045         40.56\n",
       "2             NaN     25.766050        100.00"
      ]
     },
     "execution_count": 867,
     "metadata": {},
     "output_type": "execute_result"
    }
   ],
   "source": [
    "# i dont know how to plot the same column tackle instead of 2 columns\n",
    "\n",
    "split_task_hq"
   ]
  },
  {
   "cell_type": "code",
   "execution_count": 901,
   "metadata": {},
   "outputs": [],
   "source": [
    "split_task_hq_fig1 = split_task_hq.dropna()"
   ]
  },
  {
   "cell_type": "code",
   "execution_count": 902,
   "metadata": {
    "scrolled": true
   },
   "outputs": [
    {
     "data": {
      "text/html": [
       "<div>\n",
       "<style scoped>\n",
       "    .dataframe tbody tr th:only-of-type {\n",
       "        vertical-align: middle;\n",
       "    }\n",
       "\n",
       "    .dataframe tbody tr th {\n",
       "        vertical-align: top;\n",
       "    }\n",
       "\n",
       "    .dataframe thead th {\n",
       "        text-align: right;\n",
       "    }\n",
       "</style>\n",
       "<table border=\"1\" class=\"dataframe\">\n",
       "  <thead>\n",
       "    <tr style=\"text-align: right;\">\n",
       "      <th></th>\n",
       "      <th>operative model</th>\n",
       "      <th>reported fte</th>\n",
       "      <th>% dedication</th>\n",
       "    </tr>\n",
       "  </thead>\n",
       "  <tbody>\n",
       "    <tr>\n",
       "      <th>0</th>\n",
       "      <td>CSC</td>\n",
       "      <td>15.315005</td>\n",
       "      <td>59.44</td>\n",
       "    </tr>\n",
       "    <tr>\n",
       "      <th>1</th>\n",
       "      <td>HQ</td>\n",
       "      <td>10.451045</td>\n",
       "      <td>40.56</td>\n",
       "    </tr>\n",
       "  </tbody>\n",
       "</table>\n",
       "</div>"
      ],
      "text/plain": [
       "  operative model  reported fte  % dedication\n",
       "0             CSC     15.315005         59.44\n",
       "1              HQ     10.451045         40.56"
      ]
     },
     "execution_count": 902,
     "metadata": {},
     "output_type": "execute_result"
    }
   ],
   "source": [
    "split_task_hq_fig1"
   ]
  },
  {
   "cell_type": "code",
   "execution_count": 908,
   "metadata": {},
   "outputs": [
    {
     "data": {
      "image/png": "[encoded data removed]",
      "text/plain": [
       "<Figure size 720x504 with 1 Axes>"
      ]
     },
     "metadata": {
      "needs_background": "light"
     },
     "output_type": "display_data"
    }
   ],
   "source": [
    "test6 = split_task_hq_fig1['% dedication'].plot.bar(stacked=True, color='g', figsize=(10,7))"
   ]
  },
  {
   "cell_type": "code",
   "execution_count": 889,
   "metadata": {},
   "outputs": [
    {
     "data": {
      "text/plain": [
       "<matplotlib.axes._subplots.AxesSubplot at 0x11d18a630>"
      ]
     },
     "execution_count": 889,
     "metadata": {},
     "output_type": "execute_result"
    },
    {
     "data": {
      "image/png": "[encoded data removed]",
      "text/plain": [
       "<Figure size 432x288 with 1 Axes>"
      ]
     },
     "metadata": {
      "needs_background": "light"
     },
     "output_type": "display_data"
    }
   ],
   "source": [
    "#i do not know why the sintax is not allowing me to change the size and include the %, seems is breaking with stacked\n",
    "\n",
    "split_task_hq_fig=split_task_hq_fig.plot.bar(stacked=True)\n",
    "split_task_hq_fig"
   ]
  },
  {
   "cell_type": "code",
   "execution_count": 879,
   "metadata": {},
   "outputs": [
    {
     "data": {
      "text/html": [
       "<div>\n",
       "<style scoped>\n",
       "    .dataframe tbody tr th:only-of-type {\n",
       "        vertical-align: middle;\n",
       "    }\n",
       "\n",
       "    .dataframe tbody tr th {\n",
       "        vertical-align: top;\n",
       "    }\n",
       "\n",
       "    .dataframe thead th {\n",
       "        text-align: right;\n",
       "    }\n",
       "</style>\n",
       "<table border=\"1\" class=\"dataframe\">\n",
       "  <thead>\n",
       "    <tr style=\"text-align: right;\">\n",
       "      <th></th>\n",
       "      <th>operative model</th>\n",
       "      <th>reported fte</th>\n",
       "      <th>% dedication</th>\n",
       "    </tr>\n",
       "  </thead>\n",
       "  <tbody>\n",
       "    <tr>\n",
       "      <th>0</th>\n",
       "      <td>CSC</td>\n",
       "      <td>24.057121</td>\n",
       "      <td>71.89</td>\n",
       "    </tr>\n",
       "    <tr>\n",
       "      <th>1</th>\n",
       "      <td>HQ</td>\n",
       "      <td>1.497778</td>\n",
       "      <td>4.48</td>\n",
       "    </tr>\n",
       "    <tr>\n",
       "      <th>2</th>\n",
       "      <td>Plantas</td>\n",
       "      <td>7.910071</td>\n",
       "      <td>23.64</td>\n",
       "    </tr>\n",
       "    <tr>\n",
       "      <th>3</th>\n",
       "      <td>NaN</td>\n",
       "      <td>33.464970</td>\n",
       "      <td>100.01</td>\n",
       "    </tr>\n",
       "  </tbody>\n",
       "</table>\n",
       "</div>"
      ],
      "text/plain": [
       "  operative model  reported fte  % dedication\n",
       "0             CSC     24.057121         71.89\n",
       "1              HQ      1.497778          4.48\n",
       "2         Plantas      7.910071         23.64\n",
       "3             NaN     33.464970        100.01"
      ]
     },
     "execution_count": 879,
     "metadata": {},
     "output_type": "execute_result"
    }
   ],
   "source": [
    "split_task_site"
   ]
  },
  {
   "cell_type": "code",
   "execution_count": 1001,
   "metadata": {},
   "outputs": [],
   "source": [
    "split_task_site_fig = split_task_site.dropna()"
   ]
  },
  {
   "cell_type": "code",
   "execution_count": 1002,
   "metadata": {},
   "outputs": [
    {
     "data": {
      "text/html": [
       "<div>\n",
       "<style scoped>\n",
       "    .dataframe tbody tr th:only-of-type {\n",
       "        vertical-align: middle;\n",
       "    }\n",
       "\n",
       "    .dataframe tbody tr th {\n",
       "        vertical-align: top;\n",
       "    }\n",
       "\n",
       "    .dataframe thead th {\n",
       "        text-align: right;\n",
       "    }\n",
       "</style>\n",
       "<table border=\"1\" class=\"dataframe\">\n",
       "  <thead>\n",
       "    <tr style=\"text-align: right;\">\n",
       "      <th></th>\n",
       "      <th>operative model</th>\n",
       "      <th>reported fte</th>\n",
       "      <th>% dedication</th>\n",
       "    </tr>\n",
       "  </thead>\n",
       "  <tbody>\n",
       "    <tr>\n",
       "      <th>0</th>\n",
       "      <td>CSC</td>\n",
       "      <td>24.057121</td>\n",
       "      <td>71.89</td>\n",
       "    </tr>\n",
       "    <tr>\n",
       "      <th>1</th>\n",
       "      <td>HQ</td>\n",
       "      <td>1.497778</td>\n",
       "      <td>4.48</td>\n",
       "    </tr>\n",
       "    <tr>\n",
       "      <th>2</th>\n",
       "      <td>Plantas</td>\n",
       "      <td>7.910071</td>\n",
       "      <td>23.64</td>\n",
       "    </tr>\n",
       "  </tbody>\n",
       "</table>\n",
       "</div>"
      ],
      "text/plain": [
       "  operative model  reported fte  % dedication\n",
       "0             CSC     24.057121         71.89\n",
       "1              HQ      1.497778          4.48\n",
       "2         Plantas      7.910071         23.64"
      ]
     },
     "execution_count": 1002,
     "metadata": {},
     "output_type": "execute_result"
    }
   ],
   "source": [
    "split_task_site_fig"
   ]
  },
  {
   "cell_type": "code",
   "execution_count": 1003,
   "metadata": {},
   "outputs": [
    {
     "data": {
      "image/png": "[encoded data removed]",
      "text/plain": [
       "<Figure size 432x288 with 1 Axes>"
      ]
     },
     "metadata": {
      "needs_background": "light"
     },
     "output_type": "display_data"
    }
   ],
   "source": [
    "split_task_site_fig = split_task_site_fig['reported fte'].plot.bar(stacked=True)"
   ]
  },
  {
   "cell_type": "code",
   "execution_count": 909,
   "metadata": {},
   "outputs": [],
   "source": [
    "# 3.1 distribucion tareas por proceso"
   ]
  },
  {
   "cell_type": "code",
   "execution_count": 1126,
   "metadata": {},
   "outputs": [],
   "source": [
    "pivot_process_site_all=dedicacion_clean.reset_index().pivot_table(values=['reported fte'], index=['field','level1'], columns=['site'], aggfunc='sum').fillna(0).round(2)"
   ]
  },
  {
   "cell_type": "code",
   "execution_count": 1127,
   "metadata": {
    "scrolled": false
   },
   "outputs": [
    {
     "data": {
      "text/html": [
       "<div>\n",
       "<style scoped>\n",
       "    .dataframe tbody tr th:only-of-type {\n",
       "        vertical-align: middle;\n",
       "    }\n",
       "\n",
       "    .dataframe tbody tr th {\n",
       "        vertical-align: top;\n",
       "    }\n",
       "\n",
       "    .dataframe thead tr th {\n",
       "        text-align: left;\n",
       "    }\n",
       "\n",
       "    .dataframe thead tr:last-of-type th {\n",
       "        text-align: right;\n",
       "    }\n",
       "</style>\n",
       "<table border=\"1\" class=\"dataframe\">\n",
       "  <thead>\n",
       "    <tr>\n",
       "      <th></th>\n",
       "      <th></th>\n",
       "      <th colspan=\"6\" halign=\"left\">reported fte</th>\n",
       "    </tr>\n",
       "    <tr>\n",
       "      <th></th>\n",
       "      <th>site</th>\n",
       "      <th>baños</th>\n",
       "      <th>fuenmayor</th>\n",
       "      <th>hq</th>\n",
       "      <th>llodio</th>\n",
       "      <th>samazan</th>\n",
       "      <th>valencia</th>\n",
       "    </tr>\n",
       "    <tr>\n",
       "      <th>field</th>\n",
       "      <th>level1</th>\n",
       "      <th></th>\n",
       "      <th></th>\n",
       "      <th></th>\n",
       "      <th></th>\n",
       "      <th></th>\n",
       "      <th></th>\n",
       "    </tr>\n",
       "  </thead>\n",
       "  <tbody>\n",
       "    <tr>\n",
       "      <th>RRHH</th>\n",
       "      <th>otros</th>\n",
       "      <td>0.00</td>\n",
       "      <td>0.00</td>\n",
       "      <td>0.00</td>\n",
       "      <td>0.19</td>\n",
       "      <td>0.00</td>\n",
       "      <td>0.00</td>\n",
       "    </tr>\n",
       "    <tr>\n",
       "      <th rowspan=\"8\" valign=\"top\">finanzas</th>\n",
       "      <th>contabilidad general</th>\n",
       "      <td>0.75</td>\n",
       "      <td>1.05</td>\n",
       "      <td>1.59</td>\n",
       "      <td>0.45</td>\n",
       "      <td>0.99</td>\n",
       "      <td>0.84</td>\n",
       "    </tr>\n",
       "    <tr>\n",
       "      <th>controlling</th>\n",
       "      <td>0.10</td>\n",
       "      <td>0.46</td>\n",
       "      <td>1.44</td>\n",
       "      <td>0.78</td>\n",
       "      <td>0.18</td>\n",
       "      <td>0.26</td>\n",
       "    </tr>\n",
       "    <tr>\n",
       "      <th>cuentas a cobrar</th>\n",
       "      <td>0.03</td>\n",
       "      <td>0.02</td>\n",
       "      <td>1.00</td>\n",
       "      <td>0.37</td>\n",
       "      <td>0.00</td>\n",
       "      <td>0.10</td>\n",
       "    </tr>\n",
       "    <tr>\n",
       "      <th>cuentas a pagar</th>\n",
       "      <td>0.38</td>\n",
       "      <td>0.26</td>\n",
       "      <td>0.10</td>\n",
       "      <td>0.59</td>\n",
       "      <td>0.60</td>\n",
       "      <td>0.68</td>\n",
       "    </tr>\n",
       "    <tr>\n",
       "      <th>gastos de viaje</th>\n",
       "      <td>0.01</td>\n",
       "      <td>0.04</td>\n",
       "      <td>0.09</td>\n",
       "      <td>0.08</td>\n",
       "      <td>0.09</td>\n",
       "      <td>0.15</td>\n",
       "    </tr>\n",
       "    <tr>\n",
       "      <th>impuestos</th>\n",
       "      <td>0.08</td>\n",
       "      <td>0.12</td>\n",
       "      <td>0.29</td>\n",
       "      <td>0.16</td>\n",
       "      <td>0.01</td>\n",
       "      <td>0.07</td>\n",
       "    </tr>\n",
       "    <tr>\n",
       "      <th>otros</th>\n",
       "      <td>0.20</td>\n",
       "      <td>0.23</td>\n",
       "      <td>0.08</td>\n",
       "      <td>0.10</td>\n",
       "      <td>0.25</td>\n",
       "      <td>0.14</td>\n",
       "    </tr>\n",
       "    <tr>\n",
       "      <th>tesoreria</th>\n",
       "      <td>0.15</td>\n",
       "      <td>0.21</td>\n",
       "      <td>1.27</td>\n",
       "      <td>0.43</td>\n",
       "      <td>0.22</td>\n",
       "      <td>0.59</td>\n",
       "    </tr>\n",
       "    <tr>\n",
       "      <th rowspan=\"2\" valign=\"top\">industrial</th>\n",
       "      <th>forestal</th>\n",
       "      <td>0.64</td>\n",
       "      <td>0.00</td>\n",
       "      <td>0.40</td>\n",
       "      <td>0.07</td>\n",
       "      <td>2.06</td>\n",
       "      <td>1.85</td>\n",
       "    </tr>\n",
       "    <tr>\n",
       "      <th>industrial</th>\n",
       "      <td>1.65</td>\n",
       "      <td>0.84</td>\n",
       "      <td>0.20</td>\n",
       "      <td>0.54</td>\n",
       "      <td>1.51</td>\n",
       "      <td>1.96</td>\n",
       "    </tr>\n",
       "    <tr>\n",
       "      <th rowspan=\"5\" valign=\"top\">supply chain</th>\n",
       "      <th>customer service</th>\n",
       "      <td>0.00</td>\n",
       "      <td>0.00</td>\n",
       "      <td>8.77</td>\n",
       "      <td>0.58</td>\n",
       "      <td>0.00</td>\n",
       "      <td>0.01</td>\n",
       "    </tr>\n",
       "    <tr>\n",
       "      <th>logistica</th>\n",
       "      <td>2.61</td>\n",
       "      <td>1.00</td>\n",
       "      <td>2.96</td>\n",
       "      <td>0.37</td>\n",
       "      <td>0.44</td>\n",
       "      <td>2.02</td>\n",
       "    </tr>\n",
       "    <tr>\n",
       "      <th>otros</th>\n",
       "      <td>0.17</td>\n",
       "      <td>0.00</td>\n",
       "      <td>0.11</td>\n",
       "      <td>0.23</td>\n",
       "      <td>0.43</td>\n",
       "      <td>0.19</td>\n",
       "    </tr>\n",
       "    <tr>\n",
       "      <th>planificacion</th>\n",
       "      <td>0.00</td>\n",
       "      <td>0.00</td>\n",
       "      <td>4.41</td>\n",
       "      <td>0.00</td>\n",
       "      <td>0.00</td>\n",
       "      <td>0.00</td>\n",
       "    </tr>\n",
       "    <tr>\n",
       "      <th>procurement</th>\n",
       "      <td>0.60</td>\n",
       "      <td>0.22</td>\n",
       "      <td>3.05</td>\n",
       "      <td>0.45</td>\n",
       "      <td>0.03</td>\n",
       "      <td>0.60</td>\n",
       "    </tr>\n",
       "  </tbody>\n",
       "</table>\n",
       "</div>"
      ],
      "text/plain": [
       "                                  reported fte                                 \\\n",
       "site                                     baños fuenmayor    hq llodio samazan   \n",
       "field        level1                                                             \n",
       "RRHH         otros                        0.00      0.00  0.00   0.19    0.00   \n",
       "finanzas     contabilidad general         0.75      1.05  1.59   0.45    0.99   \n",
       "             controlling                  0.10      0.46  1.44   0.78    0.18   \n",
       "             cuentas a cobrar             0.03      0.02  1.00   0.37    0.00   \n",
       "             cuentas a pagar              0.38      0.26  0.10   0.59    0.60   \n",
       "             gastos de viaje              0.01      0.04  0.09   0.08    0.09   \n",
       "             impuestos                    0.08      0.12  0.29   0.16    0.01   \n",
       "             otros                        0.20      0.23  0.08   0.10    0.25   \n",
       "             tesoreria                    0.15      0.21  1.27   0.43    0.22   \n",
       "industrial   forestal                     0.64      0.00  0.40   0.07    2.06   \n",
       "             industrial                   1.65      0.84  0.20   0.54    1.51   \n",
       "supply chain customer service             0.00      0.00  8.77   0.58    0.00   \n",
       "             logistica                    2.61      1.00  2.96   0.37    0.44   \n",
       "             otros                        0.17      0.00  0.11   0.23    0.43   \n",
       "             planificacion                0.00      0.00  4.41   0.00    0.00   \n",
       "             procurement                  0.60      0.22  3.05   0.45    0.03   \n",
       "\n",
       "                                            \n",
       "site                              valencia  \n",
       "field        level1                         \n",
       "RRHH         otros                    0.00  \n",
       "finanzas     contabilidad general     0.84  \n",
       "             controlling              0.26  \n",
       "             cuentas a cobrar         0.10  \n",
       "             cuentas a pagar          0.68  \n",
       "             gastos de viaje          0.15  \n",
       "             impuestos                0.07  \n",
       "             otros                    0.14  \n",
       "             tesoreria                0.59  \n",
       "industrial   forestal                 1.85  \n",
       "             industrial               1.96  \n",
       "supply chain customer service         0.01  \n",
       "             logistica                2.02  \n",
       "             otros                    0.19  \n",
       "             planificacion            0.00  \n",
       "             procurement              0.60  "
      ]
     },
     "execution_count": 1127,
     "metadata": {},
     "output_type": "execute_result"
    }
   ],
   "source": [
    "#graficos, que no dependan uno del otro, luego tambien quiero que sea posible quitar hq\n",
    "\n",
    "pivot_process_site_all"
   ]
  },
  {
   "cell_type": "code",
   "execution_count": 1153,
   "metadata": {},
   "outputs": [],
   "source": [
    "pivot_process_site_hq=dedicacion_clean_hq.reset_index().pivot_table(values=['reported fte'], index=['field','level1'], columns=['site'], aggfunc='sum').fillna(0).round(2)"
   ]
  },
  {
   "cell_type": "code",
   "execution_count": 1163,
   "metadata": {},
   "outputs": [],
   "source": [
    "pivot_process_site_hq_finanzas=pivot_process_site_hq.loc[\"finanzas\", ('reported fte', slice(None))]\n",
    "pivot_process_site_hq_supply_chain=pivot_process_site_hq.loc[\"supply chain\", ('reported fte', slice(None))]\n",
    "pivot_process_site_hq_industrial=pivot_process_site_hq.loc[\"industrial\", ('reported fte', slice(None))]"
   ]
  },
  {
   "cell_type": "code",
   "execution_count": 1164,
   "metadata": {},
   "outputs": [
    {
     "data": {
      "text/html": [
       "<div>\n",
       "<style scoped>\n",
       "    .dataframe tbody tr th:only-of-type {\n",
       "        vertical-align: middle;\n",
       "    }\n",
       "\n",
       "    .dataframe tbody tr th {\n",
       "        vertical-align: top;\n",
       "    }\n",
       "\n",
       "    .dataframe thead tr th {\n",
       "        text-align: left;\n",
       "    }\n",
       "\n",
       "    .dataframe thead tr:last-of-type th {\n",
       "        text-align: right;\n",
       "    }\n",
       "</style>\n",
       "<table border=\"1\" class=\"dataframe\">\n",
       "  <thead>\n",
       "    <tr>\n",
       "      <th></th>\n",
       "      <th>reported fte</th>\n",
       "    </tr>\n",
       "    <tr>\n",
       "      <th>site</th>\n",
       "      <th>hq</th>\n",
       "    </tr>\n",
       "    <tr>\n",
       "      <th>level1</th>\n",
       "      <th></th>\n",
       "    </tr>\n",
       "  </thead>\n",
       "  <tbody>\n",
       "    <tr>\n",
       "      <th>customer service</th>\n",
       "      <td>8.77</td>\n",
       "    </tr>\n",
       "    <tr>\n",
       "      <th>logistica</th>\n",
       "      <td>2.96</td>\n",
       "    </tr>\n",
       "    <tr>\n",
       "      <th>otros</th>\n",
       "      <td>0.11</td>\n",
       "    </tr>\n",
       "    <tr>\n",
       "      <th>planificacion</th>\n",
       "      <td>4.41</td>\n",
       "    </tr>\n",
       "    <tr>\n",
       "      <th>procurement</th>\n",
       "      <td>3.05</td>\n",
       "    </tr>\n",
       "  </tbody>\n",
       "</table>\n",
       "</div>"
      ],
      "text/plain": [
       "                 reported fte\n",
       "site                       hq\n",
       "level1                       \n",
       "customer service         8.77\n",
       "logistica                2.96\n",
       "otros                    0.11\n",
       "planificacion            4.41\n",
       "procurement              3.05"
      ]
     },
     "execution_count": 1164,
     "metadata": {},
     "output_type": "execute_result"
    }
   ],
   "source": [
    "pivot_process_site_hq_supply_chain"
   ]
  },
  {
   "cell_type": "code",
   "execution_count": 1157,
   "metadata": {},
   "outputs": [
    {
     "data": {
      "text/html": [
       "<div>\n",
       "<style scoped>\n",
       "    .dataframe tbody tr th:only-of-type {\n",
       "        vertical-align: middle;\n",
       "    }\n",
       "\n",
       "    .dataframe tbody tr th {\n",
       "        vertical-align: top;\n",
       "    }\n",
       "\n",
       "    .dataframe thead tr th {\n",
       "        text-align: left;\n",
       "    }\n",
       "\n",
       "    .dataframe thead tr:last-of-type th {\n",
       "        text-align: right;\n",
       "    }\n",
       "</style>\n",
       "<table border=\"1\" class=\"dataframe\">\n",
       "  <thead>\n",
       "    <tr>\n",
       "      <th></th>\n",
       "      <th></th>\n",
       "      <th>reported fte</th>\n",
       "    </tr>\n",
       "    <tr>\n",
       "      <th></th>\n",
       "      <th>site</th>\n",
       "      <th>hq</th>\n",
       "    </tr>\n",
       "    <tr>\n",
       "      <th>field</th>\n",
       "      <th>level1</th>\n",
       "      <th></th>\n",
       "    </tr>\n",
       "  </thead>\n",
       "  <tbody>\n",
       "    <tr>\n",
       "      <th rowspan=\"8\" valign=\"top\">finanzas</th>\n",
       "      <th>contabilidad general</th>\n",
       "      <td>1.59</td>\n",
       "    </tr>\n",
       "    <tr>\n",
       "      <th>controlling</th>\n",
       "      <td>1.44</td>\n",
       "    </tr>\n",
       "    <tr>\n",
       "      <th>cuentas a cobrar</th>\n",
       "      <td>1.00</td>\n",
       "    </tr>\n",
       "    <tr>\n",
       "      <th>cuentas a pagar</th>\n",
       "      <td>0.10</td>\n",
       "    </tr>\n",
       "    <tr>\n",
       "      <th>gastos de viaje</th>\n",
       "      <td>0.09</td>\n",
       "    </tr>\n",
       "    <tr>\n",
       "      <th>impuestos</th>\n",
       "      <td>0.29</td>\n",
       "    </tr>\n",
       "    <tr>\n",
       "      <th>otros</th>\n",
       "      <td>0.08</td>\n",
       "    </tr>\n",
       "    <tr>\n",
       "      <th>tesoreria</th>\n",
       "      <td>1.27</td>\n",
       "    </tr>\n",
       "    <tr>\n",
       "      <th rowspan=\"2\" valign=\"top\">industrial</th>\n",
       "      <th>forestal</th>\n",
       "      <td>0.40</td>\n",
       "    </tr>\n",
       "    <tr>\n",
       "      <th>industrial</th>\n",
       "      <td>0.20</td>\n",
       "    </tr>\n",
       "    <tr>\n",
       "      <th rowspan=\"5\" valign=\"top\">supply chain</th>\n",
       "      <th>customer service</th>\n",
       "      <td>8.77</td>\n",
       "    </tr>\n",
       "    <tr>\n",
       "      <th>logistica</th>\n",
       "      <td>2.96</td>\n",
       "    </tr>\n",
       "    <tr>\n",
       "      <th>otros</th>\n",
       "      <td>0.11</td>\n",
       "    </tr>\n",
       "    <tr>\n",
       "      <th>planificacion</th>\n",
       "      <td>4.41</td>\n",
       "    </tr>\n",
       "    <tr>\n",
       "      <th>procurement</th>\n",
       "      <td>3.05</td>\n",
       "    </tr>\n",
       "  </tbody>\n",
       "</table>\n",
       "</div>"
      ],
      "text/plain": [
       "                                  reported fte\n",
       "site                                        hq\n",
       "field        level1                           \n",
       "finanzas     contabilidad general         1.59\n",
       "             controlling                  1.44\n",
       "             cuentas a cobrar             1.00\n",
       "             cuentas a pagar              0.10\n",
       "             gastos de viaje              0.09\n",
       "             impuestos                    0.29\n",
       "             otros                        0.08\n",
       "             tesoreria                    1.27\n",
       "industrial   forestal                     0.40\n",
       "             industrial                   0.20\n",
       "supply chain customer service             8.77\n",
       "             logistica                    2.96\n",
       "             otros                        0.11\n",
       "             planificacion                4.41\n",
       "             procurement                  3.05"
      ]
     },
     "execution_count": 1157,
     "metadata": {},
     "output_type": "execute_result"
    }
   ],
   "source": [
    "pivot_process_site_hq"
   ]
  },
  {
   "cell_type": "code",
   "execution_count": 1130,
   "metadata": {},
   "outputs": [],
   "source": [
    "pivot_process_site_plantas=dedicacion_clean_plantas.reset_index().pivot_table(values=['reported fte'], index=['field','level1'], columns=['site'], aggfunc='sum').fillna(0).round(2)"
   ]
  },
  {
   "cell_type": "code",
   "execution_count": 1131,
   "metadata": {},
   "outputs": [
    {
     "data": {
      "text/html": [
       "<div>\n",
       "<style scoped>\n",
       "    .dataframe tbody tr th:only-of-type {\n",
       "        vertical-align: middle;\n",
       "    }\n",
       "\n",
       "    .dataframe tbody tr th {\n",
       "        vertical-align: top;\n",
       "    }\n",
       "\n",
       "    .dataframe thead tr th {\n",
       "        text-align: left;\n",
       "    }\n",
       "\n",
       "    .dataframe thead tr:last-of-type th {\n",
       "        text-align: right;\n",
       "    }\n",
       "</style>\n",
       "<table border=\"1\" class=\"dataframe\">\n",
       "  <thead>\n",
       "    <tr>\n",
       "      <th></th>\n",
       "      <th></th>\n",
       "      <th colspan=\"5\" halign=\"left\">reported fte</th>\n",
       "    </tr>\n",
       "    <tr>\n",
       "      <th></th>\n",
       "      <th>site</th>\n",
       "      <th>baños</th>\n",
       "      <th>fuenmayor</th>\n",
       "      <th>llodio</th>\n",
       "      <th>samazan</th>\n",
       "      <th>valencia</th>\n",
       "    </tr>\n",
       "    <tr>\n",
       "      <th>field</th>\n",
       "      <th>level1</th>\n",
       "      <th></th>\n",
       "      <th></th>\n",
       "      <th></th>\n",
       "      <th></th>\n",
       "      <th></th>\n",
       "    </tr>\n",
       "  </thead>\n",
       "  <tbody>\n",
       "    <tr>\n",
       "      <th>RRHH</th>\n",
       "      <th>otros</th>\n",
       "      <td>0.00</td>\n",
       "      <td>0.00</td>\n",
       "      <td>0.19</td>\n",
       "      <td>0.00</td>\n",
       "      <td>0.00</td>\n",
       "    </tr>\n",
       "    <tr>\n",
       "      <th rowspan=\"8\" valign=\"top\">finanzas</th>\n",
       "      <th>contabilidad general</th>\n",
       "      <td>0.75</td>\n",
       "      <td>1.05</td>\n",
       "      <td>0.45</td>\n",
       "      <td>0.99</td>\n",
       "      <td>0.84</td>\n",
       "    </tr>\n",
       "    <tr>\n",
       "      <th>controlling</th>\n",
       "      <td>0.10</td>\n",
       "      <td>0.46</td>\n",
       "      <td>0.78</td>\n",
       "      <td>0.18</td>\n",
       "      <td>0.26</td>\n",
       "    </tr>\n",
       "    <tr>\n",
       "      <th>cuentas a cobrar</th>\n",
       "      <td>0.03</td>\n",
       "      <td>0.02</td>\n",
       "      <td>0.37</td>\n",
       "      <td>0.00</td>\n",
       "      <td>0.10</td>\n",
       "    </tr>\n",
       "    <tr>\n",
       "      <th>cuentas a pagar</th>\n",
       "      <td>0.38</td>\n",
       "      <td>0.26</td>\n",
       "      <td>0.59</td>\n",
       "      <td>0.60</td>\n",
       "      <td>0.68</td>\n",
       "    </tr>\n",
       "    <tr>\n",
       "      <th>gastos de viaje</th>\n",
       "      <td>0.01</td>\n",
       "      <td>0.04</td>\n",
       "      <td>0.08</td>\n",
       "      <td>0.09</td>\n",
       "      <td>0.15</td>\n",
       "    </tr>\n",
       "    <tr>\n",
       "      <th>impuestos</th>\n",
       "      <td>0.08</td>\n",
       "      <td>0.12</td>\n",
       "      <td>0.16</td>\n",
       "      <td>0.01</td>\n",
       "      <td>0.07</td>\n",
       "    </tr>\n",
       "    <tr>\n",
       "      <th>otros</th>\n",
       "      <td>0.20</td>\n",
       "      <td>0.23</td>\n",
       "      <td>0.10</td>\n",
       "      <td>0.25</td>\n",
       "      <td>0.14</td>\n",
       "    </tr>\n",
       "    <tr>\n",
       "      <th>tesoreria</th>\n",
       "      <td>0.15</td>\n",
       "      <td>0.21</td>\n",
       "      <td>0.43</td>\n",
       "      <td>0.22</td>\n",
       "      <td>0.59</td>\n",
       "    </tr>\n",
       "    <tr>\n",
       "      <th rowspan=\"2\" valign=\"top\">industrial</th>\n",
       "      <th>forestal</th>\n",
       "      <td>0.64</td>\n",
       "      <td>0.00</td>\n",
       "      <td>0.07</td>\n",
       "      <td>2.06</td>\n",
       "      <td>1.85</td>\n",
       "    </tr>\n",
       "    <tr>\n",
       "      <th>industrial</th>\n",
       "      <td>1.65</td>\n",
       "      <td>0.84</td>\n",
       "      <td>0.54</td>\n",
       "      <td>1.51</td>\n",
       "      <td>1.96</td>\n",
       "    </tr>\n",
       "    <tr>\n",
       "      <th rowspan=\"4\" valign=\"top\">supply chain</th>\n",
       "      <th>customer service</th>\n",
       "      <td>0.00</td>\n",
       "      <td>0.00</td>\n",
       "      <td>0.58</td>\n",
       "      <td>0.00</td>\n",
       "      <td>0.01</td>\n",
       "    </tr>\n",
       "    <tr>\n",
       "      <th>logistica</th>\n",
       "      <td>2.61</td>\n",
       "      <td>1.00</td>\n",
       "      <td>0.37</td>\n",
       "      <td>0.44</td>\n",
       "      <td>2.02</td>\n",
       "    </tr>\n",
       "    <tr>\n",
       "      <th>otros</th>\n",
       "      <td>0.17</td>\n",
       "      <td>0.00</td>\n",
       "      <td>0.23</td>\n",
       "      <td>0.43</td>\n",
       "      <td>0.19</td>\n",
       "    </tr>\n",
       "    <tr>\n",
       "      <th>procurement</th>\n",
       "      <td>0.60</td>\n",
       "      <td>0.22</td>\n",
       "      <td>0.45</td>\n",
       "      <td>0.03</td>\n",
       "      <td>0.60</td>\n",
       "    </tr>\n",
       "  </tbody>\n",
       "</table>\n",
       "</div>"
      ],
      "text/plain": [
       "                                  reported fte                           \\\n",
       "site                                     baños fuenmayor llodio samazan   \n",
       "field        level1                                                       \n",
       "RRHH         otros                        0.00      0.00   0.19    0.00   \n",
       "finanzas     contabilidad general         0.75      1.05   0.45    0.99   \n",
       "             controlling                  0.10      0.46   0.78    0.18   \n",
       "             cuentas a cobrar             0.03      0.02   0.37    0.00   \n",
       "             cuentas a pagar              0.38      0.26   0.59    0.60   \n",
       "             gastos de viaje              0.01      0.04   0.08    0.09   \n",
       "             impuestos                    0.08      0.12   0.16    0.01   \n",
       "             otros                        0.20      0.23   0.10    0.25   \n",
       "             tesoreria                    0.15      0.21   0.43    0.22   \n",
       "industrial   forestal                     0.64      0.00   0.07    2.06   \n",
       "             industrial                   1.65      0.84   0.54    1.51   \n",
       "supply chain customer service             0.00      0.00   0.58    0.00   \n",
       "             logistica                    2.61      1.00   0.37    0.44   \n",
       "             otros                        0.17      0.00   0.23    0.43   \n",
       "             procurement                  0.60      0.22   0.45    0.03   \n",
       "\n",
       "                                            \n",
       "site                              valencia  \n",
       "field        level1                         \n",
       "RRHH         otros                    0.00  \n",
       "finanzas     contabilidad general     0.84  \n",
       "             controlling              0.26  \n",
       "             cuentas a cobrar         0.10  \n",
       "             cuentas a pagar          0.68  \n",
       "             gastos de viaje          0.15  \n",
       "             impuestos                0.07  \n",
       "             otros                    0.14  \n",
       "             tesoreria                0.59  \n",
       "industrial   forestal                 1.85  \n",
       "             industrial               1.96  \n",
       "supply chain customer service         0.01  \n",
       "             logistica                2.02  \n",
       "             otros                    0.19  \n",
       "             procurement              0.60  "
      ]
     },
     "execution_count": 1131,
     "metadata": {},
     "output_type": "execute_result"
    }
   ],
   "source": [
    "pivot_process_site_plantas"
   ]
  },
  {
   "cell_type": "code",
   "execution_count": 1165,
   "metadata": {},
   "outputs": [],
   "source": [
    "pivot_process_site_plantas_finanzas=pivot_process_site_plantas.loc[\"finanzas\", ('reported fte', slice(None))]\n",
    "pivot_process_site_plantas_supply_chain=pivot_process_site_plantas.loc[\"supply chain\", ('reported fte', slice(None))]\n",
    "pivot_process_site_plantas_industrial=pivot_process_site_plantas.loc[\"industrial\", ('reported fte', slice(None))]"
   ]
  },
  {
   "cell_type": "code",
   "execution_count": 1341,
   "metadata": {
    "scrolled": false
   },
   "outputs": [
    {
     "data": {
      "text/html": [
       "<div>\n",
       "<style scoped>\n",
       "    .dataframe tbody tr th:only-of-type {\n",
       "        vertical-align: middle;\n",
       "    }\n",
       "\n",
       "    .dataframe tbody tr th {\n",
       "        vertical-align: top;\n",
       "    }\n",
       "\n",
       "    .dataframe thead tr th {\n",
       "        text-align: left;\n",
       "    }\n",
       "\n",
       "    .dataframe thead tr:last-of-type th {\n",
       "        text-align: right;\n",
       "    }\n",
       "</style>\n",
       "<table border=\"1\" class=\"dataframe\">\n",
       "  <thead>\n",
       "    <tr>\n",
       "      <th></th>\n",
       "      <th colspan=\"5\" halign=\"left\">reported fte</th>\n",
       "    </tr>\n",
       "    <tr>\n",
       "      <th>site</th>\n",
       "      <th>baños</th>\n",
       "      <th>fuenmayor</th>\n",
       "      <th>llodio</th>\n",
       "      <th>samazan</th>\n",
       "      <th>valencia</th>\n",
       "    </tr>\n",
       "    <tr>\n",
       "      <th>level1</th>\n",
       "      <th></th>\n",
       "      <th></th>\n",
       "      <th></th>\n",
       "      <th></th>\n",
       "      <th></th>\n",
       "    </tr>\n",
       "  </thead>\n",
       "  <tbody>\n",
       "    <tr>\n",
       "      <th>contabilidad general</th>\n",
       "      <td>0.75</td>\n",
       "      <td>1.05</td>\n",
       "      <td>0.45</td>\n",
       "      <td>0.99</td>\n",
       "      <td>0.84</td>\n",
       "    </tr>\n",
       "    <tr>\n",
       "      <th>controlling</th>\n",
       "      <td>0.10</td>\n",
       "      <td>0.46</td>\n",
       "      <td>0.78</td>\n",
       "      <td>0.18</td>\n",
       "      <td>0.26</td>\n",
       "    </tr>\n",
       "    <tr>\n",
       "      <th>cuentas a cobrar</th>\n",
       "      <td>0.03</td>\n",
       "      <td>0.02</td>\n",
       "      <td>0.37</td>\n",
       "      <td>0.00</td>\n",
       "      <td>0.10</td>\n",
       "    </tr>\n",
       "    <tr>\n",
       "      <th>cuentas a pagar</th>\n",
       "      <td>0.38</td>\n",
       "      <td>0.26</td>\n",
       "      <td>0.59</td>\n",
       "      <td>0.60</td>\n",
       "      <td>0.68</td>\n",
       "    </tr>\n",
       "    <tr>\n",
       "      <th>gastos de viaje</th>\n",
       "      <td>0.01</td>\n",
       "      <td>0.04</td>\n",
       "      <td>0.08</td>\n",
       "      <td>0.09</td>\n",
       "      <td>0.15</td>\n",
       "    </tr>\n",
       "    <tr>\n",
       "      <th>impuestos</th>\n",
       "      <td>0.08</td>\n",
       "      <td>0.12</td>\n",
       "      <td>0.16</td>\n",
       "      <td>0.01</td>\n",
       "      <td>0.07</td>\n",
       "    </tr>\n",
       "    <tr>\n",
       "      <th>otros</th>\n",
       "      <td>0.20</td>\n",
       "      <td>0.23</td>\n",
       "      <td>0.10</td>\n",
       "      <td>0.25</td>\n",
       "      <td>0.14</td>\n",
       "    </tr>\n",
       "    <tr>\n",
       "      <th>tesoreria</th>\n",
       "      <td>0.15</td>\n",
       "      <td>0.21</td>\n",
       "      <td>0.43</td>\n",
       "      <td>0.22</td>\n",
       "      <td>0.59</td>\n",
       "    </tr>\n",
       "  </tbody>\n",
       "</table>\n",
       "</div>"
      ],
      "text/plain": [
       "                     reported fte                                  \n",
       "site                        baños fuenmayor llodio samazan valencia\n",
       "level1                                                             \n",
       "contabilidad general         0.75      1.05   0.45    0.99     0.84\n",
       "controlling                  0.10      0.46   0.78    0.18     0.26\n",
       "cuentas a cobrar             0.03      0.02   0.37    0.00     0.10\n",
       "cuentas a pagar              0.38      0.26   0.59    0.60     0.68\n",
       "gastos de viaje              0.01      0.04   0.08    0.09     0.15\n",
       "impuestos                    0.08      0.12   0.16    0.01     0.07\n",
       "otros                        0.20      0.23   0.10    0.25     0.14\n",
       "tesoreria                    0.15      0.21   0.43    0.22     0.59"
      ]
     },
     "execution_count": 1341,
     "metadata": {},
     "output_type": "execute_result"
    }
   ],
   "source": [
    "pivot_process_site_plantas_finanzas"
   ]
  },
  {
   "cell_type": "code",
   "execution_count": null,
   "metadata": {},
   "outputs": [],
   "source": []
  },
  {
   "cell_type": "code",
   "execution_count": 1401,
   "metadata": {},
   "outputs": [
    {
     "data": {
      "text/html": [
       "<div>\n",
       "<style scoped>\n",
       "    .dataframe tbody tr th:only-of-type {\n",
       "        vertical-align: middle;\n",
       "    }\n",
       "\n",
       "    .dataframe tbody tr th {\n",
       "        vertical-align: top;\n",
       "    }\n",
       "\n",
       "    .dataframe thead th {\n",
       "        text-align: right;\n",
       "    }\n",
       "</style>\n",
       "<table border=\"1\" class=\"dataframe\">\n",
       "  <thead>\n",
       "    <tr style=\"text-align: right;\">\n",
       "      <th></th>\n",
       "      <th>level1</th>\n",
       "      <th>contabilidad general</th>\n",
       "      <th>controlling</th>\n",
       "      <th>cuentas a cobrar</th>\n",
       "      <th>cuentas a pagar</th>\n",
       "      <th>gastos de viaje</th>\n",
       "      <th>impuestos</th>\n",
       "      <th>otros</th>\n",
       "      <th>tesoreria</th>\n",
       "    </tr>\n",
       "    <tr>\n",
       "      <th></th>\n",
       "      <th>site</th>\n",
       "      <th></th>\n",
       "      <th></th>\n",
       "      <th></th>\n",
       "      <th></th>\n",
       "      <th></th>\n",
       "      <th></th>\n",
       "      <th></th>\n",
       "      <th></th>\n",
       "    </tr>\n",
       "  </thead>\n",
       "  <tbody>\n",
       "    <tr>\n",
       "      <th rowspan=\"5\" valign=\"top\">reported fte</th>\n",
       "      <th>baños</th>\n",
       "      <td>0.75</td>\n",
       "      <td>0.10</td>\n",
       "      <td>0.03</td>\n",
       "      <td>0.38</td>\n",
       "      <td>0.01</td>\n",
       "      <td>0.08</td>\n",
       "      <td>0.20</td>\n",
       "      <td>0.15</td>\n",
       "    </tr>\n",
       "    <tr>\n",
       "      <th>fuenmayor</th>\n",
       "      <td>1.05</td>\n",
       "      <td>0.46</td>\n",
       "      <td>0.02</td>\n",
       "      <td>0.26</td>\n",
       "      <td>0.04</td>\n",
       "      <td>0.12</td>\n",
       "      <td>0.23</td>\n",
       "      <td>0.21</td>\n",
       "    </tr>\n",
       "    <tr>\n",
       "      <th>llodio</th>\n",
       "      <td>0.45</td>\n",
       "      <td>0.78</td>\n",
       "      <td>0.37</td>\n",
       "      <td>0.59</td>\n",
       "      <td>0.08</td>\n",
       "      <td>0.16</td>\n",
       "      <td>0.10</td>\n",
       "      <td>0.43</td>\n",
       "    </tr>\n",
       "    <tr>\n",
       "      <th>samazan</th>\n",
       "      <td>0.99</td>\n",
       "      <td>0.18</td>\n",
       "      <td>0.00</td>\n",
       "      <td>0.60</td>\n",
       "      <td>0.09</td>\n",
       "      <td>0.01</td>\n",
       "      <td>0.25</td>\n",
       "      <td>0.22</td>\n",
       "    </tr>\n",
       "    <tr>\n",
       "      <th>valencia</th>\n",
       "      <td>0.84</td>\n",
       "      <td>0.26</td>\n",
       "      <td>0.10</td>\n",
       "      <td>0.68</td>\n",
       "      <td>0.15</td>\n",
       "      <td>0.07</td>\n",
       "      <td>0.14</td>\n",
       "      <td>0.59</td>\n",
       "    </tr>\n",
       "  </tbody>\n",
       "</table>\n",
       "</div>"
      ],
      "text/plain": [
       "level1                  contabilidad general  controlling  cuentas a cobrar  \\\n",
       "             site                                                             \n",
       "reported fte baños                      0.75         0.10              0.03   \n",
       "             fuenmayor                  1.05         0.46              0.02   \n",
       "             llodio                     0.45         0.78              0.37   \n",
       "             samazan                    0.99         0.18              0.00   \n",
       "             valencia                   0.84         0.26              0.10   \n",
       "\n",
       "level1                  cuentas a pagar  gastos de viaje  impuestos  otros  \\\n",
       "             site                                                            \n",
       "reported fte baños                 0.38             0.01       0.08   0.20   \n",
       "             fuenmayor             0.26             0.04       0.12   0.23   \n",
       "             llodio                0.59             0.08       0.16   0.10   \n",
       "             samazan               0.60             0.09       0.01   0.25   \n",
       "             valencia              0.68             0.15       0.07   0.14   \n",
       "\n",
       "level1                  tesoreria  \n",
       "             site                  \n",
       "reported fte baños           0.15  \n",
       "             fuenmayor       0.21  \n",
       "             llodio          0.43  \n",
       "             samazan         0.22  \n",
       "             valencia        0.59  "
      ]
     },
     "execution_count": 1401,
     "metadata": {},
     "output_type": "execute_result"
    }
   ],
   "source": [
    "test_test"
   ]
  },
  {
   "cell_type": "code",
   "execution_count": 1402,
   "metadata": {},
   "outputs": [],
   "source": [
    "test5=(pivot_process_site_plantas_finanzas / pivot_process_site_plantas_finanzas.sum() * 100)"
   ]
  },
  {
   "cell_type": "code",
   "execution_count": 1403,
   "metadata": {},
   "outputs": [
    {
     "data": {
      "text/html": [
       "<div>\n",
       "<style scoped>\n",
       "    .dataframe tbody tr th:only-of-type {\n",
       "        vertical-align: middle;\n",
       "    }\n",
       "\n",
       "    .dataframe tbody tr th {\n",
       "        vertical-align: top;\n",
       "    }\n",
       "\n",
       "    .dataframe thead tr th {\n",
       "        text-align: left;\n",
       "    }\n",
       "\n",
       "    .dataframe thead tr:last-of-type th {\n",
       "        text-align: right;\n",
       "    }\n",
       "</style>\n",
       "<table border=\"1\" class=\"dataframe\">\n",
       "  <thead>\n",
       "    <tr>\n",
       "      <th></th>\n",
       "      <th colspan=\"5\" halign=\"left\">reported fte</th>\n",
       "    </tr>\n",
       "    <tr>\n",
       "      <th>site</th>\n",
       "      <th>baños</th>\n",
       "      <th>fuenmayor</th>\n",
       "      <th>llodio</th>\n",
       "      <th>samazan</th>\n",
       "      <th>valencia</th>\n",
       "    </tr>\n",
       "    <tr>\n",
       "      <th>level1</th>\n",
       "      <th></th>\n",
       "      <th></th>\n",
       "      <th></th>\n",
       "      <th></th>\n",
       "      <th></th>\n",
       "    </tr>\n",
       "  </thead>\n",
       "  <tbody>\n",
       "    <tr>\n",
       "      <th>contabilidad general</th>\n",
       "      <td>44.117647</td>\n",
       "      <td>43.933054</td>\n",
       "      <td>15.202703</td>\n",
       "      <td>42.307692</td>\n",
       "      <td>29.681979</td>\n",
       "    </tr>\n",
       "    <tr>\n",
       "      <th>controlling</th>\n",
       "      <td>5.882353</td>\n",
       "      <td>19.246862</td>\n",
       "      <td>26.351351</td>\n",
       "      <td>7.692308</td>\n",
       "      <td>9.187279</td>\n",
       "    </tr>\n",
       "    <tr>\n",
       "      <th>cuentas a cobrar</th>\n",
       "      <td>1.764706</td>\n",
       "      <td>0.836820</td>\n",
       "      <td>12.500000</td>\n",
       "      <td>0.000000</td>\n",
       "      <td>3.533569</td>\n",
       "    </tr>\n",
       "    <tr>\n",
       "      <th>cuentas a pagar</th>\n",
       "      <td>22.352941</td>\n",
       "      <td>10.878661</td>\n",
       "      <td>19.932432</td>\n",
       "      <td>25.641026</td>\n",
       "      <td>24.028269</td>\n",
       "    </tr>\n",
       "    <tr>\n",
       "      <th>gastos de viaje</th>\n",
       "      <td>0.588235</td>\n",
       "      <td>1.673640</td>\n",
       "      <td>2.702703</td>\n",
       "      <td>3.846154</td>\n",
       "      <td>5.300353</td>\n",
       "    </tr>\n",
       "    <tr>\n",
       "      <th>impuestos</th>\n",
       "      <td>4.705882</td>\n",
       "      <td>5.020921</td>\n",
       "      <td>5.405405</td>\n",
       "      <td>0.427350</td>\n",
       "      <td>2.473498</td>\n",
       "    </tr>\n",
       "    <tr>\n",
       "      <th>otros</th>\n",
       "      <td>11.764706</td>\n",
       "      <td>9.623431</td>\n",
       "      <td>3.378378</td>\n",
       "      <td>10.683761</td>\n",
       "      <td>4.946996</td>\n",
       "    </tr>\n",
       "    <tr>\n",
       "      <th>tesoreria</th>\n",
       "      <td>8.823529</td>\n",
       "      <td>8.786611</td>\n",
       "      <td>14.527027</td>\n",
       "      <td>9.401709</td>\n",
       "      <td>20.848057</td>\n",
       "    </tr>\n",
       "  </tbody>\n",
       "</table>\n",
       "</div>"
      ],
      "text/plain": [
       "                     reported fte                                            \n",
       "site                        baños  fuenmayor     llodio    samazan   valencia\n",
       "level1                                                                       \n",
       "contabilidad general    44.117647  43.933054  15.202703  42.307692  29.681979\n",
       "controlling              5.882353  19.246862  26.351351   7.692308   9.187279\n",
       "cuentas a cobrar         1.764706   0.836820  12.500000   0.000000   3.533569\n",
       "cuentas a pagar         22.352941  10.878661  19.932432  25.641026  24.028269\n",
       "gastos de viaje          0.588235   1.673640   2.702703   3.846154   5.300353\n",
       "impuestos                4.705882   5.020921   5.405405   0.427350   2.473498\n",
       "otros                   11.764706   9.623431   3.378378  10.683761   4.946996\n",
       "tesoreria                8.823529   8.786611  14.527027   9.401709  20.848057"
      ]
     },
     "execution_count": 1403,
     "metadata": {},
     "output_type": "execute_result"
    }
   ],
   "source": [
    "test5"
   ]
  },
  {
   "cell_type": "code",
   "execution_count": 1359,
   "metadata": {},
   "outputs": [
    {
     "data": {
      "image/png": "[encoded data removed]",
      "text/plain": [
       "<Figure size 648x432 with 1 Axes>"
      ]
     },
     "metadata": {
      "needs_background": "light"
     },
     "output_type": "display_data"
    }
   ],
   "source": [
    "fig_test=(pivot_process_site_plantas_finanzas / pivot_process_site_plantas_finanzas.sum() * 100).T.plot(kind='bar', stacked=True, figsize=(9, 6)).legend(bbox_to_anchor=(1,1.025), loc=\"upper left\")"
   ]
  },
  {
   "cell_type": "code",
   "execution_count": 1352,
   "metadata": {},
   "outputs": [
    {
     "data": {
      "image/png": "[encoded data removed]",
      "text/plain": [
       "<Figure size 648x432 with 1 Axes>"
      ]
     },
     "metadata": {
      "needs_background": "light"
     },
     "output_type": "display_data"
    }
   ],
   "source": [
    "fig_test2=(pivot_process_site_plantas_finanzas / pivot_process_site_plantas_finanzas.sum() * 100).T.plot(kind='bar', stacked=True, figsize=(9, 6))"
   ]
  },
  {
   "cell_type": "code",
   "execution_count": 45,
   "metadata": {
    "scrolled": true
   },
   "outputs": [
    {
     "data": {
      "image/png": "[encoded data removed]",
      "text/plain": [
       "<Figure size 720x360 with 1 Axes>"
      ]
     },
     "metadata": {
      "needs_background": "light"
     },
     "output_type": "display_data"
    }
   ],
   "source": [
    "%matplotlib inline\n",
    "\n",
    "import pandas as pd\n",
    "\n",
    "df = pd.DataFrame({\n",
    "    'cat': [3, 5, 4, 3, 3, 23, 4],\n",
    "    'dog': [3, 23, 4, 3, 5, 4, 3],\n",
    "    'mouse': [3, 23, 4, 3, 5, 4, 3]\n",
    "})\n",
    "\n",
    "# Save the chart that's drawn\n",
    "ax = df.plot(stacked=True, kind='bar', figsize=(10, 5))\n",
    "\n",
    "# .patches is everything inside of the chart, lines and\n",
    "# rectangles and circles and stuff. In this case we only\n",
    "# have rectangles!\n",
    "for rect in ax.patches:\n",
    "    # Find where everything is located\n",
    "    height = rect.get_height()\n",
    "    width = rect.get_width()\n",
    "    x = rect.get_x()\n",
    "    y = rect.get_y()\n",
    "    \n",
    "    # The width of the bar is also not pixels, it's the\n",
    "    # number of animals. So we can use it as the label!\n",
    "    label_text = y\n",
    "    \n",
    "    # ax.text(x, y, text)\n",
    "    label_x = x + width / 2\n",
    "    label_y = y + height / 2\n",
    "    \n",
    "    # only plot labels if the width is greater than 0 (or some other value)\n",
    "    if width > 0: \n",
    "        ax.text(label_x, label_y, label_text, ha='center', va='center')"
   ]
  },
  {
   "cell_type": "code",
   "execution_count": 1378,
   "metadata": {},
   "outputs": [],
   "source": [
    "import matplotlib.pyplot as plt"
   ]
  },
  {
   "cell_type": "code",
   "execution_count": 1379,
   "metadata": {
    "scrolled": true
   },
   "outputs": [
    {
     "data": {
      "text/plain": [
       "<Figure size 504x288 with 0 Axes>"
      ]
     },
     "execution_count": 1379,
     "metadata": {},
     "output_type": "execute_result"
    },
    {
     "data": {
      "text/plain": [
       "<Figure size 504x288 with 0 Axes>"
      ]
     },
     "metadata": {},
     "output_type": "display_data"
    }
   ],
   "source": [
    "plt.figure(figsize=(7,4))"
   ]
  },
  {
   "cell_type": "code",
   "execution_count": 1385,
   "metadata": {},
   "outputs": [
    {
     "data": {
      "image/png": "[encoded data removed]",
      "text/plain": [
       "<Figure size 504x288 with 1 Axes>"
      ]
     },
     "metadata": {
      "needs_background": "light"
     },
     "output_type": "display_data"
    }
   ],
   "source": [
    "index='level1'\n",
    "numbers='reported fte'\n",
    "labels='leve1'\n",
    "\n",
    "plt.figure(figsize=(7,4))\n",
    "plt.bar(index,numbers)\n",
    "plt.xticks(index, labels, fontsize=10, rotation=0)\n",
    "plt.ylabel('count', fontsize=10)\n",
    "plt.title(\"total data: {}\".format(total))\n",
    "plt.show()"
   ]
  },
  {
   "cell_type": "code",
   "execution_count": null,
   "metadata": {},
   "outputs": [],
   "source": []
  },
  {
   "cell_type": "code",
   "execution_count": null,
   "metadata": {},
   "outputs": [],
   "source": []
  },
  {
   "cell_type": "code",
   "execution_count": null,
   "metadata": {},
   "outputs": [],
   "source": []
  },
  {
   "cell_type": "code",
   "execution_count": null,
   "metadata": {},
   "outputs": [],
   "source": []
  },
  {
   "cell_type": "code",
   "execution_count": null,
   "metadata": {},
   "outputs": [],
   "source": []
  },
  {
   "cell_type": "markdown",
   "metadata": {},
   "source": [
    "# Graphics"
   ]
  },
  {
   "cell_type": "markdown",
   "metadata": {},
   "source": [
    "# 3.1 Vision global"
   ]
  },
  {
   "cell_type": "code",
   "execution_count": null,
   "metadata": {},
   "outputs": [],
   "source": [
    "# the problem is how to export, i can make them png, and export to power point, but complicated to add slides."
   ]
  },
  {
   "cell_type": "code",
   "execution_count": 1421,
   "metadata": {},
   "outputs": [
    {
     "data": {
      "text/html": [
       "<div>\n",
       "<style scoped>\n",
       "    .dataframe tbody tr th:only-of-type {\n",
       "        vertical-align: middle;\n",
       "    }\n",
       "\n",
       "    .dataframe tbody tr th {\n",
       "        vertical-align: top;\n",
       "    }\n",
       "\n",
       "    .dataframe thead th {\n",
       "        text-align: right;\n",
       "    }\n",
       "</style>\n",
       "<table border=\"1\" class=\"dataframe\">\n",
       "  <thead>\n",
       "    <tr style=\"text-align: right;\">\n",
       "      <th></th>\n",
       "      <th>(reported fte, hq)</th>\n",
       "      <th>plantas</th>\n",
       "      <th>total</th>\n",
       "      <th>%</th>\n",
       "    </tr>\n",
       "    <tr>\n",
       "      <th>field</th>\n",
       "      <th></th>\n",
       "      <th></th>\n",
       "      <th></th>\n",
       "      <th></th>\n",
       "    </tr>\n",
       "  </thead>\n",
       "  <tbody>\n",
       "    <tr>\n",
       "      <th>finanzas</th>\n",
       "      <td>5.87</td>\n",
       "      <td>12.22</td>\n",
       "      <td>18.09</td>\n",
       "      <td>30.64</td>\n",
       "    </tr>\n",
       "    <tr>\n",
       "      <th>industrial</th>\n",
       "      <td>0.60</td>\n",
       "      <td>11.12</td>\n",
       "      <td>11.72</td>\n",
       "      <td>19.85</td>\n",
       "    </tr>\n",
       "    <tr>\n",
       "      <th>supply chain</th>\n",
       "      <td>19.30</td>\n",
       "      <td>9.94</td>\n",
       "      <td>29.24</td>\n",
       "      <td>49.52</td>\n",
       "    </tr>\n",
       "  </tbody>\n",
       "</table>\n",
       "</div>"
      ],
      "text/plain": [
       "              (reported fte, hq)  plantas  total      %\n",
       "field                                                  \n",
       "finanzas                    5.87    12.22  18.09  30.64\n",
       "industrial                  0.60    11.12  11.72  19.85\n",
       "supply chain               19.30     9.94  29.24  49.52"
      ]
     },
     "execution_count": 1421,
     "metadata": {},
     "output_type": "execute_result"
    }
   ],
   "source": [
    "distribucion_field_fte_split"
   ]
  },
  {
   "cell_type": "code",
   "execution_count": null,
   "metadata": {},
   "outputs": [],
   "source": [
    "#if i include the .legend, it will say that is not supported and i cannot plt\n",
    "\n",
    "distribucion_field_fte_split_fig=distribucion_field_fte_split.plot.pie(y='%', figsize=(5, 5), autopct='%1.1f%%').legend(bbox_to_anchor=(1,1.025), loc=\"upper left\")"
   ]
  },
  {
   "cell_type": "code",
   "execution_count": null,
   "metadata": {},
   "outputs": [],
   "source": [
    "distribucion_field_fte_split_fig.figure.savefig('field_fte.png')"
   ]
  },
  {
   "cell_type": "code",
   "execution_count": null,
   "metadata": {},
   "outputs": [],
   "source": []
  },
  {
   "cell_type": "code",
   "execution_count": null,
   "metadata": {},
   "outputs": [],
   "source": []
  },
  {
   "cell_type": "code",
   "execution_count": null,
   "metadata": {},
   "outputs": [],
   "source": []
  },
  {
   "cell_type": "code",
   "execution_count": null,
   "metadata": {},
   "outputs": [],
   "source": []
  },
  {
   "cell_type": "markdown",
   "metadata": {},
   "source": [
    "# 3.1 Vision global - dist tareas"
   ]
  },
  {
   "cell_type": "code",
   "execution_count": 1427,
   "metadata": {},
   "outputs": [],
   "source": [
    "import matplotlib.pyplot as plt\n",
    "from matplotlib import interactive"
   ]
  },
  {
   "cell_type": "code",
   "execution_count": null,
   "metadata": {},
   "outputs": [],
   "source": [
    "# i dont know how to include the labels in the stacked chart\n",
    "#i dont know when i include the legend why it does not show"
   ]
  },
  {
   "cell_type": "code",
   "execution_count": null,
   "metadata": {},
   "outputs": [],
   "source": [
    "#Finanzas"
   ]
  },
  {
   "cell_type": "code",
   "execution_count": 1432,
   "metadata": {},
   "outputs": [],
   "source": [
    "plantas_process_finanzas=dedicacion_clean_plantas[dedicacion_clean_plantas.field.eq('finanzas')].pivot_table(values=['reported fte'], \n",
    "                                                                    index=['field','level1'], \n",
    "                                                                    columns=['site'], \n",
    "                                                                    aggfunc='sum').fillna(0).round(2)"
   ]
  },
  {
   "cell_type": "code",
   "execution_count": 1433,
   "metadata": {
    "scrolled": true
   },
   "outputs": [
    {
     "data": {
      "text/html": [
       "<div>\n",
       "<style scoped>\n",
       "    .dataframe tbody tr th:only-of-type {\n",
       "        vertical-align: middle;\n",
       "    }\n",
       "\n",
       "    .dataframe tbody tr th {\n",
       "        vertical-align: top;\n",
       "    }\n",
       "\n",
       "    .dataframe thead tr th {\n",
       "        text-align: left;\n",
       "    }\n",
       "\n",
       "    .dataframe thead tr:last-of-type th {\n",
       "        text-align: right;\n",
       "    }\n",
       "</style>\n",
       "<table border=\"1\" class=\"dataframe\">\n",
       "  <thead>\n",
       "    <tr>\n",
       "      <th></th>\n",
       "      <th></th>\n",
       "      <th colspan=\"5\" halign=\"left\">reported fte</th>\n",
       "    </tr>\n",
       "    <tr>\n",
       "      <th></th>\n",
       "      <th>site</th>\n",
       "      <th>baños</th>\n",
       "      <th>fuenmayor</th>\n",
       "      <th>llodio</th>\n",
       "      <th>samazan</th>\n",
       "      <th>valencia</th>\n",
       "    </tr>\n",
       "    <tr>\n",
       "      <th>field</th>\n",
       "      <th>level1</th>\n",
       "      <th></th>\n",
       "      <th></th>\n",
       "      <th></th>\n",
       "      <th></th>\n",
       "      <th></th>\n",
       "    </tr>\n",
       "  </thead>\n",
       "  <tbody>\n",
       "    <tr>\n",
       "      <th rowspan=\"8\" valign=\"top\">finanzas</th>\n",
       "      <th>contabilidad general</th>\n",
       "      <td>0.75</td>\n",
       "      <td>1.05</td>\n",
       "      <td>0.45</td>\n",
       "      <td>0.99</td>\n",
       "      <td>0.84</td>\n",
       "    </tr>\n",
       "    <tr>\n",
       "      <th>controlling</th>\n",
       "      <td>0.10</td>\n",
       "      <td>0.46</td>\n",
       "      <td>0.78</td>\n",
       "      <td>0.18</td>\n",
       "      <td>0.26</td>\n",
       "    </tr>\n",
       "    <tr>\n",
       "      <th>cuentas a cobrar</th>\n",
       "      <td>0.03</td>\n",
       "      <td>0.02</td>\n",
       "      <td>0.37</td>\n",
       "      <td>0.00</td>\n",
       "      <td>0.10</td>\n",
       "    </tr>\n",
       "    <tr>\n",
       "      <th>cuentas a pagar</th>\n",
       "      <td>0.38</td>\n",
       "      <td>0.26</td>\n",
       "      <td>0.59</td>\n",
       "      <td>0.60</td>\n",
       "      <td>0.68</td>\n",
       "    </tr>\n",
       "    <tr>\n",
       "      <th>gastos de viaje</th>\n",
       "      <td>0.01</td>\n",
       "      <td>0.04</td>\n",
       "      <td>0.08</td>\n",
       "      <td>0.09</td>\n",
       "      <td>0.15</td>\n",
       "    </tr>\n",
       "    <tr>\n",
       "      <th>impuestos</th>\n",
       "      <td>0.08</td>\n",
       "      <td>0.12</td>\n",
       "      <td>0.16</td>\n",
       "      <td>0.01</td>\n",
       "      <td>0.07</td>\n",
       "    </tr>\n",
       "    <tr>\n",
       "      <th>otros</th>\n",
       "      <td>0.20</td>\n",
       "      <td>0.23</td>\n",
       "      <td>0.10</td>\n",
       "      <td>0.25</td>\n",
       "      <td>0.14</td>\n",
       "    </tr>\n",
       "    <tr>\n",
       "      <th>tesoreria</th>\n",
       "      <td>0.15</td>\n",
       "      <td>0.21</td>\n",
       "      <td>0.43</td>\n",
       "      <td>0.22</td>\n",
       "      <td>0.59</td>\n",
       "    </tr>\n",
       "  </tbody>\n",
       "</table>\n",
       "</div>"
      ],
      "text/plain": [
       "                              reported fte                                  \n",
       "site                                 baños fuenmayor llodio samazan valencia\n",
       "field    level1                                                             \n",
       "finanzas contabilidad general         0.75      1.05   0.45    0.99     0.84\n",
       "         controlling                  0.10      0.46   0.78    0.18     0.26\n",
       "         cuentas a cobrar             0.03      0.02   0.37    0.00     0.10\n",
       "         cuentas a pagar              0.38      0.26   0.59    0.60     0.68\n",
       "         gastos de viaje              0.01      0.04   0.08    0.09     0.15\n",
       "         impuestos                    0.08      0.12   0.16    0.01     0.07\n",
       "         otros                        0.20      0.23   0.10    0.25     0.14\n",
       "         tesoreria                    0.15      0.21   0.43    0.22     0.59"
      ]
     },
     "execution_count": 1433,
     "metadata": {},
     "output_type": "execute_result"
    }
   ],
   "source": [
    "plantas_process_finanzas"
   ]
  },
  {
   "cell_type": "code",
   "execution_count": 1541,
   "metadata": {
    "scrolled": false
   },
   "outputs": [
    {
     "data": {
      "image/png": "[encoded data removed]",
      "text/plain": [
       "<Figure size 504x360 with 1 Axes>"
      ]
     },
     "metadata": {
      "needs_background": "light"
     },
     "output_type": "display_data"
    }
   ],
   "source": [
    "plantas_process_finanzas_fig=(plantas_process_finanzas / plantas_process_finanzas.sum() * 100).T.plot(kind='bar', stacked=True, figsize=(7, 5)).legend(bbox_to_anchor=(1,1.025), loc=\"upper left\")"
   ]
  },
  {
   "cell_type": "code",
   "execution_count": 1550,
   "metadata": {},
   "outputs": [],
   "source": [
    "plantas_process_finanzas_fig.figure.savefig('plantas_process_finanzas.png', bbox_inches='tight')"
   ]
  },
  {
   "cell_type": "code",
   "execution_count": 1548,
   "metadata": {
    "scrolled": true
   },
   "outputs": [
    {
     "data": {
      "image/png": "[encoded data removed]",
      "text/plain": [
       "<Figure size 504x360 with 1 Axes>"
      ]
     },
     "metadata": {
      "needs_background": "light"
     },
     "output_type": "display_data"
    }
   ],
   "source": [
    "test4=(plantas_process_finanzas / plantas_process_finanzas.sum() * 100).T.plot(kind='bar', stacked=True, figsize=(7, 5)).legend(bbox_to_anchor=(1,1.025), loc=\"upper left\").bbox_inches='tight'"
   ]
  },
  {
   "cell_type": "code",
   "execution_count": 1,
   "metadata": {},
   "outputs": [],
   "source": [
    "import xlsxwriter"
   ]
  },
  {
   "cell_type": "code",
   "execution_count": 32,
   "metadata": {},
   "outputs": [],
   "source": [
    "lista = []\n",
    "\n",
    "\n",
    "for file in os.listdir(path):\n",
    "    if file.endswith('.png'):\n",
    "        lista.append(file)"
   ]
  },
  {
   "cell_type": "code",
   "execution_count": 44,
   "metadata": {},
   "outputs": [
    {
     "name": "stdout",
     "output_type": "stream",
     "text": [
      "plantas_process_industrial.png\n",
      "hq_process_supply.png\n",
      "plantas_process_finanzas.png\n",
      "plantas_process_supply.png\n",
      "hq_process_finanzas.png\n",
      "hq_process_industrial.png\n"
     ]
    }
   ],
   "source": [
    "i=0 \n",
    "while i<len(lista): \n",
    "    print (lista[i])\n",
    "    i=i+1 "
   ]
  },
  {
   "cell_type": "code",
   "execution_count": 33,
   "metadata": {
    "scrolled": true
   },
   "outputs": [
    {
     "data": {
      "text/plain": [
       "['plantas_process_industrial.png',\n",
       " 'hq_process_supply.png',\n",
       " 'plantas_process_finanzas.png',\n",
       " 'plantas_process_supply.png',\n",
       " 'hq_process_finanzas.png',\n",
       " 'hq_process_industrial.png']"
      ]
     },
     "execution_count": 33,
     "metadata": {},
     "output_type": "execute_result"
    }
   ],
   "source": [
    "lista"
   ]
  },
  {
   "cell_type": "code",
   "execution_count": 41,
   "metadata": {},
   "outputs": [
    {
     "ename": "TypeError",
     "evalue": "'Workbook' object is not callable",
     "output_type": "error",
     "traceback": [
      "\u001b[0;31m---------------------------------------------------------------------------\u001b[0m",
      "\u001b[0;31mTypeError\u001b[0m                                 Traceback (most recent call last)",
      "\u001b[0;32m<ipython-input-41-617ba415d40f>\u001b[0m in \u001b[0;36m<module>\u001b[0;34m\u001b[0m\n\u001b[1;32m      3\u001b[0m         \u001b[0mworksheet\u001b[0m \u001b[0;34m=\u001b[0m \u001b[0mworkbook\u001b[0m\u001b[0;34m.\u001b[0m\u001b[0madd_worksheet\u001b[0m\u001b[0;34m(\u001b[0m\u001b[0msheet\u001b[0m\u001b[0;34m)\u001b[0m\u001b[0;34m\u001b[0m\u001b[0;34m\u001b[0m\u001b[0m\n\u001b[1;32m      4\u001b[0m         \u001b[0mworksheet\u001b[0m\u001b[0;34m.\u001b[0m\u001b[0mwrite\u001b[0m\u001b[0;34m(\u001b[0m\u001b[0;34m'A1'\u001b[0m\u001b[0;34m,\u001b[0m \u001b[0;34m'Hello'\u001b[0m\u001b[0;34m)\u001b[0m\u001b[0;34m\u001b[0m\u001b[0;34m\u001b[0m\u001b[0m\n\u001b[0;32m----> 5\u001b[0;31m         \u001b[0mworkbook\u001b[0m\u001b[0;34m(\u001b[0m\u001b[0mlista\u001b[0m\u001b[0;34m[\u001b[0m\u001b[0;36m0\u001b[0m\u001b[0;34m]\u001b[0m\u001b[0;34m)\u001b[0m\u001b[0;34m.\u001b[0m\u001b[0minsert_image\u001b[0m\u001b[0;34m(\u001b[0m\u001b[0;34m'B2'\u001b[0m\u001b[0;34m,\u001b[0m \u001b[0;34m'plantas_process_finanzas.png'\u001b[0m\u001b[0;34m)\u001b[0m\u001b[0;34m\u001b[0m\u001b[0;34m\u001b[0m\u001b[0m\n\u001b[0m\u001b[1;32m      6\u001b[0m \u001b[0;34m\u001b[0m\u001b[0m\n",
      "\u001b[0;31mTypeError\u001b[0m: 'Workbook' object is not callable"
     ]
    }
   ],
   "source": [
    "with xlsxwriter.Workbook('test8.xlsx') as workbook:\n",
    "    for sheet in lista:\n",
    "        worksheet = workbook.add_worksheet(sheet)\n",
    "        worksheet.write('A1', 'Hello')\n",
    "        workbook(lista[0]).insert_image('B2', 'plantas_process_finanzas.png')\n",
    "       \n"
   ]
  },
  {
   "cell_type": "code",
   "execution_count": null,
   "metadata": {},
   "outputs": [],
   "source": [
    "workbook.add_worksheet"
   ]
  },
  {
   "cell_type": "code",
   "execution_count": null,
   "metadata": {},
   "outputs": [],
   "source": [
    " worksheet.write('A1', '/Users/luisdemiguel/Desktop/Ironhack/ih_dataptmad0420_final_project/ih_dataptmad0420_final_project/ih_dataptmad0420_final_project/template/notebooks/Hello world')"
   ]
  },
  {
   "cell_type": "code",
   "execution_count": null,
   "metadata": {},
   "outputs": [],
   "source": [
    "for sheet_name in lista:\n",
    "    worksheet = workbook.add_worksheet(sheet_name)\n",
    "    worksheet.insert_image('A1', 'plantas_process_finanzas.png')\n",
    "    worksheet.insert_image('B2', 'hq_process_supply.png')\n",
    "    worksheet.insert_image('B2', '/Users/luisdemiguel/Desktop/Ironhack/ih_dataptmad0420_final_project/ih_dataptmad0420_final_project/ih_dataptmad0420_final_project/template/notebooks/hq_process_finanzas.png')\n",
    "\n",
    "workbook.close()"
   ]
  },
  {
   "cell_type": "code",
   "execution_count": 1554,
   "metadata": {},
   "outputs": [
    {
     "name": "stderr",
     "output_type": "stream",
     "text": [
      "/Users/luisdemiguel/miniconda3/envs/ihm1_env/lib/python3.7/site-packages/xlsxwriter/worksheet.py:1208: UserWarning: Image file '/Users/luisdemiguel/Desktop/Ironhack/ih_dataptmad0420_final_project/ih_dataptmad0420_final_project/template/notebooks/plantas_process_finanzas.png' not found.\n",
      "  warn(\"Image file '%s' not found.\" % force_unicode(filename))\n",
      "/Users/luisdemiguel/miniconda3/envs/ihm1_env/lib/python3.7/site-packages/xlsxwriter/worksheet.py:1208: UserWarning: Image file '/Users/luisdemiguel/Desktop/Ironhack/ih_dataptmad0420_final_project/ih_dataptmad0420_final_project/template/notebooks/hq_process_supply.png' not found.\n",
      "  warn(\"Image file '%s' not found.\" % force_unicode(filename))\n",
      "/Users/luisdemiguel/miniconda3/envs/ihm1_env/lib/python3.7/site-packages/xlsxwriter/worksheet.py:1208: UserWarning: Image file '/Users/luisdemiguel/Desktop/Ironhack/ih_dataptmad0420_final_project/ih_dataptmad0420_final_project/template/notebooks/hq_process_finanzas.png' not found.\n",
      "  warn(\"Image file '%s' not found.\" % force_unicode(filename))\n"
     ]
    }
   ],
   "source": [
    "list_name = [\"first sheet\", \"second sheet\", \"third sheet\"]\n",
    "\n",
    "workbook = xlsxwriter.Workbook('/Users/luisdemiguel/Desktop/Ironhack/ih_dataptmad0420_final_project/ih_dataptmad0420_final_project/template/image.xlsx')\n",
    "for sheet_name in list_name:\n",
    "    worksheet = workbook.add_worksheet(sheet_name)\n",
    "    worksheet.insert_image('B2', '/Users/luisdemiguel/Desktop/Ironhack/ih_dataptmad0420_final_project/ih_dataptmad0420_final_project/template/notebooks/plantas_process_finanzas.png')\n",
    "    worksheet.insert_image('B2', '/Users/luisdemiguel/Desktop/Ironhack/ih_dataptmad0420_final_project/ih_dataptmad0420_final_project/template/notebooks/hq_process_supply.png')\n",
    "    worksheet.insert_image('B2', '/Users/luisdemiguel/Desktop/Ironhack/ih_dataptmad0420_final_project/ih_dataptmad0420_final_project/template/notebooks/hq_process_finanzas.png')\n",
    "\n"
   ]
  },
  {
   "cell_type": "code",
   "execution_count": 1560,
   "metadata": {},
   "outputs": [],
   "source": [
    "workbook = xlsxwriter.Workbook('/Users/luisdemiguel/Desktop/Ironhack/ih_dataptmad0420_final_project/ih_dataptmad0420_final_project/template/image.xlsx')\n",
    "for sheet_name in lista:\n",
    "    worksheet = workbook.add_worksheet(sheet_name)\n",
    "    worksheet.insert_image('A1', 'plantas_process_finanzas.png')\n",
    "    worksheet.insert_image('B2', 'hq_process_supply.png')\n",
    "    worksheet.insert_image('B2', '/Users/luisdemiguel/Desktop/Ironhack/ih_dataptmad0420_final_project/ih_dataptmad0420_final_project/ih_dataptmad0420_final_project/template/notebooks/hq_process_finanzas.png')\n",
    "\n",
    "workbook.close()"
   ]
  },
  {
   "cell_type": "code",
   "execution_count": null,
   "metadata": {},
   "outputs": [],
   "source": [
    "with xlsxwriter.Workbook('test6.xlsx') as workbook: \n",
    "    worksheet = workbook.add_worksheet()\n",
    "    worksheet.write('A1', '/Users/luisdemiguel/Desktop/Ironhack/ih_dataptmad0420_final_project/ih_dataptmad0420_final_project/ih_dataptmad0420_final_project/template/notebooks/Hello world')"
   ]
  },
  {
   "cell_type": "code",
   "execution_count": null,
   "metadata": {},
   "outputs": [],
   "source": []
  },
  {
   "cell_type": "code",
   "execution_count": 1568,
   "metadata": {},
   "outputs": [],
   "source": [
    "for worksheet in workbook.worksheets(): \n",
    "    worksheet.write('A1', 'Hello')\n",
    "    worksheet.insert_image('C3', 'plantas_process_finanzas.png' )"
   ]
  },
  {
   "cell_type": "code",
   "execution_count": null,
   "metadata": {},
   "outputs": [
    {
     "name": "stderr",
     "output_type": "stream",
     "text": [
      "/Users/luisdemiguel/miniconda3/envs/ihm1_env/lib/python3.7/site-packages/xlsxwriter/worksheet.py:1208: UserWarning: Image file 'plantas_process_finanzas.png' not found.\n",
      "  warn(\"Image file '%s' not found.\" % force_unicode(filename))\n"
     ]
    }
   ],
   "source": [
    "for worksheet in workbook.worksheets(): \n",
    "    worksheet1 = workbook.add_worksheet()  \n",
    "    worksheet2 = workbook.add_worksheet().insert_image('C3', 'plantas_process_finanzas.png' )\n",
    "    worksheet3 = workbook.add_worksheet() \n",
    "    worksheet4 = workbook.add_worksheet().write('A1', 'Hello')\n",
    "    \n",
    "    "
   ]
  },
  {
   "cell_type": "code",
   "execution_count": null,
   "metadata": {},
   "outputs": [],
   "source": [
    "worksheet1 = workbook.add_worksheet()  \n",
    "worksheet2 = workbook.add_worksheet('Foglio2')  \n",
    "worksheet3 = workbook.add_worksheet('Data') \n",
    "worksheet4 = workbook.add_worksheet()"
   ]
  },
  {
   "cell_type": "code",
   "execution_count": 7,
   "metadata": {},
   "outputs": [],
   "source": [
    "with xlsxwriter.Workbook('test7.xlsx') as workbook: \n",
    "    worksheet = workbook.add_worksheet()\n",
    "    worksheet.insert_image('B2', 'plantas_process_finanzas.png')\n",
    "    worksheet.write('Z3', 'Hello')"
   ]
  },
  {
   "cell_type": "code",
   "execution_count": 3,
   "metadata": {},
   "outputs": [],
   "source": [
    "workbook2 = xlsxwriter.Workbook('image3.xlsx')\n",
    "worksheet = workbook2.add_worksheet()\n",
    "\n",
    "    # Original image.\n"
   ]
  },
  {
   "cell_type": "code",
   "execution_count": null,
   "metadata": {},
   "outputs": [],
   "source": [
    "worksheet.insert_image('B2', 'plantas_process_finanzas.png')"
   ]
  },
  {
   "cell_type": "code",
   "execution_count": 10,
   "metadata": {},
   "outputs": [],
   "source": [
    "path = ('./Users/luisdemiguel/Desktop/Ironhack/ih_dataptmad0420_final_project/ih_dataptmad0420_final_project/ih_dataptmad0420_final_project/template/')"
   ]
  },
  {
   "cell_type": "code",
   "execution_count": 11,
   "metadata": {
    "scrolled": true
   },
   "outputs": [
    {
     "ename": "TypeError",
     "evalue": "bad operand type for unary +: 'str'",
     "output_type": "error",
     "traceback": [
      "\u001b[0;31m---------------------------------------------------------------------------\u001b[0m",
      "\u001b[0;31mTypeError\u001b[0m                                 Traceback (most recent call last)",
      "\u001b[0;32m<ipython-input-11-6eecb718b86a>\u001b[0m in \u001b[0;36m<module>\u001b[0;34m\u001b[0m\n\u001b[1;32m      3\u001b[0m \u001b[0;34m\u001b[0m\u001b[0m\n\u001b[1;32m      4\u001b[0m \u001b[0;34m\u001b[0m\u001b[0m\n\u001b[0;32m----> 5\u001b[0;31m \u001b[0mprint\u001b[0m\u001b[0;34m(\u001b[0m\u001b[0mglob\u001b[0m\u001b[0;34m.\u001b[0m\u001b[0mglob\u001b[0m\u001b[0;34m(\u001b[0m\u001b[0mpath\u001b[0m\u001b[0;34m/\u001b[0m\u001b[0;34m+\u001b[0m\u001b[0;34m'*.png'\u001b[0m\u001b[0;34m)\u001b[0m\u001b[0;34m)\u001b[0m\u001b[0;34m\u001b[0m\u001b[0;34m\u001b[0m\u001b[0m\n\u001b[0m",
      "\u001b[0;31mTypeError\u001b[0m: bad operand type for unary +: 'str'"
     ]
    }
   ],
   "source": [
    "import glob\n",
    "\n",
    "\n",
    "\n",
    "print(glob.glob(path/+'*.png'))"
   ]
  },
  {
   "cell_type": "code",
   "execution_count": 16,
   "metadata": {},
   "outputs": [],
   "source": [
    "from os import listdir\n",
    "from os.path import isfile, join\n",
    "import os\n",
    "import glob\n",
    "import re"
   ]
  },
  {
   "cell_type": "code",
   "execution_count": 24,
   "metadata": {},
   "outputs": [],
   "source": [
    "#path1 = ('/Users/luisdemiguel/Desktop/Ironhack/ih_dataptmad0420_final_project/ih_dataptmad0420_final_project/ih_dataptmad0420_final_project/template')\n",
    "\n",
    "lista = []\n",
    "\n",
    "\n",
    "for file in os.listdir(path):\n",
    "    if file.endswith('.png'):\n",
    "        lista.append(file)\n",
    "        \n",
    "        \n",
    "        \n",
    "     "
   ]
  },
  {
   "cell_type": "code",
   "execution_count": 23,
   "metadata": {},
   "outputs": [],
   "source": [
    "path = ('/Users/luisdemiguel/Desktop/Ironhack/ih_dataptmad0420_final_project/test')\n",
    "\n",
    "for file in os.listdir(path):\n",
    "    if file.endswith('.pdf'):\n",
    "        lista.append(file)"
   ]
  },
  {
   "cell_type": "code",
   "execution_count": 25,
   "metadata": {
    "scrolled": true
   },
   "outputs": [
    {
     "data": {
      "text/plain": [
       "['plantas_process_industrial.png',\n",
       " 'plantas_process_finanzas.png',\n",
       " 'plantas_process_supply.png']"
      ]
     },
     "execution_count": 25,
     "metadata": {},
     "output_type": "execute_result"
    }
   ],
   "source": [
    "lista"
   ]
  },
  {
   "cell_type": "code",
   "execution_count": 1536,
   "metadata": {
    "scrolled": true
   },
   "outputs": [
    {
     "ename": "AttributeError",
     "evalue": "'AxesSubplot' object has no attribute 'savefig'",
     "output_type": "error",
     "traceback": [
      "\u001b[0;31m---------------------------------------------------------------------------\u001b[0m",
      "\u001b[0;31mAttributeError\u001b[0m                            Traceback (most recent call last)",
      "\u001b[0;32m<ipython-input-1536-548935aebaeb>\u001b[0m in \u001b[0;36m<module>\u001b[0;34m\u001b[0m\n\u001b[0;32m----> 1\u001b[0;31m \u001b[0mplantas_process_finanzas_fig\u001b[0m\u001b[0;34m.\u001b[0m\u001b[0msavefig\u001b[0m\u001b[0;34m(\u001b[0m\u001b[0;34m\"/Users/luisdemiguel/Desktop/Ironhack/ih_dataptmad0420_final_project/ih_dataptmad0420_final_project/template/notebooks/\"\u001b[0m\u001b[0;34m+\u001b[0m \u001b[0;34m'test4'\u001b[0m \u001b[0;34m+\u001b[0m \u001b[0;34m'.png'\u001b[0m\u001b[0;34m,\u001b[0m \u001b[0mbbox_inches\u001b[0m\u001b[0;34m=\u001b[0m\u001b[0;34m'tight'\u001b[0m\u001b[0;34m)\u001b[0m\u001b[0;34m\u001b[0m\u001b[0;34m\u001b[0m\u001b[0m\n\u001b[0m",
      "\u001b[0;31mAttributeError\u001b[0m: 'AxesSubplot' object has no attribute 'savefig'"
     ]
    }
   ],
   "source": [
    "plantas_process_finanzas_fig.savefig(\"/Users/luisdemiguel/Desktop/Ironhack/ih_dataptmad0420_final_project/ih_dataptmad0420_final_project/template/notebooks/\"+ 'test4' + '.png', bbox_inches='tight')"
   ]
  },
  {
   "cell_type": "code",
   "execution_count": 1531,
   "metadata": {},
   "outputs": [
    {
     "ename": "TypeError",
     "evalue": "'NoneType' object is not callable",
     "output_type": "error",
     "traceback": [
      "\u001b[0;31m---------------------------------------------------------------------------\u001b[0m",
      "\u001b[0;31mTypeError\u001b[0m                                 Traceback (most recent call last)",
      "\u001b[0;32m<ipython-input-1531-e28e3fd285ad>\u001b[0m in \u001b[0;36m<module>\u001b[0;34m\u001b[0m\n\u001b[0;32m----> 1\u001b[0;31m \u001b[0mfig\u001b[0m \u001b[0;34m=\u001b[0m \u001b[0mplantas_process_finanzas_fig\u001b[0m\u001b[0;34m.\u001b[0m\u001b[0mfigure\u001b[0m\u001b[0;34m.\u001b[0m\u001b[0mfigure\u001b[0m\u001b[0;34m(\u001b[0m\u001b[0mfigsize\u001b[0m\u001b[0;34m=\u001b[0m\u001b[0;34m(\u001b[0m\u001b[0;36m9\u001b[0m\u001b[0;34m,\u001b[0m \u001b[0;36m11\u001b[0m\u001b[0;34m)\u001b[0m\u001b[0;34m)\u001b[0m\u001b[0;34m\u001b[0m\u001b[0;34m\u001b[0m\u001b[0m\n\u001b[0m\u001b[1;32m      2\u001b[0m \u001b[0;34m\u001b[0m\u001b[0m\n\u001b[1;32m      3\u001b[0m \u001b[0mplantas_process_finanzas_fig\u001b[0m\u001b[0;34m.\u001b[0m\u001b[0mfigure\u001b[0m\u001b[0;34m.\u001b[0m\u001b[0msavefig\u001b[0m\u001b[0;34m(\u001b[0m\u001b[0;34m'test4.png'\u001b[0m\u001b[0;34m,\u001b[0m \u001b[0mbbox_inches\u001b[0m \u001b[0;34m=\u001b[0m \u001b[0;34m'tight'\u001b[0m\u001b[0;34m)\u001b[0m\u001b[0;34m\u001b[0m\u001b[0;34m\u001b[0m\u001b[0m\n",
      "\u001b[0;31mTypeError\u001b[0m: 'NoneType' object is not callable"
     ]
    }
   ],
   "source": [
    "\n",
    "fig = plantas_process_finanzas_fig.figure.figure(figsize=(9, 11))\n",
    "\n",
    "plantas_process_finanzas_fig.figure.savefig('test4.png', bbox_inches = 'tight')"
   ]
  },
  {
   "cell_type": "code",
   "execution_count": 1486,
   "metadata": {
    "scrolled": false
   },
   "outputs": [],
   "source": [
    "import os, sys\n",
    "from PIL import Image\n",
    "import glob\n",
    "from PIL import Image\n"
   ]
  },
  {
   "cell_type": "code",
   "execution_count": 1528,
   "metadata": {},
   "outputs": [],
   "source": [
    "size=(300,300)\n",
    "\n",
    "\n",
    "# open method used to open different extension image file \n",
    "im = Image.open(\"/Users/luisdemiguel/Desktop/Ironhack/ih_dataptmad0420_final_project/ih_dataptmad0420_final_project/template/notebooks/hq_process_finanzas.jpg\")  \n",
    "  \n",
    "# This method will show image in any image viewer  \n",
    "im.thumbnail(size)\n",
    "im.save(\"test_image1.png\") "
   ]
  },
  {
   "cell_type": "code",
   "execution_count": 1529,
   "metadata": {},
   "outputs": [
    {
     "data": {
      "text/plain": [
       "[<PIL.PngImagePlugin.PngImageFile image mode=RGBA size=120x103 at 0x12B2E3FD0>,\n",
       " <PIL.PngImagePlugin.PngImageFile image mode=RGBA size=96x120 at 0x12B2E3630>]"
      ]
     },
     "execution_count": 1529,
     "metadata": {},
     "output_type": "execute_result"
    }
   ],
   "source": [
    "size=(120,120)\n",
    "\n",
    "\n",
    "image_list = []\n",
    "\n",
    "for filename in glob.glob('/Users/luisdemiguel/Desktop/Ironhack/ih_dataptmad0420_final_project/ih_dataptmad0420_final_project/template/notebooks/*.jpg'): #assuming gif\n",
    "    im=Image.open(filename)\n",
    "    image_list.append(im)\n",
    "    im.thumbnail(size)\n",
    "    im.save(\"test_image2.png\")\n",
    "\n",
    "image_list"
   ]
  },
  {
   "cell_type": "code",
   "execution_count": null,
   "metadata": {},
   "outputs": [],
   "source": []
  },
  {
   "cell_type": "code",
   "execution_count": null,
   "metadata": {},
   "outputs": [],
   "source": [
    "import numpy as np\n",
    "import matplotlib.pyplot as plt\n",
    "import matplotlib.cm as cm\n",
    "\n",
    "X = 10*np.random.rand(5,3)\n",
    "\n",
    "fig = plt.figure(figsize=(15,5),facecolor='w') \n",
    "ax = fig.add_subplot(111)\n",
    "ax.imshow(X, cmap=cm.jet)\n",
    "\n",
    "plt.savefig(\"plantas_process_finanzas1.png\",bbox_inches='tight',dpi=100)"
   ]
  },
  {
   "cell_type": "code",
   "execution_count": null,
   "metadata": {},
   "outputs": [],
   "source": [
    "distribucion_field_fte_split_fig.figure.savefig('field_fte.png')"
   ]
  },
  {
   "cell_type": "code",
   "execution_count": null,
   "metadata": {},
   "outputs": [],
   "source": [
    "#hq"
   ]
  },
  {
   "cell_type": "code",
   "execution_count": 1438,
   "metadata": {},
   "outputs": [],
   "source": [
    "hq_process_finanzas=dedicacion_clean_hq[dedicacion_clean_hq.field.eq('finanzas')].pivot_table(values=['reported fte'], \n",
    "                                                                    index=['field','level1'], \n",
    "                                                                    columns=['site'], \n",
    "                                                                    aggfunc='sum').fillna(0).round(2)"
   ]
  },
  {
   "cell_type": "code",
   "execution_count": 1471,
   "metadata": {},
   "outputs": [
    {
     "data": {
      "image/png": "[encoded data removed]",
      "text/plain": [
       "<Figure size 288x360 with 1 Axes>"
      ]
     },
     "metadata": {
      "needs_background": "light"
     },
     "output_type": "display_data"
    }
   ],
   "source": [
    "hq_process_finanzas_fig=(hq_process_finanzas / hq_process_finanzas.sum() * 100).T.plot(kind='bar', stacked=True, figsize=(4, 5)).legend(bbox_to_anchor=(1,1.025), loc=\"upper left\").figure.savefig('hq_process_finanzas')"
   ]
  },
  {
   "cell_type": "code",
   "execution_count": null,
   "metadata": {},
   "outputs": [],
   "source": [
    "# supply chain plantas"
   ]
  },
  {
   "cell_type": "code",
   "execution_count": 1444,
   "metadata": {},
   "outputs": [],
   "source": [
    "plantas_process_supply=dedicacion_clean_plantas[dedicacion_clean_plantas.field.eq('supply chain')].pivot_table(values=['reported fte'], \n",
    "                                                                    index=['field','level1'], \n",
    "                                                                    columns=['site'], \n",
    "                                                                    aggfunc='sum').fillna(0).round(2)"
   ]
  },
  {
   "cell_type": "code",
   "execution_count": 1472,
   "metadata": {},
   "outputs": [
    {
     "data": {
      "image/png": "[encoded data removed]",
      "text/plain": [
       "<Figure size 504x432 with 1 Axes>"
      ]
     },
     "metadata": {
      "needs_background": "light"
     },
     "output_type": "display_data"
    }
   ],
   "source": [
    "plantas_process_supply_fig=(plantas_process_supply / plantas_process_supply.sum() * 100).T.plot(kind='bar', stacked=True, figsize=(7, 6)).legend(bbox_to_anchor=(1,1.025), loc=\"upper left\").figure.savefig('plantas_process_supply')"
   ]
  },
  {
   "cell_type": "code",
   "execution_count": null,
   "metadata": {},
   "outputs": [],
   "source": [
    "#hq"
   ]
  },
  {
   "cell_type": "code",
   "execution_count": 1449,
   "metadata": {},
   "outputs": [],
   "source": [
    "hq_process_supply=dedicacion_clean_hq[dedicacion_clean_hq.field.eq('supply chain')].pivot_table(values=['reported fte'], \n",
    "                                                                    index=['field','level1'], \n",
    "                                                                    columns=['site'], \n",
    "                                                                    aggfunc='sum').fillna(0).round(2)"
   ]
  },
  {
   "cell_type": "code",
   "execution_count": 1451,
   "metadata": {},
   "outputs": [
    {
     "data": {
      "image/png": "[encoded data removed]",
      "text/plain": [
       "<Figure size 288x432 with 1 Axes>"
      ]
     },
     "metadata": {
      "needs_background": "light"
     },
     "output_type": "display_data"
    }
   ],
   "source": [
    "hq_process_supply_fig=(hq_process_supply / hq_process_supply.sum() * 100).T.plot(kind='bar', stacked=True, figsize=(4, 6)).legend(bbox_to_anchor=(1,1.025), loc=\"upper left\").figure.savefig('hq_process_supply')"
   ]
  },
  {
   "cell_type": "code",
   "execution_count": null,
   "metadata": {},
   "outputs": [],
   "source": [
    "#industrial plantas"
   ]
  },
  {
   "cell_type": "code",
   "execution_count": 69,
   "metadata": {},
   "outputs": [],
   "source": [
    "plantas_process_industrial=dedicacion_clean_plantas[dedicacion_clean_plantas.field.eq('industrial')].pivot_table(values=['reported fte'], \n",
    "                                                                    index=['field','level1'], \n",
    "                                                                    columns=['site'], \n",
    "                                                                    aggfunc='sum').fillna(0).round(2)"
   ]
  },
  {
   "cell_type": "code",
   "execution_count": 70,
   "metadata": {},
   "outputs": [
    {
     "data": {
      "text/html": [
       "<div>\n",
       "<style scoped>\n",
       "    .dataframe tbody tr th:only-of-type {\n",
       "        vertical-align: middle;\n",
       "    }\n",
       "\n",
       "    .dataframe tbody tr th {\n",
       "        vertical-align: top;\n",
       "    }\n",
       "\n",
       "    .dataframe thead tr th {\n",
       "        text-align: left;\n",
       "    }\n",
       "\n",
       "    .dataframe thead tr:last-of-type th {\n",
       "        text-align: right;\n",
       "    }\n",
       "</style>\n",
       "<table border=\"1\" class=\"dataframe\">\n",
       "  <thead>\n",
       "    <tr>\n",
       "      <th></th>\n",
       "      <th></th>\n",
       "      <th colspan=\"5\" halign=\"left\">reported fte</th>\n",
       "    </tr>\n",
       "    <tr>\n",
       "      <th></th>\n",
       "      <th>site</th>\n",
       "      <th>baños</th>\n",
       "      <th>fuenmayor</th>\n",
       "      <th>llodio</th>\n",
       "      <th>samazan</th>\n",
       "      <th>valencia</th>\n",
       "    </tr>\n",
       "    <tr>\n",
       "      <th>field</th>\n",
       "      <th>level1</th>\n",
       "      <th></th>\n",
       "      <th></th>\n",
       "      <th></th>\n",
       "      <th></th>\n",
       "      <th></th>\n",
       "    </tr>\n",
       "  </thead>\n",
       "  <tbody>\n",
       "    <tr>\n",
       "      <th rowspan=\"2\" valign=\"top\">industrial</th>\n",
       "      <th>forestal</th>\n",
       "      <td>0.64</td>\n",
       "      <td>0.00</td>\n",
       "      <td>0.07</td>\n",
       "      <td>2.06</td>\n",
       "      <td>1.85</td>\n",
       "    </tr>\n",
       "    <tr>\n",
       "      <th>industrial</th>\n",
       "      <td>1.65</td>\n",
       "      <td>0.84</td>\n",
       "      <td>0.54</td>\n",
       "      <td>1.51</td>\n",
       "      <td>1.96</td>\n",
       "    </tr>\n",
       "  </tbody>\n",
       "</table>\n",
       "</div>"
      ],
      "text/plain": [
       "                      reported fte                                  \n",
       "site                         baños fuenmayor llodio samazan valencia\n",
       "field      level1                                                   \n",
       "industrial forestal           0.64      0.00   0.07    2.06     1.85\n",
       "           industrial         1.65      0.84   0.54    1.51     1.96"
      ]
     },
     "execution_count": 70,
     "metadata": {},
     "output_type": "execute_result"
    }
   ],
   "source": [
    "plantas_process_industrial"
   ]
  },
  {
   "cell_type": "code",
   "execution_count": 1456,
   "metadata": {
    "scrolled": true
   },
   "outputs": [
    {
     "data": {
      "image/png": "[encoded data removed]",
      "text/plain": [
       "<Figure size 504x432 with 1 Axes>"
      ]
     },
     "metadata": {
      "needs_background": "light"
     },
     "output_type": "display_data"
    }
   ],
   "source": [
    "plantas_process_industrial_fig=(plantas_process_industrial / plantas_process_industrial.sum() * 100).T.plot(kind='bar', stacked=True, figsize=(7, 6)).legend(bbox_to_anchor=(1,1.025), loc=\"upper left\").figure.savefig('plantas_process_industrial')"
   ]
  },
  {
   "cell_type": "code",
   "execution_count": null,
   "metadata": {},
   "outputs": [],
   "source": [
    "#hq"
   ]
  },
  {
   "cell_type": "code",
   "execution_count": 1457,
   "metadata": {},
   "outputs": [],
   "source": [
    "hq_process_industrial=dedicacion_clean_hq[dedicacion_clean_hq.field.eq('industrial')].pivot_table(values=['reported fte'], \n",
    "                                                                    index=['field','level1'], \n",
    "                                                                    columns=['site'], \n",
    "                                                                    aggfunc='sum').fillna(0).round(2)"
   ]
  },
  {
   "cell_type": "code",
   "execution_count": 1459,
   "metadata": {},
   "outputs": [
    {
     "data": {
      "image/png": "[encoded data removed]",
      "text/plain": [
       "<Figure size 360x432 with 1 Axes>"
      ]
     },
     "metadata": {
      "needs_background": "light"
     },
     "output_type": "display_data"
    }
   ],
   "source": [
    "hq_process_industrial_fig=(hq_process_industrial / hq_process_industrial.sum() * 100).T.plot(kind='bar', stacked=True, figsize=(5, 6)).legend(bbox_to_anchor=(1,1.025), loc=\"upper left\").figure.savefig('hq_process_industrial')"
   ]
  },
  {
   "cell_type": "code",
   "execution_count": null,
   "metadata": {},
   "outputs": [],
   "source": []
  },
  {
   "cell_type": "code",
   "execution_count": null,
   "metadata": {},
   "outputs": [],
   "source": []
  },
  {
   "cell_type": "code",
   "execution_count": 976,
   "metadata": {},
   "outputs": [],
   "source": [
    "\n",
    "\n",
    "# Create a Pandas Excel writer using XlsxWriter as the engine.\n",
    "writer = pd.ExcelWriter('pandas_multiple.xlsx', engine='xlsxwriter')\n",
    "\n",
    "# Write each dataframe to a different worksheet.\n",
    "split_task_all.to_excel(writer, sheet_name='Sheet1')\n",
    "all_sites_df.to_excel(writer, sheet_name='Sheet2')\n",
    "pivot_process_finanzas.to_excel(writer, sheet_name='Sheet3')\n",
    "\n",
    "# Close the Pandas Excel writer and output the Excel file.\n",
    "writer.save()"
   ]
  },
  {
   "cell_type": "code",
   "execution_count": null,
   "metadata": {},
   "outputs": [],
   "source": []
  },
  {
   "cell_type": "code",
   "execution_count": null,
   "metadata": {},
   "outputs": [],
   "source": []
  },
  {
   "cell_type": "code",
   "execution_count": null,
   "metadata": {},
   "outputs": [],
   "source": []
  },
  {
   "cell_type": "code",
   "execution_count": 360,
   "metadata": {},
   "outputs": [],
   "source": [
    "def custom (df,process,site):\n",
    "    filtered_process = df['Level 1'].eq(process)\n",
    "    filtered_site = df['Site'].eq(site)\n",
    "    filtered_dataframe = df[filtered_process & filtered_site]\n",
    "    \n",
    "    return filtered_dataframe['Reported FTE´s'].sum()\n",
    "\n",
    "    "
   ]
  },
  {
   "cell_type": "code",
   "execution_count": 361,
   "metadata": {
    "scrolled": true
   },
   "outputs": [
    {
     "data": {
      "text/plain": [
       "0.9925799086757991"
      ]
     },
     "execution_count": 361,
     "metadata": {},
     "output_type": "execute_result"
    }
   ],
   "source": [
    "#i would like to have the full visibility if i do not include a site, for example and the output would be the sum of all\n",
    "\n",
    "custom(dedicacion_clean,'Contabilidad General', 'Samazan')"
   ]
  },
  {
   "cell_type": "code",
   "execution_count": null,
   "metadata": {},
   "outputs": [],
   "source": []
  },
  {
   "cell_type": "code",
   "execution_count": 67,
   "metadata": {},
   "outputs": [],
   "source": [
    "eficiencias = pd.read_excel('/Users/luisdemiguel/Desktop/Ironhack/ih_dataptmad0420_final_project/ih_dataptmad0420_final_project/template/data/raw/eficiencias.xlsx')"
   ]
  },
  {
   "cell_type": "code",
   "execution_count": 68,
   "metadata": {},
   "outputs": [
    {
     "data": {
      "text/html": [
       "<div>\n",
       "<style scoped>\n",
       "    .dataframe tbody tr th:only-of-type {\n",
       "        vertical-align: middle;\n",
       "    }\n",
       "\n",
       "    .dataframe tbody tr th {\n",
       "        vertical-align: top;\n",
       "    }\n",
       "\n",
       "    .dataframe thead th {\n",
       "        text-align: right;\n",
       "    }\n",
       "</style>\n",
       "<table border=\"1\" class=\"dataframe\">\n",
       "  <thead>\n",
       "    <tr style=\"text-align: right;\">\n",
       "      <th></th>\n",
       "      <th>proceso</th>\n",
       "      <th>nombre</th>\n",
       "      <th>eficiencias</th>\n",
       "    </tr>\n",
       "  </thead>\n",
       "  <tbody>\n",
       "    <tr>\n",
       "      <th>0</th>\n",
       "      <td>contabilidad general</td>\n",
       "      <td>homogenizacion procesos</td>\n",
       "      <td>0.15</td>\n",
       "    </tr>\n",
       "    <tr>\n",
       "      <th>1</th>\n",
       "      <td>contabilidad general</td>\n",
       "      <td>especializacion personal</td>\n",
       "      <td>0.05</td>\n",
       "    </tr>\n",
       "    <tr>\n",
       "      <th>2</th>\n",
       "      <td>contabilidad general</td>\n",
       "      <td>kpi y desempeno</td>\n",
       "      <td>0.05</td>\n",
       "    </tr>\n",
       "    <tr>\n",
       "      <th>3</th>\n",
       "      <td>contabilidad general</td>\n",
       "      <td>modelo relacional y gobierno</td>\n",
       "      <td>0.05</td>\n",
       "    </tr>\n",
       "    <tr>\n",
       "      <th>4</th>\n",
       "      <td>cuentas a pagar</td>\n",
       "      <td>homogenizacion procesos</td>\n",
       "      <td>0.15</td>\n",
       "    </tr>\n",
       "    <tr>\n",
       "      <th>5</th>\n",
       "      <td>cuentas a pagar</td>\n",
       "      <td>especializacion personal</td>\n",
       "      <td>0.05</td>\n",
       "    </tr>\n",
       "    <tr>\n",
       "      <th>6</th>\n",
       "      <td>cuentas a pagar</td>\n",
       "      <td>kpi y desempeno</td>\n",
       "      <td>0.05</td>\n",
       "    </tr>\n",
       "    <tr>\n",
       "      <th>7</th>\n",
       "      <td>cuentas a pagar</td>\n",
       "      <td>modelo relacional y gobierno</td>\n",
       "      <td>0.05</td>\n",
       "    </tr>\n",
       "    <tr>\n",
       "      <th>8</th>\n",
       "      <td>cuentas a pagar</td>\n",
       "      <td>recepcion facturas punto unico</td>\n",
       "      <td>0.05</td>\n",
       "    </tr>\n",
       "    <tr>\n",
       "      <th>9</th>\n",
       "      <td>cuentas a pagar</td>\n",
       "      <td>escaneo ocr</td>\n",
       "      <td>0.05</td>\n",
       "    </tr>\n",
       "    <tr>\n",
       "      <th>10</th>\n",
       "      <td>cuentas a cobrar</td>\n",
       "      <td>homogenizacion procesos</td>\n",
       "      <td>0.15</td>\n",
       "    </tr>\n",
       "    <tr>\n",
       "      <th>11</th>\n",
       "      <td>cuentas a cobrar</td>\n",
       "      <td>especializacion personal</td>\n",
       "      <td>0.05</td>\n",
       "    </tr>\n",
       "    <tr>\n",
       "      <th>12</th>\n",
       "      <td>cuentas a cobrar</td>\n",
       "      <td>kpi y desempeno</td>\n",
       "      <td>0.05</td>\n",
       "    </tr>\n",
       "    <tr>\n",
       "      <th>13</th>\n",
       "      <td>cuentas a cobrar</td>\n",
       "      <td>modelo relacional y gobierno</td>\n",
       "      <td>0.05</td>\n",
       "    </tr>\n",
       "    <tr>\n",
       "      <th>14</th>\n",
       "      <td>cuentas a cobrar</td>\n",
       "      <td>recepcion facturas punto unico</td>\n",
       "      <td>0.05</td>\n",
       "    </tr>\n",
       "    <tr>\n",
       "      <th>15</th>\n",
       "      <td>cuentas a cobrar</td>\n",
       "      <td>escaneo ocr</td>\n",
       "      <td>0.05</td>\n",
       "    </tr>\n",
       "    <tr>\n",
       "      <th>16</th>\n",
       "      <td>tesoreria</td>\n",
       "      <td>homogenizacion procesos</td>\n",
       "      <td>0.15</td>\n",
       "    </tr>\n",
       "    <tr>\n",
       "      <th>17</th>\n",
       "      <td>tesoreria</td>\n",
       "      <td>especializacion personal</td>\n",
       "      <td>0.05</td>\n",
       "    </tr>\n",
       "    <tr>\n",
       "      <th>18</th>\n",
       "      <td>tesoreria</td>\n",
       "      <td>kpi y desempeno</td>\n",
       "      <td>0.05</td>\n",
       "    </tr>\n",
       "    <tr>\n",
       "      <th>19</th>\n",
       "      <td>tesoreria</td>\n",
       "      <td>modelo relacional y gobierno</td>\n",
       "      <td>0.05</td>\n",
       "    </tr>\n",
       "    <tr>\n",
       "      <th>20</th>\n",
       "      <td>impuestos</td>\n",
       "      <td>homogenizacion procesos</td>\n",
       "      <td>0.15</td>\n",
       "    </tr>\n",
       "    <tr>\n",
       "      <th>21</th>\n",
       "      <td>impuestos</td>\n",
       "      <td>especializacion personal</td>\n",
       "      <td>0.05</td>\n",
       "    </tr>\n",
       "    <tr>\n",
       "      <th>22</th>\n",
       "      <td>impuestos</td>\n",
       "      <td>kpi y desempeno</td>\n",
       "      <td>0.05</td>\n",
       "    </tr>\n",
       "    <tr>\n",
       "      <th>23</th>\n",
       "      <td>impuestos</td>\n",
       "      <td>modelo relacional y gobierno</td>\n",
       "      <td>0.05</td>\n",
       "    </tr>\n",
       "    <tr>\n",
       "      <th>24</th>\n",
       "      <td>controlling</td>\n",
       "      <td>homogenizacion procesos</td>\n",
       "      <td>0.15</td>\n",
       "    </tr>\n",
       "    <tr>\n",
       "      <th>25</th>\n",
       "      <td>controlling</td>\n",
       "      <td>especializacion personal</td>\n",
       "      <td>0.05</td>\n",
       "    </tr>\n",
       "    <tr>\n",
       "      <th>26</th>\n",
       "      <td>controlling</td>\n",
       "      <td>kpi y desempeno</td>\n",
       "      <td>0.05</td>\n",
       "    </tr>\n",
       "    <tr>\n",
       "      <th>27</th>\n",
       "      <td>controlling</td>\n",
       "      <td>modelo relacional y gobierno</td>\n",
       "      <td>0.05</td>\n",
       "    </tr>\n",
       "    <tr>\n",
       "      <th>28</th>\n",
       "      <td>gastos de viaje</td>\n",
       "      <td>homogenizacion procesos</td>\n",
       "      <td>0.15</td>\n",
       "    </tr>\n",
       "    <tr>\n",
       "      <th>29</th>\n",
       "      <td>gastos de viaje</td>\n",
       "      <td>especializacion personal</td>\n",
       "      <td>0.05</td>\n",
       "    </tr>\n",
       "    <tr>\n",
       "      <th>30</th>\n",
       "      <td>gastos de viaje</td>\n",
       "      <td>kpi y desempeno</td>\n",
       "      <td>0.05</td>\n",
       "    </tr>\n",
       "    <tr>\n",
       "      <th>31</th>\n",
       "      <td>gastos de viaje</td>\n",
       "      <td>modelo relacional y gobierno</td>\n",
       "      <td>0.05</td>\n",
       "    </tr>\n",
       "    <tr>\n",
       "      <th>32</th>\n",
       "      <td>procurement</td>\n",
       "      <td>homogenizacion procesos</td>\n",
       "      <td>0.15</td>\n",
       "    </tr>\n",
       "    <tr>\n",
       "      <th>33</th>\n",
       "      <td>procurement</td>\n",
       "      <td>especializacion personal</td>\n",
       "      <td>0.05</td>\n",
       "    </tr>\n",
       "    <tr>\n",
       "      <th>34</th>\n",
       "      <td>procurement</td>\n",
       "      <td>kpi y desempeno</td>\n",
       "      <td>0.05</td>\n",
       "    </tr>\n",
       "    <tr>\n",
       "      <th>35</th>\n",
       "      <td>procurement</td>\n",
       "      <td>modelo relacional y gobierno</td>\n",
       "      <td>0.05</td>\n",
       "    </tr>\n",
       "    <tr>\n",
       "      <th>36</th>\n",
       "      <td>logistica</td>\n",
       "      <td>homogenizacion procesos</td>\n",
       "      <td>0.15</td>\n",
       "    </tr>\n",
       "    <tr>\n",
       "      <th>37</th>\n",
       "      <td>logistica</td>\n",
       "      <td>especializacion personal</td>\n",
       "      <td>0.05</td>\n",
       "    </tr>\n",
       "    <tr>\n",
       "      <th>38</th>\n",
       "      <td>logistica</td>\n",
       "      <td>kpi y desempeno</td>\n",
       "      <td>0.05</td>\n",
       "    </tr>\n",
       "    <tr>\n",
       "      <th>39</th>\n",
       "      <td>logistica</td>\n",
       "      <td>modelo relacional y gobierno</td>\n",
       "      <td>0.05</td>\n",
       "    </tr>\n",
       "    <tr>\n",
       "      <th>40</th>\n",
       "      <td>industrial</td>\n",
       "      <td>homogenizacion procesos</td>\n",
       "      <td>0.15</td>\n",
       "    </tr>\n",
       "    <tr>\n",
       "      <th>41</th>\n",
       "      <td>industrial</td>\n",
       "      <td>especializacion personal</td>\n",
       "      <td>0.05</td>\n",
       "    </tr>\n",
       "    <tr>\n",
       "      <th>42</th>\n",
       "      <td>industrial</td>\n",
       "      <td>kpi y desempeno</td>\n",
       "      <td>0.05</td>\n",
       "    </tr>\n",
       "    <tr>\n",
       "      <th>43</th>\n",
       "      <td>industrial</td>\n",
       "      <td>modelo relacional y gobierno</td>\n",
       "      <td>0.05</td>\n",
       "    </tr>\n",
       "    <tr>\n",
       "      <th>44</th>\n",
       "      <td>forestal</td>\n",
       "      <td>homogenizacion procesos</td>\n",
       "      <td>0.15</td>\n",
       "    </tr>\n",
       "    <tr>\n",
       "      <th>45</th>\n",
       "      <td>forestal</td>\n",
       "      <td>especializacion personal</td>\n",
       "      <td>0.05</td>\n",
       "    </tr>\n",
       "    <tr>\n",
       "      <th>46</th>\n",
       "      <td>forestal</td>\n",
       "      <td>kpi y desempeno</td>\n",
       "      <td>0.05</td>\n",
       "    </tr>\n",
       "    <tr>\n",
       "      <th>47</th>\n",
       "      <td>forestal</td>\n",
       "      <td>modelo relacional y gobierno</td>\n",
       "      <td>0.05</td>\n",
       "    </tr>\n",
       "    <tr>\n",
       "      <th>48</th>\n",
       "      <td>otros</td>\n",
       "      <td>homogenizacion procesos</td>\n",
       "      <td>0.15</td>\n",
       "    </tr>\n",
       "    <tr>\n",
       "      <th>49</th>\n",
       "      <td>otros</td>\n",
       "      <td>especializacion personal</td>\n",
       "      <td>0.05</td>\n",
       "    </tr>\n",
       "    <tr>\n",
       "      <th>50</th>\n",
       "      <td>otros</td>\n",
       "      <td>kpi y desempeno</td>\n",
       "      <td>0.05</td>\n",
       "    </tr>\n",
       "    <tr>\n",
       "      <th>51</th>\n",
       "      <td>otros</td>\n",
       "      <td>modelo relacional y gobierno</td>\n",
       "      <td>0.05</td>\n",
       "    </tr>\n",
       "  </tbody>\n",
       "</table>\n",
       "</div>"
      ],
      "text/plain": [
       "                 proceso                          nombre  eficiencias\n",
       "0   contabilidad general         homogenizacion procesos         0.15\n",
       "1   contabilidad general        especializacion personal         0.05\n",
       "2   contabilidad general                 kpi y desempeno         0.05\n",
       "3   contabilidad general    modelo relacional y gobierno         0.05\n",
       "4        cuentas a pagar         homogenizacion procesos         0.15\n",
       "5        cuentas a pagar        especializacion personal         0.05\n",
       "6        cuentas a pagar                 kpi y desempeno         0.05\n",
       "7        cuentas a pagar    modelo relacional y gobierno         0.05\n",
       "8        cuentas a pagar  recepcion facturas punto unico         0.05\n",
       "9        cuentas a pagar                     escaneo ocr         0.05\n",
       "10      cuentas a cobrar         homogenizacion procesos         0.15\n",
       "11      cuentas a cobrar        especializacion personal         0.05\n",
       "12      cuentas a cobrar                 kpi y desempeno         0.05\n",
       "13      cuentas a cobrar    modelo relacional y gobierno         0.05\n",
       "14      cuentas a cobrar  recepcion facturas punto unico         0.05\n",
       "15      cuentas a cobrar                     escaneo ocr         0.05\n",
       "16             tesoreria         homogenizacion procesos         0.15\n",
       "17             tesoreria        especializacion personal         0.05\n",
       "18             tesoreria                 kpi y desempeno         0.05\n",
       "19             tesoreria    modelo relacional y gobierno         0.05\n",
       "20             impuestos         homogenizacion procesos         0.15\n",
       "21             impuestos        especializacion personal         0.05\n",
       "22             impuestos                 kpi y desempeno         0.05\n",
       "23             impuestos    modelo relacional y gobierno         0.05\n",
       "24           controlling         homogenizacion procesos         0.15\n",
       "25           controlling        especializacion personal         0.05\n",
       "26           controlling                 kpi y desempeno         0.05\n",
       "27           controlling    modelo relacional y gobierno         0.05\n",
       "28       gastos de viaje         homogenizacion procesos         0.15\n",
       "29       gastos de viaje        especializacion personal         0.05\n",
       "30       gastos de viaje                 kpi y desempeno         0.05\n",
       "31       gastos de viaje    modelo relacional y gobierno         0.05\n",
       "32           procurement         homogenizacion procesos         0.15\n",
       "33           procurement        especializacion personal         0.05\n",
       "34           procurement                 kpi y desempeno         0.05\n",
       "35           procurement    modelo relacional y gobierno         0.05\n",
       "36             logistica         homogenizacion procesos         0.15\n",
       "37             logistica        especializacion personal         0.05\n",
       "38             logistica                 kpi y desempeno         0.05\n",
       "39             logistica    modelo relacional y gobierno         0.05\n",
       "40            industrial         homogenizacion procesos         0.15\n",
       "41            industrial        especializacion personal         0.05\n",
       "42            industrial                 kpi y desempeno         0.05\n",
       "43            industrial    modelo relacional y gobierno         0.05\n",
       "44              forestal         homogenizacion procesos         0.15\n",
       "45              forestal        especializacion personal         0.05\n",
       "46              forestal                 kpi y desempeno         0.05\n",
       "47              forestal    modelo relacional y gobierno         0.05\n",
       "48                 otros         homogenizacion procesos         0.15\n",
       "49                 otros        especializacion personal         0.05\n",
       "50                 otros                 kpi y desempeno         0.05\n",
       "51                 otros    modelo relacional y gobierno         0.05"
      ]
     },
     "execution_count": 68,
     "metadata": {},
     "output_type": "execute_result"
    }
   ],
   "source": [
    "eficiencias"
   ]
  },
  {
   "cell_type": "code",
   "execution_count": 88,
   "metadata": {},
   "outputs": [],
   "source": [
    "percentage_csc_contabilidad_general = dedicacion_clean[dedicacion_clean.level1.eq('contabilidad general')]['reported fte'].sum()"
   ]
  },
  {
   "cell_type": "code",
   "execution_count": 89,
   "metadata": {},
   "outputs": [
    {
     "data": {
      "text/plain": [
       "5.6720205479452055"
      ]
     },
     "execution_count": 89,
     "metadata": {},
     "output_type": "execute_result"
    }
   ],
   "source": [
    "percentage_csc_contabilidad_general"
   ]
  },
  {
   "cell_type": "code",
   "execution_count": 94,
   "metadata": {},
   "outputs": [],
   "source": [
    "test = dedicacion_clean[dedicacion_clean.site.eq('samazan')]['reported fte'].sum()"
   ]
  },
  {
   "cell_type": "code",
   "execution_count": null,
   "metadata": {},
   "outputs": [],
   "source": []
  }
 ],
 "metadata": {
  "kernelspec": {
   "display_name": "Python [conda env:ihm1_env]",
   "language": "python",
   "name": "conda-env-ihm1_env-py"
  },
  "language_info": {
   "codemirror_mode": {
    "name": "ipython",
    "version": 3
   },
   "file_extension": ".py",
   "mimetype": "text/x-python",
   "name": "python",
   "nbconvert_exporter": "python",
   "pygments_lexer": "ipython3",
   "version": "3.7.3"
  }
 },
 "nbformat": 4,
 "nbformat_minor": 4
}
