{
 "cells": [
  {
   "cell_type": "code",
   "execution_count": 29,
   "metadata": {},
   "outputs": [],
   "source": [
    "import numpy as np\n",
    "import pandas as pd\n",
    "\n",
    "import tensorflow as tf\n",
    "import tensorflow_hub as hub\n",
    "import tensorflow_datasets as tfds\n",
    "\n",
    "from sklearn.model_selection import train_test_split\n",
    "from sklearn.linear_model import Lasso\n",
    "from sklearn.ensemble import RandomForestRegressor\n",
    "from sklearn.pipeline import Pipeline\n",
    "from sklearn.compose import ColumnTransformer\n",
    "from sklearn.impute import SimpleImputer\n",
    "from sklearn.preprocessing import StandardScaler\n",
    "from sklearn.preprocessing import OneHotEncoder, OrdinalEncoder"
   ]
  },
  {
   "cell_type": "code",
   "execution_count": 6,
   "metadata": {},
   "outputs": [],
   "source": [
    "template = pd.read_excel('/Users/luisdemiguel/Desktop/Ironhack/ih_dataptmad0420_final_project/ih_dataptmad0420_final_project/template/data/raw/garnica.xlsx')"
   ]
  },
  {
   "cell_type": "code",
   "execution_count": 9,
   "metadata": {},
   "outputs": [],
   "source": [
    "import pandas as pd\n",
    "import numpy as np\n",
    "\n",
    "# Make numpy values easier to read.\n",
    "np.set_printoptions(precision=3, suppress=True)\n",
    "\n",
    "import tensorflow as tf\n",
    "from tensorflow.keras import layers\n",
    "from tensorflow.keras.layers.experimental import preprocessing"
   ]
  },
  {
   "cell_type": "code",
   "execution_count": 10,
   "metadata": {},
   "outputs": [],
   "source": [
    "template_features = template.copy()\n",
    "template_labels = template_features.pop('task description')"
   ]
  },
  {
   "cell_type": "code",
   "execution_count": 11,
   "metadata": {
    "scrolled": true
   },
   "outputs": [
    {
     "data": {
      "text/plain": [
       "array([['hqADLiderar, coordinar y apoyar al equipo de Planificación - Ingeniería de producto',\n",
       "        'hq', 'AD', ..., 'Gestión del Proceso',\n",
       "        'Planificación del Personal', 'HQ'],\n",
       "       ['hqAMAlimentar registros info en SAP', 'hq', 'AM', ...,\n",
       "        'Gestión de Maestros', 'Actualizar registros info Artículos',\n",
       "        'HQ'],\n",
       "       ['hqADGestión de la capacidad. Actualizar el plan productivo. Ajuste del plan productivo en función de demanda, calendario, niveles de stocks',\n",
       "        'hq', 'AD', ..., 'Gestión del Proceso',\n",
       "        'Planificación de la Producción', 'HQ'],\n",
       "       ...,\n",
       "       ['hqYConsultas/Gestiones varias con equipo comercial (mail, telefono, …)',\n",
       "        'hq', 'Y', ..., 'Gestión del Proceso',\n",
       "        'Consulta equipo comercial', 'CSC'],\n",
       "       ['hqYGestiones varias con fabricas y resto equipo ( retraso pedidos, dudas técnicas/de mercado,…)',\n",
       "        'hq', 'Y', ..., 'Gestión del Proceso',\n",
       "        'Consulta equipo fábricas', 'CSC'],\n",
       "       ['hqYGestiones con impagos de clientes', 'hq', 'Y', ...,\n",
       "        'Gestión de cobros', 'Gestión de impagados', 'CSC']], dtype=object)"
      ]
     },
     "execution_count": 11,
     "metadata": {},
     "output_type": "execute_result"
    }
   ],
   "source": [
    "template_features = np.array(template_features)\n",
    "template_features"
   ]
  },
  {
   "cell_type": "code",
   "execution_count": 16,
   "metadata": {},
   "outputs": [],
   "source": [
    "template_train, template_test = train_test_split(template)"
   ]
  },
  {
   "cell_type": "code",
   "execution_count": null,
   "metadata": {},
   "outputs": [],
   "source": []
  },
  {
   "cell_type": "code",
   "execution_count": null,
   "metadata": {},
   "outputs": [],
   "source": []
  },
  {
   "cell_type": "code",
   "execution_count": 13,
   "metadata": {
    "scrolled": true
   },
   "outputs": [
    {
     "data": {
      "text/plain": [
       "array([['hqADLiderar, coordinar y apoyar al equipo de Planificación - Ingeniería de producto',\n",
       "        'hq', 'AD', ..., 'Gestión del Proceso',\n",
       "        'Planificación del Personal', 'HQ'],\n",
       "       ['hqAMAlimentar registros info en SAP', 'hq', 'AM', ...,\n",
       "        'Gestión de Maestros', 'Actualizar registros info Artículos',\n",
       "        'HQ'],\n",
       "       ['hqADGestión de la capacidad. Actualizar el plan productivo. Ajuste del plan productivo en función de demanda, calendario, niveles de stocks',\n",
       "        'hq', 'AD', ..., 'Gestión del Proceso',\n",
       "        'Planificación de la Producción', 'HQ'],\n",
       "       ...,\n",
       "       ['hqYConsultas/Gestiones varias con equipo comercial (mail, telefono, …)',\n",
       "        'hq', 'Y', ..., 'Gestión del Proceso',\n",
       "        'Consulta equipo comercial', 'CSC'],\n",
       "       ['hqYGestiones varias con fabricas y resto equipo ( retraso pedidos, dudas técnicas/de mercado,…)',\n",
       "        'hq', 'Y', ..., 'Gestión del Proceso',\n",
       "        'Consulta equipo fábricas', 'CSC'],\n",
       "       ['hqYGestiones con impagos de clientes', 'hq', 'Y', ...,\n",
       "        'Gestión de cobros', 'Gestión de impagados', 'CSC']], dtype=object)"
      ]
     },
     "execution_count": 13,
     "metadata": {},
     "output_type": "execute_result"
    }
   ],
   "source": [
    "template_features"
   ]
  },
  {
   "cell_type": "code",
   "execution_count": 33,
   "metadata": {},
   "outputs": [
    {
     "data": {
      "text/html": [
       "<div>\n",
       "<style scoped>\n",
       "    .dataframe tbody tr th:only-of-type {\n",
       "        vertical-align: middle;\n",
       "    }\n",
       "\n",
       "    .dataframe tbody tr th {\n",
       "        vertical-align: top;\n",
       "    }\n",
       "\n",
       "    .dataframe thead th {\n",
       "        text-align: right;\n",
       "    }\n",
       "</style>\n",
       "<table border=\"1\" class=\"dataframe\">\n",
       "  <thead>\n",
       "    <tr style=\"text-align: right;\">\n",
       "      <th></th>\n",
       "      <th>Clave</th>\n",
       "      <th>site</th>\n",
       "      <th>fte</th>\n",
       "      <th>employee</th>\n",
       "      <th>position</th>\n",
       "      <th>task description</th>\n",
       "      <th>reported fte</th>\n",
       "      <th>total</th>\n",
       "      <th>field</th>\n",
       "      <th>level1</th>\n",
       "      <th>level2</th>\n",
       "      <th>level3</th>\n",
       "      <th>operative model</th>\n",
       "    </tr>\n",
       "  </thead>\n",
       "  <tbody>\n",
       "    <tr>\n",
       "      <th>988</th>\n",
       "      <td>fuenmayorMGControl contable (partidas abiertas...</td>\n",
       "      <td>fuenmayor</td>\n",
       "      <td>MG</td>\n",
       "      <td>Miguel Gomez</td>\n",
       "      <td>Admin - Contabilidad</td>\n",
       "      <td>Control contable (partidas abiertas: proveedor...</td>\n",
       "      <td>0.064498</td>\n",
       "      <td>113.00</td>\n",
       "      <td>finanzas</td>\n",
       "      <td>contabilidad general</td>\n",
       "      <td>Contabilización asientos manuales</td>\n",
       "      <td>Contabilización</td>\n",
       "      <td>CSC</td>\n",
       "    </tr>\n",
       "    <tr>\n",
       "      <th>36</th>\n",
       "      <td>llodioAORealizar planificación semanal de cargas</td>\n",
       "      <td>llodio</td>\n",
       "      <td>AO</td>\n",
       "      <td>Alazne Ojemberrena</td>\n",
       "      <td>Resp. Logística Llodio</td>\n",
       "      <td>Realizar planificación semanal de cargas</td>\n",
       "      <td>0.080000</td>\n",
       "      <td>140.16</td>\n",
       "      <td>supply chain</td>\n",
       "      <td>logistica</td>\n",
       "      <td>Órdenes de Entrega</td>\n",
       "      <td>Gestión de cargas</td>\n",
       "      <td>Plantas</td>\n",
       "    </tr>\n",
       "    <tr>\n",
       "      <th>257</th>\n",
       "      <td>samazanBLArchivo ppto de tesorería mensual</td>\n",
       "      <td>samazan</td>\n",
       "      <td>BL</td>\n",
       "      <td>Begoña Lopez Leon</td>\n",
       "      <td>Responsable Admin</td>\n",
       "      <td>Archivo ppto de tesorería mensual</td>\n",
       "      <td>0.006849</td>\n",
       "      <td>12.00</td>\n",
       "      <td>finanzas</td>\n",
       "      <td>tesoreria</td>\n",
       "      <td>Gestión de caja</td>\n",
       "      <td>Archivo de extractos bancarios</td>\n",
       "      <td>CSC</td>\n",
       "    </tr>\n",
       "    <tr>\n",
       "      <th>698</th>\n",
       "      <td>bañosJMControl facturación para cierre</td>\n",
       "      <td>baños</td>\n",
       "      <td>JM</td>\n",
       "      <td>Judit Muro</td>\n",
       "      <td>Admin - Logistica</td>\n",
       "      <td>Control facturación para cierre</td>\n",
       "      <td>0.059361</td>\n",
       "      <td>104.00</td>\n",
       "      <td>finanzas</td>\n",
       "      <td>contabilidad general</td>\n",
       "      <td>Revisión y ejecución cierre mensual</td>\n",
       "      <td>Cierre mensual</td>\n",
       "      <td>CSC</td>\n",
       "    </tr>\n",
       "    <tr>\n",
       "      <th>1248</th>\n",
       "      <td>hqYRecepción, tramitación, resolución de las r...</td>\n",
       "      <td>hq</td>\n",
       "      <td>Y</td>\n",
       "      <td>Yavor Panchev</td>\n",
       "      <td>Customer Service USA</td>\n",
       "      <td>Recepción, tramitación, resolución de las recl...</td>\n",
       "      <td>0.050000</td>\n",
       "      <td>87.60</td>\n",
       "      <td>supply chain</td>\n",
       "      <td>customer service</td>\n",
       "      <td>Servicio al Cliente/ Post-Venta</td>\n",
       "      <td>Tramitación de incidencias</td>\n",
       "      <td>CSC</td>\n",
       "    </tr>\n",
       "    <tr>\n",
       "      <th>...</th>\n",
       "      <td>...</td>\n",
       "      <td>...</td>\n",
       "      <td>...</td>\n",
       "      <td>...</td>\n",
       "      <td>...</td>\n",
       "      <td>...</td>\n",
       "      <td>...</td>\n",
       "      <td>...</td>\n",
       "      <td>...</td>\n",
       "      <td>...</td>\n",
       "      <td>...</td>\n",
       "      <td>...</td>\n",
       "      <td>...</td>\n",
       "    </tr>\n",
       "    <tr>\n",
       "      <th>909</th>\n",
       "      <td>bañosMAProvisiones pago madera</td>\n",
       "      <td>baños</td>\n",
       "      <td>MA</td>\n",
       "      <td>Marta Alvarez</td>\n",
       "      <td>Admin - Forestal</td>\n",
       "      <td>Provisiones pago madera</td>\n",
       "      <td>0.023687</td>\n",
       "      <td>41.50</td>\n",
       "      <td>finanzas</td>\n",
       "      <td>cuentas a pagar</td>\n",
       "      <td>Pagos</td>\n",
       "      <td>Pagos</td>\n",
       "      <td>CSC</td>\n",
       "    </tr>\n",
       "    <tr>\n",
       "      <th>332</th>\n",
       "      <td>bañosASRecepción mercancías SAP (Baños II, Pol...</td>\n",
       "      <td>baños</td>\n",
       "      <td>AS</td>\n",
       "      <td>Ana Salas</td>\n",
       "      <td>Admin - Administrativa</td>\n",
       "      <td>Recepción mercancías SAP (Baños II, Polígono C...</td>\n",
       "      <td>0.063356</td>\n",
       "      <td>111.00</td>\n",
       "      <td>supply chain</td>\n",
       "      <td>procurement</td>\n",
       "      <td>Recepción y Aceptación de Pedidos</td>\n",
       "      <td>Comprobación registro correcto EM</td>\n",
       "      <td>CSC</td>\n",
       "    </tr>\n",
       "    <tr>\n",
       "      <th>1026</th>\n",
       "      <td>hqENCuadrar balances con plantas</td>\n",
       "      <td>hq</td>\n",
       "      <td>EN</td>\n",
       "      <td>Nájera Galarreta, Elena</td>\n",
       "      <td>Administrativa</td>\n",
       "      <td>Cuadrar balances con plantas</td>\n",
       "      <td>0.010274</td>\n",
       "      <td>18.00</td>\n",
       "      <td>finanzas</td>\n",
       "      <td>contabilidad general</td>\n",
       "      <td>Revisión y ejecución cierre mensual</td>\n",
       "      <td>Cierre mensual</td>\n",
       "      <td>CSC</td>\n",
       "    </tr>\n",
       "    <tr>\n",
       "      <th>31</th>\n",
       "      <td>llodioAOElaboración de facturas y envío a clie...</td>\n",
       "      <td>llodio</td>\n",
       "      <td>AO</td>\n",
       "      <td>Alazne Ojemberrena</td>\n",
       "      <td>Admin Customer</td>\n",
       "      <td>Elaboración de facturas y envío a clientes</td>\n",
       "      <td>0.030000</td>\n",
       "      <td>52.56</td>\n",
       "      <td>supply chain</td>\n",
       "      <td>customer service</td>\n",
       "      <td>Gestión de Facturas</td>\n",
       "      <td>Facturación</td>\n",
       "      <td>CSC</td>\n",
       "    </tr>\n",
       "    <tr>\n",
       "      <th>393</th>\n",
       "      <td>hqEHCertificado origen/ATR</td>\n",
       "      <td>hq</td>\n",
       "      <td>EH</td>\n",
       "      <td>Elvira Hernandez</td>\n",
       "      <td>Logística HQ</td>\n",
       "      <td>Certificado origen/ATR</td>\n",
       "      <td>0.005000</td>\n",
       "      <td>8.76</td>\n",
       "      <td>supply chain</td>\n",
       "      <td>logistica</td>\n",
       "      <td>Gestión del Proceso</td>\n",
       "      <td>Tareas Admin. Varias</td>\n",
       "      <td>CSC</td>\n",
       "    </tr>\n",
       "  </tbody>\n",
       "</table>\n",
       "<p>940 rows × 13 columns</p>\n",
       "</div>"
      ],
      "text/plain": [
       "                                                  Clave       site fte  \\\n",
       "988   fuenmayorMGControl contable (partidas abiertas...  fuenmayor  MG   \n",
       "36     llodioAORealizar planificación semanal de cargas     llodio  AO   \n",
       "257          samazanBLArchivo ppto de tesorería mensual    samazan  BL   \n",
       "698              bañosJMControl facturación para cierre      baños  JM   \n",
       "1248  hqYRecepción, tramitación, resolución de las r...         hq   Y   \n",
       "...                                                 ...        ...  ..   \n",
       "909                      bañosMAProvisiones pago madera      baños  MA   \n",
       "332   bañosASRecepción mercancías SAP (Baños II, Pol...      baños  AS   \n",
       "1026                   hqENCuadrar balances con plantas         hq  EN   \n",
       "31    llodioAOElaboración de facturas y envío a clie...     llodio  AO   \n",
       "393                          hqEHCertificado origen/ATR         hq  EH   \n",
       "\n",
       "                     employee                position  \\\n",
       "988              Miguel Gomez    Admin - Contabilidad   \n",
       "36         Alazne Ojemberrena  Resp. Logística Llodio   \n",
       "257         Begoña Lopez Leon       Responsable Admin   \n",
       "698                Judit Muro       Admin - Logistica   \n",
       "1248            Yavor Panchev    Customer Service USA   \n",
       "...                       ...                     ...   \n",
       "909             Marta Alvarez        Admin - Forestal   \n",
       "332                 Ana Salas  Admin - Administrativa   \n",
       "1026  Nájera Galarreta, Elena          Administrativa   \n",
       "31         Alazne Ojemberrena          Admin Customer   \n",
       "393          Elvira Hernandez            Logística HQ   \n",
       "\n",
       "                                       task description  reported fte   total  \\\n",
       "988   Control contable (partidas abiertas: proveedor...      0.064498  113.00   \n",
       "36             Realizar planificación semanal de cargas      0.080000  140.16   \n",
       "257                   Archivo ppto de tesorería mensual      0.006849   12.00   \n",
       "698                     Control facturación para cierre      0.059361  104.00   \n",
       "1248  Recepción, tramitación, resolución de las recl...      0.050000   87.60   \n",
       "...                                                 ...           ...     ...   \n",
       "909                             Provisiones pago madera      0.023687   41.50   \n",
       "332   Recepción mercancías SAP (Baños II, Polígono C...      0.063356  111.00   \n",
       "1026                       Cuadrar balances con plantas      0.010274   18.00   \n",
       "31           Elaboración de facturas y envío a clientes      0.030000   52.56   \n",
       "393                              Certificado origen/ATR      0.005000    8.76   \n",
       "\n",
       "             field                level1                               level2  \\\n",
       "988       finanzas  contabilidad general    Contabilización asientos manuales   \n",
       "36    supply chain             logistica                   Órdenes de Entrega   \n",
       "257       finanzas             tesoreria                      Gestión de caja   \n",
       "698       finanzas  contabilidad general  Revisión y ejecución cierre mensual   \n",
       "1248  supply chain      customer service      Servicio al Cliente/ Post-Venta   \n",
       "...            ...                   ...                                  ...   \n",
       "909       finanzas       cuentas a pagar                                Pagos   \n",
       "332   supply chain           procurement    Recepción y Aceptación de Pedidos   \n",
       "1026      finanzas  contabilidad general  Revisión y ejecución cierre mensual   \n",
       "31    supply chain      customer service                  Gestión de Facturas   \n",
       "393   supply chain             logistica                  Gestión del Proceso   \n",
       "\n",
       "                                 level3 operative model  \n",
       "988                     Contabilización             CSC  \n",
       "36                    Gestión de cargas         Plantas  \n",
       "257      Archivo de extractos bancarios             CSC  \n",
       "698                      Cierre mensual             CSC  \n",
       "1248         Tramitación de incidencias             CSC  \n",
       "...                                 ...             ...  \n",
       "909                               Pagos             CSC  \n",
       "332   Comprobación registro correcto EM             CSC  \n",
       "1026                     Cierre mensual             CSC  \n",
       "31                          Facturación             CSC  \n",
       "393                Tareas Admin. Varias             CSC  \n",
       "\n",
       "[940 rows x 13 columns]"
      ]
     },
     "execution_count": 33,
     "metadata": {},
     "output_type": "execute_result"
    }
   ],
   "source": [
    "template_train"
   ]
  },
  {
   "cell_type": "code",
   "execution_count": 34,
   "metadata": {
    "scrolled": true
   },
   "outputs": [],
   "source": [
    "template_activities_train=template_train['task description'].tolist()"
   ]
  },
  {
   "cell_type": "code",
   "execution_count": 35,
   "metadata": {},
   "outputs": [],
   "source": [
    "template_level1_train = template_train['level1'].tolist()"
   ]
  },
  {
   "cell_type": "code",
   "execution_count": 36,
   "metadata": {},
   "outputs": [],
   "source": [
    "template_level2_train = template_train['level2'].tolist()"
   ]
  },
  {
   "cell_type": "code",
   "execution_count": 37,
   "metadata": {},
   "outputs": [],
   "source": [
    "template_level3_train = template_train['level3'].tolist()"
   ]
  },
  {
   "cell_type": "code",
   "execution_count": 38,
   "metadata": {},
   "outputs": [],
   "source": [
    "template_activities_validation=template_test['task description'].tolist()"
   ]
  },
  {
   "cell_type": "code",
   "execution_count": 39,
   "metadata": {},
   "outputs": [],
   "source": [
    "template_level1_validation=template_test['level1'].tolist()"
   ]
  },
  {
   "cell_type": "code",
   "execution_count": 40,
   "metadata": {},
   "outputs": [],
   "source": [
    "template_level2_validation=template_test['level2'].tolist()"
   ]
  },
  {
   "cell_type": "code",
   "execution_count": 41,
   "metadata": {},
   "outputs": [],
   "source": [
    "template_level3_validation=template_test['level3'].tolist()"
   ]
  },
  {
   "cell_type": "code",
   "execution_count": 26,
   "metadata": {},
   "outputs": [
    {
     "name": "stdout",
     "output_type": "stream",
     "text": [
      "(940, 13)\n",
      "(314, 13)\n"
     ]
    }
   ],
   "source": [
    "\n",
    "print(template_train.shape)\n",
    "print(template_test.shape)"
   ]
  },
  {
   "cell_type": "code",
   "execution_count": 31,
   "metadata": {},
   "outputs": [],
   "source": [
    "model = tf.keras.Sequential()"
   ]
  },
  {
   "cell_type": "code",
   "execution_count": 44,
   "metadata": {},
   "outputs": [],
   "source": [
    "model.compile(optimizer='adam',\n",
    "              loss=tf.keras.losses.BinaryCrossentropy(from_logits=True),\n",
    "              metrics=['accuracy'])"
   ]
  },
  {
   "cell_type": "code",
   "execution_count": 45,
   "metadata": {},
   "outputs": [
    {
     "name": "stdout",
     "output_type": "stream",
     "text": [
      "Epoch 1/10\n"
     ]
    },
    {
     "ename": "TypeError",
     "evalue": "in user code:\n\n    /Users/luisdemiguel/miniconda3/envs/ihm1_env/lib/python3.7/site-packages/tensorflow/python/keras/engine/training.py:806 train_function  *\n        return step_function(self, iterator)\n    /Users/luisdemiguel/miniconda3/envs/ihm1_env/lib/python3.7/site-packages/tensorflow/python/keras/engine/training.py:796 step_function  **\n        outputs = model.distribute_strategy.run(run_step, args=(data,))\n    /Users/luisdemiguel/miniconda3/envs/ihm1_env/lib/python3.7/site-packages/tensorflow/python/distribute/distribute_lib.py:1211 run\n        return self._extended.call_for_each_replica(fn, args=args, kwargs=kwargs)\n    /Users/luisdemiguel/miniconda3/envs/ihm1_env/lib/python3.7/site-packages/tensorflow/python/distribute/distribute_lib.py:2585 call_for_each_replica\n        return self._call_for_each_replica(fn, args, kwargs)\n    /Users/luisdemiguel/miniconda3/envs/ihm1_env/lib/python3.7/site-packages/tensorflow/python/distribute/distribute_lib.py:2945 _call_for_each_replica\n        return fn(*args, **kwargs)\n    /Users/luisdemiguel/miniconda3/envs/ihm1_env/lib/python3.7/site-packages/tensorflow/python/keras/engine/training.py:789 run_step  **\n        outputs = model.train_step(data)\n    /Users/luisdemiguel/miniconda3/envs/ihm1_env/lib/python3.7/site-packages/tensorflow/python/keras/engine/training.py:749 train_step\n        y, y_pred, sample_weight, regularization_losses=self.losses)\n    /Users/luisdemiguel/miniconda3/envs/ihm1_env/lib/python3.7/site-packages/tensorflow/python/keras/engine/compile_utils.py:204 __call__\n        loss_value = loss_obj(y_t, y_p, sample_weight=sw)\n    /Users/luisdemiguel/miniconda3/envs/ihm1_env/lib/python3.7/site-packages/tensorflow/python/keras/losses.py:149 __call__\n        losses = ag_call(y_true, y_pred)\n    /Users/luisdemiguel/miniconda3/envs/ihm1_env/lib/python3.7/site-packages/tensorflow/python/keras/losses.py:253 call  **\n        return ag_fn(y_true, y_pred, **self._fn_kwargs)\n    /Users/luisdemiguel/miniconda3/envs/ihm1_env/lib/python3.7/site-packages/tensorflow/python/util/dispatch.py:201 wrapper\n        return target(*args, **kwargs)\n    /Users/luisdemiguel/miniconda3/envs/ihm1_env/lib/python3.7/site-packages/tensorflow/python/keras/losses.py:1605 binary_crossentropy\n        K.binary_crossentropy(y_true, y_pred, from_logits=from_logits), axis=-1)\n    /Users/luisdemiguel/miniconda3/envs/ihm1_env/lib/python3.7/site-packages/tensorflow/python/util/dispatch.py:201 wrapper\n        return target(*args, **kwargs)\n    /Users/luisdemiguel/miniconda3/envs/ihm1_env/lib/python3.7/site-packages/tensorflow/python/keras/backend.py:4814 binary_crossentropy\n        return nn.sigmoid_cross_entropy_with_logits(labels=target, logits=output)\n    /Users/luisdemiguel/miniconda3/envs/ihm1_env/lib/python3.7/site-packages/tensorflow/python/util/dispatch.py:201 wrapper\n        return target(*args, **kwargs)\n    /Users/luisdemiguel/miniconda3/envs/ihm1_env/lib/python3.7/site-packages/tensorflow/python/ops/nn_impl.py:185 sigmoid_cross_entropy_with_logits\n        cond = (logits >= zeros)\n    /Users/luisdemiguel/miniconda3/envs/ihm1_env/lib/python3.7/site-packages/tensorflow/python/ops/gen_math_ops.py:4076 greater_equal\n        \"GreaterEqual\", x=x, y=y, name=name)\n    /Users/luisdemiguel/miniconda3/envs/ihm1_env/lib/python3.7/site-packages/tensorflow/python/framework/op_def_library.py:578 _apply_op_helper\n        param_name=input_name)\n    /Users/luisdemiguel/miniconda3/envs/ihm1_env/lib/python3.7/site-packages/tensorflow/python/framework/op_def_library.py:61 _SatisfiesTypeConstraint\n        \", \".join(dtypes.as_dtype(x).name for x in allowed_list)))\n\n    TypeError: Value passed to parameter 'x' has DataType string not in list of allowed values: float32, float64, int32, uint8, int16, int8, int64, bfloat16, uint16, float16, uint32, uint64\n",
     "output_type": "error",
     "traceback": [
      "\u001b[0;31m---------------------------------------------------------------------------\u001b[0m",
      "\u001b[0;31mTypeError\u001b[0m                                 Traceback (most recent call last)",
      "\u001b[0;32m<ipython-input-45-e5f58ed7e338>\u001b[0m in \u001b[0;36m<module>\u001b[0;34m\u001b[0m\n\u001b[1;32m      4\u001b[0m                     validation_data=(template_activities_validation, \n\u001b[1;32m      5\u001b[0m                                      template_level1_validation),\n\u001b[0;32m----> 6\u001b[0;31m                     verbose=1) # tags deben ser numeros\n\u001b[0m\u001b[1;32m      7\u001b[0m \u001b[0;34m\u001b[0m\u001b[0m\n\u001b[1;32m      8\u001b[0m \u001b[0;34m\u001b[0m\u001b[0m\n",
      "\u001b[0;32m~/miniconda3/envs/ihm1_env/lib/python3.7/site-packages/tensorflow/python/keras/engine/training.py\u001b[0m in \u001b[0;36m_method_wrapper\u001b[0;34m(self, *args, **kwargs)\u001b[0m\n\u001b[1;32m    106\u001b[0m   \u001b[0;32mdef\u001b[0m \u001b[0m_method_wrapper\u001b[0m\u001b[0;34m(\u001b[0m\u001b[0mself\u001b[0m\u001b[0;34m,\u001b[0m \u001b[0;34m*\u001b[0m\u001b[0margs\u001b[0m\u001b[0;34m,\u001b[0m \u001b[0;34m**\u001b[0m\u001b[0mkwargs\u001b[0m\u001b[0;34m)\u001b[0m\u001b[0;34m:\u001b[0m\u001b[0;34m\u001b[0m\u001b[0;34m\u001b[0m\u001b[0m\n\u001b[1;32m    107\u001b[0m     \u001b[0;32mif\u001b[0m \u001b[0;32mnot\u001b[0m \u001b[0mself\u001b[0m\u001b[0;34m.\u001b[0m\u001b[0m_in_multi_worker_mode\u001b[0m\u001b[0;34m(\u001b[0m\u001b[0;34m)\u001b[0m\u001b[0;34m:\u001b[0m  \u001b[0;31m# pylint: disable=protected-access\u001b[0m\u001b[0;34m\u001b[0m\u001b[0;34m\u001b[0m\u001b[0m\n\u001b[0;32m--> 108\u001b[0;31m       \u001b[0;32mreturn\u001b[0m \u001b[0mmethod\u001b[0m\u001b[0;34m(\u001b[0m\u001b[0mself\u001b[0m\u001b[0;34m,\u001b[0m \u001b[0;34m*\u001b[0m\u001b[0margs\u001b[0m\u001b[0;34m,\u001b[0m \u001b[0;34m**\u001b[0m\u001b[0mkwargs\u001b[0m\u001b[0;34m)\u001b[0m\u001b[0;34m\u001b[0m\u001b[0;34m\u001b[0m\u001b[0m\n\u001b[0m\u001b[1;32m    109\u001b[0m \u001b[0;34m\u001b[0m\u001b[0m\n\u001b[1;32m    110\u001b[0m     \u001b[0;31m# Running inside `run_distribute_coordinator` already.\u001b[0m\u001b[0;34m\u001b[0m\u001b[0;34m\u001b[0m\u001b[0;34m\u001b[0m\u001b[0m\n",
      "\u001b[0;32m~/miniconda3/envs/ihm1_env/lib/python3.7/site-packages/tensorflow/python/keras/engine/training.py\u001b[0m in \u001b[0;36mfit\u001b[0;34m(self, x, y, batch_size, epochs, verbose, callbacks, validation_split, validation_data, shuffle, class_weight, sample_weight, initial_epoch, steps_per_epoch, validation_steps, validation_batch_size, validation_freq, max_queue_size, workers, use_multiprocessing)\u001b[0m\n\u001b[1;32m   1096\u001b[0m                 batch_size=batch_size):\n\u001b[1;32m   1097\u001b[0m               \u001b[0mcallbacks\u001b[0m\u001b[0;34m.\u001b[0m\u001b[0mon_train_batch_begin\u001b[0m\u001b[0;34m(\u001b[0m\u001b[0mstep\u001b[0m\u001b[0;34m)\u001b[0m\u001b[0;34m\u001b[0m\u001b[0;34m\u001b[0m\u001b[0m\n\u001b[0;32m-> 1098\u001b[0;31m               \u001b[0mtmp_logs\u001b[0m \u001b[0;34m=\u001b[0m \u001b[0mtrain_function\u001b[0m\u001b[0;34m(\u001b[0m\u001b[0miterator\u001b[0m\u001b[0;34m)\u001b[0m\u001b[0;34m\u001b[0m\u001b[0;34m\u001b[0m\u001b[0m\n\u001b[0m\u001b[1;32m   1099\u001b[0m               \u001b[0;32mif\u001b[0m \u001b[0mdata_handler\u001b[0m\u001b[0;34m.\u001b[0m\u001b[0mshould_sync\u001b[0m\u001b[0;34m:\u001b[0m\u001b[0;34m\u001b[0m\u001b[0;34m\u001b[0m\u001b[0m\n\u001b[1;32m   1100\u001b[0m                 \u001b[0mcontext\u001b[0m\u001b[0;34m.\u001b[0m\u001b[0masync_wait\u001b[0m\u001b[0;34m(\u001b[0m\u001b[0;34m)\u001b[0m\u001b[0;34m\u001b[0m\u001b[0;34m\u001b[0m\u001b[0m\n",
      "\u001b[0;32m~/miniconda3/envs/ihm1_env/lib/python3.7/site-packages/tensorflow/python/eager/def_function.py\u001b[0m in \u001b[0;36m__call__\u001b[0;34m(self, *args, **kwds)\u001b[0m\n\u001b[1;32m    778\u001b[0m       \u001b[0;32melse\u001b[0m\u001b[0;34m:\u001b[0m\u001b[0;34m\u001b[0m\u001b[0;34m\u001b[0m\u001b[0m\n\u001b[1;32m    779\u001b[0m         \u001b[0mcompiler\u001b[0m \u001b[0;34m=\u001b[0m \u001b[0;34m\"nonXla\"\u001b[0m\u001b[0;34m\u001b[0m\u001b[0;34m\u001b[0m\u001b[0m\n\u001b[0;32m--> 780\u001b[0;31m         \u001b[0mresult\u001b[0m \u001b[0;34m=\u001b[0m \u001b[0mself\u001b[0m\u001b[0;34m.\u001b[0m\u001b[0m_call\u001b[0m\u001b[0;34m(\u001b[0m\u001b[0;34m*\u001b[0m\u001b[0margs\u001b[0m\u001b[0;34m,\u001b[0m \u001b[0;34m**\u001b[0m\u001b[0mkwds\u001b[0m\u001b[0;34m)\u001b[0m\u001b[0;34m\u001b[0m\u001b[0;34m\u001b[0m\u001b[0m\n\u001b[0m\u001b[1;32m    781\u001b[0m \u001b[0;34m\u001b[0m\u001b[0m\n\u001b[1;32m    782\u001b[0m       \u001b[0mnew_tracing_count\u001b[0m \u001b[0;34m=\u001b[0m \u001b[0mself\u001b[0m\u001b[0;34m.\u001b[0m\u001b[0m_get_tracing_count\u001b[0m\u001b[0;34m(\u001b[0m\u001b[0;34m)\u001b[0m\u001b[0;34m\u001b[0m\u001b[0;34m\u001b[0m\u001b[0m\n",
      "\u001b[0;32m~/miniconda3/envs/ihm1_env/lib/python3.7/site-packages/tensorflow/python/eager/def_function.py\u001b[0m in \u001b[0;36m_call\u001b[0;34m(self, *args, **kwds)\u001b[0m\n\u001b[1;32m    821\u001b[0m       \u001b[0;31m# This is the first call of __call__, so we have to initialize.\u001b[0m\u001b[0;34m\u001b[0m\u001b[0;34m\u001b[0m\u001b[0;34m\u001b[0m\u001b[0m\n\u001b[1;32m    822\u001b[0m       \u001b[0minitializers\u001b[0m \u001b[0;34m=\u001b[0m \u001b[0;34m[\u001b[0m\u001b[0;34m]\u001b[0m\u001b[0;34m\u001b[0m\u001b[0;34m\u001b[0m\u001b[0m\n\u001b[0;32m--> 823\u001b[0;31m       \u001b[0mself\u001b[0m\u001b[0;34m.\u001b[0m\u001b[0m_initialize\u001b[0m\u001b[0;34m(\u001b[0m\u001b[0margs\u001b[0m\u001b[0;34m,\u001b[0m \u001b[0mkwds\u001b[0m\u001b[0;34m,\u001b[0m \u001b[0madd_initializers_to\u001b[0m\u001b[0;34m=\u001b[0m\u001b[0minitializers\u001b[0m\u001b[0;34m)\u001b[0m\u001b[0;34m\u001b[0m\u001b[0;34m\u001b[0m\u001b[0m\n\u001b[0m\u001b[1;32m    824\u001b[0m     \u001b[0;32mfinally\u001b[0m\u001b[0;34m:\u001b[0m\u001b[0;34m\u001b[0m\u001b[0;34m\u001b[0m\u001b[0m\n\u001b[1;32m    825\u001b[0m       \u001b[0;31m# At this point we know that the initialization is complete (or less\u001b[0m\u001b[0;34m\u001b[0m\u001b[0;34m\u001b[0m\u001b[0;34m\u001b[0m\u001b[0m\n",
      "\u001b[0;32m~/miniconda3/envs/ihm1_env/lib/python3.7/site-packages/tensorflow/python/eager/def_function.py\u001b[0m in \u001b[0;36m_initialize\u001b[0;34m(self, args, kwds, add_initializers_to)\u001b[0m\n\u001b[1;32m    695\u001b[0m     self._concrete_stateful_fn = (\n\u001b[1;32m    696\u001b[0m         self._stateful_fn._get_concrete_function_internal_garbage_collected(  # pylint: disable=protected-access\n\u001b[0;32m--> 697\u001b[0;31m             *args, **kwds))\n\u001b[0m\u001b[1;32m    698\u001b[0m \u001b[0;34m\u001b[0m\u001b[0m\n\u001b[1;32m    699\u001b[0m     \u001b[0;32mdef\u001b[0m \u001b[0minvalid_creator_scope\u001b[0m\u001b[0;34m(\u001b[0m\u001b[0;34m*\u001b[0m\u001b[0munused_args\u001b[0m\u001b[0;34m,\u001b[0m \u001b[0;34m**\u001b[0m\u001b[0munused_kwds\u001b[0m\u001b[0;34m)\u001b[0m\u001b[0;34m:\u001b[0m\u001b[0;34m\u001b[0m\u001b[0;34m\u001b[0m\u001b[0m\n",
      "\u001b[0;32m~/miniconda3/envs/ihm1_env/lib/python3.7/site-packages/tensorflow/python/eager/function.py\u001b[0m in \u001b[0;36m_get_concrete_function_internal_garbage_collected\u001b[0;34m(self, *args, **kwargs)\u001b[0m\n\u001b[1;32m   2853\u001b[0m       \u001b[0margs\u001b[0m\u001b[0;34m,\u001b[0m \u001b[0mkwargs\u001b[0m \u001b[0;34m=\u001b[0m \u001b[0;32mNone\u001b[0m\u001b[0;34m,\u001b[0m \u001b[0;32mNone\u001b[0m\u001b[0;34m\u001b[0m\u001b[0;34m\u001b[0m\u001b[0m\n\u001b[1;32m   2854\u001b[0m     \u001b[0;32mwith\u001b[0m \u001b[0mself\u001b[0m\u001b[0;34m.\u001b[0m\u001b[0m_lock\u001b[0m\u001b[0;34m:\u001b[0m\u001b[0;34m\u001b[0m\u001b[0;34m\u001b[0m\u001b[0m\n\u001b[0;32m-> 2855\u001b[0;31m       \u001b[0mgraph_function\u001b[0m\u001b[0;34m,\u001b[0m \u001b[0m_\u001b[0m\u001b[0;34m,\u001b[0m \u001b[0m_\u001b[0m \u001b[0;34m=\u001b[0m \u001b[0mself\u001b[0m\u001b[0;34m.\u001b[0m\u001b[0m_maybe_define_function\u001b[0m\u001b[0;34m(\u001b[0m\u001b[0margs\u001b[0m\u001b[0;34m,\u001b[0m \u001b[0mkwargs\u001b[0m\u001b[0;34m)\u001b[0m\u001b[0;34m\u001b[0m\u001b[0;34m\u001b[0m\u001b[0m\n\u001b[0m\u001b[1;32m   2856\u001b[0m     \u001b[0;32mreturn\u001b[0m \u001b[0mgraph_function\u001b[0m\u001b[0;34m\u001b[0m\u001b[0;34m\u001b[0m\u001b[0m\n\u001b[1;32m   2857\u001b[0m \u001b[0;34m\u001b[0m\u001b[0m\n",
      "\u001b[0;32m~/miniconda3/envs/ihm1_env/lib/python3.7/site-packages/tensorflow/python/eager/function.py\u001b[0m in \u001b[0;36m_maybe_define_function\u001b[0;34m(self, args, kwargs)\u001b[0m\n\u001b[1;32m   3211\u001b[0m \u001b[0;34m\u001b[0m\u001b[0m\n\u001b[1;32m   3212\u001b[0m       \u001b[0mself\u001b[0m\u001b[0;34m.\u001b[0m\u001b[0m_function_cache\u001b[0m\u001b[0;34m.\u001b[0m\u001b[0mmissed\u001b[0m\u001b[0;34m.\u001b[0m\u001b[0madd\u001b[0m\u001b[0;34m(\u001b[0m\u001b[0mcall_context_key\u001b[0m\u001b[0;34m)\u001b[0m\u001b[0;34m\u001b[0m\u001b[0;34m\u001b[0m\u001b[0m\n\u001b[0;32m-> 3213\u001b[0;31m       \u001b[0mgraph_function\u001b[0m \u001b[0;34m=\u001b[0m \u001b[0mself\u001b[0m\u001b[0;34m.\u001b[0m\u001b[0m_create_graph_function\u001b[0m\u001b[0;34m(\u001b[0m\u001b[0margs\u001b[0m\u001b[0;34m,\u001b[0m \u001b[0mkwargs\u001b[0m\u001b[0;34m)\u001b[0m\u001b[0;34m\u001b[0m\u001b[0;34m\u001b[0m\u001b[0m\n\u001b[0m\u001b[1;32m   3214\u001b[0m       \u001b[0mself\u001b[0m\u001b[0;34m.\u001b[0m\u001b[0m_function_cache\u001b[0m\u001b[0;34m.\u001b[0m\u001b[0mprimary\u001b[0m\u001b[0;34m[\u001b[0m\u001b[0mcache_key\u001b[0m\u001b[0;34m]\u001b[0m \u001b[0;34m=\u001b[0m \u001b[0mgraph_function\u001b[0m\u001b[0;34m\u001b[0m\u001b[0;34m\u001b[0m\u001b[0m\n\u001b[1;32m   3215\u001b[0m       \u001b[0;32mreturn\u001b[0m \u001b[0mgraph_function\u001b[0m\u001b[0;34m,\u001b[0m \u001b[0margs\u001b[0m\u001b[0;34m,\u001b[0m \u001b[0mkwargs\u001b[0m\u001b[0;34m\u001b[0m\u001b[0;34m\u001b[0m\u001b[0m\n",
      "\u001b[0;32m~/miniconda3/envs/ihm1_env/lib/python3.7/site-packages/tensorflow/python/eager/function.py\u001b[0m in \u001b[0;36m_create_graph_function\u001b[0;34m(self, args, kwargs, override_flat_arg_shapes)\u001b[0m\n\u001b[1;32m   3073\u001b[0m             \u001b[0marg_names\u001b[0m\u001b[0;34m=\u001b[0m\u001b[0marg_names\u001b[0m\u001b[0;34m,\u001b[0m\u001b[0;34m\u001b[0m\u001b[0;34m\u001b[0m\u001b[0m\n\u001b[1;32m   3074\u001b[0m             \u001b[0moverride_flat_arg_shapes\u001b[0m\u001b[0;34m=\u001b[0m\u001b[0moverride_flat_arg_shapes\u001b[0m\u001b[0;34m,\u001b[0m\u001b[0;34m\u001b[0m\u001b[0;34m\u001b[0m\u001b[0m\n\u001b[0;32m-> 3075\u001b[0;31m             capture_by_value=self._capture_by_value),\n\u001b[0m\u001b[1;32m   3076\u001b[0m         \u001b[0mself\u001b[0m\u001b[0;34m.\u001b[0m\u001b[0m_function_attributes\u001b[0m\u001b[0;34m,\u001b[0m\u001b[0;34m\u001b[0m\u001b[0;34m\u001b[0m\u001b[0m\n\u001b[1;32m   3077\u001b[0m         \u001b[0mfunction_spec\u001b[0m\u001b[0;34m=\u001b[0m\u001b[0mself\u001b[0m\u001b[0;34m.\u001b[0m\u001b[0mfunction_spec\u001b[0m\u001b[0;34m,\u001b[0m\u001b[0;34m\u001b[0m\u001b[0;34m\u001b[0m\u001b[0m\n",
      "\u001b[0;32m~/miniconda3/envs/ihm1_env/lib/python3.7/site-packages/tensorflow/python/framework/func_graph.py\u001b[0m in \u001b[0;36mfunc_graph_from_py_func\u001b[0;34m(name, python_func, args, kwargs, signature, func_graph, autograph, autograph_options, add_control_dependencies, arg_names, op_return_value, collections, capture_by_value, override_flat_arg_shapes)\u001b[0m\n\u001b[1;32m    984\u001b[0m         \u001b[0m_\u001b[0m\u001b[0;34m,\u001b[0m \u001b[0moriginal_func\u001b[0m \u001b[0;34m=\u001b[0m \u001b[0mtf_decorator\u001b[0m\u001b[0;34m.\u001b[0m\u001b[0munwrap\u001b[0m\u001b[0;34m(\u001b[0m\u001b[0mpython_func\u001b[0m\u001b[0;34m)\u001b[0m\u001b[0;34m\u001b[0m\u001b[0;34m\u001b[0m\u001b[0m\n\u001b[1;32m    985\u001b[0m \u001b[0;34m\u001b[0m\u001b[0m\n\u001b[0;32m--> 986\u001b[0;31m       \u001b[0mfunc_outputs\u001b[0m \u001b[0;34m=\u001b[0m \u001b[0mpython_func\u001b[0m\u001b[0;34m(\u001b[0m\u001b[0;34m*\u001b[0m\u001b[0mfunc_args\u001b[0m\u001b[0;34m,\u001b[0m \u001b[0;34m**\u001b[0m\u001b[0mfunc_kwargs\u001b[0m\u001b[0;34m)\u001b[0m\u001b[0;34m\u001b[0m\u001b[0;34m\u001b[0m\u001b[0m\n\u001b[0m\u001b[1;32m    987\u001b[0m \u001b[0;34m\u001b[0m\u001b[0m\n\u001b[1;32m    988\u001b[0m       \u001b[0;31m# invariant: `func_outputs` contains only Tensors, CompositeTensors,\u001b[0m\u001b[0;34m\u001b[0m\u001b[0;34m\u001b[0m\u001b[0;34m\u001b[0m\u001b[0m\n",
      "\u001b[0;32m~/miniconda3/envs/ihm1_env/lib/python3.7/site-packages/tensorflow/python/eager/def_function.py\u001b[0m in \u001b[0;36mwrapped_fn\u001b[0;34m(*args, **kwds)\u001b[0m\n\u001b[1;32m    598\u001b[0m         \u001b[0;31m# __wrapped__ allows AutoGraph to swap in a converted function. We give\u001b[0m\u001b[0;34m\u001b[0m\u001b[0;34m\u001b[0m\u001b[0;34m\u001b[0m\u001b[0m\n\u001b[1;32m    599\u001b[0m         \u001b[0;31m# the function a weak reference to itself to avoid a reference cycle.\u001b[0m\u001b[0;34m\u001b[0m\u001b[0;34m\u001b[0m\u001b[0;34m\u001b[0m\u001b[0m\n\u001b[0;32m--> 600\u001b[0;31m         \u001b[0;32mreturn\u001b[0m \u001b[0mweak_wrapped_fn\u001b[0m\u001b[0;34m(\u001b[0m\u001b[0;34m)\u001b[0m\u001b[0;34m.\u001b[0m\u001b[0m__wrapped__\u001b[0m\u001b[0;34m(\u001b[0m\u001b[0;34m*\u001b[0m\u001b[0margs\u001b[0m\u001b[0;34m,\u001b[0m \u001b[0;34m**\u001b[0m\u001b[0mkwds\u001b[0m\u001b[0;34m)\u001b[0m\u001b[0;34m\u001b[0m\u001b[0;34m\u001b[0m\u001b[0m\n\u001b[0m\u001b[1;32m    601\u001b[0m     \u001b[0mweak_wrapped_fn\u001b[0m \u001b[0;34m=\u001b[0m \u001b[0mweakref\u001b[0m\u001b[0;34m.\u001b[0m\u001b[0mref\u001b[0m\u001b[0;34m(\u001b[0m\u001b[0mwrapped_fn\u001b[0m\u001b[0;34m)\u001b[0m\u001b[0;34m\u001b[0m\u001b[0;34m\u001b[0m\u001b[0m\n\u001b[1;32m    602\u001b[0m \u001b[0;34m\u001b[0m\u001b[0m\n",
      "\u001b[0;32m~/miniconda3/envs/ihm1_env/lib/python3.7/site-packages/tensorflow/python/framework/func_graph.py\u001b[0m in \u001b[0;36mwrapper\u001b[0;34m(*args, **kwargs)\u001b[0m\n\u001b[1;32m    971\u001b[0m           \u001b[0;32mexcept\u001b[0m \u001b[0mException\u001b[0m \u001b[0;32mas\u001b[0m \u001b[0me\u001b[0m\u001b[0;34m:\u001b[0m  \u001b[0;31m# pylint:disable=broad-except\u001b[0m\u001b[0;34m\u001b[0m\u001b[0;34m\u001b[0m\u001b[0m\n\u001b[1;32m    972\u001b[0m             \u001b[0;32mif\u001b[0m \u001b[0mhasattr\u001b[0m\u001b[0;34m(\u001b[0m\u001b[0me\u001b[0m\u001b[0;34m,\u001b[0m \u001b[0;34m\"ag_error_metadata\"\u001b[0m\u001b[0;34m)\u001b[0m\u001b[0;34m:\u001b[0m\u001b[0;34m\u001b[0m\u001b[0;34m\u001b[0m\u001b[0m\n\u001b[0;32m--> 973\u001b[0;31m               \u001b[0;32mraise\u001b[0m \u001b[0me\u001b[0m\u001b[0;34m.\u001b[0m\u001b[0mag_error_metadata\u001b[0m\u001b[0;34m.\u001b[0m\u001b[0mto_exception\u001b[0m\u001b[0;34m(\u001b[0m\u001b[0me\u001b[0m\u001b[0;34m)\u001b[0m\u001b[0;34m\u001b[0m\u001b[0;34m\u001b[0m\u001b[0m\n\u001b[0m\u001b[1;32m    974\u001b[0m             \u001b[0;32melse\u001b[0m\u001b[0;34m:\u001b[0m\u001b[0;34m\u001b[0m\u001b[0;34m\u001b[0m\u001b[0m\n\u001b[1;32m    975\u001b[0m               \u001b[0;32mraise\u001b[0m\u001b[0;34m\u001b[0m\u001b[0;34m\u001b[0m\u001b[0m\n",
      "\u001b[0;31mTypeError\u001b[0m: in user code:\n\n    /Users/luisdemiguel/miniconda3/envs/ihm1_env/lib/python3.7/site-packages/tensorflow/python/keras/engine/training.py:806 train_function  *\n        return step_function(self, iterator)\n    /Users/luisdemiguel/miniconda3/envs/ihm1_env/lib/python3.7/site-packages/tensorflow/python/keras/engine/training.py:796 step_function  **\n        outputs = model.distribute_strategy.run(run_step, args=(data,))\n    /Users/luisdemiguel/miniconda3/envs/ihm1_env/lib/python3.7/site-packages/tensorflow/python/distribute/distribute_lib.py:1211 run\n        return self._extended.call_for_each_replica(fn, args=args, kwargs=kwargs)\n    /Users/luisdemiguel/miniconda3/envs/ihm1_env/lib/python3.7/site-packages/tensorflow/python/distribute/distribute_lib.py:2585 call_for_each_replica\n        return self._call_for_each_replica(fn, args, kwargs)\n    /Users/luisdemiguel/miniconda3/envs/ihm1_env/lib/python3.7/site-packages/tensorflow/python/distribute/distribute_lib.py:2945 _call_for_each_replica\n        return fn(*args, **kwargs)\n    /Users/luisdemiguel/miniconda3/envs/ihm1_env/lib/python3.7/site-packages/tensorflow/python/keras/engine/training.py:789 run_step  **\n        outputs = model.train_step(data)\n    /Users/luisdemiguel/miniconda3/envs/ihm1_env/lib/python3.7/site-packages/tensorflow/python/keras/engine/training.py:749 train_step\n        y, y_pred, sample_weight, regularization_losses=self.losses)\n    /Users/luisdemiguel/miniconda3/envs/ihm1_env/lib/python3.7/site-packages/tensorflow/python/keras/engine/compile_utils.py:204 __call__\n        loss_value = loss_obj(y_t, y_p, sample_weight=sw)\n    /Users/luisdemiguel/miniconda3/envs/ihm1_env/lib/python3.7/site-packages/tensorflow/python/keras/losses.py:149 __call__\n        losses = ag_call(y_true, y_pred)\n    /Users/luisdemiguel/miniconda3/envs/ihm1_env/lib/python3.7/site-packages/tensorflow/python/keras/losses.py:253 call  **\n        return ag_fn(y_true, y_pred, **self._fn_kwargs)\n    /Users/luisdemiguel/miniconda3/envs/ihm1_env/lib/python3.7/site-packages/tensorflow/python/util/dispatch.py:201 wrapper\n        return target(*args, **kwargs)\n    /Users/luisdemiguel/miniconda3/envs/ihm1_env/lib/python3.7/site-packages/tensorflow/python/keras/losses.py:1605 binary_crossentropy\n        K.binary_crossentropy(y_true, y_pred, from_logits=from_logits), axis=-1)\n    /Users/luisdemiguel/miniconda3/envs/ihm1_env/lib/python3.7/site-packages/tensorflow/python/util/dispatch.py:201 wrapper\n        return target(*args, **kwargs)\n    /Users/luisdemiguel/miniconda3/envs/ihm1_env/lib/python3.7/site-packages/tensorflow/python/keras/backend.py:4814 binary_crossentropy\n        return nn.sigmoid_cross_entropy_with_logits(labels=target, logits=output)\n    /Users/luisdemiguel/miniconda3/envs/ihm1_env/lib/python3.7/site-packages/tensorflow/python/util/dispatch.py:201 wrapper\n        return target(*args, **kwargs)\n    /Users/luisdemiguel/miniconda3/envs/ihm1_env/lib/python3.7/site-packages/tensorflow/python/ops/nn_impl.py:185 sigmoid_cross_entropy_with_logits\n        cond = (logits >= zeros)\n    /Users/luisdemiguel/miniconda3/envs/ihm1_env/lib/python3.7/site-packages/tensorflow/python/ops/gen_math_ops.py:4076 greater_equal\n        \"GreaterEqual\", x=x, y=y, name=name)\n    /Users/luisdemiguel/miniconda3/envs/ihm1_env/lib/python3.7/site-packages/tensorflow/python/framework/op_def_library.py:578 _apply_op_helper\n        param_name=input_name)\n    /Users/luisdemiguel/miniconda3/envs/ihm1_env/lib/python3.7/site-packages/tensorflow/python/framework/op_def_library.py:61 _SatisfiesTypeConstraint\n        \", \".join(dtypes.as_dtype(x).name for x in allowed_list)))\n\n    TypeError: Value passed to parameter 'x' has DataType string not in list of allowed values: float32, float64, int32, uint8, int16, int8, int64, bfloat16, uint16, float16, uint32, uint64\n"
     ]
    }
   ],
   "source": [
    "\n",
    "history = model.fit(x=template_activities_train, \n",
    "                    y=template_level1_train, \n",
    "                    epochs=10, \n",
    "                    validation_data=(template_activities_validation, \n",
    "                                     template_level1_validation),\n",
    "                    verbose=1) # tags deben ser numeros\n",
    "\n",
    "\n",
    "\n",
    "\n",
    "history = model.fit(train_data.shuffle(10000).batch(512),\n",
    "                    epochs=10,\n",
    "                    validation_data=validation_data.batch(512),\n",
    "                    verbose=1)"
   ]
  },
  {
   "cell_type": "code",
   "execution_count": null,
   "metadata": {},
   "outputs": [],
   "source": []
  }
 ],
 "metadata": {
  "kernelspec": {
   "display_name": "Python [conda env:ihm1_env]",
   "language": "python",
   "name": "conda-env-ihm1_env-py"
  },
  "language_info": {
   "codemirror_mode": {
    "name": "ipython",
    "version": 3
   },
   "file_extension": ".py",
   "mimetype": "text/x-python",
   "name": "python",
   "nbconvert_exporter": "python",
   "pygments_lexer": "ipython3",
   "version": "3.7.3"
  }
 },
 "nbformat": 4,
 "nbformat_minor": 4
}
